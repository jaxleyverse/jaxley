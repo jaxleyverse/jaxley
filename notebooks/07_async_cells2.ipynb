{
 "cells": [
  {
   "cell_type": "code",
   "execution_count": 1,
   "id": "93318c63",
   "metadata": {},
   "outputs": [],
   "source": [
    "from jax.config import config\n",
    "config.update(\"jax_enable_x64\", True)"
   ]
  },
  {
   "cell_type": "code",
   "execution_count": 2,
   "id": "d8e0fb23",
   "metadata": {},
   "outputs": [],
   "source": [
    "%load_ext autoreload\n",
    "%autoreload 2"
   ]
  },
  {
   "cell_type": "code",
   "execution_count": 3,
   "id": "99234796",
   "metadata": {},
   "outputs": [],
   "source": [
    "import os\n",
    "os.environ[\"XLA_PYTHON_CLIENT_MEM_FRACTION\"]=\".4\"\n",
    "\n",
    "import time\n",
    "import matplotlib.pyplot as plt\n",
    "import matplotlib as mpl\n",
    "import numpy as np\n",
    "from copy import deepcopy\n",
    "\n",
    "import jax\n",
    "import jax.numpy as jnp\n",
    "from jax import jit, lax, grad, value_and_grad, vmap\n",
    "import optax\n",
    "import distrax\n",
    "\n",
    "from neuron import h\n",
    "_ = h.load_file(\"stdlib.hoc\")\n",
    "\n",
    "from neurax.integrate import solve\n",
    "from neurax.cell import Cell, _compute_num_kids, _compute_index_of_kid, compute_levels\n",
    "from neurax.stimulus import Stimulus, step_current\n",
    "from neurax.recording import Recording\n",
    "from neurax.connection import Connection, Connectivity\n",
    "from neurax.utils.plot_utils import plot_morph\n",
    "from neurax.mechanisms.hh_neuron import hh_neuron_gate\n",
    "from neurax.mechanisms.glutamate_synapse import glutamate"
   ]
  },
  {
   "cell_type": "code",
   "execution_count": 4,
   "id": "beebf8b5",
   "metadata": {},
   "outputs": [],
   "source": [
    "device_str = \"cpu\"\n",
    "jax.config.update('jax_platform_name', device_str)\n",
    "\n",
    "cpus = jax.devices(\"cpu\")\n",
    "gpus = jax.devices(\"gpu\")\n",
    "\n",
    "device = cpus[0] if device_str == \"cpu\" else gpus[0]"
   ]
  },
  {
   "cell_type": "markdown",
   "id": "ddfcccf4",
   "metadata": {},
   "source": [
    "# Setup\n",
    "\n",
    "### Params for all cells"
   ]
  },
  {
   "cell_type": "code",
   "execution_count": 5,
   "id": "c8c6499c",
   "metadata": {},
   "outputs": [],
   "source": [
    "length = 100.0  # um (length of a single branch)\n",
    "radius = 10.0  # um\n",
    "r_a = 10_000  # ohm cm \n",
    "i_delay = 3.0  # ms\n",
    "i_amp = 1.0  # nA\n",
    "i_dur = 2.0  # ms\n",
    "dt = 0.025  # ms\n",
    "t_max = 15.0  # ms\n",
    "\n",
    "nseg_per_branch = 4"
   ]
  },
  {
   "cell_type": "markdown",
   "id": "0f4b87c2",
   "metadata": {},
   "source": [
    "### Individual params"
   ]
  },
  {
   "cell_type": "code",
   "execution_count": 6,
   "id": "a4d4a254",
   "metadata": {},
   "outputs": [],
   "source": [
    "# Cell 1\n",
    "num_branches1 = 15\n",
    "ncomp1 = num_branches1 * nseg_per_branch\n",
    "parents1 = jnp.asarray([-1, 0, 0, 1, 1, 2, 2, 3, 3, 4, 4, 5, 5, 6, 6])\n",
    "assert len(parents1) == num_branches1\n",
    "cell1 = Cell(num_branches1, parents1, nseg_per_branch, length, radius, r_a)\n",
    "\n",
    "# Cell 2\n",
    "num_branches2 = 15\n",
    "ncomp = num_branches2 * nseg_per_branch\n",
    "parents2 = jnp.asarray([-1, 0, 0, 1, 1, 2, 2, 3, 3, 4, 4, 5, 5, 6, 6])\n",
    "assert len(parents2) == num_branches2\n",
    "cell2 = Cell(num_branches2, parents2, nseg_per_branch, length, radius, r_a)"
   ]
  },
  {
   "cell_type": "code",
   "execution_count": 7,
   "id": "306c51c1",
   "metadata": {},
   "outputs": [],
   "source": [
    "# Initialize voltage\n",
    "init_v = jnp.stack([\n",
    "    jnp.asarray([-62.0] * num_branches1*nseg_per_branch), \n",
    "    jnp.asarray([-62.0] * num_branches2*nseg_per_branch),\n",
    "])\n",
    "\n",
    "# Initialize states\n",
    "hh_states = [\n",
    "    jnp.stack(\n",
    "        [\n",
    "            jnp.asarray([0.074901] * num_branches1*nseg_per_branch), \n",
    "            jnp.asarray([0.4889] * num_branches1*nseg_per_branch),\n",
    "            jnp.asarray([0.3644787] * num_branches1*nseg_per_branch),\n",
    "        ]\n",
    "    ),\n",
    "    jnp.stack(\n",
    "        [\n",
    "            jnp.asarray([0.074901] * num_branches2*nseg_per_branch), \n",
    "            jnp.asarray([0.4889] * num_branches2*nseg_per_branch),\n",
    "            jnp.asarray([0.3644787] * num_branches2*nseg_per_branch),\n",
    "        ]\n",
    "    ),\n",
    "]"
   ]
  },
  {
   "cell_type": "markdown",
   "id": "8d6b3dd6",
   "metadata": {},
   "source": [
    "### Set up model"
   ]
  },
  {
   "cell_type": "code",
   "execution_count": 8,
   "id": "6752b389",
   "metadata": {},
   "outputs": [],
   "source": [
    "time_vec = jnp.arange(0.0, t_max+dt, dt)"
   ]
  },
  {
   "cell_type": "code",
   "execution_count": 9,
   "id": "c75e6ac3",
   "metadata": {},
   "outputs": [],
   "source": [
    "cells = [cell1, cell2]\n",
    "recs = [\n",
    "    Recording(0, 0, 0.0),\n",
    "    Recording(0, 10, 1.0),\n",
    "    Recording(1, 0, 0.0),\n",
    "    Recording(1, 10, 1.0),\n",
    "]\n",
    "conns = [Connection(0, 0, 0.0, 1, 0, 0.0)]\n",
    "connectivities = [Connectivity(conns, nseg_per_branch)]\n",
    "stims = [Stimulus(0, 0, 0.0, current=step_current(i_delay, i_dur, i_amp, time_vec))]"
   ]
  },
  {
   "cell_type": "markdown",
   "id": "615a3300",
   "metadata": {},
   "source": [
    "### Define parameters"
   ]
  },
  {
   "cell_type": "code",
   "execution_count": 10,
   "id": "e3dd4eb7",
   "metadata": {},
   "outputs": [],
   "source": [
    "hh_params = [\n",
    "    jnp.stack(\n",
    "        [\n",
    "            jnp.asarray([0.12] * num_branches1*nseg_per_branch), \n",
    "            jnp.asarray([0.036] * num_branches1*nseg_per_branch),\n",
    "            jnp.asarray([0.0003] * num_branches1*nseg_per_branch),\n",
    "        ]\n",
    "    ),\n",
    "    jnp.stack(\n",
    "        [\n",
    "            jnp.asarray([0.12] * num_branches2*nseg_per_branch), \n",
    "            jnp.asarray([0.036] * num_branches2*nseg_per_branch),\n",
    "            jnp.asarray([0.0003] * num_branches2*nseg_per_branch),\n",
    "        ]\n",
    "    ),\n",
    "]\n",
    "# hh_params = jnp.stack(hh_params)\n",
    "\n",
    "synapse_params = jnp.asarray([1.0] * len(conns))"
   ]
  },
  {
   "cell_type": "markdown",
   "id": "2f9a573c",
   "metadata": {},
   "source": [
    "### ODE"
   ]
  },
  {
   "cell_type": "code",
   "execution_count": 11,
   "id": "3deddd3f",
   "metadata": {},
   "outputs": [],
   "source": [
    "mem_channels = [hh_neuron_gate,]\n",
    "mem_states = [hh_states,]\n",
    "mem_params = [hh_params,]"
   ]
  },
  {
   "cell_type": "code",
   "execution_count": 12,
   "id": "4216b772",
   "metadata": {},
   "outputs": [],
   "source": [
    "syn_channels = [glutamate,]\n",
    "syn_states = [jnp.zeros((len(conns))),]\n",
    "syn_params = [synapse_params,]"
   ]
  },
  {
   "cell_type": "code",
   "execution_count": 13,
   "id": "3fe98579",
   "metadata": {},
   "outputs": [],
   "source": [
    "s = solve(\n",
    "    cells,\n",
    "    connectivities,\n",
    "    init_v,\n",
    "    mem_states=mem_states,\n",
    "    mem_params=mem_params,\n",
    "    mem_channels=mem_channels,\n",
    "    syn_states=syn_states,\n",
    "    syn_params=syn_params,\n",
    "    syn_channels=syn_channels,\n",
    "    stimuli=stims,\n",
    "    recordings=recs,\n",
    "    t_max=t_max,\n",
    "    dt=dt,\n",
    "    solver=\"stone\",\n",
    "    checkpoint_inds=[]\n",
    ")"
   ]
  },
  {
   "cell_type": "code",
   "execution_count": 14,
   "id": "e6c934bf",
   "metadata": {},
   "outputs": [
    {
     "data": {
      "image/png": "[encoded data removed]",
      "text/plain": [
       "<Figure size 200x200 with 1 Axes>"
      ]
     },
     "metadata": {},
     "output_type": "display_data"
    }
   ],
   "source": [
    "with mpl.rc_context(fname=\".matplotlibrc\"):\n",
    "    fig, ax = plt.subplots(1, 1, figsize=(2, 2))\n",
    "    for i in range(4):\n",
    "        _ = ax.plot(time_vec, s[i])\n",
    "    _ = ax.set_ylim([-80, 50])\n",
    "    ax.set_xlabel(\"\")\n",
    "    ax.set_xticks([])\n",
    "    ax.set_xticks([0, max(time_vec)])\n",
    "    ax.set_xlim([0, max(time_vec)])\n",
    "    ax.set_xlabel(\"Time (ms)\")\n",
    "    ax.set_ylabel(\"Voltage (mV)\")\n",
    "    plt.subplots_adjust(hspace=0.4)\n",
    "#     plt.savefig(\"../../results/response.png\", dpi=200, bbox_inches=\"tight\")\n",
    "    plt.show()"
   ]
  },
  {
   "cell_type": "code",
   "execution_count": 15,
   "id": "5dd2c56d",
   "metadata": {},
   "outputs": [
    {
     "name": "stdout",
     "output_type": "stream",
     "text": [
      "s[0] [-62.         -62.99870784 -63.87120085 -64.65065038 -65.33046381\n",
      " -65.90368979 -66.37102246 -66.73954656 -67.01986751 -67.22379634\n",
      " -67.36291788 -67.44785485 -67.48797528 -59.19880487 -54.98517321\n",
      " -51.46835824 -47.12595557 -39.42750684 -20.16709809  20.04021694\n",
      "  34.24327567  25.33949948  13.05931365   0.11767902 -12.12599233\n",
      " -23.33265571 -33.74763672 -44.18456358 -55.61437271 -66.30872845\n",
      " -72.12233856 -74.23351966 -75.05733287 -75.47450469 -75.66574463\n",
      " -75.70257673 -75.65405168 -75.56317459 -75.44846101 -75.31495093\n",
      " -75.16489383 -75.00069412 -74.824443   -74.63745446 -74.44046401\n",
      " -74.23402591 -74.01872933 -73.79523948 -73.56427097 -73.32656069\n",
      " -73.08285531 -72.83390711 -72.58047181 -72.32330533 -72.0631593\n",
      " -71.8007756  -71.53688066 -71.27217997 -71.00735304 -70.74304924\n",
      " -70.47988431]\n"
     ]
    }
   ],
   "source": [
    "print(\"s[0]\", s[0][::10])"
   ]
  },
  {
   "cell_type": "code",
   "execution_count": 16,
   "id": "b37a0fda",
   "metadata": {},
   "outputs": [
    {
     "name": "stdout",
     "output_type": "stream",
     "text": [
      "s[1] [-62.         -62.99870784 -63.87120085 -64.65065038 -65.33046381\n",
      " -65.90368979 -66.37102246 -66.73954656 -67.01986751 -67.22379634\n",
      " -67.36291788 -67.44785485 -67.48797528 -67.49134962 -67.46482604\n",
      " -67.41408242 -67.34358143 -67.25668822 -67.15601117 -67.04364829\n",
      " -66.92104776 -66.78802609 -66.64017574 -66.46407927 -66.2255954\n",
      " -65.84279313 -65.13906001 -63.67412908 -60.38820775 -52.99371046\n",
      " -33.12427403  21.47957891  40.33402827  32.23592245  20.18457447\n",
      "   7.1172336   -5.54226027 -17.3913516  -28.65934344 -40.39552469\n",
      " -54.95575928 -70.31767095 -75.63324883 -76.16404356 -76.13425752\n",
      " -76.03589845 -75.91849554 -75.788213   -75.64575598 -75.49101732\n",
      " -75.3238181  -75.14406031 -74.95176908 -74.74710822 -74.53038598\n",
      " -74.30205507 -74.06270788 -73.81306749 -73.553975   -73.28637369\n",
      " -73.01129093]\n"
     ]
    }
   ],
   "source": [
    "print(\"s[1]\", s[1][::10])"
   ]
  },
  {
   "cell_type": "code",
   "execution_count": 17,
   "id": "9839ba40",
   "metadata": {},
   "outputs": [
    {
     "name": "stdout",
     "output_type": "stream",
     "text": [
      "s[2] [-62.         -62.9969479  -63.8655094  -64.63999781 -65.31437164\n",
      " -65.88200962 -66.34378335 -66.70685516 -66.9818515  -67.1805767\n",
      " -67.31459788 -67.39451713 -67.42968278 -67.42769678 -67.39343737\n",
      " -67.3313426  -67.2447997  -67.13401192 -66.98144294 -66.23617619\n",
      " -60.23837422 -55.92782103 -52.92315377 -49.70069    -44.89993183\n",
      " -35.10425343  -9.13886666  27.66429167  31.64701768  22.06886623\n",
      "   9.57901802  -2.9685173  -14.60424982 -25.1569133  -34.92129649\n",
      " -44.63187198 -54.95273108 -64.17598593 -68.92029677 -70.32639623\n",
      " -70.63914015 -70.59577108 -70.3538322  -70.00294218 -69.6013264\n",
      " -69.1768448  -68.73931021 -68.29321748 -67.84259317 -67.39097924\n",
      " -66.9409999  -66.49451831 -66.0530059  -65.61774479 -65.18986761\n",
      " -64.77034117 -64.35995628 -63.95933481 -63.56894655 -63.18912892\n",
      " -62.82010656]\n"
     ]
    }
   ],
   "source": [
    "print(\"s[2]\", s[2][::10])"
   ]
  },
  {
   "cell_type": "code",
   "execution_count": 18,
   "id": "07015815",
   "metadata": {},
   "outputs": [
    {
     "name": "stdout",
     "output_type": "stream",
     "text": [
      "s[3] [-62.         -62.99870784 -63.87120085 -64.65065037 -65.33046368\n",
      " -65.90368918 -66.37102053 -66.73954184 -67.01985795 -67.22377939\n",
      " -67.36289071 -67.44781448 -67.48791875 -67.49127408 -67.46473562\n",
      " -67.41407765 -67.34414136 -67.25897654 -67.16196859 -67.05594831\n",
      " -66.94328466 -66.82595601 -66.7055529  -66.58316303 -66.45933861\n",
      " -66.33429877 -66.20814263 -66.08081995 -65.95160403 -65.81730134\n",
      " -65.66799115 -65.47762273 -65.17989643 -64.62250884 -63.43403319\n",
      " -60.65577844 -54.17215748 -36.78113808  14.48546782  40.92631722\n",
      "  33.69532002  21.98808655   8.98619812  -3.73816836 -15.67477247\n",
      " -26.96547318 -38.48417587 -52.44179103 -68.44969046 -75.35670373\n",
      " -76.15309081 -76.15029429 -76.0570091  -75.94227534 -75.81439212\n",
      " -75.67434974 -75.52206866 -75.35734973 -75.18006129 -74.99018878\n",
      " -74.78785285]\n"
     ]
    }
   ],
   "source": [
    "print(\"s[3]\", s[3][::10])"
   ]
  },
  {
   "cell_type": "code",
   "execution_count": null,
   "id": "db3d7235",
   "metadata": {},
   "outputs": [],
   "source": []
  }
 ],
 "metadata": {
  "kernelspec": {
   "display_name": "Python 3 (ipykernel)",
   "language": "python",
   "name": "python3"
  },
  "language_info": {
   "codemirror_mode": {
    "name": "ipython",
    "version": 3
   },
   "file_extension": ".py",
   "mimetype": "text/x-python",
   "name": "python",
   "nbconvert_exporter": "python",
   "pygments_lexer": "ipython3",
   "version": "3.10.9"
  }
 },
 "nbformat": 4,
 "nbformat_minor": 5
}
