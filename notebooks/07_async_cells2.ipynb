{
 "cells": [
  {
   "cell_type": "code",
   "execution_count": 1,
   "id": "4559bcdf",
   "metadata": {},
   "outputs": [],
   "source": [
    "from jax.config import config\n",
    "config.update(\"jax_enable_x64\", True)"
   ]
  },
  {
   "cell_type": "code",
   "execution_count": 2,
   "id": "86744ce9",
   "metadata": {},
   "outputs": [],
   "source": [
    "%load_ext autoreload\n",
    "%autoreload 2"
   ]
  },
  {
   "cell_type": "code",
   "execution_count": 21,
   "id": "11d24a44",
   "metadata": {},
   "outputs": [],
   "source": [
    "import os\n",
    "os.environ[\"XLA_PYTHON_CLIENT_MEM_FRACTION\"]=\".4\"\n",
    "\n",
    "import time\n",
    "import matplotlib.pyplot as plt\n",
    "import matplotlib as mpl\n",
    "import numpy as np\n",
    "from copy import deepcopy\n",
    "\n",
    "import jax\n",
    "import jax.numpy as jnp\n",
    "from jax import jit, lax, grad, value_and_grad, vmap\n",
    "import optax\n",
    "import distrax\n",
    "\n",
    "from neuron import h\n",
    "_ = h.load_file(\"stdlib.hoc\")\n",
    "\n",
    "from neurax.integrate import solve\n",
    "from neurax.cell import Cell, _compute_num_kids, _compute_index_of_kid, compute_levels\n",
    "from neurax.stimulus import Stimulus, step_current\n",
    "from neurax.recording import Recording\n",
    "from neurax.connection import Connection, Connectivity\n",
    "from neurax.utils.plot_utils import plot_morph\n",
    "from neurax.mechanisms.hh_neuron import hh_neuron_gate\n",
    "from neurax.mechanisms.glutamate_synapse import glutamate\n",
    "from neurax.cell import merge_cells"
   ]
  },
  {
   "cell_type": "code",
   "execution_count": 22,
   "id": "003e3200",
   "metadata": {},
   "outputs": [],
   "source": [
    "device_str = \"cpu\"\n",
    "jax.config.update('jax_platform_name', device_str)\n",
    "\n",
    "cpus = jax.devices(\"cpu\")\n",
    "gpus = jax.devices(\"gpu\")\n",
    "\n",
    "device = cpus[0] if device_str == \"cpu\" else gpus[0]"
   ]
  },
  {
   "cell_type": "markdown",
   "id": "d56cb752",
   "metadata": {},
   "source": [
    "# Setup\n",
    "\n",
    "### Params for all cells"
   ]
  },
  {
   "cell_type": "code",
   "execution_count": 143,
   "id": "612ad089",
   "metadata": {},
   "outputs": [],
   "source": [
    "r_a = 10_000  # ohm cm \n",
    "i_delay = 3.0  # ms\n",
    "i_amp = 1.0  # nA\n",
    "i_dur = 2.0  # ms\n",
    "dt = 0.025  # ms\n",
    "t_max = 15.0  # ms\n",
    "\n",
    "nseg_per_branch = 4"
   ]
  },
  {
   "cell_type": "markdown",
   "id": "a3e20145",
   "metadata": {},
   "source": [
    "### Individual params"
   ]
  },
  {
   "cell_type": "code",
   "execution_count": 153,
   "id": "a2f28c18",
   "metadata": {},
   "outputs": [
    {
     "name": "stdout",
     "output_type": "stream",
     "text": [
      "rad_of_each_comp (60,)\n"
     ]
    },
    {
     "ename": "AttributeError",
     "evalue": "'Cell' object has no attribute 'radiuses'",
     "output_type": "error",
     "traceback": [
      "\u001b[0;31m---------------------------------------------------------------------------\u001b[0m",
      "\u001b[0;31mAttributeError\u001b[0m                            Traceback (most recent call last)",
      "Cell \u001b[0;32mIn[153], line 8\u001b[0m\n\u001b[1;32m      6\u001b[0m lengths1 \u001b[38;5;241m=\u001b[39m [\u001b[38;5;241m100.0\u001b[39m] \u001b[38;5;241m*\u001b[39m num_branches1\n\u001b[1;32m      7\u001b[0m radiuses1 \u001b[38;5;241m=\u001b[39m [\u001b[38;5;241m10.0\u001b[39m] \u001b[38;5;241m*\u001b[39m num_branches1\n\u001b[0;32m----> 8\u001b[0m cell1 \u001b[38;5;241m=\u001b[39m \u001b[43mCell\u001b[49m\u001b[43m(\u001b[49m\u001b[43mnum_branches1\u001b[49m\u001b[43m,\u001b[49m\u001b[43m \u001b[49m\u001b[43mparents1\u001b[49m\u001b[43m,\u001b[49m\u001b[43m \u001b[49m\u001b[43mnseg_per_branch\u001b[49m\u001b[43m,\u001b[49m\u001b[43m \u001b[49m\u001b[43mlengths1\u001b[49m\u001b[43m,\u001b[49m\u001b[43m \u001b[49m\u001b[43mradiuses1\u001b[49m\u001b[43m,\u001b[49m\u001b[43m \u001b[49m\u001b[43mr_a\u001b[49m\u001b[43m)\u001b[49m\n\u001b[1;32m     10\u001b[0m \u001b[38;5;66;03m# Cell 2\u001b[39;00m\n\u001b[1;32m     11\u001b[0m num_branches2 \u001b[38;5;241m=\u001b[39m \u001b[38;5;241m7\u001b[39m\n",
      "File \u001b[0;32m~/Documents/multicompartment_collection/neurax/neurax/cell.py:30\u001b[0m, in \u001b[0;36mCell.__init__\u001b[0;34m(self, num_branches, parents, nseg_per_branch, lengths, radiuses, r_a)\u001b[0m\n\u001b[1;32m     24\u001b[0m \u001b[38;5;28mprint\u001b[39m(\u001b[38;5;124m\"\u001b[39m\u001b[38;5;124mrad_of_each_comp\u001b[39m\u001b[38;5;124m\"\u001b[39m, rad_of_each_comp\u001b[38;5;241m.\u001b[39mshape)\n\u001b[1;32m     26\u001b[0m \u001b[38;5;66;03m# `radius`: um\u001b[39;00m\n\u001b[1;32m     27\u001b[0m \u001b[38;5;66;03m# `r_a`: ohm cm\u001b[39;00m\n\u001b[1;32m     28\u001b[0m \u001b[38;5;66;03m# `length_single_compartment`: um\u001b[39;00m\n\u001b[1;32m     29\u001b[0m \u001b[38;5;28mself\u001b[39m\u001b[38;5;241m.\u001b[39mcoupling_conds \u001b[38;5;241m=\u001b[39m (\n\u001b[0;32m---> 30\u001b[0m     \u001b[38;5;28;43mself\u001b[39;49m\u001b[38;5;241;43m.\u001b[39;49m\u001b[43mradiuses\u001b[49m \u001b[38;5;241m/\u001b[39m \u001b[38;5;241m2.0\u001b[39m \u001b[38;5;241m/\u001b[39m \u001b[38;5;28mself\u001b[39m\u001b[38;5;241m.\u001b[39mr_a \u001b[38;5;241m/\u001b[39m \u001b[38;5;28mself\u001b[39m\u001b[38;5;241m.\u001b[39mlengths_single_compartment\u001b[38;5;241m*\u001b[39m\u001b[38;5;241m*\u001b[39m\u001b[38;5;241m2\u001b[39m\n\u001b[1;32m     31\u001b[0m )  \u001b[38;5;66;03m# S * um / cm / um^2 = S / cm / um\u001b[39;00m\n\u001b[1;32m     32\u001b[0m \u001b[38;5;28mself\u001b[39m\u001b[38;5;241m.\u001b[39mcoupling_conds \u001b[38;5;241m*\u001b[39m\u001b[38;5;241m=\u001b[39m \u001b[38;5;241m10\u001b[39m\u001b[38;5;241m*\u001b[39m\u001b[38;5;241m*\u001b[39m\u001b[38;5;241m7\u001b[39m  \u001b[38;5;66;03m# Convert (S / cm / um) -> (mS / cm^2)\u001b[39;00m\n\u001b[1;32m     33\u001b[0m \u001b[38;5;28mself\u001b[39m\u001b[38;5;241m.\u001b[39mnum_kids \u001b[38;5;241m=\u001b[39m jnp\u001b[38;5;241m.\u001b[39masarray(_compute_num_kids(\u001b[38;5;28mself\u001b[39m\u001b[38;5;241m.\u001b[39mparents))\n",
      "\u001b[0;31mAttributeError\u001b[0m: 'Cell' object has no attribute 'radiuses'"
     ]
    }
   ],
   "source": [
    "# Cell 1\n",
    "num_branches1 = 15\n",
    "ncomp1 = num_branches1 * nseg_per_branch\n",
    "parents1 = jnp.asarray([-1, 0, 0, 1, 1, 2, 2, 3, 3, 4, 4, 5, 5, 6, 6])\n",
    "assert len(parents1) == num_branches1\n",
    "lengths1 = [100.0] * num_branches1\n",
    "radiuses1 = [10.0] * num_branches1\n",
    "cell1 = Cell(num_branches1, parents1, nseg_per_branch, lengths1, radiuses1, r_a)\n",
    "\n",
    "# Cell 2\n",
    "num_branches2 = 7\n",
    "ncomp = num_branches2 * nseg_per_branch\n",
    "parents2 = jnp.asarray([-1, 0, 0, 1, 1, 2, 2])\n",
    "assert len(parents2) == num_branches2\n",
    "lengths2 = [50.0] * num_branches2\n",
    "initial_radius = 3.0\n",
    "radiuses2 = [5.0] * num_branches2 + [initial_radius]  # Append because parent=-1 will access last one.\n",
    "cell2 = Cell(num_branches2, parents2, nseg_per_branch, lengths2, radiuses2, r_a)"
   ]
  },
  {
   "cell_type": "code",
   "execution_count": 127,
   "id": "7ec986d3",
   "metadata": {},
   "outputs": [],
   "source": [
    "# Initialize voltage\n",
    "init_v = [\n",
    "    jnp.asarray([-62.0] * num_branches1*nseg_per_branch), \n",
    "    jnp.asarray([-62.0] * num_branches2*nseg_per_branch),\n",
    "]\n",
    "\n",
    "# Initialize states\n",
    "hh_states = [\n",
    "    jnp.stack(\n",
    "        [\n",
    "            jnp.asarray([0.074901] * num_branches1*nseg_per_branch), \n",
    "            jnp.asarray([0.4889] * num_branches1*nseg_per_branch),\n",
    "            jnp.asarray([0.3644787] * num_branches1*nseg_per_branch),\n",
    "        ]\n",
    "    ),\n",
    "    jnp.stack(\n",
    "        [\n",
    "            jnp.asarray([0.074901] * num_branches2*nseg_per_branch), \n",
    "            jnp.asarray([0.4889] * num_branches2*nseg_per_branch),\n",
    "            jnp.asarray([0.3644787] * num_branches2*nseg_per_branch),\n",
    "        ]\n",
    "    ),\n",
    "]"
   ]
  },
  {
   "cell_type": "markdown",
   "id": "18e3f0ba",
   "metadata": {},
   "source": [
    "### Set up model"
   ]
  },
  {
   "cell_type": "code",
   "execution_count": 128,
   "id": "eb5efe83",
   "metadata": {},
   "outputs": [],
   "source": [
    "time_vec = jnp.arange(0.0, t_max+dt, dt)"
   ]
  },
  {
   "cell_type": "code",
   "execution_count": 129,
   "id": "8f18c273",
   "metadata": {},
   "outputs": [],
   "source": [
    "cells = [cell1, cell2]\n",
    "recs = [\n",
    "    Recording(0, 0, 0.0),\n",
    "    Recording(0, 10, 1.0),\n",
    "    Recording(1, 0, 0.0),\n",
    "    Recording(1, 5, 1.0),\n",
    "]\n",
    "conns = [Connection(0, 0, 0.0, 1, 0, 0.0)]\n",
    "connectivities = [Connectivity(conns, nseg_per_branch)]\n",
    "stims = [Stimulus(0, 0, 0.0, current=step_current(i_delay, i_dur, i_amp, time_vec))]"
   ]
  },
  {
   "cell_type": "markdown",
   "id": "ecc76884",
   "metadata": {},
   "source": [
    "### Define parameters"
   ]
  },
  {
   "cell_type": "code",
   "execution_count": 130,
   "id": "ecda8c0e",
   "metadata": {},
   "outputs": [],
   "source": [
    "hh_params = [\n",
    "    jnp.stack(\n",
    "        [\n",
    "            jnp.asarray([0.12] * num_branches1*nseg_per_branch), \n",
    "            jnp.asarray([0.036] * num_branches1*nseg_per_branch),\n",
    "            jnp.asarray([0.0003] * num_branches1*nseg_per_branch),\n",
    "        ]\n",
    "    ),\n",
    "    jnp.stack(\n",
    "        [\n",
    "            jnp.asarray([0.12] * num_branches2*nseg_per_branch), \n",
    "            jnp.asarray([0.036] * num_branches2*nseg_per_branch),\n",
    "            jnp.asarray([0.0003] * num_branches2*nseg_per_branch),\n",
    "        ]\n",
    "    ),\n",
    "]\n",
    "\n",
    "synapse_params = jnp.asarray([1.0] * len(conns))"
   ]
  },
  {
   "cell_type": "markdown",
   "id": "93b1ecdb",
   "metadata": {},
   "source": [
    "### ODE"
   ]
  },
  {
   "cell_type": "code",
   "execution_count": 131,
   "id": "aa64cef5",
   "metadata": {},
   "outputs": [],
   "source": [
    "mem_channels = [hh_neuron_gate,]\n",
    "mem_states = [hh_states,]\n",
    "mem_params = [hh_params,]"
   ]
  },
  {
   "cell_type": "code",
   "execution_count": 132,
   "id": "c7330143",
   "metadata": {},
   "outputs": [],
   "source": [
    "syn_channels = [glutamate,]\n",
    "syn_states = [jnp.zeros((len(conns))),]\n",
    "syn_params = [synapse_params,]"
   ]
  },
  {
   "cell_type": "code",
   "execution_count": 133,
   "id": "95f09ade",
   "metadata": {},
   "outputs": [],
   "source": [
    "s = solve(\n",
    "    cells,\n",
    "    connectivities,\n",
    "    init_v,\n",
    "    mem_states=mem_states,\n",
    "    mem_params=mem_params,\n",
    "    mem_channels=mem_channels,\n",
    "    syn_states=syn_states,\n",
    "    syn_params=syn_params,\n",
    "    syn_channels=syn_channels,\n",
    "    stimuli=stims,\n",
    "    recordings=recs,\n",
    "    t_max=t_max,\n",
    "    dt=dt,\n",
    "    solver=\"stone\",\n",
    "    checkpoint_inds=[]\n",
    ")"
   ]
  },
  {
   "cell_type": "code",
   "execution_count": 134,
   "id": "4987b2f6",
   "metadata": {},
   "outputs": [
    {
     "data": {
      "image/png": "[encoded data removed]",
      "text/plain": [
       "<Figure size 200x200 with 1 Axes>"
      ]
     },
     "metadata": {},
     "output_type": "display_data"
    }
   ],
   "source": [
    "with mpl.rc_context(fname=\".matplotlibrc\"):\n",
    "    fig, ax = plt.subplots(1, 1, figsize=(2, 2))\n",
    "    for i in range(4):\n",
    "        _ = ax.plot(time_vec, s[i])\n",
    "    _ = ax.set_ylim([-80, 50])\n",
    "    ax.set_xlabel(\"\")\n",
    "    ax.set_xticks([])\n",
    "    ax.set_xticks([0, max(time_vec)])\n",
    "    ax.set_xlim([0, max(time_vec)])\n",
    "    ax.set_xlabel(\"Time (ms)\")\n",
    "    ax.set_ylabel(\"Voltage (mV)\")\n",
    "    plt.subplots_adjust(hspace=0.4)\n",
    "#     plt.savefig(\"../../results/response.png\", dpi=200, bbox_inches=\"tight\")\n",
    "    plt.show()"
   ]
  },
  {
   "cell_type": "code",
   "execution_count": 135,
   "id": "ab921173",
   "metadata": {},
   "outputs": [
    {
     "name": "stdout",
     "output_type": "stream",
     "text": [
      "s[0] [-62.         -62.99870784 -63.87120085 -64.65065038 -65.33046381\n",
      " -65.90368979 -66.37102246 -66.73954656 -67.01986751 -67.22379634\n",
      " -67.36291788 -67.44785485 -67.48797528 -59.19880487 -54.98517321\n",
      " -51.46835824 -47.12595557 -39.42750684 -20.16709809  20.04021694\n",
      "  34.24327567  25.33949948  13.05931365   0.11767902 -12.12599233\n",
      " -23.33265571 -33.74763672 -44.18456358 -55.61437271 -66.30872845\n",
      " -72.12233856 -74.23351966 -75.05733287 -75.47450469 -75.66574463\n",
      " -75.70257673 -75.65405168 -75.56317459 -75.44846101 -75.31495093\n",
      " -75.16489383 -75.00069412 -74.824443   -74.63745446 -74.44046401\n",
      " -74.23402591 -74.01872933 -73.79523948 -73.56427097 -73.32656069\n",
      " -73.08285531 -72.83390711 -72.58047181 -72.32330533 -72.0631593\n",
      " -71.8007756  -71.53688066 -71.27217997 -71.00735304 -70.74304924\n",
      " -70.47988431]\n"
     ]
    }
   ],
   "source": [
    "print(\"s[0]\", s[0][::10])"
   ]
  },
  {
   "cell_type": "code",
   "execution_count": 136,
   "id": "e91d429e",
   "metadata": {},
   "outputs": [
    {
     "name": "stdout",
     "output_type": "stream",
     "text": [
      "s[1] [-62.         -62.99870784 -63.87120085 -64.65065038 -65.33046381\n",
      " -65.90368979 -66.37102246 -66.73954656 -67.01986751 -67.22379634\n",
      " -67.36291788 -67.44785485 -67.48797528 -67.49134962 -67.46482604\n",
      " -67.41408242 -67.34358143 -67.25668822 -67.15601117 -67.04364829\n",
      " -66.92104776 -66.78802609 -66.64017574 -66.46407927 -66.2255954\n",
      " -65.84279313 -65.13906001 -63.67412908 -60.38820775 -52.99371046\n",
      " -33.12427403  21.47957891  40.33402827  32.23592245  20.18457447\n",
      "   7.1172336   -5.54226027 -17.3913516  -28.65934344 -40.39552469\n",
      " -54.95575928 -70.31767095 -75.63324883 -76.16404356 -76.13425752\n",
      " -76.03589845 -75.91849554 -75.788213   -75.64575598 -75.49101732\n",
      " -75.3238181  -75.14406031 -74.95176908 -74.74710822 -74.53038598\n",
      " -74.30205507 -74.06270788 -73.81306749 -73.553975   -73.28637369\n",
      " -73.01129093]\n"
     ]
    }
   ],
   "source": [
    "print(\"s[1]\", s[1][::10])"
   ]
  },
  {
   "cell_type": "code",
   "execution_count": 137,
   "id": "9e406c4c",
   "metadata": {},
   "outputs": [
    {
     "name": "stdout",
     "output_type": "stream",
     "text": [
      "s[2] [-62.         -62.9969479  -63.8655094  -64.63999781 -65.31437164\n",
      " -65.88200962 -66.34378334 -66.70685512 -66.98185134 -67.18057631\n",
      " -67.31459701 -67.39451544 -67.42967978 -67.42769188 -67.39342987\n",
      " -67.33133169 -67.24478452 -67.13399154 -66.98141641 -66.2361428\n",
      " -60.23833608 -55.92777474 -52.92308989 -49.70058641 -44.89972232\n",
      " -35.1036895   -9.13720399  27.66540216  31.64693725  22.06845246\n",
      "   9.57850946  -2.96909871 -14.60484051 -25.15749315 -34.92190388\n",
      " -44.63262596 -54.95376851 -64.17716198 -68.92133553 -70.32747493\n",
      " -70.64048195 -70.59733766 -70.355624   -70.0051958  -69.60447772\n",
      " -69.1810837  -68.74444018 -68.29872204 -67.84770337 -67.39496493\n",
      " -66.94345158 -66.49539773 -66.05250138 -65.61609902 -65.18727183\n",
      " -64.7669008  -64.35569618 -63.95421671 -63.56288566 -63.18200642\n",
      " -62.81177838]\n"
     ]
    }
   ],
   "source": [
    "print(\"s[2]\", s[2][::10])"
   ]
  },
  {
   "cell_type": "code",
   "execution_count": 138,
   "id": "275e2746",
   "metadata": {},
   "outputs": [
    {
     "name": "stdout",
     "output_type": "stream",
     "text": [
      "s[3] [-62.         -62.99870784 -63.87120076 -64.65064918 -65.33045754\n",
      " -65.90366998 -66.37097617 -66.73945794 -67.01971961 -67.22357258\n",
      " -67.36260298 -67.44743515 -67.48743878 -67.49068581 -67.46403246\n",
      " -67.41325344 -67.34318863 -67.25788295 -67.160712   -67.05448913\n",
      " -66.94152363 -66.82310985 -66.69744222 -66.55989027 -66.40682648\n",
      " -66.23679755 -66.04810188 -65.83291824 -65.56012658 -65.13541412\n",
      " -64.33123908 -62.55788683 -58.45868976 -48.67316654 -19.94131638\n",
      "  36.2374293   38.5190016   28.68936504  16.0992362    3.08499454\n",
      "  -9.31268917 -20.91520793 -32.14415784 -44.44731654 -60.10673773\n",
      " -73.07476979 -75.95920552 -76.17357584 -76.10900272 -76.00313631\n",
      " -75.88145005 -75.74716433 -75.60049753 -75.44122288 -75.26910923\n",
      " -75.08402226 -74.88595787 -74.67505757 -74.45161608 -74.21608329\n",
      " -73.96906112]\n"
     ]
    }
   ],
   "source": [
    "print(\"s[3]\", s[3][::10])"
   ]
  },
  {
   "cell_type": "code",
   "execution_count": null,
   "id": "bae91354",
   "metadata": {},
   "outputs": [],
   "source": []
  }
 ],
 "metadata": {
  "kernelspec": {
   "display_name": "Python 3 (ipykernel)",
   "language": "python",
   "name": "python3"
  },
  "language_info": {
   "codemirror_mode": {
    "name": "ipython",
    "version": 3
   },
   "file_extension": ".py",
   "mimetype": "text/x-python",
   "name": "python",
   "nbconvert_exporter": "python",
   "pygments_lexer": "ipython3",
   "version": "3.10.9"
  }
 },
 "nbformat": 4,
 "nbformat_minor": 5
}
