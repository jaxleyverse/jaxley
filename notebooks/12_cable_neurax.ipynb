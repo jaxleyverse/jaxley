{
 "cells": [
  {
   "cell_type": "code",
   "execution_count": 1,
   "id": "60b77830",
   "metadata": {},
   "outputs": [],
   "source": [
    "from jax.config import config\n",
    "config.update(\"jax_enable_x64\", True)"
   ]
  },
  {
   "cell_type": "code",
   "execution_count": 2,
   "id": "a949db2b",
   "metadata": {},
   "outputs": [],
   "source": [
    "%load_ext autoreload\n",
    "%autoreload 2"
   ]
  },
  {
   "cell_type": "code",
   "execution_count": 3,
   "id": "1134aad4",
   "metadata": {},
   "outputs": [],
   "source": [
    "import os\n",
    "os.environ[\"XLA_PYTHON_CLIENT_MEM_FRACTION\"]=\".4\"\n",
    "\n",
    "import time\n",
    "import matplotlib.pyplot as plt\n",
    "import matplotlib as mpl\n",
    "import numpy as np\n",
    "from copy import deepcopy\n",
    "\n",
    "import jax\n",
    "import jax.numpy as jnp\n",
    "from jax import jit, lax, grad, value_and_grad, vmap\n",
    "import optax\n",
    "import distrax\n",
    "\n",
    "from neuron import h\n",
    "_ = h.load_file(\"stdlib.hoc\")\n",
    "\n",
    "from neurax.integrate import solve\n",
    "from neurax.cell import Cell, equal_segments, linear_segments, _compute_num_kids, _compute_index_of_kid, compute_levels, compute_branches_in_level\n",
    "from neurax.stimulus import Stimulus, step_current\n",
    "from neurax.recording import Recording\n",
    "from neurax.connection import Connection, Connectivity\n",
    "from neurax.utils.plot_utils import plot_morph\n",
    "from neurax.mechanisms.hh_neuron import hh_neuron_gate\n",
    "from neurax.mechanisms.glutamate_synapse import glutamate\n",
    "from neurax.cell import merge_cells\n",
    "from neurax.utils.swc import read_swc, _split_into_branches, _build_parents, _extract_endpoint_radiuses, _compute_pathlengths"
   ]
  },
  {
   "cell_type": "code",
   "execution_count": 4,
   "id": "994f38ae",
   "metadata": {},
   "outputs": [],
   "source": [
    "device_str = \"cpu\"\n",
    "jax.config.update('jax_platform_name', device_str)\n",
    "\n",
    "cpus = jax.devices(\"cpu\")\n",
    "gpus = jax.devices(\"gpu\")\n",
    "\n",
    "device = cpus[0] if device_str == \"cpu\" else gpus[0]"
   ]
  },
  {
   "cell_type": "markdown",
   "id": "8b315fb5",
   "metadata": {},
   "source": [
    "### Hyperparameters"
   ]
  },
  {
   "cell_type": "code",
   "execution_count": 5,
   "id": "4e90cda0",
   "metadata": {},
   "outputs": [],
   "source": [
    "nseg_per_branch = 4\n",
    "\n",
    "r_a = 5_000  # ohm cm \n",
    "i_delay = 3.0  # ms\n",
    "i_amp = 5.0  # nA\n",
    "i_dur = 2.0  # ms\n",
    "dt = 0.025  # ms\n",
    "t_max = 10.0  # ms"
   ]
  },
  {
   "cell_type": "markdown",
   "id": "a0152c26",
   "metadata": {},
   "source": [
    "\n",
    "### Morphology"
   ]
  },
  {
   "cell_type": "code",
   "execution_count": 6,
   "id": "24eec07d",
   "metadata": {},
   "outputs": [],
   "source": [
    "nseg_per_branch = 4\n",
    "\n",
    "parents = [-1, 0, 1, 2]\n",
    "parents = jnp.asarray(parents)\n",
    "\n",
    "lengths = [80.0, 10.0, 2.0, 2.0]\n",
    "endpoint_rads = [10.0, 5.0, 4.0, 8.0]\n",
    "\n",
    "num_branches = len(parents)\n",
    "ncomp = num_branches * nseg_per_branch\n",
    "\n",
    "lengths = equal_segments(lengths, nseg_per_branch)\n",
    "radiuses = equal_segments(endpoint_rads, nseg_per_branch)\n",
    "\n",
    "cell1 = Cell(num_branches, parents, nseg_per_branch, lengths, radiuses, r_a)\n",
    "\n",
    "recs = [\n",
    "    Recording(0, 0, 0.0),\n",
    "    Recording(0, 3, 1.0),\n",
    "    Recording(0, 0, 1.0),\n",
    "]"
   ]
  },
  {
   "cell_type": "code",
   "execution_count": 7,
   "id": "621e6456",
   "metadata": {},
   "outputs": [
    {
     "data": {
      "text/plain": [
       "Array([  533.33333333,  7619.04761905, 12800.        ], dtype=float64)"
      ]
     },
     "execution_count": 7,
     "metadata": {},
     "output_type": "execute_result"
    }
   ],
   "source": [
    "cell1.branch_conds_fwd"
   ]
  },
  {
   "cell_type": "markdown",
   "id": "82f84c05",
   "metadata": {},
   "source": [
    "### Run"
   ]
  },
  {
   "cell_type": "code",
   "execution_count": 8,
   "id": "1dde3d97",
   "metadata": {},
   "outputs": [],
   "source": [
    "# Initialize voltage\n",
    "init_v = [\n",
    "    jnp.asarray([-62.0] * num_branches*nseg_per_branch), \n",
    "]\n",
    "\n",
    "# Initialize states\n",
    "hh_states = [\n",
    "    jnp.stack(\n",
    "        [\n",
    "            jnp.asarray([0.074901] * num_branches*nseg_per_branch), \n",
    "            jnp.asarray([0.4889] * num_branches*nseg_per_branch),\n",
    "            jnp.asarray([0.3644787] * num_branches*nseg_per_branch),\n",
    "        ]\n",
    "    ),\n",
    "]"
   ]
  },
  {
   "cell_type": "markdown",
   "id": "a5f9267b",
   "metadata": {},
   "source": [
    "### Set up model"
   ]
  },
  {
   "cell_type": "code",
   "execution_count": 9,
   "id": "36f1ce89",
   "metadata": {},
   "outputs": [],
   "source": [
    "time_vec = jnp.arange(0.0, t_max+dt, dt)"
   ]
  },
  {
   "cell_type": "code",
   "execution_count": 10,
   "id": "f43a0ed3",
   "metadata": {},
   "outputs": [],
   "source": [
    "cells = [cell1]\n",
    "conns = [Connection(0, 0, 0.0, 0, 1, 0.0)]\n",
    "connectivities = [Connectivity(conns, nseg_per_branch)]\n",
    "stims = [Stimulus(0, 0, 0.0, current=step_current(i_delay, i_dur, i_amp, time_vec))]"
   ]
  },
  {
   "cell_type": "markdown",
   "id": "5d5939f5",
   "metadata": {},
   "source": [
    "### Define parameters"
   ]
  },
  {
   "cell_type": "code",
   "execution_count": 11,
   "id": "44756c47",
   "metadata": {},
   "outputs": [],
   "source": [
    "hh_params = [\n",
    "    jnp.stack(\n",
    "        [\n",
    "            jnp.asarray([0.12] * num_branches*nseg_per_branch), \n",
    "            jnp.asarray([0.036] * num_branches*nseg_per_branch),\n",
    "            jnp.asarray([0.0003] * num_branches*nseg_per_branch),\n",
    "        ]\n",
    "    ),\n",
    "]\n",
    "\n",
    "synapse_params = jnp.asarray([0.0] * len(conns))"
   ]
  },
  {
   "cell_type": "markdown",
   "id": "956371ed",
   "metadata": {},
   "source": [
    "### ODE"
   ]
  },
  {
   "cell_type": "code",
   "execution_count": 12,
   "id": "d0e36fb6",
   "metadata": {},
   "outputs": [],
   "source": [
    "mem_channels = [hh_neuron_gate,]\n",
    "mem_states = [hh_states,]\n",
    "mem_params = [hh_params,]"
   ]
  },
  {
   "cell_type": "code",
   "execution_count": 13,
   "id": "9b150a0e",
   "metadata": {},
   "outputs": [],
   "source": [
    "syn_channels = [glutamate,]\n",
    "syn_states = [jnp.zeros((len(conns))),]\n",
    "syn_params = [synapse_params,]"
   ]
  },
  {
   "cell_type": "code",
   "execution_count": 14,
   "id": "0fcf43e6",
   "metadata": {},
   "outputs": [],
   "source": [
    "# with jax.disable_jit():\n",
    "s = solve(\n",
    "    cells,\n",
    "    connectivities,\n",
    "    init_v,\n",
    "    mem_states=mem_states,\n",
    "    mem_params=mem_params,\n",
    "    mem_channels=mem_channels,\n",
    "    syn_states=syn_states,\n",
    "    syn_params=syn_params,\n",
    "    syn_channels=syn_channels,\n",
    "    stimuli=stims,\n",
    "    recordings=recs,\n",
    "    t_max=t_max,\n",
    "    dt=dt,\n",
    "    solver=\"thomas\",\n",
    "    checkpoint_inds=[]\n",
    ")"
   ]
  },
  {
   "cell_type": "code",
   "execution_count": 15,
   "id": "c7debc8f",
   "metadata": {},
   "outputs": [
    {
     "data": {
      "image/png": "[encoded data removed]",
      "text/plain": [
       "<Figure size 600x200 with 1 Axes>"
      ]
     },
     "metadata": {},
     "output_type": "display_data"
    }
   ],
   "source": [
    "with mpl.rc_context(fname=\".matplotlibrc\"):\n",
    "    fig, ax = plt.subplots(1, 1, figsize=(6, 2))\n",
    "    for i in range(2):\n",
    "        _ = ax.plot(time_vec, s[i])\n",
    "    ax.set_xlabel(\"\")\n",
    "    ax.set_xticks([])\n",
    "    ax.set_xticks([0, max(time_vec)])\n",
    "    ax.set_xlim([0, max(time_vec)])\n",
    "    ax.set_xlabel(\"Time (ms)\")\n",
    "    ax.set_ylabel(\"Voltage (mV)\")\n",
    "    plt.subplots_adjust(hspace=0.4)\n",
    "    plt.show()"
   ]
  },
  {
   "cell_type": "code",
   "execution_count": 16,
   "id": "85b3cf21",
   "metadata": {},
   "outputs": [
    {
     "data": {
      "text/plain": [
       "Array([-62.        , -64.65065038, -66.37102246, -67.22379634,\n",
       "       -67.48797528,  12.46903364,  20.29739233, -17.82339236,\n",
       "       -55.90238527, -76.16215618, -75.928326  , -75.51670258,\n",
       "       -75.00084274, -74.38119959], dtype=float64)"
      ]
     },
     "execution_count": 16,
     "metadata": {},
     "output_type": "execute_result"
    }
   ],
   "source": [
    "s[1][::30]"
   ]
  },
  {
   "cell_type": "code",
   "execution_count": 17,
   "id": "034ab548",
   "metadata": {},
   "outputs": [
    {
     "data": {
      "text/plain": [
       "Array([-62.        , -64.65065038, -66.37102246, -67.22379634,\n",
       "       -67.48797528,  42.59724115,  17.83997934, -27.08875563,\n",
       "       -62.58737402, -76.17656039, -75.93922056, -75.52786032,\n",
       "       -75.01180182, -74.39158722], dtype=float64)"
      ]
     },
     "execution_count": 17,
     "metadata": {},
     "output_type": "execute_result"
    }
   ],
   "source": [
    "s[0][::30]"
   ]
  },
  {
   "cell_type": "code",
   "execution_count": null,
   "id": "169d78d8",
   "metadata": {},
   "outputs": [],
   "source": []
  },
  {
   "cell_type": "code",
   "execution_count": null,
   "id": "06ffead5",
   "metadata": {},
   "outputs": [],
   "source": []
  },
  {
   "cell_type": "code",
   "execution_count": null,
   "id": "8debe60e",
   "metadata": {},
   "outputs": [],
   "source": []
  },
  {
   "cell_type": "code",
   "execution_count": null,
   "id": "45f99a41",
   "metadata": {},
   "outputs": [],
   "source": []
  }
 ],
 "metadata": {
  "kernelspec": {
   "display_name": "Python 3 (ipykernel)",
   "language": "python",
   "name": "python3"
  },
  "language_info": {
   "codemirror_mode": {
    "name": "ipython",
    "version": 3
   },
   "file_extension": ".py",
   "mimetype": "text/x-python",
   "name": "python",
   "nbconvert_exporter": "python",
   "pygments_lexer": "ipython3",
   "version": "3.10.9"
  }
 },
 "nbformat": 4,
 "nbformat_minor": 5
}
