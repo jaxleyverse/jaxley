{
 "cells": [
  {
   "cell_type": "code",
   "execution_count": 1,
   "id": "03e2b3c5",
   "metadata": {},
   "outputs": [],
   "source": [
    "from jax.config import config\n",
    "config.update(\"jax_enable_x64\", True)"
   ]
  },
  {
   "cell_type": "code",
   "execution_count": 2,
   "id": "6f221994",
   "metadata": {},
   "outputs": [],
   "source": [
    "%load_ext autoreload\n",
    "%autoreload 2"
   ]
  },
  {
   "cell_type": "code",
   "execution_count": 3,
   "id": "2510a0d4",
   "metadata": {},
   "outputs": [],
   "source": [
    "import os\n",
    "os.environ[\"XLA_PYTHON_CLIENT_MEM_FRACTION\"]=\".4\"\n",
    "\n",
    "import time\n",
    "import matplotlib.pyplot as plt\n",
    "import matplotlib as mpl\n",
    "import numpy as np\n",
    "from copy import deepcopy\n",
    "\n",
    "import jax\n",
    "import jax.numpy as jnp\n",
    "from jax import jit, lax, grad, value_and_grad, vmap\n",
    "import optax\n",
    "import distrax\n",
    "\n",
    "from neuron import h\n",
    "_ = h.load_file(\"stdlib.hoc\")\n",
    "\n",
    "from neurax.integrate import solve\n",
    "from neurax.cell import Cell, equal_segments, linear_segments, _compute_num_kids, _compute_index_of_kid, compute_levels, compute_branches_in_level\n",
    "from neurax.stimulus import Stimulus, step_current\n",
    "from neurax.recording import Recording\n",
    "from neurax.connection import Connection, Connectivity\n",
    "from neurax.utils.plot_utils import plot_morph\n",
    "from neurax.mechanisms.hh_neuron import hh_neuron_gate\n",
    "from neurax.mechanisms.glutamate_synapse import glutamate\n",
    "from neurax.cell import merge_cells\n",
    "from neurax.utils.swc import read_swc, _split_into_branches, _build_parents, _extract_endpoint_radiuses, _compute_pathlengths"
   ]
  },
  {
   "cell_type": "code",
   "execution_count": 4,
   "id": "8dec9c8b",
   "metadata": {},
   "outputs": [],
   "source": [
    "device_str = \"cpu\"\n",
    "jax.config.update('jax_platform_name', device_str)\n",
    "\n",
    "cpus = jax.devices(\"cpu\")\n",
    "gpus = jax.devices(\"gpu\")\n",
    "\n",
    "device = cpus[0] if device_str == \"cpu\" else gpus[0]"
   ]
  },
  {
   "cell_type": "markdown",
   "id": "0bd4fe4f",
   "metadata": {},
   "source": [
    "### Hyperparameters"
   ]
  },
  {
   "cell_type": "code",
   "execution_count": 5,
   "id": "6565a02e",
   "metadata": {},
   "outputs": [],
   "source": [
    "nseg_per_branch = 4\n",
    "\n",
    "r_a = 5_000  # ohm cm \n",
    "i_delay = 3.0  # ms\n",
    "i_amp = 5.0  # nA\n",
    "i_dur = 2.0  # ms\n",
    "dt = 0.025  # ms\n",
    "t_max = 10.0  # ms"
   ]
  },
  {
   "cell_type": "markdown",
   "id": "06a04fd8",
   "metadata": {},
   "source": [
    "\n",
    "### Morphology"
   ]
  },
  {
   "cell_type": "code",
   "execution_count": 6,
   "id": "9cb65431",
   "metadata": {},
   "outputs": [],
   "source": [
    "nseg_per_branch = 4\n",
    "\n",
    "parents = [-1, 0, 1, 2]\n",
    "parents = jnp.asarray(parents)\n",
    "\n",
    "lengths = [80.0, 10.0, 2.0, 2.0]\n",
    "endpoint_rads = [10.0, 10.0, 10.0, 10.0]\n",
    "\n",
    "num_branches = len(parents)\n",
    "ncomp = num_branches * nseg_per_branch\n",
    "\n",
    "lengths = equal_segments(lengths, nseg_per_branch)\n",
    "radiuses = equal_segments(endpoint_rads, nseg_per_branch)\n",
    "\n",
    "cell1 = Cell(num_branches, parents, nseg_per_branch, lengths, radiuses, r_a)\n",
    "\n",
    "recs = [\n",
    "    Recording(0, 0, 0.0),\n",
    "    Recording(0, 3, 1.0),\n",
    "    Recording(0, 0, 1.0),\n",
    "]"
   ]
  },
  {
   "cell_type": "code",
   "execution_count": 7,
   "id": "8b8dba0f",
   "metadata": {},
   "outputs": [
    {
     "data": {
      "text/plain": [
       "Array([  355.55555556, 13333.33333333, 40000.        ], dtype=float64)"
      ]
     },
     "execution_count": 7,
     "metadata": {},
     "output_type": "execute_result"
    }
   ],
   "source": [
    "cell1.branch_conds_fwd"
   ]
  },
  {
   "cell_type": "markdown",
   "id": "0ee4d359",
   "metadata": {},
   "source": [
    "### Run"
   ]
  },
  {
   "cell_type": "code",
   "execution_count": 8,
   "id": "97aaf993",
   "metadata": {},
   "outputs": [],
   "source": [
    "# Initialize voltage\n",
    "init_v = [\n",
    "    jnp.asarray([-62.0] * num_branches*nseg_per_branch), \n",
    "]\n",
    "\n",
    "# Initialize states\n",
    "hh_states = [\n",
    "    jnp.stack(\n",
    "        [\n",
    "            jnp.asarray([0.074901] * num_branches*nseg_per_branch), \n",
    "            jnp.asarray([0.4889] * num_branches*nseg_per_branch),\n",
    "            jnp.asarray([0.3644787] * num_branches*nseg_per_branch),\n",
    "        ]\n",
    "    ),\n",
    "]"
   ]
  },
  {
   "cell_type": "markdown",
   "id": "31b5de5f",
   "metadata": {},
   "source": [
    "### Set up model"
   ]
  },
  {
   "cell_type": "code",
   "execution_count": 9,
   "id": "43f1bde3",
   "metadata": {},
   "outputs": [],
   "source": [
    "time_vec = jnp.arange(0.0, t_max+dt, dt)"
   ]
  },
  {
   "cell_type": "code",
   "execution_count": 10,
   "id": "50ea2bfd",
   "metadata": {},
   "outputs": [],
   "source": [
    "cells = [cell1]\n",
    "conns = [Connection(0, 0, 0.0, 0, 1, 0.0)]\n",
    "connectivities = [Connectivity(conns, nseg_per_branch)]\n",
    "stims = [Stimulus(0, 0, 0.0, current=step_current(i_delay, i_dur, i_amp, time_vec))]"
   ]
  },
  {
   "cell_type": "markdown",
   "id": "322f1f76",
   "metadata": {},
   "source": [
    "### Define parameters"
   ]
  },
  {
   "cell_type": "code",
   "execution_count": 11,
   "id": "052cdf03",
   "metadata": {},
   "outputs": [],
   "source": [
    "hh_params = [\n",
    "    jnp.stack(\n",
    "        [\n",
    "            jnp.asarray([0.12] * num_branches*nseg_per_branch), \n",
    "            jnp.asarray([0.036] * num_branches*nseg_per_branch),\n",
    "            jnp.asarray([0.0003] * num_branches*nseg_per_branch),\n",
    "        ]\n",
    "    ),\n",
    "]\n",
    "\n",
    "synapse_params = jnp.asarray([0.0] * len(conns))"
   ]
  },
  {
   "cell_type": "markdown",
   "id": "08ac6697",
   "metadata": {},
   "source": [
    "### ODE"
   ]
  },
  {
   "cell_type": "code",
   "execution_count": 12,
   "id": "c29f732f",
   "metadata": {},
   "outputs": [],
   "source": [
    "mem_channels = [hh_neuron_gate,]\n",
    "mem_states = [hh_states,]\n",
    "mem_params = [hh_params,]"
   ]
  },
  {
   "cell_type": "code",
   "execution_count": 13,
   "id": "455651ed",
   "metadata": {},
   "outputs": [],
   "source": [
    "syn_channels = [glutamate,]\n",
    "syn_states = [jnp.zeros((len(conns))),]\n",
    "syn_params = [synapse_params,]"
   ]
  },
  {
   "cell_type": "code",
   "execution_count": 14,
   "id": "2879aede",
   "metadata": {},
   "outputs": [],
   "source": [
    "# with jax.disable_jit():\n",
    "s = solve(\n",
    "    cells,\n",
    "    connectivities,\n",
    "    init_v,\n",
    "    mem_states=mem_states,\n",
    "    mem_params=mem_params,\n",
    "    mem_channels=mem_channels,\n",
    "    syn_states=syn_states,\n",
    "    syn_params=syn_params,\n",
    "    syn_channels=syn_channels,\n",
    "    stimuli=stims,\n",
    "    recordings=recs,\n",
    "    t_max=t_max,\n",
    "    dt=dt,\n",
    "    solver=\"thomas\",\n",
    "    checkpoint_inds=[]\n",
    ")"
   ]
  },
  {
   "cell_type": "code",
   "execution_count": 15,
   "id": "f1c30e0a",
   "metadata": {},
   "outputs": [
    {
     "data": {
      "image/png": "[encoded data removed]",
      "text/plain": [
       "<Figure size 600x200 with 1 Axes>"
      ]
     },
     "metadata": {},
     "output_type": "display_data"
    }
   ],
   "source": [
    "with mpl.rc_context(fname=\".matplotlibrc\"):\n",
    "    fig, ax = plt.subplots(1, 1, figsize=(6, 2))\n",
    "    for i in range(2):\n",
    "        _ = ax.plot(time_vec, s[i])\n",
    "    ax.set_xlabel(\"\")\n",
    "    ax.set_xticks([])\n",
    "    ax.set_xticks([0, max(time_vec)])\n",
    "    ax.set_xlim([0, max(time_vec)])\n",
    "    ax.set_xlabel(\"Time (ms)\")\n",
    "    ax.set_ylabel(\"Voltage (mV)\")\n",
    "    plt.subplots_adjust(hspace=0.4)\n",
    "    plt.show()"
   ]
  },
  {
   "cell_type": "code",
   "execution_count": 16,
   "id": "8eaefb15",
   "metadata": {},
   "outputs": [
    {
     "data": {
      "text/plain": [
       "Array([-62.        , -64.65065038, -66.37102246, -67.22379634,\n",
       "       -67.48797528,   5.23696181,  21.56130349, -16.7092529 ,\n",
       "       -54.11295666, -76.14698472, -75.94035761, -75.53192167,\n",
       "       -75.01916646, -74.40243132], dtype=float64)"
      ]
     },
     "execution_count": 16,
     "metadata": {},
     "output_type": "execute_result"
    }
   ],
   "source": [
    "s[1][::30]"
   ]
  },
  {
   "cell_type": "code",
   "execution_count": 18,
   "id": "7b606e16",
   "metadata": {},
   "outputs": [
    {
     "data": {
      "text/plain": [
       "Array([-62.        , -64.65065038, -66.37102246, -67.22379634,\n",
       "       -67.48797528,  41.12958253,  18.37262542, -26.67039361,\n",
       "       -61.65352051, -76.16091479, -75.94844948, -75.5401989 ,\n",
       "       -75.02729799, -74.41014297], dtype=float64)"
      ]
     },
     "execution_count": 18,
     "metadata": {},
     "output_type": "execute_result"
    }
   ],
   "source": [
    "s[0][::30]"
   ]
  },
  {
   "cell_type": "code",
   "execution_count": null,
   "id": "e84d1f02",
   "metadata": {},
   "outputs": [],
   "source": []
  },
  {
   "cell_type": "code",
   "execution_count": null,
   "id": "3639f2d0",
   "metadata": {},
   "outputs": [],
   "source": []
  },
  {
   "cell_type": "code",
   "execution_count": null,
   "id": "bd7238b1",
   "metadata": {},
   "outputs": [],
   "source": []
  },
  {
   "cell_type": "code",
   "execution_count": null,
   "id": "46b5506e",
   "metadata": {},
   "outputs": [],
   "source": []
  }
 ],
 "metadata": {
  "kernelspec": {
   "display_name": "Python 3 (ipykernel)",
   "language": "python",
   "name": "python3"
  },
  "language_info": {
   "codemirror_mode": {
    "name": "ipython",
    "version": 3
   },
   "file_extension": ".py",
   "mimetype": "text/x-python",
   "name": "python",
   "nbconvert_exporter": "python",
   "pygments_lexer": "ipython3",
   "version": "3.10.9"
  }
 },
 "nbformat": 4,
 "nbformat_minor": 5
}
