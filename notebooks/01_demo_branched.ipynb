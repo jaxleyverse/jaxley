{
 "cells": [
  {
   "cell_type": "code",
   "execution_count": 1,
   "id": "6386533a",
   "metadata": {},
   "outputs": [],
   "source": [
    "%load_ext autoreload\n",
    "%autoreload 2"
   ]
  },
  {
   "cell_type": "code",
   "execution_count": 2,
   "id": "0fbf04a4",
   "metadata": {},
   "outputs": [
    {
     "name": "stderr",
     "output_type": "stream",
     "text": [
      "Warning: no DISPLAY environment variable.\n",
      "--No graphics will be displayed.\n"
     ]
    }
   ],
   "source": [
    "import os\n",
    "os.environ[\"XLA_PYTHON_CLIENT_MEM_FRACTION\"]=\".2\"\n",
    "\n",
    "import time\n",
    "import matplotlib.pyplot as plt\n",
    "import matplotlib as mpl\n",
    "import numpy as np\n",
    "\n",
    "import jax\n",
    "import jax.numpy as jnp\n",
    "from jax import jit, lax, grad, value_and_grad\n",
    "\n",
    "from neuron import h\n",
    "_ = h.load_file(\"stdlib.hoc\")\n",
    "\n",
    "from neurax.integrate import solve, solve_and_grad\n",
    "from neurax.cell import Cell\n",
    "from neurax.stimulus import Stimulus, step_current\n",
    "from neurax.recording import Recording\n",
    "from neurax.connection import Connection"
   ]
  },
  {
   "cell_type": "code",
   "execution_count": 3,
   "id": "1cc25e75",
   "metadata": {},
   "outputs": [],
   "source": [
    "device_str = \"gpu\"\n",
    "jax.config.update('jax_platform_name', device_str)\n",
    "\n",
    "cpus = jax.devices(\"cpu\")\n",
    "gpus = jax.devices(\"gpu\")\n",
    "\n",
    "device = cpus[0] if device_str == \"cpu\" else gpus[0]"
   ]
  },
  {
   "cell_type": "markdown",
   "id": "32873c3d",
   "metadata": {},
   "source": [
    "# Solve\n",
    "\n",
    "### Define model"
   ]
  },
  {
   "cell_type": "code",
   "execution_count": 40,
   "id": "7b853f1c",
   "metadata": {},
   "outputs": [],
   "source": [
    "num_cells = 32\n",
    "nseg_per_branch = 16\n",
    "num_branches = 15\n",
    "ncomp = num_branches * nseg_per_branch\n",
    "parents = jnp.asarray([-1, 0, 0, 1, 1, 2, 2, 3, 3, 4, 4, 5, 5, 6, 6])\n",
    "\n",
    "assert len(parents) == num_branches\n",
    "g_na = jnp.asarray([[0.12] * ncomp] * num_cells)\n",
    "g_kd = jnp.asarray([[0.036] * ncomp] * num_cells)\n",
    "g_leak = jnp.asarray([[0.0003] * ncomp] * num_cells)\n",
    "params = jnp.stack([g_na, g_kd, g_leak])\n",
    "\n",
    "init_v = jnp.asarray([[-62.0] *num_branches*nseg_per_branch] * num_cells)\n",
    "init_m = jnp.asarray([[0.074901] *num_branches*nseg_per_branch] * num_cells)\n",
    "init_h = jnp.asarray([[0.4889] *num_branches*nseg_per_branch] * num_cells)\n",
    "init_n = jnp.asarray([[0.3644787] *num_branches*nseg_per_branch] * num_cells)\n",
    "u = jnp.stack([init_v, init_m, init_h, init_n])\n",
    "\n",
    "length = 100.0  # um (length of a single branch)\n",
    "radius = 10.0  # um\n",
    "r_a = 10_000  # ohm cm \n",
    "i_delay = 5.0  # ms\n",
    "i_amp = 1.0  # nA\n",
    "i_dur = 2.0  # ms\n",
    "dt = 0.025  # ms\n",
    "t_max = 20.0  # ms"
   ]
  },
  {
   "cell_type": "markdown",
   "id": "0827aecf",
   "metadata": {},
   "source": [
    "### Set up model"
   ]
  },
  {
   "cell_type": "code",
   "execution_count": 41,
   "id": "5fd808b7",
   "metadata": {},
   "outputs": [],
   "source": [
    "time_vec = jnp.arange(0, t_max+dt, dt)"
   ]
  },
  {
   "cell_type": "code",
   "execution_count": 42,
   "id": "61fe6d5c",
   "metadata": {},
   "outputs": [],
   "source": [
    "cells = [Cell(num_branches, parents, nseg_per_branch, length, radius, r_a)] * num_cells\n",
    "stims = [\n",
    "    Stimulus(cell_ind=0, branch_ind=0, loc=0.0, current=step_current(i_delay, i_dur, i_amp, time_vec)),\n",
    "    Stimulus(cell_ind=1, branch_ind=0, loc=0.0, current=step_current(i_delay, i_dur, i_amp, time_vec)),\n",
    "]\n",
    "recs = [\n",
    "    Recording(0, 0, 0.0),\n",
    "    Recording(0, 6, 1.0),\n",
    "    Recording(1, 0, 0.0),\n",
    "    Recording(1, 6, 1.0),\n",
    "    Recording(3, 0, 0.0),\n",
    "    Recording(3, 6, 1.0),\n",
    "    Recording(4, 0, 0.0),\n",
    "    Recording(4, 6, 1.0),\n",
    "]\n",
    "conns = [\n",
    "    Connection(0, 0, 0.0, 3, 0, 0.0, synaptic_cond=1.0),\n",
    "    Connection(1, 0, 0.0, 3, 0, 0.3, synaptic_cond=1.0),\n",
    "]"
   ]
  },
  {
   "cell_type": "markdown",
   "id": "e5c794d4",
   "metadata": {},
   "source": [
    "### Run solver"
   ]
  },
  {
   "cell_type": "code",
   "execution_count": 43,
   "id": "7fd6e4b0",
   "metadata": {},
   "outputs": [
    {
     "name": "stdout",
     "output_type": "stream",
     "text": [
      "Time:  0.2766544818878174\n"
     ]
    }
   ],
   "source": [
    "start_time = time.time()\n",
    "s = solve(cells, u, params, stims, recs, conns, t_max=t_max, dt=dt, solver=\"stone\")\n",
    "print(\"Time: \", time.time() - start_time)"
   ]
  },
  {
   "cell_type": "markdown",
   "id": "20adefd6",
   "metadata": {},
   "source": [
    "### Vis"
   ]
  },
  {
   "cell_type": "code",
   "execution_count": 44,
   "id": "37daf7af",
   "metadata": {},
   "outputs": [
    {
     "data": {
      "image/png": "[encoded data removed]",
      "text/plain": [
       "<Figure size 1600x160 with 8 Axes>"
      ]
     },
     "metadata": {},
     "output_type": "display_data"
    }
   ],
   "source": [
    "num_recs = 8\n",
    "with mpl.rc_context(fname=\".matplotlibrc\"):\n",
    "    fig, ax = plt.subplots(1, num_recs, figsize=(num_recs * 2, 1.6))\n",
    "    ax = np.atleast_1d(ax)\n",
    "    for i in range(num_recs):\n",
    "        _ = ax[i].plot(time_vec, s[i], c=\"k\")\n",
    "\n",
    "    _ = ax[0].set_xlabel(\"Time (ms)\")\n",
    "    _ = ax[0].set_ylabel(\"Voltage (mV)\")\n",
    "    \n",
    "    for a in ax[1:]:\n",
    "        a.set_yticklabels([])\n",
    "    for a in ax:\n",
    "        _ = a.set_ylim([-80, 50])\n",
    "        a.set_xticks([0, t_max])\n",
    "        a.set_xlim([0, t_max])\n",
    "    plt.show()"
   ]
  },
  {
   "cell_type": "markdown",
   "id": "978813db",
   "metadata": {},
   "source": [
    "# Gradient"
   ]
  },
  {
   "cell_type": "code",
   "execution_count": 52,
   "id": "49b728d7",
   "metadata": {},
   "outputs": [],
   "source": [
    "checkpoint_inds = [200, 400, 600]\n",
    "def sum_ode(diff_params):\n",
    "    s = solve_and_grad(cells, u, diff_params, stims, recs, conns, t_max=t_max, dt=dt, solver=\"stone\", checkpoint_inds=checkpoint_inds)\n",
    "    return jnp.mean(s)"
   ]
  },
  {
   "cell_type": "code",
   "execution_count": 53,
   "id": "26cf907e",
   "metadata": {},
   "outputs": [],
   "source": [
    "jitted_sum_ode = jit(sum_ode)"
   ]
  },
  {
   "cell_type": "code",
   "execution_count": 55,
   "id": "b7ffd304",
   "metadata": {},
   "outputs": [
    {
     "name": "stdout",
     "output_type": "stream",
     "text": [
      "Time:   0.22594618797302246\n"
     ]
    }
   ],
   "source": [
    "start_time = time.time()\n",
    "result = jitted_sum_ode(params)\n",
    "print(\"Time:  \", time.time() - start_time)"
   ]
  },
  {
   "cell_type": "code",
   "execution_count": 56,
   "id": "b602021d",
   "metadata": {},
   "outputs": [],
   "source": [
    "jitted_grad = jit(value_and_grad(sum_ode))"
   ]
  },
  {
   "cell_type": "code",
   "execution_count": 58,
   "id": "1a9e60b8",
   "metadata": {},
   "outputs": [
    {
     "name": "stdout",
     "output_type": "stream",
     "text": [
      "Time:   2.9018635749816895\n",
      "Solve -61.26784\n",
      "Grad [[-1.8830334e-03  6.6960134e-02 -4.4424207e-05]\n",
      " [-9.2289299e-02 -4.3984312e-01 -3.4559614e-03]\n",
      " [ 1.1711740e+01  2.0708889e+01  3.9166570e-01]]\n"
     ]
    }
   ],
   "source": [
    "start_time = time.time()\n",
    "result = jitted_grad(params)\n",
    "print(\"Time:  \", time.time() - start_time)\n",
    "print(\"Solve\", result[0])\n",
    "print(\"Grad\", result[1][:, 0, ::100])"
   ]
  },
  {
   "cell_type": "code",
   "execution_count": null,
   "id": "c4e3b920",
   "metadata": {},
   "outputs": [],
   "source": []
  }
 ],
 "metadata": {
  "kernelspec": {
   "display_name": "Python 3 (ipykernel)",
   "language": "python",
   "name": "python3"
  },
  "language_info": {
   "codemirror_mode": {
    "name": "ipython",
    "version": 3
   },
   "file_extension": ".py",
   "mimetype": "text/x-python",
   "name": "python",
   "nbconvert_exporter": "python",
   "pygments_lexer": "ipython3",
   "version": "3.10.9"
  }
 },
 "nbformat": 4,
 "nbformat_minor": 5
}
