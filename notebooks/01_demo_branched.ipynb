{
 "cells": [
  {
   "cell_type": "code",
   "execution_count": 1,
   "id": "f13c182b",
   "metadata": {},
   "outputs": [],
   "source": [
    "%load_ext autoreload\n",
    "%autoreload 2"
   ]
  },
  {
   "cell_type": "code",
   "execution_count": 2,
   "id": "a529a2fc",
   "metadata": {},
   "outputs": [],
   "source": [
    "import os\n",
    "os.environ[\"XLA_PYTHON_CLIENT_MEM_FRACTION\"]=\".2\"\n",
    "\n",
    "import time\n",
    "import matplotlib.pyplot as plt\n",
    "import matplotlib as mpl\n",
    "import numpy as np\n",
    "\n",
    "import jax\n",
    "import jax.numpy as jnp\n",
    "from jax import jit, lax, grad, value_and_grad\n",
    "\n",
    "from neuron import h\n",
    "_ = h.load_file(\"stdlib.hoc\")\n",
    "\n",
    "from neurax.integrate import solve\n",
    "from neurax.cell import Cell\n",
    "from neurax.stimulus import Stimulus, step_current\n",
    "from neurax.recording import Recording"
   ]
  },
  {
   "cell_type": "code",
   "execution_count": 3,
   "id": "45f55a86",
   "metadata": {},
   "outputs": [],
   "source": [
    "device_str = \"cpu\"\n",
    "jax.config.update('jax_platform_name', device_str)\n",
    "\n",
    "cpus = jax.devices(\"cpu\")\n",
    "gpus = jax.devices(\"gpu\")\n",
    "\n",
    "device = cpus[0] if device_str == \"cpu\" else gpus[0]"
   ]
  },
  {
   "cell_type": "markdown",
   "id": "1de91b68",
   "metadata": {},
   "source": [
    "# JAX\n",
    "\n",
    "### Define model"
   ]
  },
  {
   "cell_type": "code",
   "execution_count": 18,
   "id": "71a5ecc8",
   "metadata": {},
   "outputs": [],
   "source": [
    "a = np.ones((10, 5))"
   ]
  },
  {
   "cell_type": "code",
   "execution_count": 24,
   "id": "bf3260cc",
   "metadata": {},
   "outputs": [],
   "source": [
    "b = np.tile(a, (2, 1, 1))"
   ]
  },
  {
   "cell_type": "code",
   "execution_count": 41,
   "id": "a29ec3d6",
   "metadata": {},
   "outputs": [],
   "source": [
    "num_cells = 64\n",
    "nseg_per_branch = 16\n",
    "num_branches = 15\n",
    "ncomp = num_branches * nseg_per_branch\n",
    "parents = jnp.asarray([-1, 0, 0, 1, 1, 2, 2, 3, 3, 4, 4, 5, 5, 6, 6])\n",
    "\n",
    "assert len(parents) == num_branches\n",
    "g_na = jnp.asarray([[0.12] * ncomp] * num_cells)\n",
    "g_kd = jnp.asarray([[0.036] * ncomp] * num_cells)\n",
    "g_leak = jnp.asarray([[0.0003] * ncomp] * num_cells)\n",
    "params = jnp.stack([g_na, g_kd, g_leak])\n",
    "\n",
    "init_v = jnp.asarray([[-62.0] *num_branches*nseg_per_branch] * num_cells)\n",
    "init_m = jnp.asarray([[0.074901] *num_branches*nseg_per_branch] * num_cells)\n",
    "init_h = jnp.asarray([[0.4889] *num_branches*nseg_per_branch] * num_cells)\n",
    "init_n = jnp.asarray([[0.3644787] *num_branches*nseg_per_branch] * num_cells)\n",
    "u = jnp.stack([init_v, init_m, init_h, init_n])\n",
    "\n",
    "length = 100.0  # um (length of a single branch)\n",
    "radius = 10.0  # um\n",
    "r_a = 10_000  # ohm cm \n",
    "i_delay = 5.0  # ms\n",
    "i_amp = 1.0  # nA\n",
    "i_dur = 2.0  # ms\n",
    "dt = 0.025  # ms\n",
    "t_max = 20.0  # ms"
   ]
  },
  {
   "cell_type": "markdown",
   "id": "34cdf316",
   "metadata": {},
   "source": [
    "### Set up model"
   ]
  },
  {
   "cell_type": "code",
   "execution_count": 42,
   "id": "4a1f50eb",
   "metadata": {},
   "outputs": [],
   "source": [
    "time_vec = jnp.arange(0, t_max+dt, dt)"
   ]
  },
  {
   "cell_type": "code",
   "execution_count": 43,
   "id": "e29e3dbd",
   "metadata": {},
   "outputs": [],
   "source": [
    "cells = [Cell(num_branches, parents, nseg_per_branch, length, radius, r_a)] * num_cells\n",
    "\n",
    "stims = [\n",
    "    Stimulus(cell_ind=0, branch_ind=0, loc=0.0, current=step_current(i_delay, i_dur, i_amp, time_vec)),\n",
    "    Stimulus(cell_ind=1, branch_ind=0, loc=0.0, current=step_current(i_delay, i_dur, i_amp, time_vec)),\n",
    "]\n",
    "recs = [\n",
    "    Recording(0, 0, 0.0),\n",
    "    Recording(0, 6, 1.0),\n",
    "    Recording(1, 0, 0.0),\n",
    "    Recording(1, 6, 1.0),\n",
    "    Recording(3, 0, 0.0),\n",
    "    Recording(3, 6, 1.0),\n",
    "    Recording(4, 0, 0.0),\n",
    "    Recording(4, 6, 1.0),\n",
    "]\n",
    "# conn = Connection(cell, 0, 0.0, cell, 15, 1.0)  # Excitatory feedback: soma -> tuft."
   ]
  },
  {
   "cell_type": "markdown",
   "id": "52912773",
   "metadata": {},
   "source": [
    "### Run solver"
   ]
  },
  {
   "cell_type": "code",
   "execution_count": 45,
   "id": "76f21ad2",
   "metadata": {},
   "outputs": [
    {
     "name": "stdout",
     "output_type": "stream",
     "text": [
      "Time:  0.376218318939209\n"
     ]
    }
   ],
   "source": [
    "start_time = time.time()\n",
    "s = solve(cells, u, params, stims, recs, t_max=t_max, dt=dt)\n",
    "print(\"Time: \", time.time() - start_time)"
   ]
  },
  {
   "cell_type": "markdown",
   "id": "47c4aa91",
   "metadata": {},
   "source": [
    "### Vis"
   ]
  },
  {
   "cell_type": "code",
   "execution_count": 48,
   "id": "160cc063",
   "metadata": {},
   "outputs": [
    {
     "data": {
      "image/png": "[encoded data removed]",
      "text/plain": [
       "<Figure size 1600x160 with 8 Axes>"
      ]
     },
     "metadata": {},
     "output_type": "display_data"
    }
   ],
   "source": [
    "num_recs = 8\n",
    "with mpl.rc_context(fname=\".matplotlibrc\"):\n",
    "    fig, ax = plt.subplots(1, num_recs, figsize=(num_recs * 2, 1.6))\n",
    "    ax = np.atleast_1d(ax)\n",
    "    for i in range(num_recs):\n",
    "        _ = ax[i].plot(time_vec, s[i], c=\"k\")\n",
    "\n",
    "    _ = ax[0].set_xlabel(\"Time (ms)\")\n",
    "    _ = ax[0].set_ylabel(\"Voltage (mV)\")\n",
    "    \n",
    "    for a in ax[1:]:\n",
    "        a.set_yticklabels([])\n",
    "    for a in ax:\n",
    "        _ = a.set_ylim([-80, 50])\n",
    "        a.set_xticks([0, 20])\n",
    "        a.set_xlim([0, 20])\n",
    "    plt.show()"
   ]
  },
  {
   "cell_type": "markdown",
   "id": "d2660845",
   "metadata": {},
   "source": [
    "# NEURON"
   ]
  },
  {
   "cell_type": "code",
   "execution_count": 15,
   "id": "a7ea7820",
   "metadata": {},
   "outputs": [
    {
     "data": {
      "text/plain": [
       "__nrnsec_0x2b4dd9d0"
      ]
     },
     "execution_count": 15,
     "metadata": {},
     "output_type": "execute_result"
    }
   ],
   "source": [
    "soma = h.Section()\n",
    "denda1 = h.Section()\n",
    "denda2 = h.Section()\n",
    "dendb1 = h.Section()\n",
    "dendb2 = h.Section()\n",
    "dendc1 = h.Section()\n",
    "dendc2 = h.Section()\n",
    "dendc3 = h.Section()\n",
    "dendc4 = h.Section()\n",
    "\n",
    "denda1.connect(soma, 1, 0)\n",
    "denda2.connect(soma, 1, 0)\n",
    "dendb1.connect(denda1, 1, 0)\n",
    "dendb2.connect(denda1, 1, 0)\n",
    "dendc1.connect(dendb1, 1, 0)\n",
    "dendc2.connect(dendb1, 1, 0)\n",
    "dendc3.connect(dendb2, 1, 0)\n",
    "dendc4.connect(dendb2, 1, 0)"
   ]
  },
  {
   "cell_type": "code",
   "execution_count": 16,
   "id": "eb9090c8",
   "metadata": {},
   "outputs": [
    {
     "data": {
      "text/plain": [
       "Vector[11]"
      ]
     },
     "execution_count": 16,
     "metadata": {},
     "output_type": "execute_result"
    }
   ],
   "source": [
    "stim = h.IClamp(soma(0.0))\n",
    "stim.delay = i_delay\n",
    "stim.dur = i_dur\n",
    "stim.amp = i_amp\n",
    "\n",
    "voltage_soma = h.Vector()\n",
    "voltage_soma.record(soma(0.0)._ref_v)\n",
    "\n",
    "voltage_somaend = h.Vector()\n",
    "voltage_somaend.record(soma(1.0)._ref_v)\n",
    "\n",
    "voltage_dend1 = h.Vector()\n",
    "voltage_dend1.record(denda1(1.0)._ref_v)\n",
    "\n",
    "voltage_dend4 = h.Vector()\n",
    "voltage_dend4.record(dendb2(1.0)._ref_v)\n",
    "\n",
    "voltage_dend6 = h.Vector()\n",
    "voltage_dend6.record(dendc1(1.0)._ref_v)\n",
    "\n",
    "voltage_dend7 = h.Vector()\n",
    "voltage_dend7.record(dendc2(1.0)._ref_v)"
   ]
  },
  {
   "cell_type": "code",
   "execution_count": 17,
   "id": "d97506d0",
   "metadata": {},
   "outputs": [],
   "source": [
    "for sec in h.allsec():\n",
    "    sec.insert(\"hh\")\n",
    "    sec.L = length\n",
    "    sec.nseg = nseg_per_branch\n",
    "    sec.diam = radius * 2\n",
    "    sec.Ra = r_a\n",
    "    \n",
    "    sec.gnabar_hh = 0.120  # S/cm2\n",
    "    sec.gkbar_hh = 0.036  # S/cm2\n",
    "    sec.gl_hh = 0.0003  # S/cm2\n",
    "    sec.ena = 50  # mV\n",
    "    sec.ek = -77.0  # mV\n",
    "    sec.el_hh = -54.3  # mV"
   ]
  },
  {
   "cell_type": "code",
   "execution_count": 18,
   "id": "4c1f32d2",
   "metadata": {},
   "outputs": [],
   "source": [
    "h.dt = dt\n",
    "tstop = 20.0\n",
    "v_init = -62.0\n",
    "def initialize():\n",
    "    h.finitialize(v_init)\n",
    "    h.fcurrent()\n",
    "    \n",
    "def integrate():\n",
    "    while h.t < tstop:\n",
    "        h.fadvance()"
   ]
  },
  {
   "cell_type": "code",
   "execution_count": 19,
   "id": "1e3c989d",
   "metadata": {},
   "outputs": [],
   "source": [
    "initialize()\n",
    "integrate()"
   ]
  },
  {
   "cell_type": "code",
   "execution_count": 20,
   "id": "293a29cb",
   "metadata": {},
   "outputs": [
    {
     "data": {
      "image/png": "[encoded data removed]",
      "text/plain": [
       "<Figure size 1200x160 with 6 Axes>"
      ]
     },
     "metadata": {},
     "output_type": "display_data"
    }
   ],
   "source": [
    "with mpl.rc_context(fname=\".matplotlibrc\"):\n",
    "    fig, ax = plt.subplots(1, 6, figsize=(12, 1.6))\n",
    "    for i in range(6):\n",
    "        _ = ax[i].plot(time_vec, s[i], c=\"k\")\n",
    "\n",
    "    _ = ax[0].plot(time_vec, list(voltage_soma)[:-1], c=\"g\", linestyle=\"--\")\n",
    "    _ = ax[1].plot(time_vec, list(voltage_somaend)[:-1], c=\"g\", linestyle=\"--\")\n",
    "    _ = ax[2].plot(time_vec, list(voltage_dend1)[:-1], c=\"g\", linestyle=\"--\")\n",
    "    _ = ax[3].plot(time_vec, list(voltage_dend4)[:-1], c=\"g\", linestyle=\"--\")\n",
    "    _ = ax[4].plot(time_vec, list(voltage_dend6)[:-1], c=\"g\", linestyle=\"--\")\n",
    "    _ = ax[5].plot(time_vec, list(voltage_dend7)[:-1], c=\"g\", linestyle=\"--\")\n",
    "\n",
    "    _ = ax[2].set_xlabel(\"Time (ms)\")\n",
    "    _ = ax[0].set_ylabel(\"Voltage (mV)\")\n",
    "    \n",
    "    for a in ax[1:]:\n",
    "        a.set_yticklabels([])\n",
    "    for a in ax:\n",
    "        _ = a.set_ylim([-80, 50])\n",
    "        a.set_xticks([0, 20])\n",
    "        a.set_xlim([0, 20])\n",
    "    ax[5].legend([\"Neurax\", \"NEURON\"], loc=\"upper right\", bbox_to_anchor=[1.3, 1.0, 0.0, 0.0])\n",
    "    plt.savefig(\"../../results/neurax_vs_neuron_acc.png\", dpi=200, bbox_inches=\"tight\")\n",
    "    plt.show()"
   ]
  },
  {
   "cell_type": "code",
   "execution_count": null,
   "id": "1cea3594",
   "metadata": {},
   "outputs": [],
   "source": [
    "    "
   ]
  },
  {
   "cell_type": "code",
   "execution_count": null,
   "id": "eea02c59",
   "metadata": {},
   "outputs": [],
   "source": []
  }
 ],
 "metadata": {
  "kernelspec": {
   "display_name": "Python 3 (ipykernel)",
   "language": "python",
   "name": "python3"
  },
  "language_info": {
   "codemirror_mode": {
    "name": "ipython",
    "version": 3
   },
   "file_extension": ".py",
   "mimetype": "text/x-python",
   "name": "python",
   "nbconvert_exporter": "python",
   "pygments_lexer": "ipython3",
   "version": "3.10.9"
  }
 },
 "nbformat": 4,
 "nbformat_minor": 5
}
