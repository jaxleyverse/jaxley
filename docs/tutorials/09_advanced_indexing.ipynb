{
 "cells": [
  {
   "cell_type": "markdown",
   "id": "1710a74b",
   "metadata": {},
   "source": [
    "# Customizing synaptic parameters"
   ]
  },
  {
   "cell_type": "markdown",
   "id": "1597ec00",
   "metadata": {},
   "source": [
    "In this tutorial, you will learn how to:\n",
    "\n",
    "- use the `select()` method to fully customize network simulations with `Jaxley`.  \n",
    "- use the `copy_node_property_to_edges()` method to flexibly modify synapses.  \n",
    "\n",
    "Here is a code snippet which you will learn to understand in this tutorial:\n",
    "```python\n",
    "net = ...  # See tutorial on Basics of Jaxley.\n",
    "\n",
    "# Set synaptic conductance of the synapse with index 0 and 1.\n",
    "net.select(edges=[0, 1]).set(\"Ionotropic_gS\", 0.1)\n",
    "\n",
    "# Set synaptic conductance of all synapses that have cells 3 or 4 as presynaptic neuron.\n",
    "net.copy_node_property_to_edges(\"global_cell_index\")\n",
    "df = net.edges\n",
    "df = df.query(\"pre_global_cell_index in [3, 4]\")\n",
    "net.select(edges=df.index).set(\"Ionotropic_gS\", 0.2)\n",
    "\n",
    "# Set synaptic conductance of all synapses that\n",
    "# 1) have cells 2 or 3 as presynaptic neuron and\n",
    "# 2) has cell 5 as postsynaptic neuron\n",
    "df = net.edges\n",
    "df = df.query(\"pre_global_cell_index in [2, 3]\")\n",
    "df = df.query(\"post_global_cell_index == 5\")\n",
    "net.select(edges=df.index).set(\"Ionotropic_gS\", 0.3)\n",
    "```"
   ]
  },
  {
   "cell_type": "markdown",
   "id": "fd9a49de",
   "metadata": {},
   "source": [
    "In a [previous tutorial](https://jaxley.readthedocs.io/en/latest/tutorials/02_small_network.html) you learned how to set parameters of a `jx.Network`. In that tutorial, we briefly mentioned the `select()` method which allowed to set individual synapses to particular values. In this tutorial, we will go into detail in how you can fully customize your `Jaxley` simulation.\n",
    "\n",
    "Let's go!"
   ]
  },
  {
   "cell_type": "code",
   "execution_count": 1,
   "id": "78266a05",
   "metadata": {
    "tags": []
   },
   "outputs": [],
   "source": [
    "import jaxley as jx\n",
    "from jaxley.channels import Na, K, Leak\n",
    "from jaxley.connect import fully_connect\n",
    "from jaxley.synapses import IonotropicSynapse"
   ]
  },
  {
   "cell_type": "markdown",
   "id": "22d63dcf",
   "metadata": {},
   "source": [
    "### Preface: Building the network\n",
    "\n",
    "We first build a network consisting of six neurons, in the same way as we showed in the previous tutorials:"
   ]
  },
  {
   "cell_type": "code",
   "execution_count": 2,
   "id": "4603896e",
   "metadata": {
    "tags": []
   },
   "outputs": [],
   "source": [
    "dt = 0.025\n",
    "t_max = 10.0\n",
    "\n",
    "comp = jx.Compartment()\n",
    "branch = jx.Branch(comp, nseg=2)\n",
    "cell = jx.Cell(branch, parents=[-1, 0])\n",
    "net = jx.Network([cell for _ in range(6)])\n",
    "fully_connect(net.cell([0, 1, 2]), net.cell([3, 4, 5]), IonotropicSynapse())"
   ]
  },
  {
   "cell_type": "markdown",
   "id": "396be7bd",
   "metadata": {},
   "source": [
    "### Setting individual synapse parameters\n",
    "\n",
    "As always, you can use the `.edges` table to inspect synaptic parameters of the network:"
   ]
  },
  {
   "cell_type": "code",
   "execution_count": 3,
   "id": "15604d2e",
   "metadata": {
    "tags": []
   },
   "outputs": [
    {
     "data": {
      "text/html": [
       "<div>\n",
       "<style scoped>\n",
       "    .dataframe tbody tr th:only-of-type {\n",
       "        vertical-align: middle;\n",
       "    }\n",
       "\n",
       "    .dataframe tbody tr th {\n",
       "        vertical-align: top;\n",
       "    }\n",
       "\n",
       "    .dataframe thead th {\n",
       "        text-align: right;\n",
       "    }\n",
       "</style>\n",
       "<table border=\"1\" class=\"dataframe\">\n",
       "  <thead>\n",
       "    <tr style=\"text-align: right;\">\n",
       "      <th></th>\n",
       "      <th>global_edge_index</th>\n",
       "      <th>pre_global_comp_index</th>\n",
       "      <th>post_global_comp_index</th>\n",
       "      <th>type</th>\n",
       "      <th>type_ind</th>\n",
       "      <th>pre_locs</th>\n",
       "      <th>post_locs</th>\n",
       "      <th>IonotropicSynapse_gS</th>\n",
       "      <th>IonotropicSynapse_e_syn</th>\n",
       "      <th>IonotropicSynapse_k_minus</th>\n",
       "      <th>IonotropicSynapse_s</th>\n",
       "      <th>controlled_by_param</th>\n",
       "    </tr>\n",
       "  </thead>\n",
       "  <tbody>\n",
       "    <tr>\n",
       "      <th>0</th>\n",
       "      <td>0</td>\n",
       "      <td>0</td>\n",
       "      <td>13</td>\n",
       "      <td>IonotropicSynapse</td>\n",
       "      <td>0</td>\n",
       "      <td>0.25</td>\n",
       "      <td>0.75</td>\n",
       "      <td>0.0001</td>\n",
       "      <td>0.0</td>\n",
       "      <td>0.025</td>\n",
       "      <td>0.2</td>\n",
       "      <td>0</td>\n",
       "    </tr>\n",
       "    <tr>\n",
       "      <th>1</th>\n",
       "      <td>1</td>\n",
       "      <td>0</td>\n",
       "      <td>19</td>\n",
       "      <td>IonotropicSynapse</td>\n",
       "      <td>0</td>\n",
       "      <td>0.25</td>\n",
       "      <td>0.75</td>\n",
       "      <td>0.0001</td>\n",
       "      <td>0.0</td>\n",
       "      <td>0.025</td>\n",
       "      <td>0.2</td>\n",
       "      <td>0</td>\n",
       "    </tr>\n",
       "    <tr>\n",
       "      <th>2</th>\n",
       "      <td>2</td>\n",
       "      <td>0</td>\n",
       "      <td>20</td>\n",
       "      <td>IonotropicSynapse</td>\n",
       "      <td>0</td>\n",
       "      <td>0.25</td>\n",
       "      <td>0.25</td>\n",
       "      <td>0.0001</td>\n",
       "      <td>0.0</td>\n",
       "      <td>0.025</td>\n",
       "      <td>0.2</td>\n",
       "      <td>0</td>\n",
       "    </tr>\n",
       "    <tr>\n",
       "      <th>3</th>\n",
       "      <td>3</td>\n",
       "      <td>4</td>\n",
       "      <td>12</td>\n",
       "      <td>IonotropicSynapse</td>\n",
       "      <td>0</td>\n",
       "      <td>0.25</td>\n",
       "      <td>0.25</td>\n",
       "      <td>0.0001</td>\n",
       "      <td>0.0</td>\n",
       "      <td>0.025</td>\n",
       "      <td>0.2</td>\n",
       "      <td>0</td>\n",
       "    </tr>\n",
       "    <tr>\n",
       "      <th>4</th>\n",
       "      <td>4</td>\n",
       "      <td>4</td>\n",
       "      <td>16</td>\n",
       "      <td>IonotropicSynapse</td>\n",
       "      <td>0</td>\n",
       "      <td>0.25</td>\n",
       "      <td>0.25</td>\n",
       "      <td>0.0001</td>\n",
       "      <td>0.0</td>\n",
       "      <td>0.025</td>\n",
       "      <td>0.2</td>\n",
       "      <td>0</td>\n",
       "    </tr>\n",
       "    <tr>\n",
       "      <th>5</th>\n",
       "      <td>5</td>\n",
       "      <td>4</td>\n",
       "      <td>21</td>\n",
       "      <td>IonotropicSynapse</td>\n",
       "      <td>0</td>\n",
       "      <td>0.25</td>\n",
       "      <td>0.75</td>\n",
       "      <td>0.0001</td>\n",
       "      <td>0.0</td>\n",
       "      <td>0.025</td>\n",
       "      <td>0.2</td>\n",
       "      <td>0</td>\n",
       "    </tr>\n",
       "    <tr>\n",
       "      <th>6</th>\n",
       "      <td>6</td>\n",
       "      <td>8</td>\n",
       "      <td>13</td>\n",
       "      <td>IonotropicSynapse</td>\n",
       "      <td>0</td>\n",
       "      <td>0.25</td>\n",
       "      <td>0.75</td>\n",
       "      <td>0.0001</td>\n",
       "      <td>0.0</td>\n",
       "      <td>0.025</td>\n",
       "      <td>0.2</td>\n",
       "      <td>0</td>\n",
       "    </tr>\n",
       "    <tr>\n",
       "      <th>7</th>\n",
       "      <td>7</td>\n",
       "      <td>8</td>\n",
       "      <td>17</td>\n",
       "      <td>IonotropicSynapse</td>\n",
       "      <td>0</td>\n",
       "      <td>0.25</td>\n",
       "      <td>0.75</td>\n",
       "      <td>0.0001</td>\n",
       "      <td>0.0</td>\n",
       "      <td>0.025</td>\n",
       "      <td>0.2</td>\n",
       "      <td>0</td>\n",
       "    </tr>\n",
       "    <tr>\n",
       "      <th>8</th>\n",
       "      <td>8</td>\n",
       "      <td>8</td>\n",
       "      <td>21</td>\n",
       "      <td>IonotropicSynapse</td>\n",
       "      <td>0</td>\n",
       "      <td>0.25</td>\n",
       "      <td>0.75</td>\n",
       "      <td>0.0001</td>\n",
       "      <td>0.0</td>\n",
       "      <td>0.025</td>\n",
       "      <td>0.2</td>\n",
       "      <td>0</td>\n",
       "    </tr>\n",
       "  </tbody>\n",
       "</table>\n",
       "</div>"
      ],
      "text/plain": [
       "   global_edge_index  pre_global_comp_index  post_global_comp_index  \\\n",
       "0                  0                      0                      13   \n",
       "1                  1                      0                      19   \n",
       "2                  2                      0                      20   \n",
       "3                  3                      4                      12   \n",
       "4                  4                      4                      16   \n",
       "5                  5                      4                      21   \n",
       "6                  6                      8                      13   \n",
       "7                  7                      8                      17   \n",
       "8                  8                      8                      21   \n",
       "\n",
       "                type  type_ind  pre_locs  post_locs  IonotropicSynapse_gS  \\\n",
       "0  IonotropicSynapse         0      0.25       0.75                0.0001   \n",
       "1  IonotropicSynapse         0      0.25       0.75                0.0001   \n",
       "2  IonotropicSynapse         0      0.25       0.25                0.0001   \n",
       "3  IonotropicSynapse         0      0.25       0.25                0.0001   \n",
       "4  IonotropicSynapse         0      0.25       0.25                0.0001   \n",
       "5  IonotropicSynapse         0      0.25       0.75                0.0001   \n",
       "6  IonotropicSynapse         0      0.25       0.75                0.0001   \n",
       "7  IonotropicSynapse         0      0.25       0.75                0.0001   \n",
       "8  IonotropicSynapse         0      0.25       0.75                0.0001   \n",
       "\n",
       "   IonotropicSynapse_e_syn  IonotropicSynapse_k_minus  IonotropicSynapse_s  \\\n",
       "0                      0.0                      0.025                  0.2   \n",
       "1                      0.0                      0.025                  0.2   \n",
       "2                      0.0                      0.025                  0.2   \n",
       "3                      0.0                      0.025                  0.2   \n",
       "4                      0.0                      0.025                  0.2   \n",
       "5                      0.0                      0.025                  0.2   \n",
       "6                      0.0                      0.025                  0.2   \n",
       "7                      0.0                      0.025                  0.2   \n",
       "8                      0.0                      0.025                  0.2   \n",
       "\n",
       "   controlled_by_param  \n",
       "0                    0  \n",
       "1                    0  \n",
       "2                    0  \n",
       "3                    0  \n",
       "4                    0  \n",
       "5                    0  \n",
       "6                    0  \n",
       "7                    0  \n",
       "8                    0  "
      ]
     },
     "execution_count": 3,
     "metadata": {},
     "output_type": "execute_result"
    }
   ],
   "source": [
    "net.edges"
   ]
  },
  {
   "cell_type": "markdown",
   "id": "c35637f5",
   "metadata": {},
   "source": [
    "This table has nine rows, each corresponding to one synapse. This makes sense because we fully connected three neurons (0, 1, 2) to three other neurons (3, 4, 5), giving a total of `3x3=9` synapses.\n",
    "\n",
    "You can modify parameters of individual synapses as follows:"
   ]
  },
  {
   "cell_type": "code",
   "execution_count": 4,
   "id": "9cfd34e6",
   "metadata": {},
   "outputs": [],
   "source": [
    "net.select(edges=[3, 4, 5]).set(\"IonotropicSynapse_gS\", 0.2)"
   ]
  },
  {
   "cell_type": "markdown",
   "id": "ba4ed5b8",
   "metadata": {},
   "source": [
    "Above, we are modifying the synapses with indices `[3, 4, 5]` (i.e., the indices of the `net.edges` DataFrame). The resulting values are indeed changed:"
   ]
  },
  {
   "cell_type": "code",
   "execution_count": 5,
   "id": "cf2902aa",
   "metadata": {},
   "outputs": [
    {
     "data": {
      "text/plain": [
       "0    0.0001\n",
       "1    0.0001\n",
       "2    0.0001\n",
       "3    0.2000\n",
       "4    0.2000\n",
       "5    0.2000\n",
       "6    0.0001\n",
       "7    0.0001\n",
       "8    0.0001\n",
       "Name: IonotropicSynapse_gS, dtype: float64"
      ]
     },
     "execution_count": 5,
     "metadata": {},
     "output_type": "execute_result"
    }
   ],
   "source": [
    "net.edges.IonotropicSynapse_gS"
   ]
  },
  {
   "cell_type": "markdown",
   "id": "194124de",
   "metadata": {},
   "source": [
    "### Example 1: Setting synaptic parameters which connect particular neurons"
   ]
  },
  {
   "cell_type": "markdown",
   "id": "0aea923c",
   "metadata": {},
   "source": [
    "This is great, but setting synaptic parameters just by their index can be exhausting, in particular in very large networks. Instead, we would want to, for example, set the maximal conductance of all synapses that connect from cell 0 or 1 to any other neuron.\n",
    "\n",
    "In `Jaxley`, such customization can be achieved by filtering the `.edges` dataframe accordingly, as shown below:"
   ]
  },
  {
   "cell_type": "code",
   "execution_count": 6,
   "id": "6d3ce515",
   "metadata": {},
   "outputs": [],
   "source": [
    "net = jx.Network([cell for _ in range(6)])\n",
    "fully_connect(net.cell([0, 1, 2]), net.cell([3, 4, 5]), IonotropicSynapse())\n",
    "\n",
    "net.copy_node_property_to_edges(\"global_cell_index\")\n",
    "df = net.edges\n",
    "df = df.query(\"pre_global_cell_index in [0, 1]\")\n",
    "net.select(edges=df.index).set(\"IonotropicSynapse_gS\", 0.23)"
   ]
  },
  {
   "cell_type": "code",
   "execution_count": 7,
   "id": "bcd60d95",
   "metadata": {},
   "outputs": [
    {
     "data": {
      "text/plain": [
       "0    0.2300\n",
       "1    0.2300\n",
       "2    0.2300\n",
       "3    0.2300\n",
       "4    0.2300\n",
       "5    0.2300\n",
       "6    0.0001\n",
       "7    0.0001\n",
       "8    0.0001\n",
       "Name: IonotropicSynapse_gS, dtype: float64"
      ]
     },
     "execution_count": 7,
     "metadata": {},
     "output_type": "execute_result"
    }
   ],
   "source": [
    "net.edges.IonotropicSynapse_gS"
   ]
  },
  {
   "cell_type": "markdown",
   "id": "4eab6004",
   "metadata": {},
   "source": [
    "Indeed, the first six synapses now have the value `0.23`! Let's look at the individual lines to understand how this worked:"
   ]
  },
  {
   "cell_type": "markdown",
   "id": "a05bfa60",
   "metadata": {},
   "source": [
    "We want to set parameter by cell index. However, by default, the pre- or post-synaptic cell-indices are not listed in `net.edges`. We can add the cell index to the `.edges` dataframe by calling `.copy_node_property_to_edges()`:\n",
    "```python\n",
    "net.copy_node_property_to_edges(\"global_cell_index\")\n",
    "```"
   ]
  },
  {
   "cell_type": "markdown",
   "id": "09572528",
   "metadata": {},
   "source": [
    "After this, the pre- and post-synaptic cell indices are listed in `net.edges` as `pre_global_cell_index` and `post_global_cell_index`."
   ]
  },
  {
   "cell_type": "markdown",
   "id": "4c710e44",
   "metadata": {},
   "source": [
    "Next, we take `.edges`, which is a [pandas DataFrame](https://pandas.pydata.org/docs/reference/api/pandas.DataFrame.html):\n",
    "```python\n",
    "df = net.edges\n",
    "```"
   ]
  },
  {
   "cell_type": "markdown",
   "id": "24c7f242",
   "metadata": {},
   "source": [
    "We then modify this DataFrame to only contain those rows where the global cell index is in 0 or 1:\n",
    "```python\n",
    "df = df.query(\"pre_global_cell_index in [0, 1]\")\n",
    "```"
   ]
  },
  {
   "cell_type": "markdown",
   "id": "0c0ee839",
   "metadata": {},
   "source": [
    "For the above step, you use any column of the DataFrame to filter it (you can see all columns with `df.columns`). Note that, while we used `.query()` here, you can really filter the pandas DataFrame however you want. For example, the `query` above is identical to `df = df[df[\"pre_global_cell_index\"].isin([0, 1])]`.\n",
    "\n",
    "Finally, we use the `.select()` method, which returns a subset of the `Network` at the specified indices. This subset of the network can be modified with `.set()`:\n",
    "```python\n",
    "net.select(edges=df.index).set(\"IonotropicSynapse_gS\", 0.23)\n",
    "```"
   ]
  },
  {
   "cell_type": "markdown",
   "id": "7a2db8c6",
   "metadata": {},
   "source": [
    "### Example 2: Setting parameters given pre- and post-synaptic cell indices"
   ]
  },
  {
   "cell_type": "markdown",
   "id": "33a79f6d",
   "metadata": {},
   "source": [
    "Say you want to select all synapses that have cells 1 or 2 as presynaptic neuron and cell 4 or 5 as postsynaptic neuron."
   ]
  },
  {
   "cell_type": "code",
   "execution_count": 8,
   "id": "343a5bb6",
   "metadata": {},
   "outputs": [],
   "source": [
    "net = jx.Network([cell for _ in range(6)])\n",
    "fully_connect(net.cell([0, 1, 2]), net.cell([3, 4, 5]), IonotropicSynapse())"
   ]
  },
  {
   "cell_type": "markdown",
   "id": "9bd83ab7",
   "metadata": {},
   "source": [
    "Just like before, we can simply use `.query()` as already shown above. However, this time, call `.query()` to twice to filter by pre- and post-synaptic cell indices:"
   ]
  },
  {
   "cell_type": "code",
   "execution_count": 9,
   "id": "34855241",
   "metadata": {},
   "outputs": [],
   "source": [
    "net.copy_node_property_to_edges(\"global_cell_index\")\n",
    "\n",
    "df = net.edges\n",
    "df = df.query(\"pre_global_cell_index in [1, 2]\")\n",
    "df = df.query(\"post_global_cell_index in [4, 5]\")\n",
    "net.select(edges=df.index).set(\"IonotropicSynapse_gS\", 0.3)"
   ]
  },
  {
   "cell_type": "code",
   "execution_count": 10,
   "id": "58514a0f",
   "metadata": {},
   "outputs": [
    {
     "data": {
      "text/plain": [
       "0    0.0001\n",
       "1    0.0001\n",
       "2    0.0001\n",
       "3    0.0001\n",
       "4    0.3000\n",
       "5    0.3000\n",
       "6    0.0001\n",
       "7    0.3000\n",
       "8    0.3000\n",
       "Name: IonotropicSynapse_gS, dtype: float64"
      ]
     },
     "execution_count": 10,
     "metadata": {},
     "output_type": "execute_result"
    }
   ],
   "source": [
    "net.edges.IonotropicSynapse_gS"
   ]
  },
  {
   "cell_type": "markdown",
   "id": "9fa849be",
   "metadata": {},
   "source": [
    "### Example 3: Applying this strategy to cell level parameters"
   ]
  },
  {
   "cell_type": "markdown",
   "id": "fe6be17f",
   "metadata": {},
   "source": [
    "You had previously seen that you can modify parameters with, e.g., `net.cell(0).set(...)`. However, if you need more flexibility than this, you can also use the above strategy to modify cell-level parameters:"
   ]
  },
  {
   "cell_type": "code",
   "execution_count": 11,
   "id": "5945b258",
   "metadata": {},
   "outputs": [],
   "source": [
    "net = jx.Network([cell for _ in range(6)])\n",
    "fully_connect(net.cell([0, 1, 2]), net.cell([3, 4, 5]), IonotropicSynapse())\n",
    "\n",
    "df = net.nodes\n",
    "df = df.query(\"global_cell_index in [0, 1]\")\n",
    "net.select(nodes=df.index).set(\"radius\", 0.1)"
   ]
  },
  {
   "cell_type": "markdown",
   "id": "ea91ca1e",
   "metadata": {},
   "source": [
    "### Example 4: Flexibly setting parameters based on their `groups`"
   ]
  },
  {
   "cell_type": "markdown",
   "id": "b8785888",
   "metadata": {},
   "source": [
    "If you are using groups, as shown in [this tutorial](https://jaxley.readthedocs.io/en/latest/tutorials/06_groups.html), then you can also use this for querying synapses. To demonstrate this, let's create a group of excitatory neurons (e.g., cells 0, 3, 5):"
   ]
  },
  {
   "cell_type": "code",
   "execution_count": 12,
   "id": "073c2612",
   "metadata": {},
   "outputs": [],
   "source": [
    "# Redefine network.\n",
    "net = jx.Network([cell for _ in range(6)])\n",
    "fully_connect(net.cell([0, 1, 2]), net.cell([3, 4, 5]), IonotropicSynapse())\n",
    "\n",
    "net.cell([0, 3, 5]).add_to_group(\"exc\")"
   ]
  },
  {
   "cell_type": "markdown",
   "id": "57b9343a",
   "metadata": {},
   "source": [
    "Now, say we want all synapses that start from these excitatory neurons. You can do this as follows:"
   ]
  },
  {
   "cell_type": "code",
   "execution_count": 13,
   "id": "6be209b1",
   "metadata": {},
   "outputs": [],
   "source": [
    "# First, we have to identify which cells are in the `exc` group.\n",
    "indices_of_excitatory_cells = net.exc.nodes[\"global_cell_index\"].unique().tolist()  # [0, 3, 5]\n",
    "\n",
    "# Then we can proceed as before:\n",
    "net.copy_node_property_to_edges(\"global_cell_index\")\n",
    "df = net.edges\n",
    "df = df.query(f\"pre_global_cell_index in {indices_of_excitatory_cells}\")\n",
    "net.select(edges=df.index).set(\"IonotropicSynapse_gS\", 0.4)"
   ]
  },
  {
   "cell_type": "markdown",
   "id": "3fd67f11",
   "metadata": {},
   "source": [
    "### Example 5: Setting synaptic parameters based on properties of the presynaptic cell"
   ]
  },
  {
   "cell_type": "markdown",
   "id": "223b04e2",
   "metadata": {},
   "source": [
    "Let's discuss one more example: Imagine we only want to modify those synapses whose presynaptic compartment has a sodium channel. Let's first add a sodium channel to some of the cells:"
   ]
  },
  {
   "cell_type": "code",
   "execution_count": 14,
   "id": "ff757547",
   "metadata": {},
   "outputs": [],
   "source": [
    "net = jx.Network([cell for _ in range(6)])\n",
    "fully_connect(net.cell([0, 1, 2]), net.cell([3, 4, 5]), IonotropicSynapse())\n",
    "\n",
    "net.cell(0).branch(0).comp(0).insert(Na())\n",
    "net.cell(2).branch(1).comp(1).insert(Na())"
   ]
  },
  {
   "cell_type": "markdown",
   "id": "1481d591",
   "metadata": {},
   "source": [
    "Now, let us query which cells have the desired synapses:"
   ]
  },
  {
   "cell_type": "code",
   "execution_count": 15,
   "id": "84520493",
   "metadata": {},
   "outputs": [],
   "source": [
    "df = net.nodes\n",
    "df = df.query(\"Na\")\n",
    "indices_of_sodium_compartments = df[\"global_comp_index\"].unique().tolist()"
   ]
  },
  {
   "cell_type": "markdown",
   "id": "e22b558c",
   "metadata": {},
   "source": [
    "`indices_of_sodium_compartments` lists all compartments which contained sodium:"
   ]
  },
  {
   "cell_type": "code",
   "execution_count": 16,
   "id": "b8f35873",
   "metadata": {},
   "outputs": [
    {
     "name": "stdout",
     "output_type": "stream",
     "text": [
      "[0, 11]\n"
     ]
    }
   ],
   "source": [
    "print(indices_of_sodium_compartments)"
   ]
  },
  {
   "cell_type": "markdown",
   "id": "40274381",
   "metadata": {},
   "source": [
    "Then, we can proceed as always and filter for the global pre-synaptic **compartment** index:"
   ]
  },
  {
   "cell_type": "code",
   "execution_count": 18,
   "id": "bda373bc",
   "metadata": {},
   "outputs": [],
   "source": [
    "df = net.edges\n",
    "df = df.query(f\"pre_global_comp_index in {indices_of_sodium_compartments}\")\n",
    "net.select(edges=df.index).set(\"IonotropicSynapse_gS\", 0.6)"
   ]
  },
  {
   "cell_type": "code",
   "execution_count": 19,
   "id": "c1fcf3dc",
   "metadata": {},
   "outputs": [
    {
     "data": {
      "text/plain": [
       "0    0.6000\n",
       "1    0.6000\n",
       "2    0.6000\n",
       "3    0.0001\n",
       "4    0.0001\n",
       "5    0.0001\n",
       "6    0.0001\n",
       "7    0.0001\n",
       "8    0.0001\n",
       "Name: IonotropicSynapse_gS, dtype: float64"
      ]
     },
     "execution_count": 19,
     "metadata": {},
     "output_type": "execute_result"
    }
   ],
   "source": [
    "net.edges.IonotropicSynapse_gS"
   ]
  },
  {
   "cell_type": "markdown",
   "id": "f111f537",
   "metadata": {},
   "source": [
    "Indeed, only synapses coming from the first neuron were modified (as its presynaptic compartment contained sodium), in contrast to synapses from neuron 2 (whose presynaptic compartment did not)."
   ]
  },
  {
   "cell_type": "markdown",
   "id": "b7872d80",
   "metadata": {},
   "source": [
    "### Summary\n",
    "\n",
    "In this tutorial, you learned how to fully customize your `Jaxley` simulation. This works by querying rows from the `.edges` DataFrame."
   ]
  }
 ],
 "metadata": {
  "kernelspec": {
   "display_name": "Python 3 (ipykernel)",
   "language": "python",
   "name": "python3"
  },
  "language_info": {
   "codemirror_mode": {
    "name": "ipython",
    "version": 3
   },
   "file_extension": ".py",
   "mimetype": "text/x-python",
   "name": "python",
   "nbconvert_exporter": "python",
   "pygments_lexer": "ipython3",
   "version": "3.12.4"
  }
 },
 "nbformat": 4,
 "nbformat_minor": 5
}
