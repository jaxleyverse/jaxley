{
 "cells": [
  {
   "cell_type": "markdown",
   "id": "cccba774",
   "metadata": {},
   "source": [
    "# Customizing synaptic parameters"
   ]
  },
  {
   "cell_type": "markdown",
   "id": "5e77930a",
   "metadata": {},
   "source": [
    "In this tutorial, you will learn how to:\n",
    "\n",
    "- use the `select()` method to fully customize network simulations with `Jaxley`.  \n",
    "- use the `copy_node_property_to_edges()` method to flexibly modify synapses.  \n",
    "\n",
    "Here is a code snippet which you will learn to understand in this tutorial:\n",
    "```python\n",
    "net = ...  # See tutorial on Basics of Jaxley.\n",
    "\n",
    "# Set synaptic conductance of the synapse with index 0 and 1.\n",
    "net.select(edges=[0, 1]).set(\"Ionotropic_gS\", 0.1)\n",
    "\n",
    "# Set synaptic conductance of all synapses that have cells 3 or 4 as presynaptic neuron.\n",
    "net.copy_node_property_to_edges(\"global_cell_index\")\n",
    "df = net.edges\n",
    "df = df.query(\"pre_global_cell_index in [3, 4]\")\n",
    "net.select(edges=df.index).set(\"Ionotropic_gS\", 0.2)\n",
    "\n",
    "# Set synaptic conductance of all synapses that\n",
    "# 1) have cells 2 or 3 as presynaptic neuron and\n",
    "# 2) has cell 5 as postsynaptic neuron\n",
    "df = net.edges\n",
    "df = df.query(\"pre_global_cell_index in [2, 3]\")\n",
    "df = df.query(\"post_global_cell_index == 5\")\n",
    "net.select(edges=df.index).set(\"Ionotropic_gS\", 0.3)\n",
    "```"
   ]
  },
  {
   "cell_type": "markdown",
   "id": "c67e4a61",
   "metadata": {},
   "source": [
    "In a [previous tutorial](https://jaxley.readthedocs.io/en/latest/tutorials/03_setting_parameters.html) you learned how to set parameters of a `jx.Cell` or `jx.Network`. In that tutorial, we briefly mentioned the `select()` method which allowed to set individual synapses to particular values. In this tutorial, we will go into detail in how you can fully customize your `Jaxley` simulation.\n",
    "\n",
    "Let's go!"
   ]
  },
  {
   "cell_type": "code",
   "execution_count": 1,
   "id": "baafd10a",
   "metadata": {
    "tags": []
   },
   "outputs": [],
   "source": [
    "import jaxley as jx\n",
    "from jaxley.channels import Na, K, Leak\n",
    "from jaxley.connect import fully_connect\n",
    "from jaxley.synapses import IonotropicSynapse"
   ]
  },
  {
   "cell_type": "markdown",
   "id": "97f4c174",
   "metadata": {},
   "source": [
    "### Preface: Building the network\n",
    "\n",
    "We first build a network consisting of six neurons, in the same way as we showed in the previous tutorials:"
   ]
  },
  {
   "cell_type": "code",
   "execution_count": 2,
   "id": "9240cb5a",
   "metadata": {
    "tags": []
   },
   "outputs": [],
   "source": [
    "dt = 0.025\n",
    "t_max = 10.0\n",
    "\n",
    "comp = jx.Compartment()\n",
    "branch = jx.Branch(comp, nseg=2)\n",
    "cell = jx.Cell(branch, parents=[-1, 0])\n",
    "net = jx.Network([cell for _ in range(6)])\n",
    "fully_connect(net.cell([0, 1, 2]), net.cell([3, 4, 5]), IonotropicSynapse())"
   ]
  },
  {
   "cell_type": "markdown",
   "id": "5fefa4ac",
   "metadata": {},
   "source": [
    "### Setting individual synapse parameters\n",
    "\n",
    "As always, you can use the `.edges` table to inspect synaptic parameters of the network:"
   ]
  },
  {
   "cell_type": "code",
   "execution_count": 3,
   "id": "d85e300f",
   "metadata": {
    "tags": []
   },
   "outputs": [
    {
     "data": {
      "text/html": [
       "<div>\n",
       "<style scoped>\n",
       "    .dataframe tbody tr th:only-of-type {\n",
       "        vertical-align: middle;\n",
       "    }\n",
       "\n",
       "    .dataframe tbody tr th {\n",
       "        vertical-align: top;\n",
       "    }\n",
       "\n",
       "    .dataframe thead th {\n",
       "        text-align: right;\n",
       "    }\n",
       "</style>\n",
       "<table border=\"1\" class=\"dataframe\">\n",
       "  <thead>\n",
       "    <tr style=\"text-align: right;\">\n",
       "      <th></th>\n",
       "      <th>pre_locs</th>\n",
       "      <th>post_locs</th>\n",
       "      <th>pre_branch_index</th>\n",
       "      <th>post_branch_index</th>\n",
       "      <th>pre_cell_index</th>\n",
       "      <th>post_cell_index</th>\n",
       "      <th>type</th>\n",
       "      <th>type_ind</th>\n",
       "      <th>global_pre_comp_index</th>\n",
       "      <th>global_post_comp_index</th>\n",
       "      <th>global_pre_branch_index</th>\n",
       "      <th>global_post_branch_index</th>\n",
       "      <th>IonotropicSynapse_gS</th>\n",
       "      <th>IonotropicSynapse_e_syn</th>\n",
       "      <th>IonotropicSynapse_k_minus</th>\n",
       "      <th>IonotropicSynapse_s</th>\n",
       "    </tr>\n",
       "  </thead>\n",
       "  <tbody>\n",
       "    <tr>\n",
       "      <th>0</th>\n",
       "      <td>0.25</td>\n",
       "      <td>0.75</td>\n",
       "      <td>0</td>\n",
       "      <td>1</td>\n",
       "      <td>0</td>\n",
       "      <td>3</td>\n",
       "      <td>IonotropicSynapse</td>\n",
       "      <td>0</td>\n",
       "      <td>0</td>\n",
       "      <td>15</td>\n",
       "      <td>0</td>\n",
       "      <td>7</td>\n",
       "      <td>0.0001</td>\n",
       "      <td>0.0</td>\n",
       "      <td>0.025</td>\n",
       "      <td>0.2</td>\n",
       "    </tr>\n",
       "    <tr>\n",
       "      <th>1</th>\n",
       "      <td>0.25</td>\n",
       "      <td>0.25</td>\n",
       "      <td>0</td>\n",
       "      <td>1</td>\n",
       "      <td>0</td>\n",
       "      <td>4</td>\n",
       "      <td>IonotropicSynapse</td>\n",
       "      <td>0</td>\n",
       "      <td>0</td>\n",
       "      <td>18</td>\n",
       "      <td>0</td>\n",
       "      <td>9</td>\n",
       "      <td>0.0001</td>\n",
       "      <td>0.0</td>\n",
       "      <td>0.025</td>\n",
       "      <td>0.2</td>\n",
       "    </tr>\n",
       "    <tr>\n",
       "      <th>2</th>\n",
       "      <td>0.25</td>\n",
       "      <td>0.75</td>\n",
       "      <td>0</td>\n",
       "      <td>1</td>\n",
       "      <td>0</td>\n",
       "      <td>5</td>\n",
       "      <td>IonotropicSynapse</td>\n",
       "      <td>0</td>\n",
       "      <td>0</td>\n",
       "      <td>23</td>\n",
       "      <td>0</td>\n",
       "      <td>11</td>\n",
       "      <td>0.0001</td>\n",
       "      <td>0.0</td>\n",
       "      <td>0.025</td>\n",
       "      <td>0.2</td>\n",
       "    </tr>\n",
       "    <tr>\n",
       "      <th>3</th>\n",
       "      <td>0.25</td>\n",
       "      <td>0.75</td>\n",
       "      <td>0</td>\n",
       "      <td>0</td>\n",
       "      <td>1</td>\n",
       "      <td>3</td>\n",
       "      <td>IonotropicSynapse</td>\n",
       "      <td>0</td>\n",
       "      <td>4</td>\n",
       "      <td>13</td>\n",
       "      <td>2</td>\n",
       "      <td>6</td>\n",
       "      <td>0.0001</td>\n",
       "      <td>0.0</td>\n",
       "      <td>0.025</td>\n",
       "      <td>0.2</td>\n",
       "    </tr>\n",
       "    <tr>\n",
       "      <th>4</th>\n",
       "      <td>0.25</td>\n",
       "      <td>0.75</td>\n",
       "      <td>0</td>\n",
       "      <td>0</td>\n",
       "      <td>1</td>\n",
       "      <td>4</td>\n",
       "      <td>IonotropicSynapse</td>\n",
       "      <td>0</td>\n",
       "      <td>4</td>\n",
       "      <td>17</td>\n",
       "      <td>2</td>\n",
       "      <td>8</td>\n",
       "      <td>0.0001</td>\n",
       "      <td>0.0</td>\n",
       "      <td>0.025</td>\n",
       "      <td>0.2</td>\n",
       "    </tr>\n",
       "    <tr>\n",
       "      <th>5</th>\n",
       "      <td>0.25</td>\n",
       "      <td>0.75</td>\n",
       "      <td>0</td>\n",
       "      <td>1</td>\n",
       "      <td>1</td>\n",
       "      <td>5</td>\n",
       "      <td>IonotropicSynapse</td>\n",
       "      <td>0</td>\n",
       "      <td>4</td>\n",
       "      <td>23</td>\n",
       "      <td>2</td>\n",
       "      <td>11</td>\n",
       "      <td>0.0001</td>\n",
       "      <td>0.0</td>\n",
       "      <td>0.025</td>\n",
       "      <td>0.2</td>\n",
       "    </tr>\n",
       "    <tr>\n",
       "      <th>6</th>\n",
       "      <td>0.25</td>\n",
       "      <td>0.25</td>\n",
       "      <td>0</td>\n",
       "      <td>0</td>\n",
       "      <td>2</td>\n",
       "      <td>3</td>\n",
       "      <td>IonotropicSynapse</td>\n",
       "      <td>0</td>\n",
       "      <td>8</td>\n",
       "      <td>12</td>\n",
       "      <td>4</td>\n",
       "      <td>6</td>\n",
       "      <td>0.0001</td>\n",
       "      <td>0.0</td>\n",
       "      <td>0.025</td>\n",
       "      <td>0.2</td>\n",
       "    </tr>\n",
       "    <tr>\n",
       "      <th>7</th>\n",
       "      <td>0.25</td>\n",
       "      <td>0.25</td>\n",
       "      <td>0</td>\n",
       "      <td>0</td>\n",
       "      <td>2</td>\n",
       "      <td>4</td>\n",
       "      <td>IonotropicSynapse</td>\n",
       "      <td>0</td>\n",
       "      <td>8</td>\n",
       "      <td>16</td>\n",
       "      <td>4</td>\n",
       "      <td>8</td>\n",
       "      <td>0.0001</td>\n",
       "      <td>0.0</td>\n",
       "      <td>0.025</td>\n",
       "      <td>0.2</td>\n",
       "    </tr>\n",
       "    <tr>\n",
       "      <th>8</th>\n",
       "      <td>0.25</td>\n",
       "      <td>0.75</td>\n",
       "      <td>0</td>\n",
       "      <td>1</td>\n",
       "      <td>2</td>\n",
       "      <td>5</td>\n",
       "      <td>IonotropicSynapse</td>\n",
       "      <td>0</td>\n",
       "      <td>8</td>\n",
       "      <td>23</td>\n",
       "      <td>4</td>\n",
       "      <td>11</td>\n",
       "      <td>0.0001</td>\n",
       "      <td>0.0</td>\n",
       "      <td>0.025</td>\n",
       "      <td>0.2</td>\n",
       "    </tr>\n",
       "  </tbody>\n",
       "</table>\n",
       "</div>"
      ],
      "text/plain": [
       "   pre_locs  post_locs  pre_branch_index  post_branch_index  pre_cell_index  \\\n",
       "0      0.25       0.75                 0                  1               0   \n",
       "1      0.25       0.25                 0                  1               0   \n",
       "2      0.25       0.75                 0                  1               0   \n",
       "3      0.25       0.75                 0                  0               1   \n",
       "4      0.25       0.75                 0                  0               1   \n",
       "5      0.25       0.75                 0                  1               1   \n",
       "6      0.25       0.25                 0                  0               2   \n",
       "7      0.25       0.25                 0                  0               2   \n",
       "8      0.25       0.75                 0                  1               2   \n",
       "\n",
       "   post_cell_index               type  type_ind  global_pre_comp_index  \\\n",
       "0                3  IonotropicSynapse         0                      0   \n",
       "1                4  IonotropicSynapse         0                      0   \n",
       "2                5  IonotropicSynapse         0                      0   \n",
       "3                3  IonotropicSynapse         0                      4   \n",
       "4                4  IonotropicSynapse         0                      4   \n",
       "5                5  IonotropicSynapse         0                      4   \n",
       "6                3  IonotropicSynapse         0                      8   \n",
       "7                4  IonotropicSynapse         0                      8   \n",
       "8                5  IonotropicSynapse         0                      8   \n",
       "\n",
       "   global_post_comp_index  global_pre_branch_index  global_post_branch_index  \\\n",
       "0                      15                        0                         7   \n",
       "1                      18                        0                         9   \n",
       "2                      23                        0                        11   \n",
       "3                      13                        2                         6   \n",
       "4                      17                        2                         8   \n",
       "5                      23                        2                        11   \n",
       "6                      12                        4                         6   \n",
       "7                      16                        4                         8   \n",
       "8                      23                        4                        11   \n",
       "\n",
       "   IonotropicSynapse_gS  IonotropicSynapse_e_syn  IonotropicSynapse_k_minus  \\\n",
       "0                0.0001                      0.0                      0.025   \n",
       "1                0.0001                      0.0                      0.025   \n",
       "2                0.0001                      0.0                      0.025   \n",
       "3                0.0001                      0.0                      0.025   \n",
       "4                0.0001                      0.0                      0.025   \n",
       "5                0.0001                      0.0                      0.025   \n",
       "6                0.0001                      0.0                      0.025   \n",
       "7                0.0001                      0.0                      0.025   \n",
       "8                0.0001                      0.0                      0.025   \n",
       "\n",
       "   IonotropicSynapse_s  \n",
       "0                  0.2  \n",
       "1                  0.2  \n",
       "2                  0.2  \n",
       "3                  0.2  \n",
       "4                  0.2  \n",
       "5                  0.2  \n",
       "6                  0.2  \n",
       "7                  0.2  \n",
       "8                  0.2  "
      ]
     },
     "execution_count": 3,
     "metadata": {},
     "output_type": "execute_result"
    }
   ],
   "source": [
    "net.edges"
   ]
  },
  {
   "cell_type": "markdown",
   "id": "bacd6c24",
   "metadata": {},
   "source": [
    "This table has nine rows, each corresponding to one synapse. This makes sense because we fully connected three neurons (0, 1, 2) to three other neurons (3, 4, 5), giving a total of `3x3=9` synapses.\n",
    "\n",
    "You can modify parameters of individual synapses as follows:"
   ]
  },
  {
   "cell_type": "code",
   "execution_count": 4,
   "id": "9c64cf6a",
   "metadata": {},
   "outputs": [],
   "source": [
    "net.select(edges=[3, 4, 5]).set(\"IonotropicSynapse_gS\", 0.2)"
   ]
  },
  {
   "cell_type": "markdown",
   "id": "deb6a604",
   "metadata": {},
   "source": [
    "Above, we are modifying the synapses with indices `[3, 4, 5]` (i.e., the indices of the `net.edges` DataFrame). The resulting values are indeed changed:"
   ]
  },
  {
   "cell_type": "code",
   "execution_count": 5,
   "id": "edb9457a",
   "metadata": {},
   "outputs": [
    {
     "data": {
      "text/plain": [
       "0    0.0001\n",
       "1    0.0001\n",
       "2    0.0001\n",
       "3    0.2000\n",
       "4    0.2000\n",
       "5    0.2000\n",
       "6    0.0001\n",
       "7    0.0001\n",
       "8    0.0001\n",
       "Name: IonotropicSynapse_gS, dtype: float64"
      ]
     },
     "execution_count": 5,
     "metadata": {},
     "output_type": "execute_result"
    }
   ],
   "source": [
    "net.edges.IonotropicSynapse_gS"
   ]
  },
  {
   "cell_type": "markdown",
   "id": "0a42bd0e",
   "metadata": {},
   "source": [
    "### Example 1: Setting synaptic parameters which connect particular neurons"
   ]
  },
  {
   "cell_type": "markdown",
   "id": "e6d948f0",
   "metadata": {},
   "source": [
    "This is great, but setting synaptic parameters just by their index can be exhausting, in particular in very large networks. Instead, we would want to, for example, set the maximal conductance of all synapses that connect from cell 0 or 1 to any other neuron.\n",
    "\n",
    "In `Jaxley`, such customization can be achieved by filtering the `.edges` dataframe accordingly, as shown below:"
   ]
  },
  {
   "cell_type": "code",
   "execution_count": 6,
   "id": "dbc0a6d6",
   "metadata": {},
   "outputs": [],
   "source": [
    "net = jx.Network([cell for _ in range(6)])\n",
    "fully_connect(net.cell([0, 1, 2]), net.cell([3, 4, 5]), IonotropicSynapse())\n",
    "\n",
    "net.copy_node_property_to_edges(\"global_cell_index\")\n",
    "df = net.edges\n",
    "df = df.query(\"pre_global_cell_index in [0, 1]\")\n",
    "net.select(edges=df.index).set(\"IonotropicSynapse_gS\", 0.23)"
   ]
  },
  {
   "cell_type": "code",
   "execution_count": 7,
   "id": "4020e781",
   "metadata": {},
   "outputs": [
    {
     "data": {
      "text/plain": [
       "0    0.2300\n",
       "1    0.2300\n",
       "2    0.2300\n",
       "3    0.2300\n",
       "4    0.2300\n",
       "5    0.2300\n",
       "6    0.0001\n",
       "7    0.0001\n",
       "8    0.0001\n",
       "Name: IonotropicSynapse_gS, dtype: float64"
      ]
     },
     "execution_count": 7,
     "metadata": {},
     "output_type": "execute_result"
    }
   ],
   "source": [
    "net.edges.IonotropicSynapse_gS"
   ]
  },
  {
   "cell_type": "markdown",
   "id": "173bab00",
   "metadata": {},
   "source": [
    "Indeed, the first six synapses now have the value `0.23`! Let's look at the individual lines to understand how this worked:"
   ]
  },
  {
   "cell_type": "markdown",
   "id": "9ad29af6",
   "metadata": {},
   "source": [
    "We want to set parameter by cell index. However, by default, the pre- or post-synaptic cell-indices are not listed in `net.edges`. We can add the cell index to the `.edges` dataframe by calling `.copy_node_property_to_edges()`:\n",
    "```python\n",
    "net.copy_node_property_to_edges(\"global_cell_index\")\n",
    "```"
   ]
  },
  {
   "cell_type": "markdown",
   "id": "1a557a93",
   "metadata": {},
   "source": [
    "After this, the pre- and post-synaptic cell indices are listed in `net.edges` as `pre_global_cell_index` and `post_global_cell_index`."
   ]
  },
  {
   "cell_type": "markdown",
   "id": "ee89312f",
   "metadata": {},
   "source": [
    "Next, we take `.edges`, which is a [pandas DataFrame](https://pandas.pydata.org/docs/reference/api/pandas.DataFrame.html):\n",
    "```python\n",
    "df = net.edges\n",
    "```"
   ]
  },
  {
   "cell_type": "markdown",
   "id": "01e7920c",
   "metadata": {},
   "source": [
    "We then modify this DataFrame to only contain those rows where the global cell index is in 0 or 1:\n",
    "```python\n",
    "df = df.query(\"pre_global_cell_index in [0, 1]\")\n",
    "```"
   ]
  },
  {
   "cell_type": "markdown",
   "id": "1d5e0c96",
   "metadata": {},
   "source": [
    "For the above step, you use any column of the DataFrame to filter it (you can see all columns with `df.columns`). Note that, while we used `.query()` here, you can really filter the pandas DataFrame however you want. For example, the `query` above is identical to `df = df[df[\"global_pre_cell_index\"].isin([0, 1])]`.\n",
    "\n",
    "Finally, we use the `.select()` method, which returns a subset of the `Network` at the specified indices. This subset of the network can be modified with `.set()`:\n",
    "```python\n",
    "net.select(edges=df.index).set(\"IonotropicSynapse_gS\", 0.23)\n",
    "```"
   ]
  },
  {
   "cell_type": "markdown",
   "id": "87cce3f1",
   "metadata": {},
   "source": [
    "### Example 2: Setting parameters given pre- and post-synaptic cell indices"
   ]
  },
  {
   "cell_type": "markdown",
   "id": "c8c0c04f",
   "metadata": {},
   "source": [
    "Say you want to select all synapses that have cells 1 or 2 as presynaptic neuron and cell 4 or 5 as postsynaptic neuron."
   ]
  },
  {
   "cell_type": "code",
   "execution_count": 8,
   "id": "ea0b241a",
   "metadata": {},
   "outputs": [],
   "source": [
    "net = jx.Network([cell for _ in range(6)])\n",
    "fully_connect(net.cell([0, 1, 2]), net.cell([3, 4, 5]), IonotropicSynapse())"
   ]
  },
  {
   "cell_type": "markdown",
   "id": "5456ab17",
   "metadata": {},
   "source": [
    "Just like before, we can simply use `.query()` as already shown above. However, this time, call `.query()` to twice to filter by pre- and post-synaptic cell indices:"
   ]
  },
  {
   "cell_type": "code",
   "execution_count": 9,
   "id": "fe3d95fe",
   "metadata": {},
   "outputs": [],
   "source": [
    "net.copy_node_property_to_edges(\"global_cell_index\")\n",
    "\n",
    "df = net.edges\n",
    "df = df.query(\"pre_global_cell_index in [1, 2]\")\n",
    "df = df.query(\"post_global_cell_index in [4, 5]\")\n",
    "net.select(edges=df.index).set(\"IonotropicSynapse_gS\", 0.3)"
   ]
  },
  {
   "cell_type": "code",
   "execution_count": 10,
   "id": "4fa434b9",
   "metadata": {},
   "outputs": [
    {
     "data": {
      "text/plain": [
       "0    0.0001\n",
       "1    0.0001\n",
       "2    0.0001\n",
       "3    0.0001\n",
       "4    0.3000\n",
       "5    0.3000\n",
       "6    0.0001\n",
       "7    0.3000\n",
       "8    0.3000\n",
       "Name: IonotropicSynapse_gS, dtype: float64"
      ]
     },
     "execution_count": 10,
     "metadata": {},
     "output_type": "execute_result"
    }
   ],
   "source": [
    "net.edges.IonotropicSynapse_gS"
   ]
  },
  {
   "cell_type": "markdown",
   "id": "11778d87",
   "metadata": {},
   "source": [
    "### Example 3: Applying this strategy to cell level parameters"
   ]
  },
  {
   "cell_type": "markdown",
   "id": "95357091",
   "metadata": {},
   "source": [
    "You had previously seen that you can modify parameters with, e.g., `net.cell(0).set(...)`. However, if you need more flexibility than this, you can also use the above strategy to modify cell-level parameters:"
   ]
  },
  {
   "cell_type": "code",
   "execution_count": 11,
   "id": "f2f6ba44",
   "metadata": {},
   "outputs": [],
   "source": [
    "net = jx.Network([cell for _ in range(6)])\n",
    "fully_connect(net.cell([0, 1, 2]), net.cell([3, 4, 5]), IonotropicSynapse())\n",
    "\n",
    "df = net.nodes\n",
    "df = df.query(\"global_cell_index in [0, 1]\")\n",
    "net.select(nodes=df.index).set(\"radius\", 0.1)"
   ]
  },
  {
   "cell_type": "markdown",
   "id": "26dc46f1",
   "metadata": {},
   "source": [
    "### Example 4: Flexibly setting parameters based on their `groups`"
   ]
  },
  {
   "cell_type": "markdown",
   "id": "88bbff27",
   "metadata": {},
   "source": [
    "If you are using groups, as shown in [this tutorial](https://jaxley.readthedocs.io/en/latest/tutorials/06_groups.html), then you can also use this for querying synapses. To demonstrate this, let's create a group of excitatory neurons (e.g., cells 0, 3, 5):"
   ]
  },
  {
   "cell_type": "code",
   "execution_count": 12,
   "id": "f34d907f",
   "metadata": {},
   "outputs": [],
   "source": [
    "# Redefine network.\n",
    "net = jx.Network([cell for _ in range(6)])\n",
    "fully_connect(net.cell([0, 1, 2]), net.cell([3, 4, 5]), IonotropicSynapse())\n",
    "\n",
    "net.cell([0, 3, 5]).add_to_group(\"exc\")"
   ]
  },
  {
   "cell_type": "markdown",
   "id": "9ae53276",
   "metadata": {},
   "source": [
    "Now, say we want all synapses that start from these excitatory neurons. You can do this as follows:"
   ]
  },
  {
   "cell_type": "code",
   "execution_count": 13,
   "id": "ce76a0c1",
   "metadata": {},
   "outputs": [],
   "source": [
    "# First, we have to identify which cells are in the `exc` group.\n",
    "indices_of_excitatory_cells = net.exc.nodes[\"global_cell_index\"].unique().tolist()  # [0, 3, 5]\n",
    "\n",
    "# Then we can proceed as before:\n",
    "net.copy_node_property_to_edges(\"global_cell_index\")\n",
    "df = net.edges\n",
    "df = df.query(f\"pre_global_cell_index in {indices_of_excitatory_cells}\")\n",
    "net.select(edges=df.index).set(\"IonotropicSynapse_gS\", 0.4)"
   ]
  },
  {
   "cell_type": "markdown",
   "id": "6450fa6d",
   "metadata": {},
   "source": [
    "### Example 5: Setting synaptic parameters based on properties of the presynaptic cell"
   ]
  },
  {
   "cell_type": "markdown",
   "id": "72d76ba3",
   "metadata": {},
   "source": [
    "Let's discuss one more example: Imagine we only want to modify those synapses whose presynaptic compartment has a sodium channel. Let's first add a sodium channel to some of the cells:"
   ]
  },
  {
   "cell_type": "code",
   "execution_count": 14,
   "id": "a9560bf6",
   "metadata": {},
   "outputs": [],
   "source": [
    "net = jx.Network([cell for _ in range(6)])\n",
    "fully_connect(net.cell([0, 1, 2]), net.cell([3, 4, 5]), IonotropicSynapse())\n",
    "\n",
    "net.cell(0).branch(0).comp(0).insert(Na())\n",
    "net.cell(2).branch(1).comp(1).insert(Na())"
   ]
  },
  {
   "cell_type": "markdown",
   "id": "34550f32",
   "metadata": {},
   "source": [
    "Now, let us query which cells have the desired synapses:"
   ]
  },
  {
   "cell_type": "code",
   "execution_count": 15,
   "id": "374f377e",
   "metadata": {},
   "outputs": [],
   "source": [
    "df = net.nodes\n",
    "df = df.query(\"Na\")\n",
    "indices_of_sodium_compartments = df[\"global_comp_index\"].unique().tolist()"
   ]
  },
  {
   "cell_type": "markdown",
   "id": "08e7c2d0",
   "metadata": {},
   "source": [
    "`indices_of_sodium_compartments` lists all compartments which contained sodium:"
   ]
  },
  {
   "cell_type": "code",
   "execution_count": 16,
   "id": "b231ba68",
   "metadata": {},
   "outputs": [
    {
     "name": "stdout",
     "output_type": "stream",
     "text": [
      "[0, 11]\n"
     ]
    }
   ],
   "source": [
    "print(indices_of_sodium_compartments)"
   ]
  },
  {
   "cell_type": "markdown",
   "id": "16597e8d",
   "metadata": {},
   "source": [
    "Then, we can proceed as always and filter for the global pre-synaptic **compartment** index:"
   ]
  },
  {
   "cell_type": "code",
   "execution_count": 17,
   "id": "07a665f9",
   "metadata": {},
   "outputs": [],
   "source": [
    "df = net.edges\n",
    "df = df.query(f\"global_pre_comp_index in {indices_of_sodium_compartments}\")\n",
    "net.select(edges=df.index).set(\"IonotropicSynapse_gS\", 0.6)"
   ]
  },
  {
   "cell_type": "code",
   "execution_count": 18,
   "id": "64ed3c08",
   "metadata": {},
   "outputs": [
    {
     "data": {
      "text/plain": [
       "0    0.6000\n",
       "1    0.6000\n",
       "2    0.6000\n",
       "3    0.0001\n",
       "4    0.0001\n",
       "5    0.0001\n",
       "6    0.0001\n",
       "7    0.0001\n",
       "8    0.0001\n",
       "Name: IonotropicSynapse_gS, dtype: float64"
      ]
     },
     "execution_count": 18,
     "metadata": {},
     "output_type": "execute_result"
    }
   ],
   "source": [
    "net.edges.IonotropicSynapse_gS"
   ]
  },
  {
   "cell_type": "markdown",
   "id": "91d7819c",
   "metadata": {},
   "source": [
    "Indeed, only synapses coming from the first neuron were modified (as its presynaptic compartment contained sodium), in contrast to synapses from neuron 2 (whose presynaptic compartment did not)."
   ]
  },
  {
   "cell_type": "markdown",
   "id": "0371f357",
   "metadata": {},
   "source": [
    "### Summary\n",
    "\n",
    "In this tutorial, you learned how to fully customize your `Jaxley` simulation. This works by querying rows from the `.edges` DataFrame."
   ]
  }
 ],
 "metadata": {
  "kernelspec": {
   "display_name": "Python 3 (ipykernel)",
   "language": "python",
   "name": "python3"
  },
  "language_info": {
   "codemirror_mode": {
    "name": "ipython",
    "version": 3
   },
   "file_extension": ".py",
   "mimetype": "text/x-python",
   "name": "python",
   "nbconvert_exporter": "python",
   "pygments_lexer": "ipython3",
   "version": "3.12.4"
  }
 },
 "nbformat": 4,
 "nbformat_minor": 5
}
