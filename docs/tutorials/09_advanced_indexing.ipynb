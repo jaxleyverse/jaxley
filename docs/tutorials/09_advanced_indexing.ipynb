{
 "cells": [
  {
   "cell_type": "markdown",
   "id": "db9105f5",
   "metadata": {},
   "source": [
    "# Full customization of individual synapses"
   ]
  },
  {
   "cell_type": "markdown",
   "id": "934bd757",
   "metadata": {},
   "source": [
    "In this tutorial, you will learn how to:\n",
    "\n",
    "- use the `select()` method to fully customize network simulations with `Jaxley`  \n",
    "- find synapses that connect two neurons and change their parameters  \n",
    "\n",
    "Here is a code snippet which you will learn to understand in this tutorial:\n",
    "```python\n",
    "net = ...  # See tutorial on Basics of Jaxley.\n",
    "\n",
    "# Set synaptic conductance of the synapse 0 and 1.\n",
    "net.select(edges=[0, 1]).set(\"Ionotropic_gS\", 0.1)\n",
    "\n",
    "# Set synaptic conductance of all synapses that have cells 3 or 4 as presynaptic neuron.\n",
    "df = net.edges\n",
    "df = df[df[\"global_pre_cell_index\"].isin([3, 4])]\n",
    "net.select(edges=df.index).set(\"Ionotropic_gS\", 0.2)\n",
    "\n",
    "# Set synaptic conductance of all synapses that\n",
    "# 1) have cells 2 or 3 as presynaptic neuron and\n",
    "# 2) has cell 5 as postsynaptic neuron\n",
    "df = net.edges\n",
    "df = df[df[\"global_pre_cell_index\"].isin([2, 3])]\n",
    "df = df[df[\"global_post_cell_index\"] == 5]\n",
    "net.select(edges=df.index).set(\"Ionotropic_gS\", 0.3)\n",
    "```"
   ]
  },
  {
   "cell_type": "markdown",
   "id": "ff0197a6",
   "metadata": {},
   "source": [
    "In a [previous tutorial](https://jaxleyverse.github.io/jaxley/latest/tutorial/03_setting_parameters/) you learned how to set parameters of a `jx.Cell` or `jx.Network`. In that tutorial, we briefly mentioned the `select()` method which allowed to set individual synapses to particular values. In this tutorial, we will go into detail in how you can fully customize your `Jaxley` simulation.\n",
    "\n",
    "Let's go!"
   ]
  },
  {
   "cell_type": "code",
   "execution_count": 1,
   "id": "11673006",
   "metadata": {},
   "outputs": [],
   "source": [
    "import jaxley as jx\n",
    "from jaxley.channels import Na, K, Leak\n",
    "from jaxley.connect import fully_connect\n",
    "from jaxley.synapses import IonotropicSynapse"
   ]
  },
  {
   "cell_type": "markdown",
   "id": "bcac9a1d",
   "metadata": {},
   "source": [
    "### Preface: Building the network\n",
    "\n",
    "We first build a network consisting of six neurons, in the same way as we showed in the previous tutorials:"
   ]
  },
  {
   "cell_type": "code",
   "execution_count": 43,
   "id": "df806b06",
   "metadata": {},
   "outputs": [],
   "source": [
    "dt = 0.025\n",
    "t_max = 10.0\n",
    "\n",
    "comp = jx.Compartment()\n",
    "branch = jx.Branch(comp, nseg=2)\n",
    "cell = jx.Cell(branch, parents=[-1, 0])\n",
    "net = jx.Network([cell for _ in range(6)])\n",
    "fully_connect(net.cell([0, 1, 2]), net.cell([3, 4, 5]), IonotropicSynapse())"
   ]
  },
  {
   "cell_type": "markdown",
   "id": "527a315d",
   "metadata": {},
   "source": [
    "### Setting individual synapse parameters\n",
    "\n",
    "As always, you can use the `.edges` table to inspect synaptic parameters of the network:"
   ]
  },
  {
   "cell_type": "code",
   "execution_count": 44,
   "id": "287122d2",
   "metadata": {},
   "outputs": [
    {
     "data": {
      "text/html": [
       "<div>\n",
       "<style scoped>\n",
       "    .dataframe tbody tr th:only-of-type {\n",
       "        vertical-align: middle;\n",
       "    }\n",
       "\n",
       "    .dataframe tbody tr th {\n",
       "        vertical-align: top;\n",
       "    }\n",
       "\n",
       "    .dataframe thead th {\n",
       "        text-align: right;\n",
       "    }\n",
       "</style>\n",
       "<table border=\"1\" class=\"dataframe\">\n",
       "  <thead>\n",
       "    <tr style=\"text-align: right;\">\n",
       "      <th></th>\n",
       "      <th>global_edge_index</th>\n",
       "      <th>global_pre_comp_index</th>\n",
       "      <th>global_pre_branch_index</th>\n",
       "      <th>global_pre_cell_index</th>\n",
       "      <th>global_post_comp_index</th>\n",
       "      <th>global_post_branch_index</th>\n",
       "      <th>global_post_cell_index</th>\n",
       "      <th>local_edge_index</th>\n",
       "      <th>type</th>\n",
       "      <th>type_ind</th>\n",
       "      <th>pre_locs</th>\n",
       "      <th>post_locs</th>\n",
       "      <th>IonotropicSynapse_gS</th>\n",
       "      <th>IonotropicSynapse_e_syn</th>\n",
       "      <th>IonotropicSynapse_k_minus</th>\n",
       "      <th>IonotropicSynapse_s</th>\n",
       "      <th>controlled_by_param</th>\n",
       "    </tr>\n",
       "  </thead>\n",
       "  <tbody>\n",
       "    <tr>\n",
       "      <th>0</th>\n",
       "      <td>0</td>\n",
       "      <td>0</td>\n",
       "      <td>0</td>\n",
       "      <td>0</td>\n",
       "      <td>12</td>\n",
       "      <td>6</td>\n",
       "      <td>3</td>\n",
       "      <td>0</td>\n",
       "      <td>IonotropicSynapse</td>\n",
       "      <td>0</td>\n",
       "      <td>0.25</td>\n",
       "      <td>0.25</td>\n",
       "      <td>0.0001</td>\n",
       "      <td>0.0</td>\n",
       "      <td>0.025</td>\n",
       "      <td>0.2</td>\n",
       "      <td>0</td>\n",
       "    </tr>\n",
       "    <tr>\n",
       "      <th>1</th>\n",
       "      <td>1</td>\n",
       "      <td>0</td>\n",
       "      <td>0</td>\n",
       "      <td>0</td>\n",
       "      <td>16</td>\n",
       "      <td>8</td>\n",
       "      <td>4</td>\n",
       "      <td>1</td>\n",
       "      <td>IonotropicSynapse</td>\n",
       "      <td>0</td>\n",
       "      <td>0.25</td>\n",
       "      <td>0.25</td>\n",
       "      <td>0.0001</td>\n",
       "      <td>0.0</td>\n",
       "      <td>0.025</td>\n",
       "      <td>0.2</td>\n",
       "      <td>0</td>\n",
       "    </tr>\n",
       "    <tr>\n",
       "      <th>2</th>\n",
       "      <td>2</td>\n",
       "      <td>0</td>\n",
       "      <td>0</td>\n",
       "      <td>0</td>\n",
       "      <td>20</td>\n",
       "      <td>10</td>\n",
       "      <td>5</td>\n",
       "      <td>2</td>\n",
       "      <td>IonotropicSynapse</td>\n",
       "      <td>0</td>\n",
       "      <td>0.25</td>\n",
       "      <td>0.25</td>\n",
       "      <td>0.0001</td>\n",
       "      <td>0.0</td>\n",
       "      <td>0.025</td>\n",
       "      <td>0.2</td>\n",
       "      <td>0</td>\n",
       "    </tr>\n",
       "    <tr>\n",
       "      <th>3</th>\n",
       "      <td>3</td>\n",
       "      <td>4</td>\n",
       "      <td>2</td>\n",
       "      <td>1</td>\n",
       "      <td>13</td>\n",
       "      <td>6</td>\n",
       "      <td>3</td>\n",
       "      <td>3</td>\n",
       "      <td>IonotropicSynapse</td>\n",
       "      <td>0</td>\n",
       "      <td>0.25</td>\n",
       "      <td>0.75</td>\n",
       "      <td>0.0001</td>\n",
       "      <td>0.0</td>\n",
       "      <td>0.025</td>\n",
       "      <td>0.2</td>\n",
       "      <td>0</td>\n",
       "    </tr>\n",
       "    <tr>\n",
       "      <th>4</th>\n",
       "      <td>4</td>\n",
       "      <td>4</td>\n",
       "      <td>2</td>\n",
       "      <td>1</td>\n",
       "      <td>19</td>\n",
       "      <td>9</td>\n",
       "      <td>4</td>\n",
       "      <td>4</td>\n",
       "      <td>IonotropicSynapse</td>\n",
       "      <td>0</td>\n",
       "      <td>0.25</td>\n",
       "      <td>0.75</td>\n",
       "      <td>0.0001</td>\n",
       "      <td>0.0</td>\n",
       "      <td>0.025</td>\n",
       "      <td>0.2</td>\n",
       "      <td>0</td>\n",
       "    </tr>\n",
       "    <tr>\n",
       "      <th>5</th>\n",
       "      <td>5</td>\n",
       "      <td>4</td>\n",
       "      <td>2</td>\n",
       "      <td>1</td>\n",
       "      <td>20</td>\n",
       "      <td>10</td>\n",
       "      <td>5</td>\n",
       "      <td>5</td>\n",
       "      <td>IonotropicSynapse</td>\n",
       "      <td>0</td>\n",
       "      <td>0.25</td>\n",
       "      <td>0.25</td>\n",
       "      <td>0.0001</td>\n",
       "      <td>0.0</td>\n",
       "      <td>0.025</td>\n",
       "      <td>0.2</td>\n",
       "      <td>0</td>\n",
       "    </tr>\n",
       "    <tr>\n",
       "      <th>6</th>\n",
       "      <td>6</td>\n",
       "      <td>8</td>\n",
       "      <td>4</td>\n",
       "      <td>2</td>\n",
       "      <td>14</td>\n",
       "      <td>7</td>\n",
       "      <td>3</td>\n",
       "      <td>6</td>\n",
       "      <td>IonotropicSynapse</td>\n",
       "      <td>0</td>\n",
       "      <td>0.25</td>\n",
       "      <td>0.25</td>\n",
       "      <td>0.0001</td>\n",
       "      <td>0.0</td>\n",
       "      <td>0.025</td>\n",
       "      <td>0.2</td>\n",
       "      <td>0</td>\n",
       "    </tr>\n",
       "    <tr>\n",
       "      <th>7</th>\n",
       "      <td>7</td>\n",
       "      <td>8</td>\n",
       "      <td>4</td>\n",
       "      <td>2</td>\n",
       "      <td>16</td>\n",
       "      <td>8</td>\n",
       "      <td>4</td>\n",
       "      <td>7</td>\n",
       "      <td>IonotropicSynapse</td>\n",
       "      <td>0</td>\n",
       "      <td>0.25</td>\n",
       "      <td>0.25</td>\n",
       "      <td>0.0001</td>\n",
       "      <td>0.0</td>\n",
       "      <td>0.025</td>\n",
       "      <td>0.2</td>\n",
       "      <td>0</td>\n",
       "    </tr>\n",
       "    <tr>\n",
       "      <th>8</th>\n",
       "      <td>8</td>\n",
       "      <td>8</td>\n",
       "      <td>4</td>\n",
       "      <td>2</td>\n",
       "      <td>22</td>\n",
       "      <td>11</td>\n",
       "      <td>5</td>\n",
       "      <td>8</td>\n",
       "      <td>IonotropicSynapse</td>\n",
       "      <td>0</td>\n",
       "      <td>0.25</td>\n",
       "      <td>0.25</td>\n",
       "      <td>0.0001</td>\n",
       "      <td>0.0</td>\n",
       "      <td>0.025</td>\n",
       "      <td>0.2</td>\n",
       "      <td>0</td>\n",
       "    </tr>\n",
       "  </tbody>\n",
       "</table>\n",
       "</div>"
      ],
      "text/plain": [
       "   global_edge_index  global_pre_comp_index  global_pre_branch_index  \\\n",
       "0                  0                      0                        0   \n",
       "1                  1                      0                        0   \n",
       "2                  2                      0                        0   \n",
       "3                  3                      4                        2   \n",
       "4                  4                      4                        2   \n",
       "5                  5                      4                        2   \n",
       "6                  6                      8                        4   \n",
       "7                  7                      8                        4   \n",
       "8                  8                      8                        4   \n",
       "\n",
       "   global_pre_cell_index  global_post_comp_index  global_post_branch_index  \\\n",
       "0                      0                      12                         6   \n",
       "1                      0                      16                         8   \n",
       "2                      0                      20                        10   \n",
       "3                      1                      13                         6   \n",
       "4                      1                      19                         9   \n",
       "5                      1                      20                        10   \n",
       "6                      2                      14                         7   \n",
       "7                      2                      16                         8   \n",
       "8                      2                      22                        11   \n",
       "\n",
       "   global_post_cell_index  local_edge_index               type  type_ind  \\\n",
       "0                       3                 0  IonotropicSynapse         0   \n",
       "1                       4                 1  IonotropicSynapse         0   \n",
       "2                       5                 2  IonotropicSynapse         0   \n",
       "3                       3                 3  IonotropicSynapse         0   \n",
       "4                       4                 4  IonotropicSynapse         0   \n",
       "5                       5                 5  IonotropicSynapse         0   \n",
       "6                       3                 6  IonotropicSynapse         0   \n",
       "7                       4                 7  IonotropicSynapse         0   \n",
       "8                       5                 8  IonotropicSynapse         0   \n",
       "\n",
       "   pre_locs  post_locs  IonotropicSynapse_gS  IonotropicSynapse_e_syn  \\\n",
       "0      0.25       0.25                0.0001                      0.0   \n",
       "1      0.25       0.25                0.0001                      0.0   \n",
       "2      0.25       0.25                0.0001                      0.0   \n",
       "3      0.25       0.75                0.0001                      0.0   \n",
       "4      0.25       0.75                0.0001                      0.0   \n",
       "5      0.25       0.25                0.0001                      0.0   \n",
       "6      0.25       0.25                0.0001                      0.0   \n",
       "7      0.25       0.25                0.0001                      0.0   \n",
       "8      0.25       0.25                0.0001                      0.0   \n",
       "\n",
       "   IonotropicSynapse_k_minus  IonotropicSynapse_s  controlled_by_param  \n",
       "0                      0.025                  0.2                    0  \n",
       "1                      0.025                  0.2                    0  \n",
       "2                      0.025                  0.2                    0  \n",
       "3                      0.025                  0.2                    0  \n",
       "4                      0.025                  0.2                    0  \n",
       "5                      0.025                  0.2                    0  \n",
       "6                      0.025                  0.2                    0  \n",
       "7                      0.025                  0.2                    0  \n",
       "8                      0.025                  0.2                    0  "
      ]
     },
     "execution_count": 44,
     "metadata": {},
     "output_type": "execute_result"
    }
   ],
   "source": [
    "net.edges"
   ]
  },
  {
   "cell_type": "markdown",
   "id": "301bb8f2",
   "metadata": {},
   "source": [
    "This table has nine rows, each corresponding to one synapse. This makes sense because we fully connected three neurons (0, 1, 2) to three other neurons (3, 4, 5), giving a total of `3x3=9` synapses.\n",
    "\n",
    "You can modify parameters of individual synapses as follows:"
   ]
  },
  {
   "cell_type": "code",
   "execution_count": 45,
   "id": "3e7fab0a",
   "metadata": {},
   "outputs": [],
   "source": [
    "net.select(edges=[3, 4, 5]).set(\"IonotropicSynapse_gS\", 0.2)"
   ]
  },
  {
   "cell_type": "code",
   "execution_count": 46,
   "id": "e51ac75f",
   "metadata": {},
   "outputs": [
    {
     "data": {
      "text/plain": [
       "0    0.0001\n",
       "1    0.0001\n",
       "2    0.0001\n",
       "3    0.2000\n",
       "4    0.2000\n",
       "5    0.2000\n",
       "6    0.0001\n",
       "7    0.0001\n",
       "8    0.0001\n",
       "Name: IonotropicSynapse_gS, dtype: float64"
      ]
     },
     "execution_count": 46,
     "metadata": {},
     "output_type": "execute_result"
    }
   ],
   "source": [
    "net.edges.IonotropicSynapse_gS"
   ]
  },
  {
   "cell_type": "markdown",
   "id": "b1eec24a",
   "metadata": {},
   "source": [
    "### Setting synaptic parameters which connect particular neurons"
   ]
  },
  {
   "cell_type": "markdown",
   "id": "b9a166af",
   "metadata": {},
   "source": [
    "This is great, but setting synaptic parameters just by their index can be exhausting, in particular in very large networks. Instead, we would want to, for example, set the maximal conductance of all synapses that connect from cell 0 or 1 to any other neuron.\n",
    "\n",
    "In `Jaxley`, such customization can be achieved by filtering the `.edges` dataframe accordingly, as shown below."
   ]
  },
  {
   "cell_type": "code",
   "execution_count": 47,
   "id": "4ad9639e",
   "metadata": {},
   "outputs": [],
   "source": [
    "df = net.edges\n",
    "df = df.query(\"global_pre_cell_index in [0, 1]\")\n",
    "net.select(edges=df.index).set(\"IonotropicSynapse_gS\", 0.23)"
   ]
  },
  {
   "cell_type": "code",
   "execution_count": 48,
   "id": "450d2652",
   "metadata": {},
   "outputs": [
    {
     "data": {
      "text/plain": [
       "0    0.2300\n",
       "1    0.2300\n",
       "2    0.2300\n",
       "3    0.2300\n",
       "4    0.2300\n",
       "5    0.2300\n",
       "6    0.0001\n",
       "7    0.0001\n",
       "8    0.0001\n",
       "Name: IonotropicSynapse_gS, dtype: float64"
      ]
     },
     "execution_count": 48,
     "metadata": {},
     "output_type": "execute_result"
    }
   ],
   "source": [
    "net.edges.IonotropicSynapse_gS"
   ]
  },
  {
   "cell_type": "markdown",
   "id": "7736cc1f",
   "metadata": {},
   "source": [
    "Indeed, the first six synapses now have the value `0.25`! Let's look at the individual lines to understand how this worked:\n",
    "\n",
    "First, we take `.edges`, which is a [pandas DataFrame](https://pandas.pydata.org/docs/reference/api/pandas.DataFrame.html):"
   ]
  },
  {
   "cell_type": "code",
   "execution_count": 49,
   "id": "2dae9b8f",
   "metadata": {},
   "outputs": [],
   "source": [
    "df = net.edges"
   ]
  },
  {
   "cell_type": "markdown",
   "id": "8ae1b9ee",
   "metadata": {},
   "source": [
    "Next, we modify this DataFrame to only contain those rows where the global cell index is in 0 or 1:"
   ]
  },
  {
   "cell_type": "code",
   "execution_count": 50,
   "id": "9cbc6bd7",
   "metadata": {},
   "outputs": [],
   "source": [
    "df = df.query(\"global_pre_cell_index in [0, 1]\")"
   ]
  },
  {
   "cell_type": "markdown",
   "id": "5d0ee115",
   "metadata": {},
   "source": [
    "For the above step, you use any column of the DataFrame to filter it (you can see all columns with `df.columns`).\n",
    "\n",
    "Finally, we use the `.select()` method together with `.set()` to modify all values of the queried synapses:"
   ]
  },
  {
   "cell_type": "code",
   "execution_count": 51,
   "id": "6c89536b",
   "metadata": {},
   "outputs": [],
   "source": [
    "net.select(edges=df.index).set(\"IonotropicSynapse_gS\", 0.23)"
   ]
  },
  {
   "cell_type": "markdown",
   "id": "989a2ddc",
   "metadata": {},
   "source": [
    "### An even more involved example"
   ]
  },
  {
   "cell_type": "markdown",
   "id": "ce2a05eb",
   "metadata": {},
   "source": [
    "You can modify the DataFrame `df` as often as you want to. For example, you can select all synapses that have cells 1 or 2 as presynaptic neuron and cell 4 or 5 as postsynaptic neuron:"
   ]
  },
  {
   "cell_type": "code",
   "execution_count": 52,
   "id": "7af2bbc8",
   "metadata": {},
   "outputs": [],
   "source": [
    "df = net.edges\n",
    "df = df.query(\"global_pre_cell_index in [1, 2]\")\n",
    "df = df.query(\"global_post_cell_index in [4, 5]\")\n",
    "net.select(edges=df.index).set(\"IonotropicSynapse_gS\", 0.3)"
   ]
  },
  {
   "cell_type": "code",
   "execution_count": 53,
   "id": "0e57790e",
   "metadata": {},
   "outputs": [
    {
     "data": {
      "text/plain": [
       "0    0.2300\n",
       "1    0.2300\n",
       "2    0.2300\n",
       "3    0.2300\n",
       "4    0.3000\n",
       "5    0.3000\n",
       "6    0.0001\n",
       "7    0.3000\n",
       "8    0.3000\n",
       "Name: IonotropicSynapse_gS, dtype: float64"
      ]
     },
     "execution_count": 53,
     "metadata": {},
     "output_type": "execute_result"
    }
   ],
   "source": [
    "net.edges.IonotropicSynapse_gS"
   ]
  },
  {
   "cell_type": "markdown",
   "id": "755c5df4",
   "metadata": {},
   "source": [
    "### Applying this strategy to cell level parameters"
   ]
  },
  {
   "cell_type": "markdown",
   "id": "1ac4e2e5",
   "metadata": {},
   "source": [
    "You had previously seen that you can modify parameters with, e.g., `net.cell(0).set(...)`. However, if you need more flexibility than this, you can also use the above strategy to modify cell-level parameters:"
   ]
  },
  {
   "cell_type": "code",
   "execution_count": 54,
   "id": "21092d76",
   "metadata": {},
   "outputs": [],
   "source": [
    "df = net.nodes\n",
    "df = df.query(\"global_cell_index in [0, 1]\")\n",
    "net.select(nodes=df.index).set(\"radius\", 0.1)"
   ]
  },
  {
   "cell_type": "markdown",
   "id": "a5e942ee",
   "metadata": {},
   "source": [
    "### Flexibly setting parameters based on their `groups`\n",
    "\n",
    "If you are using groups, as shown in [this tutorial](https://jaxleyverse.github.io/jaxley/latest/tutorial/06_groups/), then you can also use this for querying synapses. To demonstrate this, let's create a group of excitatory neurons (e.g., cells 0, 3, 5):"
   ]
  },
  {
   "cell_type": "code",
   "execution_count": 55,
   "id": "a85b9755",
   "metadata": {},
   "outputs": [],
   "source": [
    "net.cell([0, 3, 5]).add_to_group(\"exc\")"
   ]
  },
  {
   "cell_type": "markdown",
   "id": "734f159c",
   "metadata": {},
   "source": [
    "Now, say we want all synapses that start from these excitatory neurons. You can do this as follows:"
   ]
  },
  {
   "cell_type": "code",
   "execution_count": 56,
   "id": "f07a28c0",
   "metadata": {},
   "outputs": [],
   "source": [
    "# First, we have to identify which cells are in the `exc` group.\n",
    "indices_of_excitatory_cells = net.exc.nodes[\"global_cell_index\"].unique().tolist()  # [0, 3, 5]\n",
    "\n",
    "# Then we can proceed as always:\n",
    "df = net.edges\n",
    "df = df.query(f\"global_pre_cell_index in {indices_of_excitatory_cells}\")\n",
    "net.select(edges=df.index).set(\"IonotropicSynapse_gS\", 0.4)"
   ]
  },
  {
   "cell_type": "markdown",
   "id": "bba9ec4d",
   "metadata": {},
   "source": [
    "### Setting synaptic parameters based on properties of the presynaptic cell\n",
    "\n",
    "Let's discuss one more example: Imagine we only want to modify those synapses whose presynaptic compartment has a sodium channel. Let's first add sodium channel to some of the cells:"
   ]
  },
  {
   "cell_type": "code",
   "execution_count": 57,
   "id": "aa5a1970",
   "metadata": {},
   "outputs": [],
   "source": [
    "net.cell(0).branch(0).comp(0).insert(Na())\n",
    "net.cell(2).branch(1).comp(1).insert(Na())"
   ]
  },
  {
   "cell_type": "markdown",
   "id": "c82ab81a",
   "metadata": {},
   "source": [
    "Now, let us query which cell the desired synapses:"
   ]
  },
  {
   "cell_type": "code",
   "execution_count": 58,
   "id": "bbf43c4c",
   "metadata": {},
   "outputs": [],
   "source": [
    "df = net.nodes\n",
    "df = df.query(\"Na\")\n",
    "indices_of_sodium_compartments = df[\"global_comp_index\"].unique().tolist()"
   ]
  },
  {
   "cell_type": "markdown",
   "id": "64fec22e",
   "metadata": {},
   "source": [
    "`indices_of_sodium_compartments` lists all compartments which contained sodium:"
   ]
  },
  {
   "cell_type": "code",
   "execution_count": 59,
   "id": "53a0fc35",
   "metadata": {},
   "outputs": [
    {
     "name": "stdout",
     "output_type": "stream",
     "text": [
      "[0, 11]\n"
     ]
    }
   ],
   "source": [
    "print(indices_of_sodium_compartments)"
   ]
  },
  {
   "cell_type": "markdown",
   "id": "37d1c732",
   "metadata": {},
   "source": [
    "Then, we can proceed as always and filter for the global pre-synaptic **compartment** index:"
   ]
  },
  {
   "cell_type": "code",
   "execution_count": 61,
   "id": "133fb637",
   "metadata": {},
   "outputs": [],
   "source": [
    "df = net.edges\n",
    "df = df.query(f\"global_pre_comp_index in {indices_of_sodium_compartments}\")\n",
    "net.select(edges=df.index).set(\"IonotropicSynapse_gS\", 0.6)"
   ]
  },
  {
   "cell_type": "code",
   "execution_count": 62,
   "id": "a35c377f",
   "metadata": {},
   "outputs": [
    {
     "data": {
      "text/plain": [
       "0    0.6000\n",
       "1    0.6000\n",
       "2    0.6000\n",
       "3    0.2300\n",
       "4    0.3000\n",
       "5    0.3000\n",
       "6    0.0001\n",
       "7    0.3000\n",
       "8    0.3000\n",
       "Name: IonotropicSynapse_gS, dtype: float64"
      ]
     },
     "execution_count": 62,
     "metadata": {},
     "output_type": "execute_result"
    }
   ],
   "source": [
    "net.edges.IonotropicSynapse_gS"
   ]
  },
  {
   "cell_type": "markdown",
   "id": "d8194f95",
   "metadata": {},
   "source": [
    "Indeed, only synapses coming from the first neuron were modified (as its presynaptic compartment contained sodium)."
   ]
  },
  {
   "cell_type": "markdown",
   "id": "42b7bacf",
   "metadata": {},
   "source": [
    "### Summary\n",
    "\n",
    "In this tutorial, you learned how to fully customize your `Jaxley` simulation. This works by querying rows from the `.edges` DataFrame."
   ]
  }
 ],
 "metadata": {
  "kernelspec": {
   "display_name": "Python 3 (ipykernel)",
   "language": "python",
   "name": "python3"
  },
  "language_info": {
   "codemirror_mode": {
    "name": "ipython",
    "version": 3
   },
   "file_extension": ".py",
   "mimetype": "text/x-python",
   "name": "python",
   "nbconvert_exporter": "python",
   "pygments_lexer": "ipython3",
   "version": "3.12.4"
  }
 },
 "nbformat": 4,
 "nbformat_minor": 5
}
