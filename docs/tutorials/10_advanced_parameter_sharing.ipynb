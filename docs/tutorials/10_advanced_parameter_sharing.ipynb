{
 "cells": [
  {
   "cell_type": "markdown",
   "id": "5f0bc78a",
   "metadata": {},
   "source": [
    "# Synaptic parameter sharing"
   ]
  },
  {
   "cell_type": "markdown",
   "id": "7ca7f94a",
   "metadata": {},
   "source": [
    "In this tutorial, you will learn how to:\n",
    "\n",
    "- flexibly share parameters of synapses  \n",
    "\n",
    "Here is a code snippet which you will learn to understand in this tutorial:\n",
    "```python\n",
    "net = ...  # See tutorial on Basics of Jaxley.\n",
    "\n",
    "# The same parameter for all synapses\n",
    "net.make_trainable(\"Ionotropic_gS\")\n",
    "\n",
    "# An individual parameter for every synapse.\n",
    "net.select(edges=\"all\").make_trainable(\"Ionotropic_gS\")\n",
    "\n",
    "# Share synaptic conductances emerging from the same neurons.\n",
    "net.copy_node_property_to_edges(\"cell_index\")\n",
    "sub_net = net.select(edges=[0, 1, 2])\n",
    "sub_net.edges[\"controlled_by_param\"] = sub_net.edges[\"pre_global_cell_index\"]\n",
    "sub_net.make_trainable(\"Ionotropic_gS\")\n",
    "```"
   ]
  },
  {
   "cell_type": "markdown",
   "id": "422006f3",
   "metadata": {},
   "source": [
    "In a [previous tutorial](https://jaxley.readthedocs.io/en/latest/tutorials/07_gradient_descent.html) about training networks, we briefly touched on parameter sharing. In this tutorial, we will show you how you can flexibly share parameters within a network."
   ]
  },
  {
   "cell_type": "code",
   "execution_count": 1,
   "id": "4feb39c3",
   "metadata": {},
   "outputs": [],
   "source": [
    "import jaxley as jx\n",
    "from jaxley.channels import Na, K, Leak\n",
    "from jaxley.connect import fully_connect\n",
    "from jaxley.synapses import IonotropicSynapse"
   ]
  },
  {
   "cell_type": "markdown",
   "id": "7c18b422",
   "metadata": {},
   "source": [
    "### Preface: Building the network\n",
    "\n",
    "We first build a network consisting of six neurons, in the same way as we showed in the previous tutorials:"
   ]
  },
  {
   "cell_type": "code",
   "execution_count": 2,
   "id": "5b3dacee",
   "metadata": {},
   "outputs": [],
   "source": [
    "dt = 0.025\n",
    "t_max = 10.0\n",
    "\n",
    "comp = jx.Compartment()\n",
    "branch = jx.Branch(comp, ncomp=2)\n",
    "cell = jx.Cell(branch, parents=[-1, 0])\n",
    "net = jx.Network([cell for _ in range(6)])\n",
    "fully_connect(net.cell([0, 1, 2]), net.cell([3, 4, 5]), IonotropicSynapse())"
   ]
  },
  {
   "cell_type": "markdown",
   "id": "7c1e73e0",
   "metadata": {},
   "source": [
    "### Sharing parameters by modifying `controlled_by_param`"
   ]
  },
  {
   "cell_type": "code",
   "execution_count": 3,
   "id": "c94aa7f7",
   "metadata": {},
   "outputs": [
    {
     "name": "stdout",
     "output_type": "stream",
     "text": [
      "Number of newly added trainable parameters: 3. Total number of trainable parameters: 3\n"
     ]
    }
   ],
   "source": [
    "net.copy_node_property_to_edges(\"global_cell_index\")\n",
    "\n",
    "df = net.edges\n",
    "df = df.query(\"pre_global_cell_index in [0, 1, 2]\")\n",
    "subnetwork = net.select(edges=df.index)\n",
    "\n",
    "df = subnetwork.edges\n",
    "df[\"controlled_by_param\"] = df[\"pre_global_cell_index\"]\n",
    "subnetwork.make_trainable(\"IonotropicSynapse_gS\")"
   ]
  },
  {
   "cell_type": "markdown",
   "id": "75aded8e",
   "metadata": {},
   "source": [
    "Let's look at this line by line. First, we exactly follow the previous tutorial in selecting the synapses which we are interested in training (i.e., the ones whose presynaptic neuron has index 0, 1, 2):"
   ]
  },
  {
   "cell_type": "code",
   "execution_count": 4,
   "id": "3d73ce97",
   "metadata": {},
   "outputs": [],
   "source": [
    "df = net.edges\n",
    "df = df.query(\"pre_global_cell_index in [0, 1, 2]\")\n",
    "subnetwork = net.select(edges=df.index)"
   ]
  },
  {
   "cell_type": "markdown",
   "id": "0d8a9f19",
   "metadata": {},
   "source": [
    "As second step, we enable parameter sharing. This is done by setting the `controlled_by_param`. Synapses that have the same value in `controlled_by_param` will be shared. Let's inspect `controlled_by_param` _before_ we modify it:"
   ]
  },
  {
   "cell_type": "code",
   "execution_count": 5,
   "id": "5be614a3",
   "metadata": {},
   "outputs": [
    {
     "data": {
      "text/html": [
       "<div>\n",
       "<style scoped>\n",
       "    .dataframe tbody tr th:only-of-type {\n",
       "        vertical-align: middle;\n",
       "    }\n",
       "\n",
       "    .dataframe tbody tr th {\n",
       "        vertical-align: top;\n",
       "    }\n",
       "\n",
       "    .dataframe thead th {\n",
       "        text-align: right;\n",
       "    }\n",
       "</style>\n",
       "<table border=\"1\" class=\"dataframe\">\n",
       "  <thead>\n",
       "    <tr style=\"text-align: right;\">\n",
       "      <th></th>\n",
       "      <th>pre_global_cell_index</th>\n",
       "      <th>controlled_by_param</th>\n",
       "    </tr>\n",
       "  </thead>\n",
       "  <tbody>\n",
       "    <tr>\n",
       "      <th>0</th>\n",
       "      <td>0</td>\n",
       "      <td>0</td>\n",
       "    </tr>\n",
       "    <tr>\n",
       "      <th>1</th>\n",
       "      <td>0</td>\n",
       "      <td>1</td>\n",
       "    </tr>\n",
       "    <tr>\n",
       "      <th>2</th>\n",
       "      <td>0</td>\n",
       "      <td>2</td>\n",
       "    </tr>\n",
       "    <tr>\n",
       "      <th>3</th>\n",
       "      <td>1</td>\n",
       "      <td>3</td>\n",
       "    </tr>\n",
       "    <tr>\n",
       "      <th>4</th>\n",
       "      <td>1</td>\n",
       "      <td>4</td>\n",
       "    </tr>\n",
       "    <tr>\n",
       "      <th>5</th>\n",
       "      <td>1</td>\n",
       "      <td>5</td>\n",
       "    </tr>\n",
       "    <tr>\n",
       "      <th>6</th>\n",
       "      <td>2</td>\n",
       "      <td>6</td>\n",
       "    </tr>\n",
       "    <tr>\n",
       "      <th>7</th>\n",
       "      <td>2</td>\n",
       "      <td>7</td>\n",
       "    </tr>\n",
       "    <tr>\n",
       "      <th>8</th>\n",
       "      <td>2</td>\n",
       "      <td>8</td>\n",
       "    </tr>\n",
       "  </tbody>\n",
       "</table>\n",
       "</div>"
      ],
      "text/plain": [
       "   pre_global_cell_index  controlled_by_param\n",
       "0                      0                    0\n",
       "1                      0                    1\n",
       "2                      0                    2\n",
       "3                      1                    3\n",
       "4                      1                    4\n",
       "5                      1                    5\n",
       "6                      2                    6\n",
       "7                      2                    7\n",
       "8                      2                    8"
      ]
     },
     "execution_count": 5,
     "metadata": {},
     "output_type": "execute_result"
    }
   ],
   "source": [
    "subnetwork.edges[[\"pre_global_cell_index\", \"controlled_by_param\"]]"
   ]
  },
  {
   "cell_type": "markdown",
   "id": "f5e8b81a",
   "metadata": {},
   "source": [
    "Every synapse has a different value. Because of this, no synaptic parameters will be shared. To enable parameter sharing we override the `controlled_by_param` column with the presynaptic cell index:"
   ]
  },
  {
   "cell_type": "code",
   "execution_count": 6,
   "id": "f22af5fe",
   "metadata": {},
   "outputs": [],
   "source": [
    "df = subnetwork.edges\n",
    "df[\"controlled_by_param\"] = df[\"pre_global_cell_index\"]"
   ]
  },
  {
   "cell_type": "code",
   "execution_count": 7,
   "id": "7f88d535",
   "metadata": {},
   "outputs": [
    {
     "data": {
      "text/html": [
       "<div>\n",
       "<style scoped>\n",
       "    .dataframe tbody tr th:only-of-type {\n",
       "        vertical-align: middle;\n",
       "    }\n",
       "\n",
       "    .dataframe tbody tr th {\n",
       "        vertical-align: top;\n",
       "    }\n",
       "\n",
       "    .dataframe thead th {\n",
       "        text-align: right;\n",
       "    }\n",
       "</style>\n",
       "<table border=\"1\" class=\"dataframe\">\n",
       "  <thead>\n",
       "    <tr style=\"text-align: right;\">\n",
       "      <th></th>\n",
       "      <th>pre_global_cell_index</th>\n",
       "      <th>controlled_by_param</th>\n",
       "    </tr>\n",
       "  </thead>\n",
       "  <tbody>\n",
       "    <tr>\n",
       "      <th>0</th>\n",
       "      <td>0</td>\n",
       "      <td>0</td>\n",
       "    </tr>\n",
       "    <tr>\n",
       "      <th>1</th>\n",
       "      <td>0</td>\n",
       "      <td>0</td>\n",
       "    </tr>\n",
       "    <tr>\n",
       "      <th>2</th>\n",
       "      <td>0</td>\n",
       "      <td>0</td>\n",
       "    </tr>\n",
       "    <tr>\n",
       "      <th>3</th>\n",
       "      <td>1</td>\n",
       "      <td>1</td>\n",
       "    </tr>\n",
       "    <tr>\n",
       "      <th>4</th>\n",
       "      <td>1</td>\n",
       "      <td>1</td>\n",
       "    </tr>\n",
       "    <tr>\n",
       "      <th>5</th>\n",
       "      <td>1</td>\n",
       "      <td>1</td>\n",
       "    </tr>\n",
       "    <tr>\n",
       "      <th>6</th>\n",
       "      <td>2</td>\n",
       "      <td>2</td>\n",
       "    </tr>\n",
       "    <tr>\n",
       "      <th>7</th>\n",
       "      <td>2</td>\n",
       "      <td>2</td>\n",
       "    </tr>\n",
       "    <tr>\n",
       "      <th>8</th>\n",
       "      <td>2</td>\n",
       "      <td>2</td>\n",
       "    </tr>\n",
       "  </tbody>\n",
       "</table>\n",
       "</div>"
      ],
      "text/plain": [
       "   pre_global_cell_index  controlled_by_param\n",
       "0                      0                    0\n",
       "1                      0                    0\n",
       "2                      0                    0\n",
       "3                      1                    1\n",
       "4                      1                    1\n",
       "5                      1                    1\n",
       "6                      2                    2\n",
       "7                      2                    2\n",
       "8                      2                    2"
      ]
     },
     "execution_count": 7,
     "metadata": {},
     "output_type": "execute_result"
    }
   ],
   "source": [
    "df[[\"pre_global_cell_index\", \"controlled_by_param\"]]"
   ]
  },
  {
   "cell_type": "markdown",
   "id": "cef2bed9",
   "metadata": {},
   "source": [
    "Now, all we have to do is to make these synaptic parameters trainable with the `make_trainable()` method:"
   ]
  },
  {
   "cell_type": "code",
   "execution_count": 8,
   "id": "f3d3ce72",
   "metadata": {},
   "outputs": [
    {
     "name": "stdout",
     "output_type": "stream",
     "text": [
      "Number of newly added trainable parameters: 3. Total number of trainable parameters: 6\n"
     ]
    }
   ],
   "source": [
    "subnetwork.make_trainable(\"IonotropicSynapse_gS\")"
   ]
  },
  {
   "cell_type": "markdown",
   "id": "4da29681",
   "metadata": {},
   "source": [
    "It correctly says that we added three parameters (because we have three cells, and we share individual synaptic parameters). We now have 6 trainable parameters in total (because we already added 3 trainable parameters above)."
   ]
  },
  {
   "cell_type": "markdown",
   "id": "1c902a3e",
   "metadata": {},
   "source": [
    "### A more involved example: sharing by pre- and post-synaptic cell type\n",
    "\n",
    "As an example, consider the following: We have a fully connected network of six cells. Each cell falls into one of three cell types:"
   ]
  },
  {
   "cell_type": "code",
   "execution_count": 9,
   "id": "af856a23",
   "metadata": {},
   "outputs": [],
   "source": [
    "from typing import Union, List"
   ]
  },
  {
   "cell_type": "code",
   "execution_count": 10,
   "id": "642245db",
   "metadata": {},
   "outputs": [],
   "source": [
    "net = jx.Network([cell for _ in range(6)])\n",
    "fully_connect(net.cell(\"all\"), net.cell(\"all\"), IonotropicSynapse())\n",
    "\n",
    "net.cell([0, 1]).add_to_group(\"exc\")\n",
    "net.cell([2, 3]).add_to_group(\"inh\")\n",
    "net.cell([4, 5]).add_to_group(\"unknown\")"
   ]
  },
  {
   "cell_type": "markdown",
   "id": "b11c9625",
   "metadata": {},
   "source": [
    "We want to make all synapses that start from excitatory or inhibitory neurons trainable. In addition, we want to use the same parameter for synapses if they have the same pre- **and** post-synaptic cell type."
   ]
  },
  {
   "cell_type": "markdown",
   "id": "7ebcfedd",
   "metadata": {},
   "source": [
    "To achieve this, we will first want a column in `net.nodes` which indicates the cell type. "
   ]
  },
  {
   "cell_type": "code",
   "execution_count": 11,
   "id": "3e587ba0",
   "metadata": {},
   "outputs": [],
   "source": [
    "for group, inds in net.groups.items():\n",
    "    net.nodes.loc[inds, \"cell_type\"] = group"
   ]
  },
  {
   "cell_type": "code",
   "execution_count": 12,
   "id": "3d0d7d8f",
   "metadata": {},
   "outputs": [
    {
     "data": {
      "text/plain": [
       "0         exc\n",
       "1         exc\n",
       "2         exc\n",
       "3         exc\n",
       "4         exc\n",
       "5         exc\n",
       "6         exc\n",
       "7         exc\n",
       "8         inh\n",
       "9         inh\n",
       "10        inh\n",
       "11        inh\n",
       "12        inh\n",
       "13        inh\n",
       "14        inh\n",
       "15        inh\n",
       "16    unknown\n",
       "17    unknown\n",
       "18    unknown\n",
       "19    unknown\n",
       "20    unknown\n",
       "21    unknown\n",
       "22    unknown\n",
       "23    unknown\n",
       "Name: cell_type, dtype: object"
      ]
     },
     "execution_count": 12,
     "metadata": {},
     "output_type": "execute_result"
    }
   ],
   "source": [
    "net.nodes[\"cell_type\"]"
   ]
  },
  {
   "cell_type": "markdown",
   "id": "c5675586",
   "metadata": {},
   "source": [
    "The `cell_type` is now part of the `net.nodes`. However, we would like to do parameter sharing of synapses based on the pre- and post-synaptic node values. To do so, we import the `cell_type` column into `net.edges`. To do this, we use the `.copy_node_property_to_edges()` which the name of the property you are copying from nodes: "
   ]
  },
  {
   "cell_type": "code",
   "execution_count": 13,
   "id": "a521b569",
   "metadata": {},
   "outputs": [],
   "source": [
    "net.copy_node_property_to_edges(\"cell_type\")"
   ]
  },
  {
   "cell_type": "markdown",
   "id": "dbbf82e5",
   "metadata": {},
   "source": [
    "After this, you have columns in the **`.edges`** which indicate the pre- and post-synaptic cell type:"
   ]
  },
  {
   "cell_type": "code",
   "execution_count": 14,
   "id": "91bfd2ca",
   "metadata": {},
   "outputs": [
    {
     "data": {
      "text/html": [
       "<div>\n",
       "<style scoped>\n",
       "    .dataframe tbody tr th:only-of-type {\n",
       "        vertical-align: middle;\n",
       "    }\n",
       "\n",
       "    .dataframe tbody tr th {\n",
       "        vertical-align: top;\n",
       "    }\n",
       "\n",
       "    .dataframe thead th {\n",
       "        text-align: right;\n",
       "    }\n",
       "</style>\n",
       "<table border=\"1\" class=\"dataframe\">\n",
       "  <thead>\n",
       "    <tr style=\"text-align: right;\">\n",
       "      <th></th>\n",
       "      <th>pre_cell_type</th>\n",
       "      <th>post_cell_type</th>\n",
       "    </tr>\n",
       "  </thead>\n",
       "  <tbody>\n",
       "    <tr>\n",
       "      <th>0</th>\n",
       "      <td>exc</td>\n",
       "      <td>exc</td>\n",
       "    </tr>\n",
       "    <tr>\n",
       "      <th>1</th>\n",
       "      <td>exc</td>\n",
       "      <td>exc</td>\n",
       "    </tr>\n",
       "    <tr>\n",
       "      <th>2</th>\n",
       "      <td>exc</td>\n",
       "      <td>inh</td>\n",
       "    </tr>\n",
       "    <tr>\n",
       "      <th>3</th>\n",
       "      <td>exc</td>\n",
       "      <td>inh</td>\n",
       "    </tr>\n",
       "    <tr>\n",
       "      <th>4</th>\n",
       "      <td>exc</td>\n",
       "      <td>unknown</td>\n",
       "    </tr>\n",
       "    <tr>\n",
       "      <th>5</th>\n",
       "      <td>exc</td>\n",
       "      <td>unknown</td>\n",
       "    </tr>\n",
       "    <tr>\n",
       "      <th>6</th>\n",
       "      <td>exc</td>\n",
       "      <td>exc</td>\n",
       "    </tr>\n",
       "    <tr>\n",
       "      <th>7</th>\n",
       "      <td>exc</td>\n",
       "      <td>exc</td>\n",
       "    </tr>\n",
       "    <tr>\n",
       "      <th>8</th>\n",
       "      <td>exc</td>\n",
       "      <td>inh</td>\n",
       "    </tr>\n",
       "    <tr>\n",
       "      <th>9</th>\n",
       "      <td>exc</td>\n",
       "      <td>inh</td>\n",
       "    </tr>\n",
       "    <tr>\n",
       "      <th>10</th>\n",
       "      <td>exc</td>\n",
       "      <td>unknown</td>\n",
       "    </tr>\n",
       "    <tr>\n",
       "      <th>11</th>\n",
       "      <td>exc</td>\n",
       "      <td>unknown</td>\n",
       "    </tr>\n",
       "    <tr>\n",
       "      <th>12</th>\n",
       "      <td>inh</td>\n",
       "      <td>exc</td>\n",
       "    </tr>\n",
       "    <tr>\n",
       "      <th>13</th>\n",
       "      <td>inh</td>\n",
       "      <td>exc</td>\n",
       "    </tr>\n",
       "    <tr>\n",
       "      <th>14</th>\n",
       "      <td>inh</td>\n",
       "      <td>inh</td>\n",
       "    </tr>\n",
       "    <tr>\n",
       "      <th>15</th>\n",
       "      <td>inh</td>\n",
       "      <td>inh</td>\n",
       "    </tr>\n",
       "    <tr>\n",
       "      <th>16</th>\n",
       "      <td>inh</td>\n",
       "      <td>unknown</td>\n",
       "    </tr>\n",
       "    <tr>\n",
       "      <th>17</th>\n",
       "      <td>inh</td>\n",
       "      <td>unknown</td>\n",
       "    </tr>\n",
       "    <tr>\n",
       "      <th>18</th>\n",
       "      <td>inh</td>\n",
       "      <td>exc</td>\n",
       "    </tr>\n",
       "    <tr>\n",
       "      <th>19</th>\n",
       "      <td>inh</td>\n",
       "      <td>exc</td>\n",
       "    </tr>\n",
       "    <tr>\n",
       "      <th>20</th>\n",
       "      <td>inh</td>\n",
       "      <td>inh</td>\n",
       "    </tr>\n",
       "    <tr>\n",
       "      <th>21</th>\n",
       "      <td>inh</td>\n",
       "      <td>inh</td>\n",
       "    </tr>\n",
       "    <tr>\n",
       "      <th>22</th>\n",
       "      <td>inh</td>\n",
       "      <td>unknown</td>\n",
       "    </tr>\n",
       "    <tr>\n",
       "      <th>23</th>\n",
       "      <td>inh</td>\n",
       "      <td>unknown</td>\n",
       "    </tr>\n",
       "    <tr>\n",
       "      <th>24</th>\n",
       "      <td>unknown</td>\n",
       "      <td>exc</td>\n",
       "    </tr>\n",
       "    <tr>\n",
       "      <th>25</th>\n",
       "      <td>unknown</td>\n",
       "      <td>exc</td>\n",
       "    </tr>\n",
       "    <tr>\n",
       "      <th>26</th>\n",
       "      <td>unknown</td>\n",
       "      <td>inh</td>\n",
       "    </tr>\n",
       "    <tr>\n",
       "      <th>27</th>\n",
       "      <td>unknown</td>\n",
       "      <td>inh</td>\n",
       "    </tr>\n",
       "    <tr>\n",
       "      <th>28</th>\n",
       "      <td>unknown</td>\n",
       "      <td>unknown</td>\n",
       "    </tr>\n",
       "    <tr>\n",
       "      <th>29</th>\n",
       "      <td>unknown</td>\n",
       "      <td>unknown</td>\n",
       "    </tr>\n",
       "    <tr>\n",
       "      <th>30</th>\n",
       "      <td>unknown</td>\n",
       "      <td>exc</td>\n",
       "    </tr>\n",
       "    <tr>\n",
       "      <th>31</th>\n",
       "      <td>unknown</td>\n",
       "      <td>exc</td>\n",
       "    </tr>\n",
       "    <tr>\n",
       "      <th>32</th>\n",
       "      <td>unknown</td>\n",
       "      <td>inh</td>\n",
       "    </tr>\n",
       "    <tr>\n",
       "      <th>33</th>\n",
       "      <td>unknown</td>\n",
       "      <td>inh</td>\n",
       "    </tr>\n",
       "    <tr>\n",
       "      <th>34</th>\n",
       "      <td>unknown</td>\n",
       "      <td>unknown</td>\n",
       "    </tr>\n",
       "    <tr>\n",
       "      <th>35</th>\n",
       "      <td>unknown</td>\n",
       "      <td>unknown</td>\n",
       "    </tr>\n",
       "  </tbody>\n",
       "</table>\n",
       "</div>"
      ],
      "text/plain": [
       "   pre_cell_type post_cell_type\n",
       "0            exc            exc\n",
       "1            exc            exc\n",
       "2            exc            inh\n",
       "3            exc            inh\n",
       "4            exc        unknown\n",
       "5            exc        unknown\n",
       "6            exc            exc\n",
       "7            exc            exc\n",
       "8            exc            inh\n",
       "9            exc            inh\n",
       "10           exc        unknown\n",
       "11           exc        unknown\n",
       "12           inh            exc\n",
       "13           inh            exc\n",
       "14           inh            inh\n",
       "15           inh            inh\n",
       "16           inh        unknown\n",
       "17           inh        unknown\n",
       "18           inh            exc\n",
       "19           inh            exc\n",
       "20           inh            inh\n",
       "21           inh            inh\n",
       "22           inh        unknown\n",
       "23           inh        unknown\n",
       "24       unknown            exc\n",
       "25       unknown            exc\n",
       "26       unknown            inh\n",
       "27       unknown            inh\n",
       "28       unknown        unknown\n",
       "29       unknown        unknown\n",
       "30       unknown            exc\n",
       "31       unknown            exc\n",
       "32       unknown            inh\n",
       "33       unknown            inh\n",
       "34       unknown        unknown\n",
       "35       unknown        unknown"
      ]
     },
     "execution_count": 14,
     "metadata": {},
     "output_type": "execute_result"
    }
   ],
   "source": [
    "net.edges[[\"pre_cell_type\", \"post_cell_type\"]]"
   ]
  },
  {
   "cell_type": "markdown",
   "id": "0f96f368",
   "metadata": {},
   "source": [
    "Next, we specify which parts of the network we actually want to change (in this case, all synapses which have excitatory or inhibitory presynaptic neurons):"
   ]
  },
  {
   "cell_type": "code",
   "execution_count": 15,
   "id": "d5beeeae",
   "metadata": {},
   "outputs": [
    {
     "name": "stdout",
     "output_type": "stream",
     "text": [
      "There are 24 synapses to be changed.\n"
     ]
    }
   ],
   "source": [
    "df = net.edges\n",
    "df = df.query(f\"pre_cell_type in ['exc', 'inh']\")\n",
    "print(f\"There are {len(df)} synapses to be changed.\")\n",
    "\n",
    "subnetwork = net.select(edges=df.index)"
   ]
  },
  {
   "cell_type": "markdown",
   "id": "920a141b",
   "metadata": {},
   "source": [
    "As the last step, we again have to specify parameter sharing by setting `controlled_by_param`. In this case, we want to share parameters that have the same pre- and post-synaptic neuron. We achieve this by **grouping** the synpases by their pre- and post-synaptic cell type (see [pd.DataFrame.groupby](https://pandas.pydata.org/docs/reference/api/pandas.DataFrame.groupby.html) for details):"
   ]
  },
  {
   "cell_type": "code",
   "execution_count": 16,
   "id": "320e2938",
   "metadata": {},
   "outputs": [
    {
     "name": "stdout",
     "output_type": "stream",
     "text": [
      "Number of newly added trainable parameters: 6. Total number of trainable parameters: 6\n"
     ]
    }
   ],
   "source": [
    "# Step 6: use groupby to specify parameter sharing and make the parameters trainable.\n",
    "subnetwork.edges[\"controlled_by_param\"] = subnetwork.edges.groupby([\"pre_cell_type\", \"post_cell_type\"]).ngroup()\n",
    "subnetwork.make_trainable(\"IonotropicSynapse_gS\")"
   ]
  },
  {
   "cell_type": "markdown",
   "id": "bffb1286",
   "metadata": {},
   "source": [
    "This created six trainable parameters, which makes sense as we have two types of pre-synaptic neurons (excitatory and inhibitory) and each has three options for the postsynaptic neuron (pre, post, unknown)."
   ]
  },
  {
   "cell_type": "markdown",
   "id": "d9992480",
   "metadata": {},
   "source": [
    "### Summary\n",
    "\n",
    "In this tutorial, you learned how you can flexibly share synaptic parameters. This works by first using `select()` to identify which synapses to make trainable, and by then modifying `controlled_by_param` to customize parameter sharing."
   ]
  }
 ],
 "metadata": {
  "kernelspec": {
   "display_name": "Python 3 (ipykernel)",
   "language": "python",
   "name": "python3"
  },
  "language_info": {
   "codemirror_mode": {
    "name": "ipython",
    "version": 3
   },
   "file_extension": ".py",
   "mimetype": "text/x-python",
   "name": "python",
   "nbconvert_exporter": "python",
   "pygments_lexer": "ipython3",
   "version": "3.12.4"
  }
 },
 "nbformat": 4,
 "nbformat_minor": 5
}
