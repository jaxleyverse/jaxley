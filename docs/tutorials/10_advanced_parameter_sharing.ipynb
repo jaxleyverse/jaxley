{
 "cells": [
  {
   "cell_type": "markdown",
   "id": "793742de",
   "metadata": {},
   "source": [
    "# Full flexibility for synaptic parameter sharing"
   ]
  },
  {
   "cell_type": "markdown",
   "id": "9a11cd0d",
   "metadata": {},
   "source": [
    "In this tutorial, you will learn how to:\n",
    "\n",
    "- share parameters of synapses  \n",
    "- remove any kind of synaptic parameter sharing\n",
    "\n",
    "Here is a code snippet which you will learn to understand in this tutorial:\n",
    "```python\n",
    "net = ...  # See tutorial on Basics of Jaxley.\n",
    "\n",
    "# The same parameter for all synapses\n",
    "net.make_trainable(\"Ionotropic_gS\")\n",
    "\n",
    "# An individual parameter for every synapse.\n",
    "net.select(edges=\"all\").make_trainable(\"Ionotropic_gS\")\n",
    "\n",
    "# Share synaptic conductances emerging from the same neurons.\n",
    "sub_net = net.select(edges=[0, 1, 2])\n",
    "sub_net.edges[\"controlled_by_param\"] = sub_net.edges[\"global_pre_cell_index\"]\n",
    "sub_net.make_trainable(\"Ionotropic_gS\")\n",
    "```"
   ]
  },
  {
   "cell_type": "markdown",
   "id": "3811950b",
   "metadata": {},
   "source": [
    "In a [previous tutorial](https://jaxleyverse.github.io/jaxley/latest/tutorial/03_setting_parameters/) about training networks, we briefly touched on parameter sharing. In this tutorial, we will show you how you can flexibly share parameters within a network."
   ]
  },
  {
   "cell_type": "code",
   "execution_count": 1,
   "id": "9410875f",
   "metadata": {},
   "outputs": [],
   "source": [
    "import jaxley as jx\n",
    "from jaxley.channels import Na, K, Leak\n",
    "from jaxley.connect import fully_connect\n",
    "from jaxley.synapses import IonotropicSynapse"
   ]
  },
  {
   "cell_type": "markdown",
   "id": "4ef08770",
   "metadata": {},
   "source": [
    "### Preface: Building the network\n",
    "\n",
    "We first build a network consisting of six neurons, in the same way as we showed in the previous tutorials:"
   ]
  },
  {
   "cell_type": "code",
   "execution_count": 3,
   "id": "5b5957ff",
   "metadata": {},
   "outputs": [],
   "source": [
    "dt = 0.025\n",
    "t_max = 10.0\n",
    "\n",
    "comp = jx.Compartment()\n",
    "branch = jx.Branch(comp, nseg=2)\n",
    "cell = jx.Cell(branch, parents=[-1, 0])\n",
    "net = jx.Network([cell for _ in range(6)])\n",
    "fully_connect(net.cell([0, 1, 2]), net.cell([3, 4, 5]), IonotropicSynapse())"
   ]
  },
  {
   "cell_type": "markdown",
   "id": "5dc5c3f1",
   "metadata": {},
   "source": [
    "### Sharing parameters by modifying `controlled_by_param`"
   ]
  },
  {
   "cell_type": "code",
   "execution_count": 11,
   "id": "a407e72e",
   "metadata": {},
   "outputs": [
    {
     "name": "stdout",
     "output_type": "stream",
     "text": [
      "Number of newly added trainable parameters: 3. Total number of trainable parameters: 18\n"
     ]
    }
   ],
   "source": [
    "df = net.edges\n",
    "df = df.query(\"global_pre_cell_index in [0, 1, 2]\")\n",
    "subnetwork = net.select(edges=df.index)\n",
    "\n",
    "df = subnetwork.edges\n",
    "df[\"controlled_by_param\"] = df[\"global_pre_cell_index\"]\n",
    "subnetwork.make_trainable(\"IonotropicSynapse_gS\")"
   ]
  },
  {
   "cell_type": "markdown",
   "id": "bb8ad6bf",
   "metadata": {},
   "source": [
    "Let's look at this line by line. First, we exactly follow the previous tutorial in selecting the synapses which we are interested in training (i.e., the ones whose presynaptic neuron has index 0, 1, 2):"
   ]
  },
  {
   "cell_type": "code",
   "execution_count": 13,
   "id": "3a71555f",
   "metadata": {},
   "outputs": [],
   "source": [
    "df = net.edges\n",
    "df = df.query(\"global_pre_cell_index in [0, 1, 2]\")\n",
    "subnetwork = net.select(edges=df.index)"
   ]
  },
  {
   "cell_type": "markdown",
   "id": "b8a3c4f4",
   "metadata": {},
   "source": [
    "As second step, we enable parameter sharing. This is done by setting the `controlled_by_param`. Synapses that have the same value in `controlled_by_param` will be shared. Let's inspect `controlled_by_param` _before_ we modify it:"
   ]
  },
  {
   "cell_type": "code",
   "execution_count": 17,
   "id": "e1228844",
   "metadata": {},
   "outputs": [
    {
     "data": {
      "text/html": [
       "<div>\n",
       "<style scoped>\n",
       "    .dataframe tbody tr th:only-of-type {\n",
       "        vertical-align: middle;\n",
       "    }\n",
       "\n",
       "    .dataframe tbody tr th {\n",
       "        vertical-align: top;\n",
       "    }\n",
       "\n",
       "    .dataframe thead th {\n",
       "        text-align: right;\n",
       "    }\n",
       "</style>\n",
       "<table border=\"1\" class=\"dataframe\">\n",
       "  <thead>\n",
       "    <tr style=\"text-align: right;\">\n",
       "      <th></th>\n",
       "      <th>global_pre_cell_index</th>\n",
       "      <th>controlled_by_param</th>\n",
       "    </tr>\n",
       "  </thead>\n",
       "  <tbody>\n",
       "    <tr>\n",
       "      <th>0</th>\n",
       "      <td>0</td>\n",
       "      <td>0</td>\n",
       "    </tr>\n",
       "    <tr>\n",
       "      <th>1</th>\n",
       "      <td>0</td>\n",
       "      <td>1</td>\n",
       "    </tr>\n",
       "    <tr>\n",
       "      <th>2</th>\n",
       "      <td>0</td>\n",
       "      <td>2</td>\n",
       "    </tr>\n",
       "    <tr>\n",
       "      <th>3</th>\n",
       "      <td>1</td>\n",
       "      <td>3</td>\n",
       "    </tr>\n",
       "    <tr>\n",
       "      <th>4</th>\n",
       "      <td>1</td>\n",
       "      <td>4</td>\n",
       "    </tr>\n",
       "    <tr>\n",
       "      <th>5</th>\n",
       "      <td>1</td>\n",
       "      <td>5</td>\n",
       "    </tr>\n",
       "    <tr>\n",
       "      <th>6</th>\n",
       "      <td>2</td>\n",
       "      <td>6</td>\n",
       "    </tr>\n",
       "    <tr>\n",
       "      <th>7</th>\n",
       "      <td>2</td>\n",
       "      <td>7</td>\n",
       "    </tr>\n",
       "    <tr>\n",
       "      <th>8</th>\n",
       "      <td>2</td>\n",
       "      <td>8</td>\n",
       "    </tr>\n",
       "  </tbody>\n",
       "</table>\n",
       "</div>"
      ],
      "text/plain": [
       "   global_pre_cell_index  controlled_by_param\n",
       "0                      0                    0\n",
       "1                      0                    1\n",
       "2                      0                    2\n",
       "3                      1                    3\n",
       "4                      1                    4\n",
       "5                      1                    5\n",
       "6                      2                    6\n",
       "7                      2                    7\n",
       "8                      2                    8"
      ]
     },
     "execution_count": 17,
     "metadata": {},
     "output_type": "execute_result"
    }
   ],
   "source": [
    "subnetwork.edges[[\"global_pre_cell_index\", \"controlled_by_param\"]]"
   ]
  },
  {
   "cell_type": "markdown",
   "id": "79e105d7",
   "metadata": {},
   "source": [
    "Every synapse has a different value. Because of this, no synaptic parameters will be shared. To enable parameter sharing we override the `controlled_by_param` column with the presynaptic cell index:"
   ]
  },
  {
   "cell_type": "code",
   "execution_count": 18,
   "id": "c4082d47",
   "metadata": {},
   "outputs": [],
   "source": [
    "df = subnetwork.edges\n",
    "df[\"controlled_by_param\"] = df[\"global_pre_cell_index\"]"
   ]
  },
  {
   "cell_type": "code",
   "execution_count": 19,
   "id": "3011e554",
   "metadata": {},
   "outputs": [
    {
     "data": {
      "text/html": [
       "<div>\n",
       "<style scoped>\n",
       "    .dataframe tbody tr th:only-of-type {\n",
       "        vertical-align: middle;\n",
       "    }\n",
       "\n",
       "    .dataframe tbody tr th {\n",
       "        vertical-align: top;\n",
       "    }\n",
       "\n",
       "    .dataframe thead th {\n",
       "        text-align: right;\n",
       "    }\n",
       "</style>\n",
       "<table border=\"1\" class=\"dataframe\">\n",
       "  <thead>\n",
       "    <tr style=\"text-align: right;\">\n",
       "      <th></th>\n",
       "      <th>global_pre_cell_index</th>\n",
       "      <th>controlled_by_param</th>\n",
       "    </tr>\n",
       "  </thead>\n",
       "  <tbody>\n",
       "    <tr>\n",
       "      <th>0</th>\n",
       "      <td>0</td>\n",
       "      <td>0</td>\n",
       "    </tr>\n",
       "    <tr>\n",
       "      <th>1</th>\n",
       "      <td>0</td>\n",
       "      <td>0</td>\n",
       "    </tr>\n",
       "    <tr>\n",
       "      <th>2</th>\n",
       "      <td>0</td>\n",
       "      <td>0</td>\n",
       "    </tr>\n",
       "    <tr>\n",
       "      <th>3</th>\n",
       "      <td>1</td>\n",
       "      <td>1</td>\n",
       "    </tr>\n",
       "    <tr>\n",
       "      <th>4</th>\n",
       "      <td>1</td>\n",
       "      <td>1</td>\n",
       "    </tr>\n",
       "    <tr>\n",
       "      <th>5</th>\n",
       "      <td>1</td>\n",
       "      <td>1</td>\n",
       "    </tr>\n",
       "    <tr>\n",
       "      <th>6</th>\n",
       "      <td>2</td>\n",
       "      <td>2</td>\n",
       "    </tr>\n",
       "    <tr>\n",
       "      <th>7</th>\n",
       "      <td>2</td>\n",
       "      <td>2</td>\n",
       "    </tr>\n",
       "    <tr>\n",
       "      <th>8</th>\n",
       "      <td>2</td>\n",
       "      <td>2</td>\n",
       "    </tr>\n",
       "  </tbody>\n",
       "</table>\n",
       "</div>"
      ],
      "text/plain": [
       "   global_pre_cell_index  controlled_by_param\n",
       "0                      0                    0\n",
       "1                      0                    0\n",
       "2                      0                    0\n",
       "3                      1                    1\n",
       "4                      1                    1\n",
       "5                      1                    1\n",
       "6                      2                    2\n",
       "7                      2                    2\n",
       "8                      2                    2"
      ]
     },
     "execution_count": 19,
     "metadata": {},
     "output_type": "execute_result"
    }
   ],
   "source": [
    "df[[\"global_pre_cell_index\", \"controlled_by_param\"]]"
   ]
  },
  {
   "cell_type": "markdown",
   "id": "a4bc21ff",
   "metadata": {},
   "source": [
    "Now, all we have to do is to make these synaptic parameters trainable with the `make_trainable()` method:"
   ]
  },
  {
   "cell_type": "code",
   "execution_count": 20,
   "id": "c775e732",
   "metadata": {},
   "outputs": [
    {
     "name": "stdout",
     "output_type": "stream",
     "text": [
      "Number of newly added trainable parameters: 3. Total number of trainable parameters: 21\n"
     ]
    }
   ],
   "source": [
    "subnetwork.make_trainable(\"IonotropicSynapse_gS\")"
   ]
  },
  {
   "cell_type": "markdown",
   "id": "0e1ade3f",
   "metadata": {},
   "source": [
    "It correctly says that we added three parameters (because we have three cells, and we share individual synaptic parameters)."
   ]
  },
  {
   "cell_type": "markdown",
   "id": "2365b7bf",
   "metadata": {},
   "source": [
    "### A more involved example: sharing by pre- and post-synaptic cell type\n",
    "\n",
    "As a example, consider the following: We have a fully connected network of six cells. Each cell falls into one of three cell types:"
   ]
  },
  {
   "cell_type": "code",
   "execution_count": 48,
   "id": "c236e6d0",
   "metadata": {},
   "outputs": [],
   "source": [
    "net = jx.Network([cell for _ in range(6)])\n",
    "fully_connect(net.cell(\"all\"), net.cell(\"all\"), IonotropicSynapse())\n",
    "\n",
    "net.cell([0, 1]).add_to_group(\"exc\")\n",
    "net.cell([2, 3]).add_to_group(\"inh\")\n",
    "net.cell([4, 5]).add_to_group(\"unknown\")"
   ]
  },
  {
   "cell_type": "markdown",
   "id": "794dd7ca",
   "metadata": {},
   "source": [
    "We want to make all synapses that start from excitatory or inhibitory neurons trainable. In addition, we want to use the same parameter for synapses if they have the same pre- **and** post-synaptic cell type.\n",
    "\n",
    "Let's first query all synapses that start from excitatory or inhibitory neurons:"
   ]
  },
  {
   "cell_type": "code",
   "execution_count": 58,
   "id": "a00e68b8",
   "metadata": {},
   "outputs": [],
   "source": [
    "exc_cell_inds = net.exc.nodes[\"global_cell_index\"].unique().tolist()\n",
    "inh_cell_inds = net.inh.nodes[\"global_cell_index\"].unique().tolist()"
   ]
  },
  {
   "cell_type": "code",
   "execution_count": 66,
   "id": "be3e3c26",
   "metadata": {},
   "outputs": [
    {
     "name": "stdout",
     "output_type": "stream",
     "text": [
      "There are 24 synapses to be changed.\n"
     ]
    }
   ],
   "source": [
    "df = net.edges\n",
    "df = df.query(f\"global_pre_cell_index in {exc_cell_inds + inh_cell_inds}\")\n",
    "print(f\"There are {len(df)} synapses to be changed.\")\n",
    "\n",
    "subnetwork = net.select(edges=df.index)"
   ]
  },
  {
   "cell_type": "markdown",
   "id": "da7c962a",
   "metadata": {},
   "source": [
    "Next, we deal with parameter sharing. As described above, we want to use the same parameter only if neurons have the same pre- and post-synaptic cell **type**."
   ]
  },
  {
   "cell_type": "markdown",
   "id": "10ebfb3f",
   "metadata": {},
   "source": [
    "# TODO: we need access to the cell type!"
   ]
  },
  {
   "cell_type": "code",
   "execution_count": 41,
   "id": "7fe13405",
   "metadata": {},
   "outputs": [
    {
     "name": "stdout",
     "output_type": "stream",
     "text": [
      "Number of newly added trainable parameters: 9. Total number of trainable parameters: 33\n"
     ]
    }
   ],
   "source": [
    "df = subnetwork.edges\n",
    "df[\"controlled_by_param\"] = df.groupby([\"global_pre_cell_index\", \"global_post_cell_index\"]).ngroup()\n",
    "subnetwork.make_trainable(\"IonotropicSynapse_gS\")"
   ]
  },
  {
   "cell_type": "markdown",
   "id": "64ca799f",
   "metadata": {},
   "source": [
    "### Summary\n",
    "\n",
    "In this tutorial, you learned how you can flexibly share synaptic parameters. This works by first using `select()` to identify which synapses to make trainable, and by then modifying `controlled_by_param` to customize parameter sharing."
   ]
  }
 ],
 "metadata": {
  "kernelspec": {
   "display_name": "Python 3 (ipykernel)",
   "language": "python",
   "name": "python3"
  },
  "language_info": {
   "codemirror_mode": {
    "name": "ipython",
    "version": 3
   },
   "file_extension": ".py",
   "mimetype": "text/x-python",
   "name": "python",
   "nbconvert_exporter": "python",
   "pygments_lexer": "ipython3",
   "version": "3.12.4"
  }
 },
 "nbformat": 4,
 "nbformat_minor": 5
}
