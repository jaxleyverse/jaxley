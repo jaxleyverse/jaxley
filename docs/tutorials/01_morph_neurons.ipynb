{
 "cells": [
  {
   "cell_type": "markdown",
   "id": "8aa155e1",
   "metadata": {},
   "source": [
    "# Basics of Jaxley"
   ]
  },
  {
   "cell_type": "markdown",
   "id": "f5f3e2d5",
   "metadata": {},
   "source": [
    "In this tutorial, you will learn how to:\n",
    "\n",
    "- build your first morphologically detailed cell or read it from SWC  \n",
    "- stimulate the cell  \n",
    "- record from the cell  \n",
    "- visualize cells  \n",
    "- run your first simulation  \n",
    "\n",
    "Here is a code snippet which you will learn to understand in this tutorial:\n",
    "```python\n",
    "import jaxley as jx\n",
    "from jaxley.channels import Na, K, Leak\n",
    "import matplotlib.pyplot as plt\n",
    "\n",
    "\n",
    "# Build the cell.\n",
    "comp = jx.Compartment()\n",
    "branch = jx.Branch(comp, ncomp=2)\n",
    "cell = jx.Cell(branch, parents=[-1, 0, 0, 1, 1])\n",
    "\n",
    "# Insert channels.\n",
    "cell.insert(Leak())\n",
    "cell.branch(0).insert(Na())\n",
    "cell.branch(0).insert(K())\n",
    "\n",
    "# Change parameters.\n",
    "cell.set(\"axial_resistivity\", 200.0)\n",
    "\n",
    "# Visualize the morphology.\n",
    "cell.compute_xyz()\n",
    "fig, ax = plt.subplots(1, 1, figsize=(4, 4))\n",
    "cell.vis(ax=ax)\n",
    "\n",
    "# Stimulate.\n",
    "current = jx.step_current(i_delay=1.0, i_dur=1.0, i_amp=0.1, delta_t=0.025, t_max=10.0)\n",
    "cell.branch(0).loc(0.0).stimulate(current)\n",
    "\n",
    "# Record.\n",
    "cell.branch(0).loc(0.0).record(\"v\")\n",
    "\n",
    "# Simulate and plot.\n",
    "v = jx.integrate(cell, delta_t=0.025)\n",
    "plt.plot(v.T)\n",
    "```"
   ]
  },
  {
   "cell_type": "markdown",
   "id": "c71f01bf",
   "metadata": {},
   "source": [
    "First, we import the relevant libraries:"
   ]
  },
  {
   "cell_type": "code",
   "execution_count": 1,
   "id": "c5a155e9",
   "metadata": {},
   "outputs": [],
   "source": [
    "from jax import config\n",
    "config.update(\"jax_enable_x64\", True)\n",
    "config.update(\"jax_platform_name\", \"cpu\")\n",
    "\n",
    "import matplotlib.pyplot as plt\n",
    "import numpy as np\n",
    "import jax.numpy as jnp\n",
    "from jax import jit\n",
    "\n",
    "import jaxley as jx\n",
    "from jaxley.channels import Na, K, Leak\n",
    "from jaxley.synapses import IonotropicSynapse\n",
    "from jaxley.connect import fully_connect"
   ]
  },
  {
   "cell_type": "markdown",
   "id": "27a9fc7f",
   "metadata": {},
   "source": [
    "We will now build our first cell in `Jaxley`. You have two options to do this: you can either build a cell bottom-up by defining the morphology yourself, or you can [load cells from SWC files](https://jaxley.readthedocs.io/en/latest/tutorials/08_importing_morphologies.html).\n"
   ]
  },
  {
   "cell_type": "markdown",
   "id": "7aa13bb2",
   "metadata": {},
   "source": [
    "### Define the cell from scratch\n",
    "\n",
    "To define a cell from scratch you first have to define a single compartment and then assemble those compartments into a branch:"
   ]
  },
  {
   "cell_type": "code",
   "execution_count": 2,
   "id": "b4328138",
   "metadata": {},
   "outputs": [],
   "source": [
    "comp = jx.Compartment()\n",
    "branch = jx.Branch(comp, ncomp=2)"
   ]
  },
  {
   "cell_type": "markdown",
   "id": "47228021",
   "metadata": {},
   "source": [
    "Next, we can assemble branches into a cell. To do so, we have to define for each branch what its parent branch is. A `-1` entry means that this branch does not have a parent."
   ]
  },
  {
   "cell_type": "code",
   "execution_count": 3,
   "id": "a4593ab3",
   "metadata": {},
   "outputs": [],
   "source": [
    "parents = jnp.asarray([-1, 0, 0, 1, 1])\n",
    "cell = jx.Cell(branch, parents=parents)"
   ]
  },
  {
   "cell_type": "markdown",
   "id": "2169aff5",
   "metadata": {},
   "source": [
    "To learn more about `Compartment`s, `Branch`es, and `Cell`s, see [this tutorial](https://jaxley.readthedocs.io/en/latest/tutorials/00_jaxley_api.html)."
   ]
  },
  {
   "cell_type": "markdown",
   "id": "f8677174",
   "metadata": {},
   "source": [
    "### Read the cell from an SWC file\n",
    "\n",
    "Alternatively, you could also load cells from SWC with \n",
    "\n",
    "```cell = jx.read_swc(fname, ncomp=4)```\n",
    "\n",
    "Details on handling SWC files can be found in [this tutorial](https://jaxley.readthedocs.io/en/latest/tutorials/08_importing_morphologies.html)."
   ]
  },
  {
   "cell_type": "markdown",
   "id": "4a11eeb8",
   "metadata": {},
   "source": [
    "### Visualize the cells"
   ]
  },
  {
   "cell_type": "markdown",
   "id": "eee45187",
   "metadata": {},
   "source": [
    "Cells can be visualized as follows:"
   ]
  },
  {
   "cell_type": "code",
   "execution_count": 5,
   "id": "fb397646",
   "metadata": {},
   "outputs": [
    {
     "data": {
      "image/png": "[encoded data removed]",
      "text/plain": [
       "<Figure size 400x200 with 1 Axes>"
      ]
     },
     "metadata": {},
     "output_type": "display_data"
    }
   ],
   "source": [
    "cell.compute_xyz()  # Only needed for visualization.\n",
    "\n",
    "fig, ax = plt.subplots(1, 1, figsize=(4, 2))\n",
    "_ = cell.vis(ax=ax, color=\"k\")"
   ]
  },
  {
   "cell_type": "markdown",
   "id": "b52fc6f7",
   "metadata": {},
   "source": [
    "### Insert mechanisms\n",
    "\n",
    "Currently, the cell does not contain any kind of ion channel (not even a `leak`). We can fix this by inserting a leak channel into the entire cell, and by inserting sodium and potassium into the zero-eth branch."
   ]
  },
  {
   "cell_type": "code",
   "execution_count": 6,
   "id": "28ad0fe7",
   "metadata": {},
   "outputs": [],
   "source": [
    "cell.insert(Leak())\n",
    "cell.branch(0).insert(Na())\n",
    "cell.branch(0).insert(K())"
   ]
  },
  {
   "cell_type": "markdown",
   "id": "0e2e96d8",
   "metadata": {},
   "source": [
    "Once the cell is created, we can inspect its `.nodes` attribute which lists all properties of the cell:"
   ]
  },
  {
   "cell_type": "code",
   "execution_count": 7,
   "id": "631ffca5",
   "metadata": {},
   "outputs": [
    {
     "data": {
      "text/html": [
       "<div>\n",
       "<style scoped>\n",
       "    .dataframe tbody tr th:only-of-type {\n",
       "        vertical-align: middle;\n",
       "    }\n",
       "\n",
       "    .dataframe tbody tr th {\n",
       "        vertical-align: top;\n",
       "    }\n",
       "\n",
       "    .dataframe thead th {\n",
       "        text-align: right;\n",
       "    }\n",
       "</style>\n",
       "<table border=\"1\" class=\"dataframe\">\n",
       "  <thead>\n",
       "    <tr style=\"text-align: right;\">\n",
       "      <th></th>\n",
       "      <th>local_cell_index</th>\n",
       "      <th>local_branch_index</th>\n",
       "      <th>local_comp_index</th>\n",
       "      <th>length</th>\n",
       "      <th>radius</th>\n",
       "      <th>axial_resistivity</th>\n",
       "      <th>capacitance</th>\n",
       "      <th>v</th>\n",
       "      <th>global_cell_index</th>\n",
       "      <th>global_branch_index</th>\n",
       "      <th>...</th>\n",
       "      <th>Na</th>\n",
       "      <th>Na_gNa</th>\n",
       "      <th>eNa</th>\n",
       "      <th>vt</th>\n",
       "      <th>Na_m</th>\n",
       "      <th>Na_h</th>\n",
       "      <th>K</th>\n",
       "      <th>K_gK</th>\n",
       "      <th>eK</th>\n",
       "      <th>K_n</th>\n",
       "    </tr>\n",
       "  </thead>\n",
       "  <tbody>\n",
       "    <tr>\n",
       "      <th>0</th>\n",
       "      <td>0</td>\n",
       "      <td>0</td>\n",
       "      <td>0</td>\n",
       "      <td>10.0</td>\n",
       "      <td>1.0</td>\n",
       "      <td>5000.0</td>\n",
       "      <td>1.0</td>\n",
       "      <td>-70.0</td>\n",
       "      <td>0</td>\n",
       "      <td>0</td>\n",
       "      <td>...</td>\n",
       "      <td>True</td>\n",
       "      <td>0.05</td>\n",
       "      <td>50.0</td>\n",
       "      <td>-60.0</td>\n",
       "      <td>0.2</td>\n",
       "      <td>0.2</td>\n",
       "      <td>True</td>\n",
       "      <td>0.005</td>\n",
       "      <td>-90.0</td>\n",
       "      <td>0.2</td>\n",
       "    </tr>\n",
       "    <tr>\n",
       "      <th>1</th>\n",
       "      <td>0</td>\n",
       "      <td>0</td>\n",
       "      <td>1</td>\n",
       "      <td>10.0</td>\n",
       "      <td>1.0</td>\n",
       "      <td>5000.0</td>\n",
       "      <td>1.0</td>\n",
       "      <td>-70.0</td>\n",
       "      <td>0</td>\n",
       "      <td>0</td>\n",
       "      <td>...</td>\n",
       "      <td>True</td>\n",
       "      <td>0.05</td>\n",
       "      <td>50.0</td>\n",
       "      <td>-60.0</td>\n",
       "      <td>0.2</td>\n",
       "      <td>0.2</td>\n",
       "      <td>True</td>\n",
       "      <td>0.005</td>\n",
       "      <td>-90.0</td>\n",
       "      <td>0.2</td>\n",
       "    </tr>\n",
       "    <tr>\n",
       "      <th>2</th>\n",
       "      <td>0</td>\n",
       "      <td>1</td>\n",
       "      <td>0</td>\n",
       "      <td>10.0</td>\n",
       "      <td>1.0</td>\n",
       "      <td>5000.0</td>\n",
       "      <td>1.0</td>\n",
       "      <td>-70.0</td>\n",
       "      <td>0</td>\n",
       "      <td>1</td>\n",
       "      <td>...</td>\n",
       "      <td>False</td>\n",
       "      <td>NaN</td>\n",
       "      <td>NaN</td>\n",
       "      <td>NaN</td>\n",
       "      <td>NaN</td>\n",
       "      <td>NaN</td>\n",
       "      <td>False</td>\n",
       "      <td>NaN</td>\n",
       "      <td>NaN</td>\n",
       "      <td>NaN</td>\n",
       "    </tr>\n",
       "    <tr>\n",
       "      <th>3</th>\n",
       "      <td>0</td>\n",
       "      <td>1</td>\n",
       "      <td>1</td>\n",
       "      <td>10.0</td>\n",
       "      <td>1.0</td>\n",
       "      <td>5000.0</td>\n",
       "      <td>1.0</td>\n",
       "      <td>-70.0</td>\n",
       "      <td>0</td>\n",
       "      <td>1</td>\n",
       "      <td>...</td>\n",
       "      <td>False</td>\n",
       "      <td>NaN</td>\n",
       "      <td>NaN</td>\n",
       "      <td>NaN</td>\n",
       "      <td>NaN</td>\n",
       "      <td>NaN</td>\n",
       "      <td>False</td>\n",
       "      <td>NaN</td>\n",
       "      <td>NaN</td>\n",
       "      <td>NaN</td>\n",
       "    </tr>\n",
       "    <tr>\n",
       "      <th>4</th>\n",
       "      <td>0</td>\n",
       "      <td>2</td>\n",
       "      <td>0</td>\n",
       "      <td>10.0</td>\n",
       "      <td>1.0</td>\n",
       "      <td>5000.0</td>\n",
       "      <td>1.0</td>\n",
       "      <td>-70.0</td>\n",
       "      <td>0</td>\n",
       "      <td>2</td>\n",
       "      <td>...</td>\n",
       "      <td>False</td>\n",
       "      <td>NaN</td>\n",
       "      <td>NaN</td>\n",
       "      <td>NaN</td>\n",
       "      <td>NaN</td>\n",
       "      <td>NaN</td>\n",
       "      <td>False</td>\n",
       "      <td>NaN</td>\n",
       "      <td>NaN</td>\n",
       "      <td>NaN</td>\n",
       "    </tr>\n",
       "    <tr>\n",
       "      <th>5</th>\n",
       "      <td>0</td>\n",
       "      <td>2</td>\n",
       "      <td>1</td>\n",
       "      <td>10.0</td>\n",
       "      <td>1.0</td>\n",
       "      <td>5000.0</td>\n",
       "      <td>1.0</td>\n",
       "      <td>-70.0</td>\n",
       "      <td>0</td>\n",
       "      <td>2</td>\n",
       "      <td>...</td>\n",
       "      <td>False</td>\n",
       "      <td>NaN</td>\n",
       "      <td>NaN</td>\n",
       "      <td>NaN</td>\n",
       "      <td>NaN</td>\n",
       "      <td>NaN</td>\n",
       "      <td>False</td>\n",
       "      <td>NaN</td>\n",
       "      <td>NaN</td>\n",
       "      <td>NaN</td>\n",
       "    </tr>\n",
       "    <tr>\n",
       "      <th>6</th>\n",
       "      <td>0</td>\n",
       "      <td>3</td>\n",
       "      <td>0</td>\n",
       "      <td>10.0</td>\n",
       "      <td>1.0</td>\n",
       "      <td>5000.0</td>\n",
       "      <td>1.0</td>\n",
       "      <td>-70.0</td>\n",
       "      <td>0</td>\n",
       "      <td>3</td>\n",
       "      <td>...</td>\n",
       "      <td>False</td>\n",
       "      <td>NaN</td>\n",
       "      <td>NaN</td>\n",
       "      <td>NaN</td>\n",
       "      <td>NaN</td>\n",
       "      <td>NaN</td>\n",
       "      <td>False</td>\n",
       "      <td>NaN</td>\n",
       "      <td>NaN</td>\n",
       "      <td>NaN</td>\n",
       "    </tr>\n",
       "    <tr>\n",
       "      <th>7</th>\n",
       "      <td>0</td>\n",
       "      <td>3</td>\n",
       "      <td>1</td>\n",
       "      <td>10.0</td>\n",
       "      <td>1.0</td>\n",
       "      <td>5000.0</td>\n",
       "      <td>1.0</td>\n",
       "      <td>-70.0</td>\n",
       "      <td>0</td>\n",
       "      <td>3</td>\n",
       "      <td>...</td>\n",
       "      <td>False</td>\n",
       "      <td>NaN</td>\n",
       "      <td>NaN</td>\n",
       "      <td>NaN</td>\n",
       "      <td>NaN</td>\n",
       "      <td>NaN</td>\n",
       "      <td>False</td>\n",
       "      <td>NaN</td>\n",
       "      <td>NaN</td>\n",
       "      <td>NaN</td>\n",
       "    </tr>\n",
       "    <tr>\n",
       "      <th>8</th>\n",
       "      <td>0</td>\n",
       "      <td>4</td>\n",
       "      <td>0</td>\n",
       "      <td>10.0</td>\n",
       "      <td>1.0</td>\n",
       "      <td>5000.0</td>\n",
       "      <td>1.0</td>\n",
       "      <td>-70.0</td>\n",
       "      <td>0</td>\n",
       "      <td>4</td>\n",
       "      <td>...</td>\n",
       "      <td>False</td>\n",
       "      <td>NaN</td>\n",
       "      <td>NaN</td>\n",
       "      <td>NaN</td>\n",
       "      <td>NaN</td>\n",
       "      <td>NaN</td>\n",
       "      <td>False</td>\n",
       "      <td>NaN</td>\n",
       "      <td>NaN</td>\n",
       "      <td>NaN</td>\n",
       "    </tr>\n",
       "    <tr>\n",
       "      <th>9</th>\n",
       "      <td>0</td>\n",
       "      <td>4</td>\n",
       "      <td>1</td>\n",
       "      <td>10.0</td>\n",
       "      <td>1.0</td>\n",
       "      <td>5000.0</td>\n",
       "      <td>1.0</td>\n",
       "      <td>-70.0</td>\n",
       "      <td>0</td>\n",
       "      <td>4</td>\n",
       "      <td>...</td>\n",
       "      <td>False</td>\n",
       "      <td>NaN</td>\n",
       "      <td>NaN</td>\n",
       "      <td>NaN</td>\n",
       "      <td>NaN</td>\n",
       "      <td>NaN</td>\n",
       "      <td>False</td>\n",
       "      <td>NaN</td>\n",
       "      <td>NaN</td>\n",
       "      <td>NaN</td>\n",
       "    </tr>\n",
       "  </tbody>\n",
       "</table>\n",
       "<p>10 rows × 25 columns</p>\n",
       "</div>"
      ],
      "text/plain": [
       "   local_cell_index  local_branch_index  local_comp_index  length  radius  \\\n",
       "0                 0                   0                 0    10.0     1.0   \n",
       "1                 0                   0                 1    10.0     1.0   \n",
       "2                 0                   1                 0    10.0     1.0   \n",
       "3                 0                   1                 1    10.0     1.0   \n",
       "4                 0                   2                 0    10.0     1.0   \n",
       "5                 0                   2                 1    10.0     1.0   \n",
       "6                 0                   3                 0    10.0     1.0   \n",
       "7                 0                   3                 1    10.0     1.0   \n",
       "8                 0                   4                 0    10.0     1.0   \n",
       "9                 0                   4                 1    10.0     1.0   \n",
       "\n",
       "   axial_resistivity  capacitance     v  global_cell_index  \\\n",
       "0             5000.0          1.0 -70.0                  0   \n",
       "1             5000.0          1.0 -70.0                  0   \n",
       "2             5000.0          1.0 -70.0                  0   \n",
       "3             5000.0          1.0 -70.0                  0   \n",
       "4             5000.0          1.0 -70.0                  0   \n",
       "5             5000.0          1.0 -70.0                  0   \n",
       "6             5000.0          1.0 -70.0                  0   \n",
       "7             5000.0          1.0 -70.0                  0   \n",
       "8             5000.0          1.0 -70.0                  0   \n",
       "9             5000.0          1.0 -70.0                  0   \n",
       "\n",
       "   global_branch_index  ...     Na  Na_gNa   eNa    vt  Na_m  Na_h      K  \\\n",
       "0                    0  ...   True    0.05  50.0 -60.0   0.2   0.2   True   \n",
       "1                    0  ...   True    0.05  50.0 -60.0   0.2   0.2   True   \n",
       "2                    1  ...  False     NaN   NaN   NaN   NaN   NaN  False   \n",
       "3                    1  ...  False     NaN   NaN   NaN   NaN   NaN  False   \n",
       "4                    2  ...  False     NaN   NaN   NaN   NaN   NaN  False   \n",
       "5                    2  ...  False     NaN   NaN   NaN   NaN   NaN  False   \n",
       "6                    3  ...  False     NaN   NaN   NaN   NaN   NaN  False   \n",
       "7                    3  ...  False     NaN   NaN   NaN   NaN   NaN  False   \n",
       "8                    4  ...  False     NaN   NaN   NaN   NaN   NaN  False   \n",
       "9                    4  ...  False     NaN   NaN   NaN   NaN   NaN  False   \n",
       "\n",
       "    K_gK    eK  K_n  \n",
       "0  0.005 -90.0  0.2  \n",
       "1  0.005 -90.0  0.2  \n",
       "2    NaN   NaN  NaN  \n",
       "3    NaN   NaN  NaN  \n",
       "4    NaN   NaN  NaN  \n",
       "5    NaN   NaN  NaN  \n",
       "6    NaN   NaN  NaN  \n",
       "7    NaN   NaN  NaN  \n",
       "8    NaN   NaN  NaN  \n",
       "9    NaN   NaN  NaN  \n",
       "\n",
       "[10 rows x 25 columns]"
      ]
     },
     "execution_count": 7,
     "metadata": {},
     "output_type": "execute_result"
    }
   ],
   "source": [
    "cell.nodes"
   ]
  },
  {
   "cell_type": "markdown",
   "id": "ae2f653e",
   "metadata": {},
   "source": [
    "_Note that `Jaxley` uses the same units as the `NEURON` simulator, which are listed [here](https://www.neuron.yale.edu/neuron/static/docs/units/unitchart.html)._\n",
    "\n",
    "You can also inspect just parts of the `cell`, for example its 1st branch:"
   ]
  },
  {
   "cell_type": "code",
   "execution_count": 8,
   "id": "a9c14939",
   "metadata": {},
   "outputs": [
    {
     "data": {
      "text/html": [
       "<div>\n",
       "<style scoped>\n",
       "    .dataframe tbody tr th:only-of-type {\n",
       "        vertical-align: middle;\n",
       "    }\n",
       "\n",
       "    .dataframe tbody tr th {\n",
       "        vertical-align: top;\n",
       "    }\n",
       "\n",
       "    .dataframe thead th {\n",
       "        text-align: right;\n",
       "    }\n",
       "</style>\n",
       "<table border=\"1\" class=\"dataframe\">\n",
       "  <thead>\n",
       "    <tr style=\"text-align: right;\">\n",
       "      <th></th>\n",
       "      <th>local_cell_index</th>\n",
       "      <th>local_branch_index</th>\n",
       "      <th>local_comp_index</th>\n",
       "      <th>length</th>\n",
       "      <th>radius</th>\n",
       "      <th>axial_resistivity</th>\n",
       "      <th>capacitance</th>\n",
       "      <th>v</th>\n",
       "      <th>Leak</th>\n",
       "      <th>Leak_gLeak</th>\n",
       "      <th>...</th>\n",
       "      <th>Na_m</th>\n",
       "      <th>Na_h</th>\n",
       "      <th>K</th>\n",
       "      <th>K_gK</th>\n",
       "      <th>eK</th>\n",
       "      <th>K_n</th>\n",
       "      <th>global_cell_index</th>\n",
       "      <th>global_branch_index</th>\n",
       "      <th>global_comp_index</th>\n",
       "      <th>controlled_by_param</th>\n",
       "    </tr>\n",
       "  </thead>\n",
       "  <tbody>\n",
       "    <tr>\n",
       "      <th>2</th>\n",
       "      <td>0</td>\n",
       "      <td>0</td>\n",
       "      <td>0</td>\n",
       "      <td>10.0</td>\n",
       "      <td>1.0</td>\n",
       "      <td>5000.0</td>\n",
       "      <td>1.0</td>\n",
       "      <td>-70.0</td>\n",
       "      <td>True</td>\n",
       "      <td>0.0001</td>\n",
       "      <td>...</td>\n",
       "      <td>NaN</td>\n",
       "      <td>NaN</td>\n",
       "      <td>False</td>\n",
       "      <td>NaN</td>\n",
       "      <td>NaN</td>\n",
       "      <td>NaN</td>\n",
       "      <td>0</td>\n",
       "      <td>1</td>\n",
       "      <td>2</td>\n",
       "      <td>1</td>\n",
       "    </tr>\n",
       "    <tr>\n",
       "      <th>3</th>\n",
       "      <td>0</td>\n",
       "      <td>0</td>\n",
       "      <td>1</td>\n",
       "      <td>10.0</td>\n",
       "      <td>1.0</td>\n",
       "      <td>5000.0</td>\n",
       "      <td>1.0</td>\n",
       "      <td>-70.0</td>\n",
       "      <td>True</td>\n",
       "      <td>0.0001</td>\n",
       "      <td>...</td>\n",
       "      <td>NaN</td>\n",
       "      <td>NaN</td>\n",
       "      <td>False</td>\n",
       "      <td>NaN</td>\n",
       "      <td>NaN</td>\n",
       "      <td>NaN</td>\n",
       "      <td>0</td>\n",
       "      <td>1</td>\n",
       "      <td>3</td>\n",
       "      <td>1</td>\n",
       "    </tr>\n",
       "  </tbody>\n",
       "</table>\n",
       "<p>2 rows × 25 columns</p>\n",
       "</div>"
      ],
      "text/plain": [
       "   local_cell_index  local_branch_index  local_comp_index  length  radius  \\\n",
       "2                 0                   0                 0    10.0     1.0   \n",
       "3                 0                   0                 1    10.0     1.0   \n",
       "\n",
       "   axial_resistivity  capacitance     v  Leak  Leak_gLeak  ...  Na_m  Na_h  \\\n",
       "2             5000.0          1.0 -70.0  True      0.0001  ...   NaN   NaN   \n",
       "3             5000.0          1.0 -70.0  True      0.0001  ...   NaN   NaN   \n",
       "\n",
       "       K  K_gK  eK  K_n  global_cell_index  global_branch_index  \\\n",
       "2  False   NaN NaN  NaN                  0                    1   \n",
       "3  False   NaN NaN  NaN                  0                    1   \n",
       "\n",
       "   global_comp_index  controlled_by_param  \n",
       "2                  2                    1  \n",
       "3                  3                    1  \n",
       "\n",
       "[2 rows x 25 columns]"
      ]
     },
     "execution_count": 8,
     "metadata": {},
     "output_type": "execute_result"
    }
   ],
   "source": [
    "cell.branch(1).nodes"
   ]
  },
  {
   "cell_type": "markdown",
   "id": "1543cda4",
   "metadata": {},
   "source": [
    "The easiest way to know which branch is the 1st branch (or, e.g., the zero-eth compartment of the 1st branch) is to plot it in a different color:"
   ]
  },
  {
   "cell_type": "code",
   "execution_count": 9,
   "id": "14c48c56",
   "metadata": {},
   "outputs": [
    {
     "data": {
      "image/png": "[encoded data removed]",
      "text/plain": [
       "<Figure size 400x200 with 1 Axes>"
      ]
     },
     "metadata": {},
     "output_type": "display_data"
    }
   ],
   "source": [
    "fig, ax = plt.subplots(1, 1, figsize=(4, 2))\n",
    "_ = cell.vis(ax=ax, color=\"k\")\n",
    "_ = cell.branch(1).vis(ax=ax, color=\"r\")\n",
    "_ = cell.branch(1).comp(1).vis(ax=ax, color=\"b\")"
   ]
  },
  {
   "cell_type": "markdown",
   "id": "8f48a9b6",
   "metadata": {},
   "source": [
    "More background and features on indexing as `cell.branch(0)` is in [this tutorial](https://jaxley.readthedocs.io/en/latest/tutorials/00_jaxley_api.html)."
   ]
  },
  {
   "cell_type": "markdown",
   "id": "44e07e81",
   "metadata": {},
   "source": [
    "### Change parameters of the cell\n",
    "\n",
    "You can change properties of the cell with the `.set()` method:"
   ]
  },
  {
   "cell_type": "code",
   "execution_count": 10,
   "id": "b278b102",
   "metadata": {},
   "outputs": [],
   "source": [
    "cell.branch(1).set(\"axial_resistivity\", 200.0)"
   ]
  },
  {
   "cell_type": "markdown",
   "id": "ff765231",
   "metadata": {},
   "source": [
    "And we can again inspect the `.nodes` to make sure that the axial resistivity indeed changed:"
   ]
  },
  {
   "cell_type": "code",
   "execution_count": 11,
   "id": "a133e5f6",
   "metadata": {},
   "outputs": [
    {
     "data": {
      "text/html": [
       "<div>\n",
       "<style scoped>\n",
       "    .dataframe tbody tr th:only-of-type {\n",
       "        vertical-align: middle;\n",
       "    }\n",
       "\n",
       "    .dataframe tbody tr th {\n",
       "        vertical-align: top;\n",
       "    }\n",
       "\n",
       "    .dataframe thead th {\n",
       "        text-align: right;\n",
       "    }\n",
       "</style>\n",
       "<table border=\"1\" class=\"dataframe\">\n",
       "  <thead>\n",
       "    <tr style=\"text-align: right;\">\n",
       "      <th></th>\n",
       "      <th>local_cell_index</th>\n",
       "      <th>local_branch_index</th>\n",
       "      <th>local_comp_index</th>\n",
       "      <th>length</th>\n",
       "      <th>radius</th>\n",
       "      <th>axial_resistivity</th>\n",
       "      <th>capacitance</th>\n",
       "      <th>v</th>\n",
       "      <th>Leak</th>\n",
       "      <th>Leak_gLeak</th>\n",
       "      <th>...</th>\n",
       "      <th>Na_m</th>\n",
       "      <th>Na_h</th>\n",
       "      <th>K</th>\n",
       "      <th>K_gK</th>\n",
       "      <th>eK</th>\n",
       "      <th>K_n</th>\n",
       "      <th>global_cell_index</th>\n",
       "      <th>global_branch_index</th>\n",
       "      <th>global_comp_index</th>\n",
       "      <th>controlled_by_param</th>\n",
       "    </tr>\n",
       "  </thead>\n",
       "  <tbody>\n",
       "    <tr>\n",
       "      <th>2</th>\n",
       "      <td>0</td>\n",
       "      <td>0</td>\n",
       "      <td>0</td>\n",
       "      <td>10.0</td>\n",
       "      <td>1.0</td>\n",
       "      <td>200.0</td>\n",
       "      <td>1.0</td>\n",
       "      <td>-70.0</td>\n",
       "      <td>True</td>\n",
       "      <td>0.0001</td>\n",
       "      <td>...</td>\n",
       "      <td>NaN</td>\n",
       "      <td>NaN</td>\n",
       "      <td>False</td>\n",
       "      <td>NaN</td>\n",
       "      <td>NaN</td>\n",
       "      <td>NaN</td>\n",
       "      <td>0</td>\n",
       "      <td>1</td>\n",
       "      <td>2</td>\n",
       "      <td>1</td>\n",
       "    </tr>\n",
       "    <tr>\n",
       "      <th>3</th>\n",
       "      <td>0</td>\n",
       "      <td>0</td>\n",
       "      <td>1</td>\n",
       "      <td>10.0</td>\n",
       "      <td>1.0</td>\n",
       "      <td>200.0</td>\n",
       "      <td>1.0</td>\n",
       "      <td>-70.0</td>\n",
       "      <td>True</td>\n",
       "      <td>0.0001</td>\n",
       "      <td>...</td>\n",
       "      <td>NaN</td>\n",
       "      <td>NaN</td>\n",
       "      <td>False</td>\n",
       "      <td>NaN</td>\n",
       "      <td>NaN</td>\n",
       "      <td>NaN</td>\n",
       "      <td>0</td>\n",
       "      <td>1</td>\n",
       "      <td>3</td>\n",
       "      <td>1</td>\n",
       "    </tr>\n",
       "  </tbody>\n",
       "</table>\n",
       "<p>2 rows × 25 columns</p>\n",
       "</div>"
      ],
      "text/plain": [
       "   local_cell_index  local_branch_index  local_comp_index  length  radius  \\\n",
       "2                 0                   0                 0    10.0     1.0   \n",
       "3                 0                   0                 1    10.0     1.0   \n",
       "\n",
       "   axial_resistivity  capacitance     v  Leak  Leak_gLeak  ...  Na_m  Na_h  \\\n",
       "2              200.0          1.0 -70.0  True      0.0001  ...   NaN   NaN   \n",
       "3              200.0          1.0 -70.0  True      0.0001  ...   NaN   NaN   \n",
       "\n",
       "       K  K_gK  eK  K_n  global_cell_index  global_branch_index  \\\n",
       "2  False   NaN NaN  NaN                  0                    1   \n",
       "3  False   NaN NaN  NaN                  0                    1   \n",
       "\n",
       "   global_comp_index  controlled_by_param  \n",
       "2                  2                    1  \n",
       "3                  3                    1  \n",
       "\n",
       "[2 rows x 25 columns]"
      ]
     },
     "execution_count": 11,
     "metadata": {},
     "output_type": "execute_result"
    }
   ],
   "source": [
    "cell.branch(1).nodes"
   ]
  },
  {
   "cell_type": "markdown",
   "id": "e03c70a3",
   "metadata": {},
   "source": [
    "In a similar way, you can modify channel properties or initial states (units are again [here](https://www.neuron.yale.edu/neuron/static/docs/units/unitchart.html)):"
   ]
  },
  {
   "cell_type": "code",
   "execution_count": 12,
   "id": "529721d6",
   "metadata": {},
   "outputs": [],
   "source": [
    "cell.branch(0).set(\"K_gK\", 0.01)  # modify potassium conductance.\n",
    "cell.set(\"v\", -65.0)  # modify initial voltage."
   ]
  },
  {
   "cell_type": "markdown",
   "id": "a9d1874b",
   "metadata": {},
   "source": [
    "### Stimulate the cell\n",
    "\n",
    "We next stimulate one of the compartments with a step current. For this, we first define the step current (units are again [here](https://www.neuron.yale.edu/neuron/static/docs/units/unitchart.html)):"
   ]
  },
  {
   "cell_type": "code",
   "execution_count": 13,
   "id": "68eff096",
   "metadata": {},
   "outputs": [
    {
     "data": {
      "image/png": "[encoded data removed]",
      "text/plain": [
       "<Figure size 400x200 with 1 Axes>"
      ]
     },
     "metadata": {},
     "output_type": "display_data"
    }
   ],
   "source": [
    "dt = 0.025\n",
    "t_max = 10.0\n",
    "time_vec = np.arange(0, t_max+dt, dt)\n",
    "current = jx.step_current(i_delay=1.0, i_dur=2.0, i_amp=0.08, delta_t=dt, t_max=t_max)\n",
    "\n",
    "fig, ax = plt.subplots(1, 1, figsize=(4, 2))\n",
    "_ = plt.plot(time_vec, current)"
   ]
  },
  {
   "cell_type": "markdown",
   "id": "0ebcb85e",
   "metadata": {},
   "source": [
    "We then stimulate one of the compartments of the cell with this step current:"
   ]
  },
  {
   "cell_type": "code",
   "execution_count": 14,
   "id": "f12a9752",
   "metadata": {},
   "outputs": [
    {
     "name": "stdout",
     "output_type": "stream",
     "text": [
      "Added 1 external_states. See `.externals` for details.\n"
     ]
    }
   ],
   "source": [
    "cell.delete_stimuli()\n",
    "cell.branch(0).loc(0.0).stimulate(current)"
   ]
  },
  {
   "cell_type": "markdown",
   "id": "8f33af17",
   "metadata": {},
   "source": [
    "### Define recordings"
   ]
  },
  {
   "cell_type": "markdown",
   "id": "ef2c3bc8",
   "metadata": {},
   "source": [
    "Next, you have to define where to record the voltage. In this case, we will record the voltage at two locations:"
   ]
  },
  {
   "cell_type": "code",
   "execution_count": 15,
   "id": "601581a6",
   "metadata": {},
   "outputs": [
    {
     "name": "stdout",
     "output_type": "stream",
     "text": [
      "Added 1 recordings. See `.recordings` for details.\n",
      "Added 1 recordings. See `.recordings` for details.\n"
     ]
    }
   ],
   "source": [
    "cell.delete_recordings()\n",
    "cell.branch(0).loc(0.0).record(\"v\")\n",
    "cell.branch(3).loc(1.0).record(\"v\")"
   ]
  },
  {
   "cell_type": "markdown",
   "id": "10d7a74c",
   "metadata": {},
   "source": [
    "We can again visualize these locations to understand where we inserted recordings:"
   ]
  },
  {
   "cell_type": "code",
   "execution_count": 16,
   "id": "cfdfca80",
   "metadata": {},
   "outputs": [
    {
     "data": {
      "image/png": "[encoded data removed]",
      "text/plain": [
       "<Figure size 400x200 with 1 Axes>"
      ]
     },
     "metadata": {},
     "output_type": "display_data"
    }
   ],
   "source": [
    "fig, ax = plt.subplots(1, 1, figsize=(4, 2))\n",
    "_ = cell.vis(ax=ax)\n",
    "_ = cell.branch(0).loc(0.0).vis(ax=ax, color=\"b\")\n",
    "_ = cell.branch(3).loc(1.0).vis(ax=ax, color=\"g\")"
   ]
  },
  {
   "cell_type": "markdown",
   "id": "ca6dfaf3",
   "metadata": {},
   "source": [
    "### Simulate the cell response\n",
    "\n",
    "Having set up the cell, inserted stimuli and recordings, we are now ready to run a simulation with `jx.integrate`:"
   ]
  },
  {
   "cell_type": "code",
   "execution_count": 17,
   "id": "a03b4ef6",
   "metadata": {},
   "outputs": [
    {
     "name": "stdout",
     "output_type": "stream",
     "text": [
      "voltages.shape (2, 402)\n"
     ]
    }
   ],
   "source": [
    "voltages = jx.integrate(cell, delta_t=dt)\n",
    "print(\"voltages.shape\", voltages.shape)"
   ]
  },
  {
   "cell_type": "markdown",
   "id": "534355d0",
   "metadata": {},
   "source": [
    "The `jx.integrate` function returns an array of shape `(num_recordings, num_timepoints)`. In our case, we inserted `2` recordings and we simulated for 10ms at a 0.025 time step, which leads to 402 time steps.\n",
    "\n",
    "We can now visualize the voltage response:"
   ]
  },
  {
   "cell_type": "code",
   "execution_count": 18,
   "id": "cd27e835",
   "metadata": {},
   "outputs": [
    {
     "data": {
      "image/png": "[encoded data removed]",
      "text/plain": [
       "<Figure size 400x200 with 1 Axes>"
      ]
     },
     "metadata": {},
     "output_type": "display_data"
    }
   ],
   "source": [
    "fig, ax = plt.subplots(1, 1, figsize=(4, 2))\n",
    "_ = ax.plot(voltages[0], c=\"b\")\n",
    "_ = ax.plot(voltages[1], c=\"orange\")"
   ]
  },
  {
   "cell_type": "markdown",
   "id": "447cfa48",
   "metadata": {},
   "source": [
    "At the location of the first recording (in blue) the cell spiked, whereas at the second recording, it did not. This makes sense because we only inserted sodium and potassium channels into the first branch, but not in the entire cell."
   ]
  },
  {
   "cell_type": "markdown",
   "id": "66e32496",
   "metadata": {},
   "source": [
    "Congrats! You have just run your first morphologically detailed neuron simulation in `Jaxley`. We suggest to continue by learning how to [build networks](https://jaxley.readthedocs.io/en/latest/tutorials/02_small_network.html). If you are only interested in single cell simulations, you can directly jump to learning how to [speed up simulations](https://jaxley.readthedocs.io/en/latest/tutorials/04_jit_and_vmap.html). If you want to simulate detailed morphologies from SWC files, checkout our tutorial on [working with detailed morphologies](https://jaxley.readthedocs.io/en/latest/tutorials/08_importing_morphologies.html)."
   ]
  }
 ],
 "metadata": {
  "kernelspec": {
   "display_name": "Python 3 (ipykernel)",
   "language": "python",
   "name": "python3"
  },
  "language_info": {
   "codemirror_mode": {
    "name": "ipython",
    "version": 3
   },
   "file_extension": ".py",
   "mimetype": "text/x-python",
   "name": "python",
   "nbconvert_exporter": "python",
   "pygments_lexer": "ipython3",
   "version": "3.12.4"
  }
 },
 "nbformat": 4,
 "nbformat_minor": 5
}
