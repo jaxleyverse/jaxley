{
 "cells": [
  {
   "cell_type": "markdown",
   "id": "51419bb0",
   "metadata": {},
   "source": [
    "# Defining groups\n",
    "\n",
    "In this tutorial, you will learn how to:\n",
    "\n",
    "- define groups (aka sectionlists) to simplify iteractions with `Jaxley`  \n",
    "\n",
    "Here is a code snippet which you will learn to understand in this tutorial:\n",
    "```python\n",
    "from jax import jit, vmap\n",
    "\n",
    "\n",
    "net = ...  # See tutorial on Basics of Jaxley.\n",
    "\n",
    "net.cell(0).add_to_group(\"fast_spiking\")\n",
    "net.cell(1).add_to_group(\"slow_spiking\")\n",
    "\n",
    "def simulate(params):\n",
    "    param_state = None\n",
    "    param_state = net.fast_spiking.data_set(\"HH_gNa\", params[0], param_state)\n",
    "    param_state = net.slow_spiking.data_set(\"HH_gNa\", params[1], param_state)\n",
    "    return jx.integrate(net, param_state=param_state)\n",
    "\n",
    "# Define sodium for fast and slow spiking neurons.\n",
    "params = jnp.asarray([1.0, 0.1])\n",
    "\n",
    "# Run simulation.\n",
    "voltages = simulate(params)\n",
    "```\n",
    "\n",
    "\n",
    "In many cases, you might want to group several compartments (or branches, or cells) and assign a unique parameter or mechanism to this group. For example, you might want to define a couple of branches as basal and then assign a Hodgkin-Huxley mechanism only to those branches. Or you might define a couple of cells as fast spiking and assign them a high value for the sodium conductance. We describe how you can do this in this tutorial."
   ]
  },
  {
   "cell_type": "code",
   "execution_count": 1,
   "id": "d703515b",
   "metadata": {},
   "outputs": [],
   "source": [
    "from jax import config\n",
    "config.update(\"jax_enable_x64\", True)\n",
    "config.update(\"jax_platform_name\", \"cpu\")\n",
    "\n",
    "import time\n",
    "import matplotlib.pyplot as plt\n",
    "import numpy as np\n",
    "import jax\n",
    "import jax.numpy as jnp\n",
    "from jax import jit, value_and_grad\n",
    "\n",
    "import jaxley as jx\n",
    "from jaxley.channels import Na, K, Leak\n",
    "from jaxley.synapses import IonotropicSynapse\n",
    "from jaxley.connect import fully_connect"
   ]
  },
  {
   "cell_type": "markdown",
   "id": "94f247bc",
   "metadata": {},
   "source": [
    "First, we define a network as you saw in the [previous tutorial](https://jaxley.readthedocs.io/en/latest/tutorials/02_small_network.html):"
   ]
  },
  {
   "cell_type": "code",
   "execution_count": 2,
   "id": "10c4f776",
   "metadata": {},
   "outputs": [],
   "source": [
    "comp = jx.Compartment()\n",
    "branch = jx.Branch(comp, ncomp=2)\n",
    "cell = jx.Cell(branch, parents=[-1, 0, 0, 1])\n",
    "network = jx.Network([cell for _ in range(3)])\n",
    "\n",
    "pre = network.cell([0, 1])\n",
    "post = network.cell([2])\n",
    "fully_connect(pre, post, IonotropicSynapse())\n",
    "\n",
    "network.insert(Na())\n",
    "network.insert(K())\n",
    "network.insert(Leak())"
   ]
  },
  {
   "cell_type": "markdown",
   "id": "465fc6fa",
   "metadata": {},
   "source": [
    "### Group: apical dendrites\n",
    "Assume that, in each of the five neurons in this network, the second and forth branch are apical dendrites. We can define this as:"
   ]
  },
  {
   "cell_type": "code",
   "execution_count": 3,
   "id": "3f23fceb",
   "metadata": {},
   "outputs": [],
   "source": [
    "for cell_ind in range(3):\n",
    "    network.cell(cell_ind).branch(1).add_to_group(\"apical\")\n",
    "    network.cell(cell_ind).branch(3).add_to_group(\"apical\")"
   ]
  },
  {
   "cell_type": "markdown",
   "id": "ee58e3e9",
   "metadata": {},
   "source": [
    "After this, we can access `network.apical` as we previously accesses anything else:"
   ]
  },
  {
   "cell_type": "code",
   "execution_count": 4,
   "id": "5b2c9ee1",
   "metadata": {},
   "outputs": [],
   "source": [
    "network.apical.set(\"radius\", 0.3)"
   ]
  },
  {
   "cell_type": "code",
   "execution_count": 5,
   "id": "1e6efa3e",
   "metadata": {},
   "outputs": [
    {
     "data": {
      "text/plain": [
       "View with 3 different channels. Use `.nodes` for details."
      ]
     },
     "execution_count": 5,
     "metadata": {},
     "output_type": "execute_result"
    }
   ],
   "source": [
    "network.apical.view"
   ]
  },
  {
   "cell_type": "markdown",
   "id": "ac885848",
   "metadata": {},
   "source": [
    "### Group: fast spiking\n",
    "Similarly, you could define a group of fast-spiking cells. Assume that the first and second cell are fast-spiking:"
   ]
  },
  {
   "cell_type": "code",
   "execution_count": 6,
   "id": "0b8e9b38",
   "metadata": {},
   "outputs": [],
   "source": [
    "network.cell(0).add_to_group(\"fast_spiking\")\n",
    "network.cell(1).add_to_group(\"fast_spiking\")"
   ]
  },
  {
   "cell_type": "code",
   "execution_count": 7,
   "id": "25322ebf",
   "metadata": {},
   "outputs": [],
   "source": [
    "network.fast_spiking.set(\"Na_gNa\", 0.4)"
   ]
  },
  {
   "cell_type": "code",
   "execution_count": 8,
   "id": "f98f4e74",
   "metadata": {},
   "outputs": [
    {
     "data": {
      "text/plain": [
       "View with 3 different channels. Use `.nodes` for details."
      ]
     },
     "execution_count": 8,
     "metadata": {},
     "output_type": "execute_result"
    }
   ],
   "source": [
    "network.fast_spiking.view"
   ]
  },
  {
   "cell_type": "markdown",
   "id": "c8ad35a5",
   "metadata": {},
   "source": [
    "### Groups from SWC files"
   ]
  },
  {
   "cell_type": "markdown",
   "id": "72de2fb6",
   "metadata": {},
   "source": [
    "If you are reading `.swc` morphologigies, you can automatically assign groups with \n",
    "```python\n",
    "jx.read_swc(file_name, nseg=n, assign_groups=True).\n",
    "```\n",
    "After that, you can directly use `cell.soma`, `cell.apical`, `cell.basal`, or `cell.axon`."
   ]
  },
  {
   "cell_type": "markdown",
   "id": "e08a5b66",
   "metadata": {},
   "source": [
    "### How groups are interpreted by `.make_trainable()`\n",
    "If you make a parameter of a `group` trainable, then it will be treated as a single shared parameter for a given property:"
   ]
  },
  {
   "cell_type": "code",
   "execution_count": 9,
   "id": "a5d4f8ca",
   "metadata": {},
   "outputs": [
    {
     "name": "stdout",
     "output_type": "stream",
     "text": [
      "Number of newly added trainable parameters: 1. Total number of trainable parameters: 1\n"
     ]
    }
   ],
   "source": [
    "network.fast_spiking.make_trainable(\"Na_gNa\")"
   ]
  },
  {
   "cell_type": "markdown",
   "id": "99082cca",
   "metadata": {},
   "source": [
    "As such, `get_parameters()` returns only a single trainable parameter, which will be the sodium conductance for every compartment of every fast-spiking neuron:"
   ]
  },
  {
   "cell_type": "code",
   "execution_count": 10,
   "id": "62b0dc0c",
   "metadata": {},
   "outputs": [
    {
     "data": {
      "text/plain": [
       "[{'Na_gNa': Array([0.4], dtype=float64)}]"
      ]
     },
     "execution_count": 10,
     "metadata": {},
     "output_type": "execute_result"
    }
   ],
   "source": [
    "network.get_parameters()"
   ]
  },
  {
   "cell_type": "markdown",
   "id": "4941d565",
   "metadata": {},
   "source": [
    "If, instead, you would want a separate parameter for every fast-spiking cell, you should not use the group, but instead do the following (remember that fast-spiking neurons had indices [0,1]):"
   ]
  },
  {
   "cell_type": "code",
   "execution_count": 11,
   "id": "4e6108e9",
   "metadata": {},
   "outputs": [
    {
     "name": "stdout",
     "output_type": "stream",
     "text": [
      "Number of newly added trainable parameters: 2. Total number of trainable parameters: 3\n"
     ]
    }
   ],
   "source": [
    "network.cell([0,1]).make_trainable(\"axial_resistivity\")"
   ]
  },
  {
   "cell_type": "code",
   "execution_count": 12,
   "id": "13db06ab",
   "metadata": {},
   "outputs": [
    {
     "data": {
      "text/plain": [
       "[{'Na_gNa': Array([0.4], dtype=float64)},\n",
       " {'axial_resistivity': Array([5000., 5000.], dtype=float64)}]"
      ]
     },
     "execution_count": 12,
     "metadata": {},
     "output_type": "execute_result"
    }
   ],
   "source": [
    "network.get_parameters()"
   ]
  },
  {
   "cell_type": "markdown",
   "id": "3d6a4dee",
   "metadata": {},
   "source": [
    "This generated two parameters for the axial resistivitiy, each corresponding to one cell."
   ]
  },
  {
   "cell_type": "markdown",
   "id": "3ed0a8d6",
   "metadata": {},
   "source": [
    "### Summary"
   ]
  },
  {
   "cell_type": "markdown",
   "id": "4476ff6b",
   "metadata": {},
   "source": [
    "Groups allow you to organize your simulation in a more intuitive way, and they allow to perform parameter sharing with `make_trainable()`."
   ]
  }
 ],
 "metadata": {
  "kernelspec": {
   "display_name": "Python 3 (ipykernel)",
   "language": "python",
   "name": "python3"
  },
  "language_info": {
   "codemirror_mode": {
    "name": "ipython",
    "version": 3
   },
   "file_extension": ".py",
   "mimetype": "text/x-python",
   "name": "python",
   "nbconvert_exporter": "python",
   "pygments_lexer": "ipython3",
   "version": "3.12.4"
  }
 },
 "nbformat": 4,
 "nbformat_minor": 5
}
