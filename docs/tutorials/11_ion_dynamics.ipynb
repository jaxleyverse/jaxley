{
 "cells": [
  {
   "cell_type": "markdown",
   "id": "ac2f5215",
   "metadata": {},
   "source": [
    "# Ion dynamics\n",
    "\n",
    "In this tutorial, you will learn how to:\n",
    "\n",
    "- define ion pumps  \n",
    "- update reversal potentials with the Nernst equation  \n",
    "- diffuse ions within the cell  \n",
    "\n",
    "Here is a code snippet which you will learn to understand in this tutorial:\n",
    "```python\n",
    "import jaxley as jx\n",
    "from jaxley_mech.channels.l5pc import CaHVA, CaNernstPotential, CaPump\n",
    "\n",
    "\n",
    "branch = jx.Branch()\n",
    "cell = jx.Cell(branch, parents=[-1, 0, 0])\n",
    "\n",
    "# Insert a voltage-gated calcium channel.\n",
    "cell.insert(CaHVA())\n",
    "\n",
    "# Insert an ion pump which modifies the intracellular calcium based on the calcium current.\n",
    "cell.insert(CaPump())\n",
    "\n",
    "# Insert a mechanism that updates the calcium reversal potential based on the intracellular calcium level.\n",
    "cell.insert(CaNernstPotential())\n",
    "\n",
    "# Let the intracellular calcium diffuse within the cell.\n",
    "cell.diffuse(\"CaCon_i\")\n",
    "cell.set(\"axial_resistivity_CaCon_i\", 1_000.0)\n",
    "\n",
    "# Record the intracellular calcium concentration and simulate.\n",
    "cell.record(\"CaCon_i\")\n",
    "cacon_i = jx.integrate(cell, t_max=100.0, delta_t=0.025)\n",
    "```\n",
    "\n",
    "This tutorial assumes that you have already learned how to [build basic simulations](https://jaxley.readthedocs.io/en/latest/tutorials/01_morph_neurons.html). It is also helpful to have read the tutorial on [how to build ion channel models in Jaxley](https://jaxley.readthedocs.io/en/latest/tutorials/05_channel_and_synapse_models.html)."
   ]
  },
  {
   "cell_type": "code",
   "execution_count": 1,
   "id": "b6189cfe",
   "metadata": {},
   "outputs": [],
   "source": [
    "from jax import config\n",
    "config.update(\"jax_enable_x64\", True)\n",
    "config.update(\"jax_platform_name\", \"cpu\")\n",
    "\n",
    "import matplotlib.pyplot as plt\n",
    "import numpy as np\n",
    "import jax\n",
    "import jax.numpy as jnp\n",
    "from jax import jit\n",
    "\n",
    "import jaxley as jx\n",
    "from jaxley.channels import Na, K, Leak"
   ]
  },
  {
   "cell_type": "markdown",
   "id": "e67cefea",
   "metadata": {},
   "source": [
    "First, we define a cell as you saw in the [previous tutorial](https://jaxley.readthedocs.io/en/latest/tutorials/01_morph_neurons.html) and insert sodium, potassium, and leak ion channels:"
   ]
  },
  {
   "cell_type": "code",
   "execution_count": 2,
   "id": "1589a2d1",
   "metadata": {},
   "outputs": [],
   "source": [
    "comp = jx.Compartment()\n",
    "branch = jx.Branch(comp, ncomp=4)\n",
    "cell = jx.Cell(branch, parents=[-1, 0, 0, 1, 1, 2, 2])\n",
    "cell.insert(Na())\n",
    "cell.insert(K())\n",
    "cell.insert(Leak())"
   ]
  },
  {
   "cell_type": "markdown",
   "id": "3278b984",
   "metadata": {},
   "source": [
    "In this tutorial, we will set up a neuron with detailed calcium dynamcis. We will define all channels and pumps from scratch, but you could also just import these channels from `jaxley-mech` and run:\n",
    "```python\n",
    "from jaxley_mech.channels.l5pc import CaHVA, CaPump, CaNernstPotential\n",
    "cell.insert(CaHVA())  # Insert a voltage-gated calcium channel.\n",
    "cell.insert(CaPump())  # Insert an ion pump.\n",
    "cell.insert(CaNernstPotential())  # Insert a mechanism that updates the calcium reversal potential.\n",
    "```"
   ]
  },
  {
   "cell_type": "markdown",
   "id": "08bdff0c",
   "metadata": {},
   "source": [
    "### A voltage-gated calcium channel\n",
    "\n",
    "Let's start by defining a voltage-gated calcium ion channel. This is done as is described [in the tutorial on building channel models](https://jaxley.readthedocs.io/en/latest/tutorials/01_morph_neurons.html):"
   ]
  },
  {
   "cell_type": "code",
   "execution_count": 3,
   "id": "155744e9",
   "metadata": {},
   "outputs": [],
   "source": [
    "from jaxley.channels import Channel\n",
    "from jaxley.solver_gate import solve_gate_exponential, save_exp\n",
    "\n",
    "class CaHVA(Channel):\n",
    "    \"\"\"High-Voltage-Activated (HVA) Ca2+ channel\"\"\"\n",
    "\n",
    "    def __init__(self, name=None):\n",
    "        self.current_is_in_mA_per_cm2 = True\n",
    "        super().__init__(name)\n",
    "        self.channel_params = {\n",
    "            f\"{self._name}_gCaHVA\": 0.00001,  # S/cm^2\n",
    "        }\n",
    "        self.channel_states = {\n",
    "            f\"{self._name}_m\": 0.1,  # Initial value for m gating variable\n",
    "            f\"{self._name}_h\": 0.1,  # Initial value for h gating variable\n",
    "            \"eCa\": 0.0,  # Initial value for reversal potential, mV.\n",
    "        }\n",
    "        self.current_name = f\"i_Ca\"\n",
    "\n",
    "    def update_states(self, states, dt, voltages, params):\n",
    "        \"\"\"Update state of gating variables.\"\"\"\n",
    "        prefix = self._name\n",
    "        ms, hs = states[f\"{prefix}_m\"], states[f\"{prefix}_h\"]\n",
    "        m_new = solve_gate_exponential(ms, dt, *self.m_gate(voltages))\n",
    "        h_new = solve_gate_exponential(hs, dt, *self.h_gate(voltages))\n",
    "        return {f\"{prefix}_m\": m_new, f\"{prefix}_h\": h_new, \"eCa\": states[\"eCa\"]}\n",
    "\n",
    "    def compute_current(self, states, voltages, params):\n",
    "        \"\"\"Compute the current through the channel.\"\"\"\n",
    "        prefix = self._name\n",
    "        ms, hs = states[f\"{prefix}_m\"], states[f\"{prefix}_h\"]\n",
    "        ca_cond = params[f\"{prefix}_gCaHVA\"] * (ms**2) * hs\n",
    "        current = ca_cond * (voltages - states[\"eCa\"])\n",
    "        return current\n",
    "\n",
    "    def init_state(self, states, voltages, params, delta_t):\n",
    "        \"\"\"Initialize the state such at fixed point of gate dynamics.\"\"\"\n",
    "        prefix = self._name\n",
    "        alpha_m, beta_m = self.m_gate(voltages)\n",
    "        alpha_h, beta_h = self.h_gate(voltages)\n",
    "        return {\n",
    "            f\"{prefix}_m\": alpha_m / (alpha_m + beta_m),\n",
    "            f\"{prefix}_h\": alpha_h / (alpha_h + beta_h),\n",
    "        }\n",
    "\n",
    "    @staticmethod\n",
    "    def m_gate(v):\n",
    "        \"\"\"Voltage-dependent dynamics for the m gating variable.\"\"\"\n",
    "        alpha = (0.055 * (-27 - v + 1e-6)) / (save_exp((-27.0 - v + 1e-6) / 3.8) - 1.0)\n",
    "        beta = 0.94 * save_exp((-75.0 - v + 1e-6) / 17.0)\n",
    "        return alpha, beta\n",
    "\n",
    "    @staticmethod\n",
    "    def h_gate(v):\n",
    "        \"\"\"Voltage-dependent dynamics for the h gating variable.\"\"\"\n",
    "        alpha = 0.000457 * save_exp((-13.0 - v) / 50.0)\n",
    "        beta = 0.0065 / (save_exp((-v - 15.0) / 28.0) + 1.0)\n",
    "        return alpha, beta"
   ]
  },
  {
   "cell_type": "markdown",
   "id": "b6fd2673",
   "metadata": {},
   "source": [
    "Note two things:\n",
    "- we named the current through this channel as `i_Ca`. This happens by defining `self.current_name = \"i_Ca\"` and will be useful to define the pump (which depends on the calcium current)\n",
    "- the current through this channel depends on the reversal potential (named `eCa`): `current = ca_cond * (voltages - u[\"eCa\"])`. The reversal potential will later on be updated based on the intracellular calcium concentration.\n",
    "\n",
    "Let's insert this channel into our cell:"
   ]
  },
  {
   "cell_type": "code",
   "execution_count": 4,
   "id": "85300631",
   "metadata": {},
   "outputs": [],
   "source": [
    "cell.insert(CaHVA())"
   ]
  },
  {
   "cell_type": "markdown",
   "id": "bede0c64",
   "metadata": {},
   "source": [
    "### A calcium ion pump\n",
    "\n",
    "Next, we would like to modify the intracellular calcium ion concentration and then update the calcium reversal potential. In `Jaxley`, everything that modifies intracellular ion concentration is called a `Pump`. A `Pump` is very similar to a `Channel`, with two differences:\n",
    "- it has to define which ion concentration (Ca, Na,...) should be modified (by setting `self.ion_name = \"CaCon_i\"`)  \n",
    "- its `compute_current` method will modify the ion concentration, not the membrane voltage (as would be the case for a `Channel`).\n",
    "\n",
    "Let's define a `Pump` for calcium ions:"
   ]
  },
  {
   "cell_type": "code",
   "execution_count": 5,
   "id": "a2ff6765",
   "metadata": {},
   "outputs": [],
   "source": [
    "from jaxley.pumps import Pump\n",
    "\n",
    "\n",
    "class CaPump(Pump):\n",
    "    \"\"\"Calcium dynamics tracking inside calcium concentration.\"\"\"\n",
    "\n",
    "    def __init__(self, name=None):\n",
    "        super().__init__(name)\n",
    "        self.channel_params = {\n",
    "            f\"{self._name}_gamma\": 0.05,  # Fraction of free calcium (not buffered).\n",
    "            f\"{self._name}_decay\": 80,  # Buffering time constant in ms.\n",
    "            f\"{self._name}_depth\": 0.1,  # Depth of shell in um.\n",
    "            f\"{self._name}_minCai\": 1e-4,  # Minimum intracell. ca concentration in mM.\n",
    "        }\n",
    "        self.channel_states = {\"i_Ca\": 1e-8, \"CaCon_i\": 5e-05}\n",
    "        self.ion_name = \"CaCon_i\"\n",
    "        self.current_name = \"i_CaPump\"\n",
    "\n",
    "    def update_states(self, states, dt, v, params):\n",
    "        \"\"\"Update states if necessary (but this pump has no states to update).\"\"\"\n",
    "        return {\"CaCon_i\": states[\"CaCon_i\"], \"i_Ca\": states[\"i_Ca\"]}\n",
    "\n",
    "    def compute_current(self, states, modified_state, params):\n",
    "        \"\"\"Return change of calcium concentration based on calcium current and decay.\"\"\"\n",
    "        prefix = self._name\n",
    "        ica = states[\"i_Ca\"]\n",
    "        gamma = params[f\"{prefix}_gamma\"]\n",
    "        decay = params[f\"{prefix}_decay\"]\n",
    "        depth = params[f\"{prefix}_depth\"]\n",
    "        minCai = params[f\"{prefix}_minCai\"]\n",
    "\n",
    "        FARADAY = 96485  # Coulombs per mole.\n",
    "\n",
    "        # Calculate the contribution of calcium currents to cai change.\n",
    "        drive_channel = -10_000.0 * ica * gamma / (2 * FARADAY * depth)\n",
    "        state_decay = (modified_state - minCai) / decay\n",
    "        diff = drive_channel - state_decay\n",
    "        return -diff\n",
    "\n",
    "    def init_state(self, states, v, params, delta_t):\n",
    "        \"\"\"Initialize states of channel.\"\"\"\n",
    "        return {}\n"
   ]
  },
  {
   "cell_type": "markdown",
   "id": "5c29bcd6",
   "metadata": {},
   "source": [
    "As you can see, the `CaPump` defines an `ion_name`:\n",
    "```python\n",
    "self.ion_name = \"CaCon_i\"\n",
    "```\n",
    "As we had hinted at before, the current that modifies the intracellular calcium concentration depends on the current through the `CaHVA` channel. In the `CaHVA` channel, we had defined `self.current_name = \"i_Ca\"`, so we can access this current in the `compute_current()` method of the `CaPump`:\n",
    "```python\n",
    "ica = states[\"i_Ca\"]\n",
    "```\n",
    "\n",
    "Let's add the calcium pump to the cell:"
   ]
  },
  {
   "cell_type": "code",
   "execution_count": 6,
   "id": "8d7f8e02",
   "metadata": {},
   "outputs": [],
   "source": [
    "cell.insert(CaPump())"
   ]
  },
  {
   "cell_type": "markdown",
   "id": "7edbd85f",
   "metadata": {},
   "source": [
    "### Updating the calcium reversal potential"
   ]
  },
  {
   "cell_type": "markdown",
   "id": "4afa78a9",
   "metadata": {},
   "source": [
    "The `CaPump` modifies the intracellular calcium ion concentration. So far, however, updating the intracellular calcium ion concentration does not impact the voltage dynamics at all (feel free to check the `CaHVA` channel above: neither its `update_states()` nor its `compute_current()` directly depend on `states[\"CaCon_i\"]`). To change this, we would like to modify the calcium reversal potential `eCa` based on the intracellular calcium concentration (again, check the `CaHVA` channel: its `compute_current()` _does_ depend on `states[\"eCa\"]`).\n",
    "\n",
    "The update to the reversal potential is done via the Nernst equation, which itself can be implemented via a `Channel` in `Jaxley`. For example:"
   ]
  },
  {
   "cell_type": "code",
   "execution_count": 7,
   "id": "b3b50f7f",
   "metadata": {},
   "outputs": [],
   "source": [
    "class CaNernstReversal(Channel):\n",
    "    \"\"\"Compute Calcium reversal from inner and outer concentration of calcium.\"\"\"\n",
    "\n",
    "    def __init__(self, name=None):\n",
    "        self.current_is_in_mA_per_cm2 = True\n",
    "        super().__init__(name)\n",
    "        self.channel_constants = {\n",
    "            \"F\": 96485.3329,  # C/mol (Faraday's constant)\n",
    "            \"T\": 279.45,  # Kelvin (temperature)\n",
    "            \"R\": 8.314,  # J/(mol K) (gas constant)\n",
    "        }\n",
    "        self.channel_params = {}\n",
    "        self.channel_states = {\"eCa\": 0.0, \"CaCon_i\": 5e-05, \"CaCon_e\": 2.0}\n",
    "        self.current_name = f\"i_Ca\"\n",
    "\n",
    "    def update_states(self, states, dt, voltages, params):\n",
    "        \"\"\"Update internal calcium concentration based on calcium current and decay.\"\"\"\n",
    "        R, T, F = (\n",
    "            self.channel_constants[\"R\"],\n",
    "            self.channel_constants[\"T\"],\n",
    "            self.channel_constants[\"F\"],\n",
    "        )\n",
    "        Cai = states[\"CaCon_i\"]\n",
    "        Cao = states[\"CaCon_e\"]\n",
    "        C = R * T / (2 * F) * 1000  # mV\n",
    "        vCa = C * jnp.log(Cao / Cai)\n",
    "        return {\"eCa\": vCa, \"CaCon_i\": Cai, \"CaCon_e\": Cao}\n",
    "\n",
    "    def compute_current(self, states, voltages, params):\n",
    "        \"\"\"This dynamics model does not directly contribute to the membrane current.\"\"\"\n",
    "        return 0\n",
    "\n",
    "    def init_state(self, states, voltages, params, delta_t):\n",
    "        \"\"\"Initialize the state at fixed point of gate dynamics.\"\"\"\n",
    "        return {}"
   ]
  },
  {
   "cell_type": "markdown",
   "id": "9132809d",
   "metadata": {},
   "source": [
    "The `CaNernstReversal` modifies the reversal potential `eCa` in its `update_states` method.\n",
    "\n",
    "We can insert this mechanism as always:"
   ]
  },
  {
   "cell_type": "code",
   "execution_count": 8,
   "id": "dcd1780a",
   "metadata": {},
   "outputs": [],
   "source": [
    "cell.insert(CaNernstReversal())"
   ]
  },
  {
   "cell_type": "markdown",
   "id": "381b2225",
   "metadata": {},
   "source": [
    "### Ion diffusion"
   ]
  },
  {
   "cell_type": "markdown",
   "id": "6bc3d424",
   "metadata": {},
   "source": [
    "In principle, we could already run this simulation. Optionally, we can add one more feature: ion diffusion. Ion diffusion can be turned on with the `.diffuse()` method in `Jaxley` (if you do not run the `.diffuse()` method, then ions do not diffuse). In this case, we would like to diffuse the intracellular calcium concentration:"
   ]
  },
  {
   "cell_type": "code",
   "execution_count": 9,
   "id": "6dd28aa0",
   "metadata": {},
   "outputs": [],
   "source": [
    "cell.diffuse(\"CaCon_i\")"
   ]
  },
  {
   "cell_type": "markdown",
   "id": "d7f77ec8",
   "metadata": {},
   "source": [
    "We can define how strongly calcium diffuses by setting its axial resistivity:"
   ]
  },
  {
   "cell_type": "code",
   "execution_count": 10,
   "id": "e959b5e7",
   "metadata": {},
   "outputs": [],
   "source": [
    "cell.set(\"axial_resistivity_CaCon_i\", 1_000.0)"
   ]
  },
  {
   "cell_type": "markdown",
   "id": "c9bb9bef",
   "metadata": {},
   "source": [
    "### Running the simulation"
   ]
  },
  {
   "cell_type": "markdown",
   "id": "d61eb940",
   "metadata": {},
   "source": [
    "We can now record voltage or intracellular calcium concentration from our cell, stimulate it with a step current, and simulate:"
   ]
  },
  {
   "cell_type": "code",
   "execution_count": 11,
   "id": "fd806686",
   "metadata": {},
   "outputs": [
    {
     "name": "stdout",
     "output_type": "stream",
     "text": [
      "Added 1 recordings. See `.recordings` for details.\n",
      "Added 1 recordings. See `.recordings` for details.\n",
      "Added 1 external_states. See `.externals` for details.\n"
     ]
    }
   ],
   "source": [
    "t_max = 20.0\n",
    "dt = 0.025\n",
    "\n",
    "cell.delete_recordings()\n",
    "cell.delete_stimuli()\n",
    "\n",
    "cell.branch(0).comp(0).record(\"v\")\n",
    "cell.branch(0).comp(0).record(\"CaCon_i\")\n",
    "cell.branch(0).comp(0).stimulate(jx.step_current(1.0, 10.0, 0.03, dt, t_max))\n",
    "v_and_ca = jx.integrate(cell, delta_t=dt, t_max=t_max)"
   ]
  },
  {
   "cell_type": "code",
   "execution_count": 12,
   "id": "ac36cfce",
   "metadata": {},
   "outputs": [
    {
     "data": {
      "image/png": "[encoded data removed]",
      "text/plain": [
       "<Figure size 600x200 with 2 Axes>"
      ]
     },
     "metadata": {},
     "output_type": "display_data"
    }
   ],
   "source": [
    "time_vec = np.arange(0, t_max + dt * 2, dt)\n",
    "fig, ax = plt.subplots(1, 2, figsize=(6, 2))\n",
    "_ = ax[0].plot(v_and_ca[0])\n",
    "_ = ax[1].plot(v_and_ca[1])\n",
    "_ = ax[0].set_ylabel(\"Voltage\")\n",
    "_ = ax[1].set_ylabel(\"Intracellular Ca\")"
   ]
  },
  {
   "cell_type": "markdown",
   "id": "4ea620d0",
   "metadata": {},
   "source": [
    "That's it! In this tutorial, you should have learned how to model detailed intracellular ion (in particular calcium) dynamics."
   ]
  }
 ],
 "metadata": {
  "kernelspec": {
   "display_name": "Python 3 (ipykernel)",
   "language": "python",
   "name": "python3"
  },
  "language_info": {
   "codemirror_mode": {
    "name": "ipython",
    "version": 3
   },
   "file_extension": ".py",
   "mimetype": "text/x-python",
   "name": "python",
   "nbconvert_exporter": "python",
   "pygments_lexer": "ipython3",
   "version": "3.12.4"
  }
 },
 "nbformat": 4,
 "nbformat_minor": 5
}
