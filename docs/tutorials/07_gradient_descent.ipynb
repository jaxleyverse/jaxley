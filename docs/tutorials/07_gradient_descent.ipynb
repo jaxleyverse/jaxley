{
 "cells": [
  {
   "cell_type": "markdown",
   "id": "f17bbf55",
   "metadata": {},
   "source": [
    "# Training biophysical models\n",
    "\n",
    "In this tutorial, you will learn how to train biophysical models in `Jaxley`. This includes the following:\n",
    "\n",
    "- compute the gradient with respect to parameters  \n",
    "- use parameter transformations  \n",
    "- use multi-level checkpointing  \n",
    "- define optimizers  \n",
    "- write dataloaders and parallelize across data  \n",
    "\n",
    "Here is a code snippet which you will learn to understand in this tutorial:\n",
    "```python\n",
    "from jax import jit, vmap, value_and_grad\n",
    "import jaxley as jx\n",
    "import jaxley.optimize.transforms as jt\n",
    "\n",
    "net = ...  # See tutorial on the basics of `Jaxley`.\n",
    "\n",
    "# Define which parameters to train.\n",
    "net.cell(\"all\").make_trainable(\"HH_gNa\")\n",
    "net.IonotropicSynapse.make_trainable(\"IonotropicSynapse_gS\")\n",
    "parameters = net.get_parameters()\n",
    "\n",
    "# Define parameter transform and apply it to the parameters.\n",
    "transform = jx.ParamTransform([\n",
    "    {\"HH_gNa\": jt.SigmoidTransform(0.0, 1.0)},\n",
    "    {\"IonotropicSynapse_gS\": jt.SigmoidTransform(0.0, 1.0)},\n",
    "])\n",
    "\n",
    "opt_params = transform.inverse(parameters)\n",
    "\n",
    "# Define simulation and batch it across stimuli.\n",
    "def simulate(params, datapoint):\n",
    "    # Define stimuli.\n",
    "    currents = jx.datapoint_to_step_currents(i_delay=1.0, i_dur=1.0, i_amp=datapoint, delta_t=0.025, t_max=5.0)\n",
    "    data_stimuli = None\n",
    "    data_stimuli = net.cell(0).branch(0).comp(0).data_stimulate(currents[0], data_stimuli)\n",
    "    data_stimuli = net.cell(1).branch(0).comp(0).data_stimulate(currents[1], data_stimuli)\n",
    "    return jx.integrate(net, params=params, data_stimuli=data_stimuli, checkpoint_lengths=[15, 15], delta_t=0.025)\n",
    "\n",
    "batch_simulate = vmap(simulate, in_axes=(None, 0))\n",
    "\n",
    "# Define loss function and its gradient.\n",
    "def loss_fn(opt_params, datapoints, label):\n",
    "    params = transform.forward(opt_params)\n",
    "    voltages = batch_simulate(params, datapoints)\n",
    "    return jnp.mean(jnp.abs(jnp.mean(voltages) - label))\n",
    "\n",
    "grad_fn = jit(value_and_grad(loss_fn, argnums=0))\n",
    "\n",
    "# Define data and labels.\n",
    "input_dim = 2\n",
    "data = jnp.asarray(np.random.randn(100, input_dim))\n",
    "num_classes = 2\n",
    "labels = jnp.asarray(np.random.randint(num_classes, size=100))\n",
    "\n",
    "# Define dataloader (see tutorial below for a minimal example of the `Dataset` class).\n",
    "dataloader = Dataset(inputs, labels)\n",
    "dataloader = dataloader.shuffle(seed=0).batch(4)\n",
    "\n",
    "# Define the optimizer.\n",
    "optimizer = optax.adam(learning_rate=0.01)\n",
    "opt_state = optimizer.init(opt_params)\n",
    "\n",
    "for epoch in range(10):\n",
    "    for batch_ind, batch in enumerate(dataloader):\n",
    "        stim_batch, label_batch = batch\n",
    "        loss, gradient = grad_fn(opt_params, stim_batch, label_batch)\n",
    "\n",
    "        # Optimizer step.\n",
    "        updates, opt_state = optimizer.update(gradient, opt_state)\n",
    "        opt_params = optax.apply_updates(opt_params, updates)\n",
    "```"
   ]
  },
  {
   "cell_type": "markdown",
   "id": "d0fc0bbb",
   "metadata": {},
   "source": [
    "Let's get started!"
   ]
  },
  {
   "cell_type": "code",
   "execution_count": 1,
   "id": "7e2afa56",
   "metadata": {},
   "outputs": [],
   "source": [
    "from jax import config\n",
    "config.update(\"jax_enable_x64\", True)\n",
    "config.update(\"jax_platform_name\", \"cpu\")\n",
    "\n",
    "import matplotlib.pyplot as plt\n",
    "import numpy as np\n",
    "import jax\n",
    "import jax.numpy as jnp\n",
    "from jax import jit, vmap, value_and_grad\n",
    "\n",
    "import jaxley as jx\n",
    "from jaxley.channels import Leak\n",
    "from jaxley.synapses import TanhRateSynapse\n",
    "from jaxley.connect import fully_connect"
   ]
  },
  {
   "cell_type": "markdown",
   "id": "c6355061",
   "metadata": {},
   "source": [
    "First, we define a network as you saw in the [previous tutorial](https://jaxley.readthedocs.io/en/latest/tutorials/01_morph_neurons.html):"
   ]
  },
  {
   "cell_type": "code",
   "execution_count": 2,
   "id": "4bc36ba4",
   "metadata": {},
   "outputs": [],
   "source": [
    "_ = np.random.seed(0)  # For synaptic locations.\n",
    "\n",
    "comp = jx.Compartment()\n",
    "branch = jx.Branch(comp, ncomp=2)\n",
    "cell = jx.Cell(branch, parents=[-1, 0, 0])\n",
    "net = jx.Network([cell for _ in range(3)])\n",
    "\n",
    "pre = net.cell([0, 1])\n",
    "post = net.cell([2])\n",
    "fully_connect(pre, post, TanhRateSynapse())\n",
    "\n",
    "# Change some default values of the tanh synapse.\n",
    "net.TanhRateSynapse.set(\"TanhRateSynapse_x_offset\", -60.0)\n",
    "net.TanhRateSynapse.set(\"TanhRateSynapse_gS\", 1e-3)\n",
    "net.TanhRateSynapse.set(\"TanhRateSynapse_slope\", 0.1)\n",
    "\n",
    "net.insert(Leak())"
   ]
  },
  {
   "cell_type": "markdown",
   "id": "32aa322b",
   "metadata": {},
   "source": [
    "This network consists of three neurons arranged in two layers:"
   ]
  },
  {
   "cell_type": "code",
   "execution_count": 3,
   "id": "ee6eb526",
   "metadata": {},
   "outputs": [
    {
     "data": {
      "image/png": "[encoded data removed]",
      "text/plain": [
       "<Figure size 300x200 with 1 Axes>"
      ]
     },
     "metadata": {},
     "output_type": "display_data"
    }
   ],
   "source": [
    "net.compute_xyz()\n",
    "net.rotate(180)\n",
    "net.arrange_in_layers(layers=[2, 1], within_layer_offset=100.0, between_layer_offset=100.0)\n",
    "fig, ax = plt.subplots(1, 1, figsize=(3, 2))\n",
    "_ = net.vis(ax=ax, detail=\"full\")"
   ]
  },
  {
   "cell_type": "markdown",
   "id": "c6b12f2c",
   "metadata": {},
   "source": [
    "We consider the last neuron as the output neuron and record the voltage from there:"
   ]
  },
  {
   "cell_type": "code",
   "execution_count": 4,
   "id": "3fff0da5",
   "metadata": {},
   "outputs": [
    {
     "name": "stdout",
     "output_type": "stream",
     "text": [
      "Added 1 recordings. See `.recordings` for details.\n",
      "Added 1 recordings. See `.recordings` for details.\n",
      "Added 1 recordings. See `.recordings` for details.\n"
     ]
    }
   ],
   "source": [
    "net.delete_recordings()\n",
    "net.cell(0).branch(0).loc(0.0).record()\n",
    "net.cell(1).branch(0).loc(0.0).record()\n",
    "net.cell(2).branch(0).loc(0.0).record()"
   ]
  },
  {
   "cell_type": "markdown",
   "id": "6a2f6713",
   "metadata": {},
   "source": [
    "### Defining a dataset"
   ]
  },
  {
   "cell_type": "markdown",
   "id": "0cb43b30",
   "metadata": {},
   "source": [
    "We will train this biophysical network on a classification task. The inputs will be values and the label is binary:"
   ]
  },
  {
   "cell_type": "code",
   "execution_count": 5,
   "id": "4407214e",
   "metadata": {},
   "outputs": [],
   "source": [
    "inputs = jnp.asarray(np.random.rand(100, 2))\n",
    "labels = jnp.asarray((inputs[:, 0] + inputs[:, 1]) > 1.0)"
   ]
  },
  {
   "cell_type": "code",
   "execution_count": 6,
   "id": "bfcf086e",
   "metadata": {},
   "outputs": [
    {
     "data": {
      "image/png": "[encoded data removed]",
      "text/plain": [
       "<Figure size 300x200 with 1 Axes>"
      ]
     },
     "metadata": {},
     "output_type": "display_data"
    }
   ],
   "source": [
    "fig, ax = plt.subplots(1, 1, figsize=(3, 2))\n",
    "_ = ax.scatter(inputs[labels, 0], inputs[labels, 1])\n",
    "_ = ax.scatter(inputs[~labels, 0], inputs[~labels, 1])"
   ]
  },
  {
   "cell_type": "code",
   "execution_count": 7,
   "id": "d408bcc7",
   "metadata": {},
   "outputs": [],
   "source": [
    "labels = labels.astype(float)"
   ]
  },
  {
   "cell_type": "markdown",
   "id": "4361a32d",
   "metadata": {},
   "source": [
    "### Defining trainable parameters"
   ]
  },
  {
   "cell_type": "code",
   "execution_count": 8,
   "id": "a381368a",
   "metadata": {},
   "outputs": [],
   "source": [
    "net.delete_trainables()"
   ]
  },
  {
   "cell_type": "markdown",
   "id": "1fcefb93",
   "metadata": {},
   "source": [
    "This follows the same API as `.set()` seen in the previous tutorial. If you want to use a single parameter for all `radius`es in the entire network, do:"
   ]
  },
  {
   "cell_type": "code",
   "execution_count": 9,
   "id": "cd09e5e5",
   "metadata": {},
   "outputs": [
    {
     "name": "stdout",
     "output_type": "stream",
     "text": [
      "Number of newly added trainable parameters: 1. Total number of trainable parameters: 1\n"
     ]
    }
   ],
   "source": [
    "net.make_trainable(\"radius\")"
   ]
  },
  {
   "cell_type": "markdown",
   "id": "555c1c21",
   "metadata": {},
   "source": [
    "We can also define parameters for individual compartments. To do this, use the `\"all\"` key. The following defines a separate parameter the sodium conductance for every compartment in the entire network:"
   ]
  },
  {
   "cell_type": "code",
   "execution_count": 10,
   "id": "aec36e6f",
   "metadata": {},
   "outputs": [
    {
     "name": "stdout",
     "output_type": "stream",
     "text": [
      "Number of newly added trainable parameters: 18. Total number of trainable parameters: 19\n"
     ]
    }
   ],
   "source": [
    "net.cell(\"all\").branch(\"all\").loc(\"all\").make_trainable(\"Leak_gLeak\")"
   ]
  },
  {
   "cell_type": "markdown",
   "id": "2b801a99",
   "metadata": {},
   "source": [
    "### Making synaptic parameters trainable"
   ]
  },
  {
   "cell_type": "markdown",
   "id": "5aa89658",
   "metadata": {},
   "source": [
    "Synaptic parameters can be made trainable in the exact same way. To use a single parameter for all syanptic conductances in the entire network, do\n",
    "```python\n",
    "net.TanhRateSynapse.make_trainable(\"TanhRateSynapse_gS\")\n",
    "```"
   ]
  },
  {
   "cell_type": "markdown",
   "id": "344e4c23",
   "metadata": {},
   "source": [
    "Here, we use a different syanptic conductance for all syanpses. This can be done as follows:"
   ]
  },
  {
   "cell_type": "code",
   "execution_count": 11,
   "id": "a31cf5a2",
   "metadata": {},
   "outputs": [
    {
     "name": "stdout",
     "output_type": "stream",
     "text": [
      "Number of newly added trainable parameters: 2. Total number of trainable parameters: 21\n"
     ]
    }
   ],
   "source": [
    "net.TanhRateSynapse.edge(\"all\").make_trainable(\"TanhRateSynapse_gS\")"
   ]
  },
  {
   "cell_type": "markdown",
   "id": "16a3ac47",
   "metadata": {},
   "source": [
    "### Running the simulation"
   ]
  },
  {
   "cell_type": "markdown",
   "id": "ffd7e3f3",
   "metadata": {},
   "source": [
    "Once all parameters are defined, you have to use `.get_parameters()` to obtain all trainable parameters. This is also the time to check how many trainable parameters your network has:"
   ]
  },
  {
   "cell_type": "code",
   "execution_count": 12,
   "id": "ccce1b37",
   "metadata": {},
   "outputs": [],
   "source": [
    "params = net.get_parameters()"
   ]
  },
  {
   "cell_type": "markdown",
   "id": "8c14a95f",
   "metadata": {},
   "source": [
    "You can now run the simulation with the trainable parameters by passing them to the `jx.integrate` function."
   ]
  },
  {
   "cell_type": "code",
   "execution_count": 13,
   "id": "dbed4a30",
   "metadata": {},
   "outputs": [],
   "source": [
    "s = jx.integrate(net, params=params, t_max=10.0)"
   ]
  },
  {
   "cell_type": "markdown",
   "id": "379bd46a",
   "metadata": {},
   "source": [
    "### Stimulating the network\n",
    "\n",
    "The network above does not yet get any stimuli. We will use the 2D inputs from the dataset to stimulate the two input neurons. The amplitude of the step current corresponds to the input value. Below is the simulator that defines this:"
   ]
  },
  {
   "cell_type": "code",
   "execution_count": 14,
   "id": "1c9f5fd5",
   "metadata": {},
   "outputs": [],
   "source": [
    "def simulate(params, inputs):\n",
    "    currents = jx.datapoint_to_step_currents(i_delay=1.0, i_dur=1.0, i_amp=inputs / 10, delta_t=0.025, t_max=10.0)\n",
    "\n",
    "    data_stimuli = None\n",
    "    data_stimuli = net.cell(0).branch(2).loc(1.0).data_stimulate(currents[0], data_stimuli=data_stimuli)\n",
    "    data_stimuli = net.cell(1).branch(2).loc(1.0).data_stimulate(currents[1], data_stimuli=data_stimuli)\n",
    "\n",
    "    return jx.integrate(net, params=params, data_stimuli=data_stimuli, delta_t=0.025)\n",
    "\n",
    "batched_simulate = vmap(simulate, in_axes=(None, 0))"
   ]
  },
  {
   "cell_type": "markdown",
   "id": "eed91fda",
   "metadata": {},
   "source": [
    "We can also inspect some traces:"
   ]
  },
  {
   "cell_type": "code",
   "execution_count": 15,
   "id": "6777ca54",
   "metadata": {},
   "outputs": [],
   "source": [
    "traces = batched_simulate(params, inputs[:4])"
   ]
  },
  {
   "cell_type": "code",
   "execution_count": 16,
   "id": "e955b68c",
   "metadata": {},
   "outputs": [
    {
     "data": {
      "image/png": "[encoded data removed]",
      "text/plain": [
       "<Figure size 400x200 with 1 Axes>"
      ]
     },
     "metadata": {},
     "output_type": "display_data"
    }
   ],
   "source": [
    "fig, ax = plt.subplots(1, 1, figsize=(4, 2))\n",
    "_ = ax.plot(traces[:, 2, :].T)"
   ]
  },
  {
   "cell_type": "markdown",
   "id": "cedd6eb0",
   "metadata": {},
   "source": [
    "### Defining a loss function"
   ]
  },
  {
   "cell_type": "markdown",
   "id": "3d4496ba",
   "metadata": {},
   "source": [
    "Let us define a loss function to be optimized:"
   ]
  },
  {
   "cell_type": "code",
   "execution_count": 17,
   "id": "12d24d21",
   "metadata": {},
   "outputs": [],
   "source": [
    "def loss(params, inputs, labels):\n",
    "    traces = batched_simulate(params, inputs)  # Shape `(batchsize, num_recordings, timepoints)`.\n",
    "    prediction = jnp.mean(traces[:, 2], axis=1)  # Use the average over time of the output neuron (2) as prediction.\n",
    "    prediction = (prediction + 72.0) / 5  # Such that the prediction is roughly in [0, 1].\n",
    "    losses = jnp.abs(prediction - labels)  # Mean absolute error loss.\n",
    "    return jnp.mean(losses)  # Average across the batch."
   ]
  },
  {
   "cell_type": "markdown",
   "id": "27815c37",
   "metadata": {},
   "source": [
    "And we can use `JAX`'s inbuilt functions to take the gradient through the entire ODE:"
   ]
  },
  {
   "cell_type": "code",
   "execution_count": 18,
   "id": "f4eb2f9a",
   "metadata": {},
   "outputs": [],
   "source": [
    "jitted_grad = jit(value_and_grad(loss, argnums=0))"
   ]
  },
  {
   "cell_type": "code",
   "execution_count": 19,
   "id": "3e0fce97",
   "metadata": {},
   "outputs": [],
   "source": [
    "value, gradient = jitted_grad(params, inputs[:4], labels[:4])"
   ]
  },
  {
   "cell_type": "markdown",
   "id": "fae1a3ba",
   "metadata": {},
   "source": [
    "### Defining parameter transformations"
   ]
  },
  {
   "cell_type": "markdown",
   "id": "918ccb63",
   "metadata": {},
   "source": [
    "Before training, however, we will enforce for all parameters to be within a prespecified range (such that, e.g., conductances can not become negative)"
   ]
  },
  {
   "cell_type": "code",
   "execution_count": 20,
   "id": "c701fe9d",
   "metadata": {},
   "outputs": [],
   "source": [
    "import jaxley.optimize.transforms as jt"
   ]
  },
  {
   "cell_type": "code",
   "execution_count": 21,
   "id": "24ccf281",
   "metadata": {},
   "outputs": [],
   "source": [
    "# Define a function to create appropriate transforms for each parameter\n",
    "def create_transform(name):\n",
    "    if name == \"axial_resistivity\":\n",
    "        # Must be positive; apply Softplus and scale to match initialization\n",
    "        return jt.ChainTransform([jt.SoftplusTransform(0), jt.AffineTransform(5000, 0)])\n",
    "    elif name == \"length\":\n",
    "        # Apply Softplus and affine transform for the 'length' parameter\n",
    "        return jt.ChainTransform([jt.SoftplusTransform(0), jt.AffineTransform(10, 0)])\n",
    "    else:\n",
    "        # Default to a Softplus transform for other parameters\n",
    "        return jt.SoftplusTransform(0)\n",
    "\n",
    "# Apply the transforms to the parameters\n",
    "transforms = [{k: create_transform(k) for k in param} for param in params]\n",
    "tf = jt.ParamTransform(transforms)\n"
   ]
  },
  {
   "cell_type": "code",
   "execution_count": 22,
   "id": "aba4f10e",
   "metadata": {},
   "outputs": [],
   "source": [
    "transform = jx.ParamTransform([{\"radius\": jt.SigmoidTransform(0.1, 5.0)},\n",
    "                               {\"Leak_gLeak\":jt.SigmoidTransform(1e-5, 1e-3)},\n",
    "                               {\"TanhRateSynapse_gS\" : jt.SigmoidTransform(1e-5, 1e-2)}])"
   ]
  },
  {
   "cell_type": "markdown",
   "id": "bd4d007c",
   "metadata": {},
   "source": [
    "With these  modify the loss function acocrdingly:"
   ]
  },
  {
   "cell_type": "code",
   "execution_count": 23,
   "id": "b3e95fe5",
   "metadata": {},
   "outputs": [],
   "source": [
    "def loss(opt_params, inputs, labels):\n",
    "    transform.forward(opt_params)\n",
    "\n",
    "    traces = batched_simulate(params, inputs)  # Shape `(batchsize, num_recordings, timepoints)`.\n",
    "    prediction = jnp.mean(traces[:, 2], axis=1)  # Use the average over time of the output neuron (2) as prediction.\n",
    "    prediction = (prediction + 72.0)  # Such that the prediction is around 0.\n",
    "    losses = jnp.abs(prediction - labels)  # Mean absolute error loss.\n",
    "    return jnp.mean(losses)  # Average across the batch."
   ]
  },
  {
   "cell_type": "markdown",
   "id": "3dc008e0",
   "metadata": {},
   "source": [
    "### Using checkpointing"
   ]
  },
  {
   "cell_type": "markdown",
   "id": "adf0a06a",
   "metadata": {},
   "source": [
    "Checkpointing allows to vastly reduce the memory requirements of training biophysical models (see also [JAX's full tutorial on checkpointing](https://jax.readthedocs.io/en/latest/gradient-checkpointing.html))."
   ]
  },
  {
   "cell_type": "code",
   "execution_count": 24,
   "id": "28250760",
   "metadata": {},
   "outputs": [],
   "source": [
    "t_max = 5.0\n",
    "dt = 0.025\n",
    "\n",
    "levels = 2\n",
    "time_points = t_max // dt + 2\n",
    "checkpoints = [int(np.ceil(time_points**(1/levels))) for _ in range(levels)]"
   ]
  },
  {
   "cell_type": "markdown",
   "id": "2cc3273f",
   "metadata": {},
   "source": [
    "To enable checkpointing, we have to modify the `simulate` function appropriately and use\n",
    "```python\n",
    "jx.integrate(..., checkpoint_inds=checkpoints)\n",
    "```\n",
    "as done below:"
   ]
  },
  {
   "cell_type": "code",
   "execution_count": 25,
   "id": "ad462ead",
   "metadata": {},
   "outputs": [],
   "source": [
    "def simulate(params, inputs):\n",
    "    currents = jx.datapoint_to_step_currents(i_delay=1.0, i_dur=1.0, i_amp=inputs / 10.0, delta_t=dt, t_max=t_max)\n",
    "\n",
    "    data_stimuli = None\n",
    "    data_stimuli = net.cell(0).branch(2).loc(1.0).data_stimulate(currents[0], data_stimuli=data_stimuli)\n",
    "    data_stimuli = net.cell(1).branch(2).loc(1.0).data_stimulate(currents[1], data_stimuli=data_stimuli)\n",
    "\n",
    "    return jx.integrate(net, params=params, data_stimuli=data_stimuli, checkpoint_lengths=checkpoints)\n",
    "\n",
    "batched_simulate = vmap(simulate, in_axes=(None, 0))\n",
    "\n",
    "\n",
    "def predict(params, inputs):\n",
    "    traces = simulate(params, inputs)  # Shape `(batchsize, num_recordings, timepoints)`.\n",
    "    prediction = jnp.mean(traces[2])  # Use the average over time of the output neuron (2) as prediction.\n",
    "    return prediction + 72.0  # Such that the prediction is around 0.\n",
    "\n",
    "batched_predict = vmap(predict, in_axes=(None, 0))\n",
    "\n",
    "\n",
    "def loss(opt_params, inputs, labels):\n",
    "    params = transform.forward(opt_params)\n",
    "\n",
    "    predictions = batched_predict(params, inputs)\n",
    "    losses = jnp.abs(predictions - labels)  # Mean absolute error loss.\n",
    "    return jnp.mean(losses)  # Average across the batch.\n",
    "\n",
    "jitted_grad = jit(value_and_grad(loss, argnums=0))"
   ]
  },
  {
   "cell_type": "markdown",
   "id": "7df9d62e",
   "metadata": {},
   "source": [
    "### Training\n",
    "\n",
    "We will use the ADAM optimizer from the [optax library](https://optax.readthedocs.io/en/latest/) to optimize the free parameters (you have to install the package with `pip install optax` first):"
   ]
  },
  {
   "cell_type": "code",
   "execution_count": 26,
   "id": "f88dae7c",
   "metadata": {},
   "outputs": [],
   "source": [
    "import optax"
   ]
  },
  {
   "cell_type": "code",
   "execution_count": 27,
   "id": "d52ea3e6",
   "metadata": {},
   "outputs": [],
   "source": [
    "opt_params = transform.inverse(params)\n",
    "optimizer = optax.adam(learning_rate=0.01)\n",
    "opt_state = optimizer.init(opt_params)"
   ]
  },
  {
   "cell_type": "markdown",
   "id": "57f814bc",
   "metadata": {},
   "source": [
    "### Writing a dataloader"
   ]
  },
  {
   "cell_type": "markdown",
   "id": "d27c9474",
   "metadata": {},
   "source": [
    "Below, we just write our own (very simple) dataloader. Alternatively, you could use the dataloader from any deep learning library such as pytorch or tensorflow:"
   ]
  },
  {
   "cell_type": "code",
   "execution_count": 28,
   "id": "49e3b240",
   "metadata": {},
   "outputs": [],
   "source": [
    "class Dataset:\n",
    "    def __init__(self, inputs: np.ndarray, labels: np.ndarray):\n",
    "        \"\"\"Simple Dataloader.\n",
    "        \n",
    "        Args:\n",
    "            inputs: Array of shape (num_samples, num_dim)\n",
    "            labels: Array of shape (num_samples,)\n",
    "        \"\"\"\n",
    "        assert len(inputs) == len(labels), \"Inputs and labels must have same length\"\n",
    "        self.inputs = inputs\n",
    "        self.labels = labels\n",
    "        self.num_samples = len(inputs)\n",
    "        self._rng_state = None\n",
    "        self.batch_size = 1\n",
    "    \n",
    "    def shuffle(self, seed=None):\n",
    "        \"\"\"Shuffle the dataset in-place\"\"\"\n",
    "        self._rng_state = np.random.get_state()[1][0] if seed is None else seed\n",
    "        np.random.seed(self._rng_state)\n",
    "        indices = np.random.permutation(self.num_samples)\n",
    "        self.inputs = self.inputs[indices]\n",
    "        self.labels = self.labels[indices]\n",
    "        return self\n",
    "    \n",
    "    def batch(self, batch_size):\n",
    "        \"\"\"Create batches of the data\"\"\"\n",
    "        self.batch_size = batch_size\n",
    "        return self\n",
    "\n",
    "    def __iter__(self):\n",
    "        self.shuffle(seed=self._rng_state)\n",
    "        for start in range(0, self.num_samples, self.batch_size):\n",
    "            end = min(start + self.batch_size, self.num_samples)\n",
    "            yield self.inputs[start:end], self.labels[start:end]\n",
    "        self._rng_state += 1"
   ]
  },
  {
   "cell_type": "markdown",
   "id": "80f7bb6d",
   "metadata": {},
   "source": [
    "### Training loop"
   ]
  },
  {
   "cell_type": "code",
   "execution_count": 29,
   "id": "49f21db8",
   "metadata": {},
   "outputs": [
    {
     "name": "stdout",
     "output_type": "stream",
     "text": [
      "epoch 0, loss 22.65623100330507\n",
      "epoch 1, loss 17.646464026707072\n",
      "epoch 2, loss 11.067483916489753\n",
      "epoch 3, loss 7.757597445307745\n",
      "epoch 4, loss 6.991337400856902\n",
      "epoch 5, loss 6.614704674024435\n",
      "epoch 6, loss 6.559548399999545\n",
      "epoch 7, loss 6.477586586556327\n",
      "epoch 8, loss 6.427426195029805\n",
      "epoch 9, loss 6.4088411856655165\n"
     ]
    }
   ],
   "source": [
    "batch_size = 4\n",
    "dataloader = Dataset(inputs, labels)\n",
    "dataloader = dataloader.shuffle(seed=0).batch(batch_size)\n",
    "\n",
    "for epoch in range(10):\n",
    "    epoch_loss = 0.0\n",
    "    \n",
    "    for batch_ind, batch in enumerate(dataloader):\n",
    "        current_batch, label_batch = batch\n",
    "        loss_val, gradient = jitted_grad(opt_params, current_batch, label_batch)\n",
    "        updates, opt_state = optimizer.update(gradient, opt_state)\n",
    "        opt_params = optax.apply_updates(opt_params, updates)\n",
    "        epoch_loss += loss_val\n",
    "    \n",
    "    print(f\"epoch {epoch}, loss {epoch_loss}\")\n",
    "    \n",
    "final_params = transform.forward(opt_params)"
   ]
  },
  {
   "cell_type": "code",
   "execution_count": 30,
   "id": "6ee99770",
   "metadata": {},
   "outputs": [],
   "source": [
    "ntest = 32\n",
    "predictions = batched_predict(final_params, inputs[:ntest])"
   ]
  },
  {
   "cell_type": "code",
   "execution_count": 31,
   "id": "7eba8fee",
   "metadata": {},
   "outputs": [
    {
     "data": {
      "image/png": "[encoded data removed]",
      "text/plain": [
       "<Figure size 300x200 with 1 Axes>"
      ]
     },
     "metadata": {},
     "output_type": "display_data"
    }
   ],
   "source": [
    "fig, ax = plt.subplots(1, 1, figsize=(3, 2))\n",
    "_ = ax.scatter(labels[:ntest], predictions)\n",
    "_ = ax.set_xlabel(\"Label\")\n",
    "_ = ax.set_ylabel(\"Prediction\")"
   ]
  },
  {
   "cell_type": "markdown",
   "id": "67feb57b",
   "metadata": {},
   "source": [
    "Indeed, the loss goes down and the network successfully classifies the patterns."
   ]
  },
  {
   "cell_type": "markdown",
   "id": "a690abb7",
   "metadata": {},
   "source": [
    "### Summary"
   ]
  },
  {
   "cell_type": "markdown",
   "id": "1d85cb25",
   "metadata": {},
   "source": [
    "Puh, this was a pretty dense tutorial with a lot of material. You should have learned how to:\n",
    "\n",
    "- compute the gradient with respect to parameters  \n",
    "- use parameter transformations  \n",
    "- use multi-level checkpointing  \n",
    "- define optimizers  \n",
    "- write dataloaders and parallelize across data  "
   ]
  },
  {
   "cell_type": "markdown",
   "id": "5c9de20d",
   "metadata": {},
   "source": [
    "This was the last \"basic\" tutorial of the `Jaxley` toolbox. If you want to learn more, check out our [Advanced Tutorials](https://jaxley.readthedocs.io/en/latest/advanced_tutorials.html). If anything is still unclear please create a [discussion](https://github.com/jaxleyverse/jaxley/discussions). If you find any bugs, please open an [issue](https://github.com/jaxleyverse/jaxley/issues). Happy coding!"
   ]
  }
 ],
 "metadata": {
  "kernelspec": {
   "display_name": "Python 3 (ipykernel)",
   "language": "python",
   "name": "python3"
  },
  "language_info": {
   "codemirror_mode": {
    "name": "ipython",
    "version": 3
   },
   "file_extension": ".py",
   "mimetype": "text/x-python",
   "name": "python",
   "nbconvert_exporter": "python",
   "pygments_lexer": "ipython3",
   "version": "3.12.4"
  }
 },
 "nbformat": 4,
 "nbformat_minor": 5
}
