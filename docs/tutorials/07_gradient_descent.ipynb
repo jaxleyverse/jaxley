{
 "cells": [
  {
   "cell_type": "markdown",
   "id": "cc77dd53",
   "metadata": {},
   "source": [
    "# Training biophysical models\n",
    "\n",
    "In this tutorial, you will learn how to train biophysical models in `Jaxley`. This includes the following:\n",
    "\n",
    "- compute the gradient with respect to parameters  \n",
    "- use parameter transformations  \n",
    "- use multi-level checkpointing  \n",
    "- define optimizers  \n",
    "- write dataloaders and parallelize across data  \n",
    "\n",
    "Here is a code snippet which you will learn to understand in this tutorial:\n",
    "```python\n",
    "from jax import jit, vmap, value_and_grad\n",
    "import jaxley as jx\n",
    "import jaxley.optimize.transforms as jt\n",
    "\n",
    "net = ...  # See tutorial on the basics of `Jaxley`.\n",
    "\n",
    "# Define which parameters to train.\n",
    "net.cell(\"all\").make_trainable(\"HH_gNa\")\n",
    "net.IonotropicSynapse.make_trainable(\"IonotropicSynapse_gS\")\n",
    "parameters = net.get_parameters()\n",
    "\n",
    "# Define parameter transform and apply it to the parameters.\n",
    "transform = jx.ParamTransform([{\"IonotropicSynapse_gS\": jt.SigmoidTransform(0.0,1.0)},\n",
    "                               {\"HH_gNa\":jt.SigmoidTransform(0.0,1,0)}])\n",
    "\n",
    "opt_params = transform.inverse(parameters)\n",
    "\n",
    "# Define simulation and batch it across stimuli.\n",
    "def simulate(params, datapoint):\n",
    "    current = jx.datapoint_to_step_currents(i_delay=1.0, i_dur=1.0, i_amps=datapoint, dt=0.025, t_max=5.0)\n",
    "    data_stimuli = net.cell(0).branch(0).comp(0).data_stimulate(current, None\n",
    "    return jx.integrate(net, params=params, data_stimuli=data_stimuli, checkpoint_inds=[20, 20])\n",
    "\n",
    "batch_simulate = vmap(simulate, in_axes=(None, 0))\n",
    "\n",
    "# Define loss function and its gradient.\n",
    "def loss_fn(opt_params, datapoints, label):\n",
    "    params = transform.forward(opt_params)\n",
    "    voltages = batch_simulate(params, datapoints)\n",
    "    return jnp.abs(jnp.mean(voltages) - label)\n",
    "\n",
    "grad_fn = jit(value_and_grad(loss_fn, argnums=0))\n",
    "\n",
    "# Define data and dataloader.\n",
    "data = jnp.asarray(np.random.randn(100, 3))\n",
    "dataloader = Dataset.from_tensor_slices((inputs, labels))\n",
    "dataloader = dataloader.shuffle(dataloader.cardinality()).batch(4)\n",
    "\n",
    "# Define the optimizer.\n",
    "optimizer = optax.Adam(lr=0.01)\n",
    "opt_state = optimizer.init_state(opt_params)\n",
    "\n",
    "for epoch in range(10):\n",
    "    for batch in dataloader:\n",
    "        stimuli = batch[0].numpy()\n",
    "        labels = batch[1].numpy()\n",
    "        loss, gradient = grad_fn(opt_params, stimuli, labels)\n",
    "\n",
    "        # Optimizer step.\n",
    "        updates, opt_state = optimizer.update(gradient, opt_state)\n",
    "        opt_params = optax.apply_updates(opt_params, updates)\n",
    "        \n",
    "```"
   ]
  },
  {
   "cell_type": "code",
   "execution_count": 1,
   "id": "d09b991a",
   "metadata": {},
   "outputs": [],
   "source": [
    "from jax import config\n",
    "config.update(\"jax_enable_x64\", True)\n",
    "config.update(\"jax_platform_name\", \"cpu\")\n",
    "\n",
    "import matplotlib.pyplot as plt\n",
    "import numpy as np\n",
    "import jax\n",
    "import jax.numpy as jnp\n",
    "from jax import jit, vmap, value_and_grad\n",
    "\n",
    "import jaxley as jx\n",
    "from jaxley.channels import Leak\n",
    "from jaxley.synapses import TanhRateSynapse\n",
    "from jaxley.connect import fully_connect"
   ]
  },
  {
   "cell_type": "markdown",
   "id": "6a6a8517",
   "metadata": {},
   "source": [
    "First, we define a network as you saw in the [previous tutorial](https://jaxleyverse.github.io/jaxley/latest/tutorial/01_morph_neurons/):"
   ]
  },
  {
   "cell_type": "code",
   "execution_count": 2,
   "id": "9b4f07eb",
   "metadata": {},
   "outputs": [],
   "source": [
    "_ = np.random.seed(0)  # For synaptic locations.\n",
    "\n",
    "comp = jx.Compartment()\n",
    "branch = jx.Branch(comp, nseg=2)\n",
    "cell = jx.Cell(branch, parents=[-1, 0, 0])\n",
    "net = jx.Network([cell for _ in range(3)])\n",
    "\n",
    "pre = net.cell([0, 1])\n",
    "post = net.cell([2])\n",
    "fully_connect(pre, post, TanhRateSynapse())\n",
    "\n",
    "# Change some default values of the tanh synapse.\n",
    "net.TanhRateSynapse.set(\"TanhRateSynapse_x_offset\", -60.0)\n",
    "net.TanhRateSynapse.set(\"TanhRateSynapse_gS\", 1e-3)\n",
    "net.TanhRateSynapse.set(\"TanhRateSynapse_slope\", 0.1)\n",
    "\n",
    "net.insert(Leak())"
   ]
  },
  {
   "cell_type": "markdown",
   "id": "3df84b55-6515-415c-96a2-80ed715e0646",
   "metadata": {},
   "source": [
    "This network consists of three neurons arranged in two layers:"
   ]
  },
  {
   "cell_type": "code",
   "execution_count": 3,
   "id": "6045dd9e-b493-4f88-8c91-96706d484a97",
   "metadata": {},
   "outputs": [
    {
     "data": {
      "image/png": "[encoded data removed]",
      "text/plain": [
       "<Figure size 300x200 with 1 Axes>"
      ]
     },
     "metadata": {},
     "output_type": "display_data"
    }
   ],
   "source": [
    "net.compute_xyz()\n",
    "net.rotate(180)\n",
    "fig, ax = plt.subplots(1, 1, figsize=(3, 2))\n",
    "_ = net.vis(ax=ax, detail=\"full\", layers=[2, 1], layer_kwargs={\"within_layer_offset\": 100.0, \"between_layer_offset\": 100.0}) "
   ]
  },
  {
   "cell_type": "markdown",
   "id": "2fba2c73-a7f5-45fa-a23e-774324fc155d",
   "metadata": {},
   "source": [
    "We consider the last neuron as the output neuron and record the voltage from there:"
   ]
  },
  {
   "cell_type": "code",
   "execution_count": 4,
   "id": "92cf53ea-cbab-4796-9980-6362b9adbed0",
   "metadata": {},
   "outputs": [
    {
     "name": "stdout",
     "output_type": "stream",
     "text": [
      "Added 1 recordings. See `.recordings` for details.\n",
      "Added 1 recordings. See `.recordings` for details.\n",
      "Added 1 recordings. See `.recordings` for details.\n"
     ]
    }
   ],
   "source": [
    "net.delete_recordings()\n",
    "net.cell(0).branch(0).loc(0.0).record()\n",
    "net.cell(1).branch(0).loc(0.0).record()\n",
    "net.cell(2).branch(0).loc(0.0).record()"
   ]
  },
  {
   "cell_type": "markdown",
   "id": "62ec99c2-09fb-425f-96aa-e82c1dfd8641",
   "metadata": {},
   "source": [
    "### Defining a dataset"
   ]
  },
  {
   "cell_type": "markdown",
   "id": "c953a0fd-ec74-4954-9377-fde4bc5aa091",
   "metadata": {},
   "source": [
    "We will train this biophysical network on a classification task. The inputs will be values and the label is binary:"
   ]
  },
  {
   "cell_type": "code",
   "execution_count": 5,
   "id": "0394c373-61e2-45a3-88fa-e71349419eb5",
   "metadata": {},
   "outputs": [],
   "source": [
    "inputs = jnp.asarray(np.random.rand(3, 2))\n",
    "labels = jnp.asarray((inputs[:, 0] + inputs[:, 1]) > 1.0)"
   ]
  },
  {
   "cell_type": "code",
   "execution_count": 6,
   "id": "3a4c1360-699d-4a2f-bc27-9820d3848198",
   "metadata": {},
   "outputs": [
    {
     "data": {
      "image/png": "[encoded data removed]",
      "text/plain": [
       "<Figure size 300x200 with 1 Axes>"
      ]
     },
     "metadata": {},
     "output_type": "display_data"
    }
   ],
   "source": [
    "fig, ax = plt.subplots(1, 1, figsize=(3, 2))\n",
    "_ = ax.scatter(inputs[labels, 0], inputs[labels, 1])\n",
    "_ = ax.scatter(inputs[~labels, 0], inputs[~labels, 1])"
   ]
  },
  {
   "cell_type": "code",
   "execution_count": 7,
   "id": "b821b875-d024-47d9-b047-a44e398186ee",
   "metadata": {},
   "outputs": [],
   "source": [
    "labels = labels.astype(float)"
   ]
  },
  {
   "cell_type": "markdown",
   "id": "9cab1469-9cc7-4ca7-b8c3-3c6ef4f69599",
   "metadata": {},
   "source": [
    "### Defining trainable parameters"
   ]
  },
  {
   "cell_type": "code",
   "execution_count": 8,
   "id": "e4959638-370b-40c7-b165-cb21d54ce738",
   "metadata": {},
   "outputs": [],
   "source": [
    "net.delete_trainables()"
   ]
  },
  {
   "cell_type": "markdown",
   "id": "a5bb1f52",
   "metadata": {},
   "source": [
    "This follows the same API as `.set()` seen in the previous tutorial. If you want to use a single parameter for all `radius`es in the entire network, do:"
   ]
  },
  {
   "cell_type": "code",
   "execution_count": 9,
   "id": "10cb5b1e",
   "metadata": {},
   "outputs": [
    {
     "name": "stdout",
     "output_type": "stream",
     "text": [
      "Number of newly added trainable parameters: 1. Total number of trainable parameters: 1\n"
     ]
    }
   ],
   "source": [
    "net.make_trainable(\"radius\")"
   ]
  },
  {
   "cell_type": "markdown",
   "id": "ded765bf",
   "metadata": {},
   "source": [
    "We can also define parameters for individual compartments. To do this, use the `\"all\"` key. The following defines a separate parameter the sodium conductance for every compartment in the entire network:"
   ]
  },
  {
   "cell_type": "code",
   "execution_count": 10,
   "id": "c90be7f3",
   "metadata": {},
   "outputs": [
    {
     "name": "stdout",
     "output_type": "stream",
     "text": [
      "Number of newly added trainable parameters: 18. Total number of trainable parameters: 19\n"
     ]
    }
   ],
   "source": [
    "net.cell(\"all\").branch(\"all\").loc(\"all\").make_trainable(\"Leak_gLeak\")"
   ]
  },
  {
   "cell_type": "markdown",
   "id": "24d0ab89",
   "metadata": {},
   "source": [
    "### Making synaptic parameters trainable"
   ]
  },
  {
   "cell_type": "markdown",
   "id": "9a5811b8",
   "metadata": {},
   "source": [
    "Synaptic parameters can be made trainable in the exact same way. To use a single parameter for all syanptic conductances in the entire network, do\n",
    "```python\n",
    "net.TanhRateSynapse.make_trainable(\"TanhRateSynapse_gS\")\n",
    "```"
   ]
  },
  {
   "cell_type": "markdown",
   "id": "84527ee4",
   "metadata": {},
   "source": [
    "Here, we use a different syanptic conductance for all syanpses. This can be done as follows:"
   ]
  },
  {
   "cell_type": "code",
   "execution_count": 11,
   "id": "dbadd2a8",
   "metadata": {},
   "outputs": [
    {
     "name": "stdout",
     "output_type": "stream",
     "text": [
      "Number of newly added trainable parameters: 2. Total number of trainable parameters: 21\n"
     ]
    }
   ],
   "source": [
    "net.TanhRateSynapse.edge(\"all\").make_trainable(\"TanhRateSynapse_gS\")"
   ]
  },
  {
   "cell_type": "markdown",
   "id": "5dfc1c6b",
   "metadata": {},
   "source": [
    "### Running the simulation"
   ]
  },
  {
   "cell_type": "markdown",
   "id": "02d8a610",
   "metadata": {},
   "source": [
    "Once all parameters are defined, you have to use `.get_parameters()` to obtain all trainable parameters. This is also the time to check how many trainable parameters your network has:"
   ]
  },
  {
   "cell_type": "code",
   "execution_count": 12,
   "id": "40a48eea",
   "metadata": {},
   "outputs": [],
   "source": [
    "params = net.get_parameters()"
   ]
  },
  {
   "cell_type": "markdown",
   "id": "cf68cf64",
   "metadata": {},
   "source": [
    "You can now run the simulation with the trainable parameters by passing them to the `jx.integrate` function."
   ]
  },
  {
   "cell_type": "code",
   "execution_count": 13,
   "id": "4eb3f8f1",
   "metadata": {},
   "outputs": [],
   "source": [
    "s = jx.integrate(net, params=params, t_max=10.0)"
   ]
  },
  {
   "cell_type": "markdown",
   "id": "4c82d6b2-6b62-43bc-9c34-fc65bd4adddb",
   "metadata": {},
   "source": [
    "### Stimulating the network\n",
    "\n",
    "The network above does not yet get any stimuli. We will use the 2D inputs from the dataset to stimulate the two input neurons. The amplitude of the step current corresponds to the input value. Below is the simulator that defines this:"
   ]
  },
  {
   "cell_type": "code",
   "execution_count": 14,
   "id": "2354c23b-12bd-4e4a-ab8b-20d062b286c7",
   "metadata": {},
   "outputs": [],
   "source": [
    "def simulate(params, inputs):\n",
    "    currents = jx.datapoint_to_step_currents(i_delay=1.0, i_dur=1.0, i_amp=inputs / 10, delta_t=0.025, t_max=3.0)\n",
    "\n",
    "    data_stimuli = None\n",
    "    data_stimuli = net.cell(0).branch(2).loc(1.0).data_stimulate(currents[0], data_stimuli=data_stimuli)\n",
    "    data_stimuli = net.cell(1).branch(2).loc(1.0).data_stimulate(currents[1], data_stimuli=data_stimuli)\n",
    "\n",
    "    return jx.integrate(net, params=params, data_stimuli=data_stimuli)\n",
    "\n",
    "batched_simulate = vmap(simulate, in_axes=(None, 0))"
   ]
  },
  {
   "cell_type": "markdown",
   "id": "3e2031ec-cef9-4175-99ff-6d92e44d1181",
   "metadata": {},
   "source": [
    "We can also inspect some traces:"
   ]
  },
  {
   "cell_type": "code",
   "execution_count": 15,
   "id": "625d85e2-2af3-46c2-8739-f993584a7c0b",
   "metadata": {},
   "outputs": [],
   "source": [
    "traces = batched_simulate(params, inputs[:4])"
   ]
  },
  {
   "cell_type": "code",
   "execution_count": 16,
   "id": "273c6489-ee27-469a-ba51-6139edbed8f1",
   "metadata": {},
   "outputs": [
    {
     "data": {
      "image/png": "[encoded data removed]",
      "text/plain": [
       "<Figure size 400x200 with 1 Axes>"
      ]
     },
     "metadata": {},
     "output_type": "display_data"
    }
   ],
   "source": [
    "fig, ax = plt.subplots(1, 1, figsize=(4, 2))\n",
    "_ = ax.plot(traces[:, 2, :].T)"
   ]
  },
  {
   "cell_type": "markdown",
   "id": "00946772",
   "metadata": {},
   "source": [
    "### Defining a loss function"
   ]
  },
  {
   "cell_type": "markdown",
   "id": "9808bb05",
   "metadata": {},
   "source": [
    "Let us define a loss function to be optimized:"
   ]
  },
  {
   "cell_type": "code",
   "execution_count": 17,
   "id": "a29f1ac2",
   "metadata": {},
   "outputs": [],
   "source": [
    "def loss(params, inputs, labels):\n",
    "    traces = batched_simulate(params, inputs)  # Shape `(batchsize, num_recordings, timepoints)`.\n",
    "    prediction = jnp.mean(traces[:, 2], axis=1)  # Use the average over time of the output neuron (2) as prediction.\n",
    "    prediction = (prediction + 72.0) / 5  # Such that the prediction is roughly in [0, 1].\n",
    "    losses = jnp.abs(prediction - labels)  # Mean absolute error loss.\n",
    "    return jnp.mean(losses)  # Average across the batch."
   ]
  },
  {
   "cell_type": "markdown",
   "id": "bef18ca2",
   "metadata": {},
   "source": [
    "And we can use `JAX`'s inbuilt functions to take the gradient through the entire ODE:"
   ]
  },
  {
   "cell_type": "code",
   "execution_count": 18,
   "id": "f38d61a9",
   "metadata": {},
   "outputs": [],
   "source": [
    "#jitted_grad = jit(value_and_grad(loss, argnums=0))\n",
    "jitted_grad = (value_and_grad(loss, argnums=0))"
   ]
  },
  {
   "cell_type": "code",
   "execution_count": 19,
   "id": "9ac97e04",
   "metadata": {},
   "outputs": [],
   "source": [
    "value, gradient = jitted_grad(params, inputs[:4], labels[:4])"
   ]
  },
  {
   "cell_type": "markdown",
   "id": "8f1b64b8-99d5-4afb-8932-cdafee2370b6",
   "metadata": {},
   "source": [
    "### Defining parameter transformations"
   ]
  },
  {
   "cell_type": "markdown",
   "id": "b61dab27",
   "metadata": {},
   "source": [
    "Before training, however, we will enforce for all parameters to be within a prespecified range (such that, e.g., conductances can not become negative)"
   ]
  },
  {
   "cell_type": "code",
   "execution_count": 20,
   "id": "7f933f2d",
   "metadata": {},
   "outputs": [],
   "source": [
    "import jaxley.optimize.transforms as jt"
   ]
  },
  {
   "cell_type": "code",
   "execution_count": 21,
   "id": "b7ccdf0b",
   "metadata": {},
   "outputs": [],
   "source": [
    "# Define a function to create appropriate transforms for each parameter\n",
    "def create_transform(name):\n",
    "    if name == \"axial_resistivity\":\n",
    "        # Must be positive; apply Softplus and scale to match initialization\n",
    "        return jt.ChainTransform([jt.SoftplusTransform(0), jt.AffineTransform(5000, 0)])\n",
    "    elif name == \"length\":\n",
    "        # Apply Softplus and affine transform for the 'length' parameter\n",
    "        return jt.ChainTransform([jt.SoftplusTransform(0), jt.AffineTransform(10, 0)])\n",
    "    else:\n",
    "        # Default to a Softplus transform for other parameters\n",
    "        return jt.SoftplusTransform(0)\n",
    "\n",
    "# Apply the transforms to the parameters\n",
    "transforms = [{k: create_transform(k) for k in param} for param in params]\n",
    "tf = jt.ParamTransform(transforms)\n"
   ]
  },
  {
   "cell_type": "code",
   "execution_count": 22,
   "id": "652bee09",
   "metadata": {},
   "outputs": [],
   "source": [
    "transform = jx.ParamTransform([{\"radius\": jt.SigmoidTransform(0.1,5.0)},\n",
    "                               {\"Leak_gLeak\":jt.SigmoidTransform(1e-5,1e-3)},\n",
    "                               {\"TanhRateSynapse_gS\" : jt.SigmoidTransform(1e-5,1e-2)}])"
   ]
  },
  {
   "cell_type": "markdown",
   "id": "d25ddbc8-65c9-47c3-ab98-a8c776953481",
   "metadata": {},
   "source": [
    "With these  modify the loss function acocrdingly:"
   ]
  },
  {
   "cell_type": "code",
   "execution_count": 23,
   "id": "dac2b2fb-a844-4bdc-a290-939d91c2d2aa",
   "metadata": {},
   "outputs": [],
   "source": [
    "def loss(opt_params, inputs, labels):\n",
    "    transform.forward(opt_params)\n",
    "\n",
    "    traces = batched_simulate(params, inputs)  # Shape `(batchsize, num_recordings, timepoints)`.\n",
    "    prediction = jnp.mean(traces[:, 2], axis=1)  # Use the average over time of the output neuron (2) as prediction.\n",
    "    prediction = (prediction + 72.0)  # Such that the prediction is around 0.\n",
    "    losses = jnp.abs(prediction - labels)  # Mean absolute error loss.\n",
    "    return jnp.mean(losses)  # Average across the batch."
   ]
  },
  {
   "cell_type": "markdown",
   "id": "214c12a7-5d7d-4077-b7ca-1544a9d0a584",
   "metadata": {},
   "source": [
    "### Using checkpointing"
   ]
  },
  {
   "cell_type": "markdown",
   "id": "df80cc24",
   "metadata": {},
   "source": [
    "Checkpointing allows to vastly reduce the memory requirements of training biophysical models."
   ]
  },
  {
   "cell_type": "code",
   "execution_count": 24,
   "id": "f18a5736-f282-4ebe-9140-f613bccb3f76",
   "metadata": {},
   "outputs": [],
   "source": [
    "t_max = 3.0\n",
    "dt = 0.025\n",
    "\n",
    "levels = 2\n",
    "time_points = t_max // dt + 2\n",
    "checkpoints = [int(np.ceil(time_points**(1/levels))) for _ in range(levels)]"
   ]
  },
  {
   "cell_type": "markdown",
   "id": "17a31e6b-9938-461d-a38f-e358b998fd41",
   "metadata": {},
   "source": [
    "To enable checkpointing, we have to modify the `simulate` function appropriately and use\n",
    "```python\n",
    "jx.integrate(..., checkpoint_inds=checkpoints)\n",
    "```\n",
    "as done below:"
   ]
  },
  {
   "cell_type": "code",
   "execution_count": 25,
   "id": "cb3c256a-87ce-4c20-9bd3-30c34659db88",
   "metadata": {},
   "outputs": [],
   "source": [
    "def simulate(params, inputs):\n",
    "    currents = jx.datapoint_to_step_currents(i_delay=1.0, i_dur=1.0, i_amp=inputs / 10.0, delta_t=dt, t_max=t_max)\n",
    "\n",
    "    data_stimuli = None\n",
    "    data_stimuli = net.cell(0).branch(2).loc(1.0).data_stimulate(currents[0], data_stimuli=data_stimuli)\n",
    "    data_stimuli = net.cell(1).branch(2).loc(1.0).data_stimulate(currents[1], data_stimuli=data_stimuli)\n",
    "\n",
    "    return jx.integrate(net, params=params, data_stimuli=data_stimuli, checkpoint_lengths=checkpoints)\n",
    "\n",
    "batched_simulate = vmap(simulate, in_axes=(None, 0))\n",
    "\n",
    "\n",
    "def predict(params, inputs):\n",
    "    traces = simulate(params, inputs)  # Shape `(batchsize, num_recordings, timepoints)`.\n",
    "    prediction = jnp.mean(traces[2])  # Use the average over time of the output neuron (2) as prediction.\n",
    "    return prediction + 72.0  # Such that the prediction is around 0.\n",
    "\n",
    "batched_predict = vmap(predict, in_axes=(None, 0))\n",
    "\n",
    "\n",
    "def loss(opt_params, inputs, labels):\n",
    "    params = transform.forward(opt_params)\n",
    "\n",
    "    predictions = batched_predict(params, inputs)\n",
    "    losses = jnp.abs(predictions - labels)  # Mean absolute error loss.\n",
    "    return jnp.mean(losses)  # Average across the batch.\n",
    "\n",
    "#jitted_grad = jit(value_and_grad(loss, argnums=0))\n",
    "jitted_grad = (value_and_grad(loss, argnums=0))"
   ]
  },
  {
   "cell_type": "markdown",
   "id": "8e9de29a",
   "metadata": {},
   "source": [
    "### Training\n",
    "\n",
    "We will use the ADAM optimizer from the [optax library](https://optax.readthedocs.io/en/latest/) to optimize the free parameters (you have to install the package with `pip install optax` first):"
   ]
  },
  {
   "cell_type": "code",
   "execution_count": 26,
   "id": "6189ca28-6e22-4328-94dc-5c39ef5da0ac",
   "metadata": {},
   "outputs": [],
   "source": [
    "import optax"
   ]
  },
  {
   "cell_type": "code",
   "execution_count": 27,
   "id": "9d639efa",
   "metadata": {},
   "outputs": [],
   "source": [
    "opt_params = transform.inverse(params)\n",
    "optimizer = optax.adam(learning_rate=0.01)\n",
    "opt_state = optimizer.init(opt_params)"
   ]
  },
  {
   "cell_type": "markdown",
   "id": "2b746326-c685-4fb2-88c7-e40e852d7d68",
   "metadata": {},
   "source": [
    "### Writing a dataloader"
   ]
  },
  {
   "cell_type": "code",
   "execution_count": 28,
   "id": "dede5ef6-3afb-4b75-a23d-534dd3e2867b",
   "metadata": {},
   "outputs": [
    {
     "name": "stderr",
     "output_type": "stream",
     "text": [
      "2024-11-04 12:21:08.820277: W tensorflow/compiler/tf2tensorrt/utils/py_utils.cc:38] TF-TRT Warning: Could not find TensorRT\n"
     ]
    }
   ],
   "source": [
    "import tensorflow as tf\n",
    "from tensorflow.data import Dataset"
   ]
  },
  {
   "cell_type": "code",
   "execution_count": 29,
   "id": "f7463abc-207e-413b-aa9c-260b3306cdc1",
   "metadata": {},
   "outputs": [],
   "source": [
    "batch_size = 1\n",
    "\n",
    "tf.random.set_seed(1)\n",
    "dataloader = Dataset.from_tensor_slices((inputs, labels))\n",
    "dataloader = dataloader.shuffle(dataloader.cardinality()).batch(batch_size)"
   ]
  },
  {
   "cell_type": "markdown",
   "id": "b321cfb4-380d-4d7e-8b04-ff890f2f729c",
   "metadata": {},
   "source": [
    "### Training loop"
   ]
  },
  {
   "cell_type": "code",
   "execution_count": 30,
   "id": "0e4aebd0-283e-4165-8c24-4b6fb811135e",
   "metadata": {},
   "outputs": [
    {
     "name": "stdout",
     "output_type": "stream",
     "text": [
      "epoch 0, loss 2.9230847350076345\n"
     ]
    },
    {
     "name": "stderr",
     "output_type": "stream",
     "text": [
      "2024-11-04 12:21:49.936369: W tensorflow/core/framework/local_rendezvous.cc:404] Local rendezvous is aborting with status: OUT_OF_RANGE: End of sequence\n"
     ]
    }
   ],
   "source": [
    "for epoch in range(1):\n",
    "    epoch_loss = 0.0\n",
    "    for batch_ind, batch in enumerate(dataloader):\n",
    "        current_batch = batch[0].numpy()\n",
    "        label_batch = batch[1].numpy()\n",
    "        loss_val, gradient = jitted_grad(opt_params, current_batch, label_batch)\n",
    "        updates, opt_state = optimizer.update(gradient, opt_state)\n",
    "        opt_params = optax.apply_updates(opt_params, updates)\n",
    "        epoch_loss += loss_val\n",
    "    \n",
    "    print(f\"epoch {epoch}, loss {epoch_loss}\")\n",
    "    \n",
    "final_params = transform.forward(opt_params)"
   ]
  },
  {
   "cell_type": "code",
   "execution_count": 31,
   "id": "48c26c7c-1e4d-4681-a504-d490c7d890b8",
   "metadata": {},
   "outputs": [],
   "source": [
    "ntest = 32\n",
    "predictions = batched_predict(final_params, inputs[:ntest])"
   ]
  },
  {
   "cell_type": "code",
   "execution_count": 32,
   "id": "a66e44b9-3fc5-47e9-8ba3-f7acaa61104b",
   "metadata": {},
   "outputs": [
    {
     "data": {
      "image/png": "[encoded data removed]",
      "text/plain": [
       "<Figure size 300x200 with 1 Axes>"
      ]
     },
     "metadata": {},
     "output_type": "display_data"
    }
   ],
   "source": [
    "fig, ax = plt.subplots(1, 1, figsize=(3, 2))\n",
    "_ = ax.scatter(labels[:ntest], predictions)\n",
    "_ = ax.set_xlabel(\"Label\")\n",
    "_ = ax.set_ylabel(\"Prediction\")"
   ]
  },
  {
   "cell_type": "markdown",
   "id": "9aa2db31",
   "metadata": {},
   "source": [
    "Indeed, the loss goes down and the network successfully classifies the patterns."
   ]
  },
  {
   "cell_type": "markdown",
   "id": "4a2b4b0a-1f97-4ea3-a5f2-af12ed5398ed",
   "metadata": {},
   "source": [
    "### Summary"
   ]
  },
  {
   "cell_type": "markdown",
   "id": "ef8c1dbe-a688-43bc-ade4-440abf359925",
   "metadata": {},
   "source": [
    "Puh, this was a pretty dense tutorial with a lot of material. You should have learned how to:\n",
    "\n",
    "- compute the gradient with respect to parameters  \n",
    "- use parameter transformations  \n",
    "- use multi-level checkpointing  \n",
    "- define optimizers  \n",
    "- write dataloaders and parallelize across data  "
   ]
  },
  {
   "cell_type": "markdown",
   "id": "0e6045a5-76db-455e-8a4a-63e5a99ddc77",
   "metadata": {},
   "source": [
    "This was one of the last tutorials of the `Jaxley` toolbox. If anything is still unclear please create a [discussion](https://github.com/jaxleyverse/jaxley/discussions). If you find any bugs, please open an [issue](https://github.com/jaxleyverse/jaxley/issues). Happy coding!"
   ]
  }
 ],
 "metadata": {
  "kernelspec": {
   "display_name": "jaxley12",
   "language": "python",
   "name": "python3"
  },
  "language_info": {
   "codemirror_mode": {
    "name": "ipython",
    "version": 3
   },
   "file_extension": ".py",
   "mimetype": "text/x-python",
   "name": "python",
   "nbconvert_exporter": "python",
   "pygments_lexer": "ipython3",
   "version": "3.12.7"
  }
 },
 "nbformat": 4,
 "nbformat_minor": 5
}
