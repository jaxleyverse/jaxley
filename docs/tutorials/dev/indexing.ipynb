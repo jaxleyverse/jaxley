{
 "cells": [
  {
   "cell_type": "markdown",
   "id": "b6a58cde",
   "metadata": {},
   "source": [
    "# How `Jaxley` indexes compartments and branchpoints"
   ]
  },
  {
   "cell_type": "markdown",
   "id": "543a4b83",
   "metadata": {},
   "source": [
    "This tutorial is aimed at developers of `Jaxley`. It describes how indices in `Jaxley` are to be interpreted. Let's start with a simple example:"
   ]
  },
  {
   "cell_type": "code",
   "execution_count": 68,
   "id": "5006531d",
   "metadata": {},
   "outputs": [],
   "source": [
    "import jaxley as jx\n",
    "\n",
    "comp = jx.Compartment()\n",
    "branch = jx.Branch(comp, 1)\n",
    "cell = jx.Cell(branch, [-1, 0, 0])\n",
    "net = jx.Network([cell for _ in range(2)])"
   ]
  },
  {
   "cell_type": "code",
   "execution_count": 75,
   "id": "46eb6b2d",
   "metadata": {},
   "outputs": [
    {
     "data": {
      "text/html": [
       "<div>\n",
       "<style scoped>\n",
       "    .dataframe tbody tr th:only-of-type {\n",
       "        vertical-align: middle;\n",
       "    }\n",
       "\n",
       "    .dataframe tbody tr th {\n",
       "        vertical-align: top;\n",
       "    }\n",
       "\n",
       "    .dataframe thead th {\n",
       "        text-align: right;\n",
       "    }\n",
       "</style>\n",
       "<table border=\"1\" class=\"dataframe\">\n",
       "  <thead>\n",
       "    <tr style=\"text-align: right;\">\n",
       "      <th></th>\n",
       "      <th>local_cell_index</th>\n",
       "      <th>local_branch_index</th>\n",
       "      <th>local_comp_index</th>\n",
       "      <th>length</th>\n",
       "      <th>radius</th>\n",
       "      <th>axial_resistivity</th>\n",
       "      <th>capacitance</th>\n",
       "      <th>v</th>\n",
       "      <th>x</th>\n",
       "      <th>y</th>\n",
       "      <th>z</th>\n",
       "      <th>global_cell_index</th>\n",
       "      <th>global_branch_index</th>\n",
       "      <th>global_comp_index</th>\n",
       "      <th>controlled_by_param</th>\n",
       "    </tr>\n",
       "  </thead>\n",
       "  <tbody>\n",
       "    <tr>\n",
       "      <th>0</th>\n",
       "      <td>0</td>\n",
       "      <td>0</td>\n",
       "      <td>0</td>\n",
       "      <td>10.0</td>\n",
       "      <td>1.0</td>\n",
       "      <td>5000.0</td>\n",
       "      <td>1.0</td>\n",
       "      <td>-70.0</td>\n",
       "      <td>5.000000</td>\n",
       "      <td>5.000000</td>\n",
       "      <td>0.0</td>\n",
       "      <td>0</td>\n",
       "      <td>0</td>\n",
       "      <td>0</td>\n",
       "      <td>0</td>\n",
       "    </tr>\n",
       "    <tr>\n",
       "      <th>1</th>\n",
       "      <td>0</td>\n",
       "      <td>1</td>\n",
       "      <td>0</td>\n",
       "      <td>10.0</td>\n",
       "      <td>1.0</td>\n",
       "      <td>5000.0</td>\n",
       "      <td>1.0</td>\n",
       "      <td>-70.0</td>\n",
       "      <td>14.850713</td>\n",
       "      <td>3.787322</td>\n",
       "      <td>0.0</td>\n",
       "      <td>0</td>\n",
       "      <td>1</td>\n",
       "      <td>1</td>\n",
       "      <td>0</td>\n",
       "    </tr>\n",
       "    <tr>\n",
       "      <th>2</th>\n",
       "      <td>0</td>\n",
       "      <td>2</td>\n",
       "      <td>0</td>\n",
       "      <td>10.0</td>\n",
       "      <td>1.0</td>\n",
       "      <td>5000.0</td>\n",
       "      <td>1.0</td>\n",
       "      <td>-70.0</td>\n",
       "      <td>14.850713</td>\n",
       "      <td>6.212678</td>\n",
       "      <td>0.0</td>\n",
       "      <td>0</td>\n",
       "      <td>2</td>\n",
       "      <td>2</td>\n",
       "      <td>0</td>\n",
       "    </tr>\n",
       "    <tr>\n",
       "      <th>4</th>\n",
       "      <td>1</td>\n",
       "      <td>0</td>\n",
       "      <td>0</td>\n",
       "      <td>10.0</td>\n",
       "      <td>1.0</td>\n",
       "      <td>5000.0</td>\n",
       "      <td>1.0</td>\n",
       "      <td>-70.0</td>\n",
       "      <td>5.000000</td>\n",
       "      <td>0.000000</td>\n",
       "      <td>0.0</td>\n",
       "      <td>1</td>\n",
       "      <td>3</td>\n",
       "      <td>3</td>\n",
       "      <td>0</td>\n",
       "    </tr>\n",
       "    <tr>\n",
       "      <th>5</th>\n",
       "      <td>1</td>\n",
       "      <td>1</td>\n",
       "      <td>0</td>\n",
       "      <td>10.0</td>\n",
       "      <td>1.0</td>\n",
       "      <td>5000.0</td>\n",
       "      <td>1.0</td>\n",
       "      <td>-70.0</td>\n",
       "      <td>14.850713</td>\n",
       "      <td>-1.212678</td>\n",
       "      <td>0.0</td>\n",
       "      <td>1</td>\n",
       "      <td>4</td>\n",
       "      <td>4</td>\n",
       "      <td>0</td>\n",
       "    </tr>\n",
       "    <tr>\n",
       "      <th>6</th>\n",
       "      <td>1</td>\n",
       "      <td>2</td>\n",
       "      <td>0</td>\n",
       "      <td>10.0</td>\n",
       "      <td>1.0</td>\n",
       "      <td>5000.0</td>\n",
       "      <td>1.0</td>\n",
       "      <td>-70.0</td>\n",
       "      <td>14.850713</td>\n",
       "      <td>1.212678</td>\n",
       "      <td>0.0</td>\n",
       "      <td>1</td>\n",
       "      <td>5</td>\n",
       "      <td>5</td>\n",
       "      <td>0</td>\n",
       "    </tr>\n",
       "  </tbody>\n",
       "</table>\n",
       "</div>"
      ],
      "text/plain": [
       "   local_cell_index  local_branch_index  local_comp_index  length  radius  \\\n",
       "0                 0                   0                 0    10.0     1.0   \n",
       "1                 0                   1                 0    10.0     1.0   \n",
       "2                 0                   2                 0    10.0     1.0   \n",
       "4                 1                   0                 0    10.0     1.0   \n",
       "5                 1                   1                 0    10.0     1.0   \n",
       "6                 1                   2                 0    10.0     1.0   \n",
       "\n",
       "   axial_resistivity  capacitance     v          x         y    z  \\\n",
       "0             5000.0          1.0 -70.0   5.000000  5.000000  0.0   \n",
       "1             5000.0          1.0 -70.0  14.850713  3.787322  0.0   \n",
       "2             5000.0          1.0 -70.0  14.850713  6.212678  0.0   \n",
       "4             5000.0          1.0 -70.0   5.000000  0.000000  0.0   \n",
       "5             5000.0          1.0 -70.0  14.850713 -1.212678  0.0   \n",
       "6             5000.0          1.0 -70.0  14.850713  1.212678  0.0   \n",
       "\n",
       "   global_cell_index  global_branch_index  global_comp_index  \\\n",
       "0                  0                    0                  0   \n",
       "1                  0                    1                  1   \n",
       "2                  0                    2                  2   \n",
       "4                  1                    3                  3   \n",
       "5                  1                    4                  4   \n",
       "6                  1                    5                  5   \n",
       "\n",
       "   controlled_by_param  \n",
       "0                    0  \n",
       "1                    0  \n",
       "2                    0  \n",
       "4                    0  \n",
       "5                    0  \n",
       "6                    0  "
      ]
     },
     "execution_count": 75,
     "metadata": {},
     "output_type": "execute_result"
    }
   ],
   "source": [
    "net.nodes"
   ]
  },
  {
   "cell_type": "markdown",
   "id": "1c34fbad",
   "metadata": {},
   "source": [
    "As you can see, the `index` is not consecutive: it is missing a `3`. This is because `.nodes` does not display branchpoints. To see those, use:"
   ]
  },
  {
   "cell_type": "code",
   "execution_count": 70,
   "id": "84e9d231",
   "metadata": {},
   "outputs": [
    {
     "data": {
      "text/html": [
       "<div>\n",
       "<style scoped>\n",
       "    .dataframe tbody tr th:only-of-type {\n",
       "        vertical-align: middle;\n",
       "    }\n",
       "\n",
       "    .dataframe tbody tr th {\n",
       "        vertical-align: top;\n",
       "    }\n",
       "\n",
       "    .dataframe thead th {\n",
       "        text-align: right;\n",
       "    }\n",
       "</style>\n",
       "<table border=\"1\" class=\"dataframe\">\n",
       "  <thead>\n",
       "    <tr style=\"text-align: right;\">\n",
       "      <th></th>\n",
       "      <th>x</th>\n",
       "      <th>y</th>\n",
       "      <th>z</th>\n",
       "      <th>type</th>\n",
       "    </tr>\n",
       "  </thead>\n",
       "  <tbody>\n",
       "    <tr>\n",
       "      <th>3</th>\n",
       "      <td>11.567142</td>\n",
       "      <td>0.0</td>\n",
       "      <td>0.0</td>\n",
       "      <td>branchpoint</td>\n",
       "    </tr>\n",
       "    <tr>\n",
       "      <th>7</th>\n",
       "      <td>11.567142</td>\n",
       "      <td>0.0</td>\n",
       "      <td>0.0</td>\n",
       "      <td>branchpoint</td>\n",
       "    </tr>\n",
       "  </tbody>\n",
       "</table>\n",
       "</div>"
      ],
      "text/plain": [
       "           x    y    z         type\n",
       "3  11.567142  0.0  0.0  branchpoint\n",
       "7  11.567142  0.0  0.0  branchpoint"
      ]
     },
     "execution_count": 70,
     "metadata": {},
     "output_type": "execute_result"
    }
   ],
   "source": [
    "net._branchpoints"
   ]
  },
  {
   "cell_type": "markdown",
   "id": "165635de",
   "metadata": {},
   "source": [
    "Because of branchpoints, you cannot assume that `.nodes.index` matches the global compartment index."
   ]
  },
  {
   "cell_type": "markdown",
   "id": "e21e54d8",
   "metadata": {},
   "source": [
    "To see connections between compartments, inspect `._comp_edges`:"
   ]
  },
  {
   "cell_type": "code",
   "execution_count": 71,
   "id": "04dd3a83",
   "metadata": {},
   "outputs": [
    {
     "data": {
      "text/html": [
       "<div>\n",
       "<style scoped>\n",
       "    .dataframe tbody tr th:only-of-type {\n",
       "        vertical-align: middle;\n",
       "    }\n",
       "\n",
       "    .dataframe tbody tr th {\n",
       "        vertical-align: top;\n",
       "    }\n",
       "\n",
       "    .dataframe thead th {\n",
       "        text-align: right;\n",
       "    }\n",
       "</style>\n",
       "<table border=\"1\" class=\"dataframe\">\n",
       "  <thead>\n",
       "    <tr style=\"text-align: right;\">\n",
       "      <th></th>\n",
       "      <th>source</th>\n",
       "      <th>sink</th>\n",
       "      <th>type</th>\n",
       "    </tr>\n",
       "  </thead>\n",
       "  <tbody>\n",
       "    <tr>\n",
       "      <th>0</th>\n",
       "      <td>3</td>\n",
       "      <td>0</td>\n",
       "      <td>1</td>\n",
       "    </tr>\n",
       "    <tr>\n",
       "      <th>1</th>\n",
       "      <td>3</td>\n",
       "      <td>1</td>\n",
       "      <td>2</td>\n",
       "    </tr>\n",
       "    <tr>\n",
       "      <th>2</th>\n",
       "      <td>3</td>\n",
       "      <td>2</td>\n",
       "      <td>2</td>\n",
       "    </tr>\n",
       "    <tr>\n",
       "      <th>3</th>\n",
       "      <td>0</td>\n",
       "      <td>3</td>\n",
       "      <td>3</td>\n",
       "    </tr>\n",
       "    <tr>\n",
       "      <th>4</th>\n",
       "      <td>1</td>\n",
       "      <td>3</td>\n",
       "      <td>4</td>\n",
       "    </tr>\n",
       "    <tr>\n",
       "      <th>5</th>\n",
       "      <td>2</td>\n",
       "      <td>3</td>\n",
       "      <td>4</td>\n",
       "    </tr>\n",
       "    <tr>\n",
       "      <th>6</th>\n",
       "      <td>7</td>\n",
       "      <td>4</td>\n",
       "      <td>1</td>\n",
       "    </tr>\n",
       "    <tr>\n",
       "      <th>7</th>\n",
       "      <td>7</td>\n",
       "      <td>5</td>\n",
       "      <td>2</td>\n",
       "    </tr>\n",
       "    <tr>\n",
       "      <th>8</th>\n",
       "      <td>7</td>\n",
       "      <td>6</td>\n",
       "      <td>2</td>\n",
       "    </tr>\n",
       "    <tr>\n",
       "      <th>9</th>\n",
       "      <td>4</td>\n",
       "      <td>7</td>\n",
       "      <td>3</td>\n",
       "    </tr>\n",
       "    <tr>\n",
       "      <th>10</th>\n",
       "      <td>5</td>\n",
       "      <td>7</td>\n",
       "      <td>4</td>\n",
       "    </tr>\n",
       "    <tr>\n",
       "      <th>11</th>\n",
       "      <td>6</td>\n",
       "      <td>7</td>\n",
       "      <td>4</td>\n",
       "    </tr>\n",
       "  </tbody>\n",
       "</table>\n",
       "</div>"
      ],
      "text/plain": [
       "    source  sink  type\n",
       "0        3     0     1\n",
       "1        3     1     2\n",
       "2        3     2     2\n",
       "3        0     3     3\n",
       "4        1     3     4\n",
       "5        2     3     4\n",
       "6        7     4     1\n",
       "7        7     5     2\n",
       "8        7     6     2\n",
       "9        4     7     3\n",
       "10       5     7     4\n",
       "11       6     7     4"
      ]
     },
     "execution_count": 71,
     "metadata": {},
     "output_type": "execute_result"
    }
   ],
   "source": [
    "net._comp_edges"
   ]
  },
  {
   "cell_type": "markdown",
   "id": "48464aaf",
   "metadata": {},
   "source": [
    "The `type` can be interpreted as follows:\n",
    "\n",
    "`type == 0`: compartment <--> compartment (within branch)  \n",
    "`type == 1`: branchpoint --> parent-compartment  \n",
    "`type == 2`: branchpoint --> child-compartment  \n",
    "`type == 3`: parent-compartment --> branchpoint  \n",
    "`type == 4`: child-compartment --> branchpoint  "
   ]
  },
  {
   "cell_type": "markdown",
   "id": "8b741ccc",
   "metadata": {},
   "source": [
    "## Indexing in the graph backend"
   ]
  },
  {
   "cell_type": "markdown",
   "id": "51a7a310",
   "metadata": {},
   "source": [
    "`Jaxley` also allows you to inspect any `Module` as a graph:"
   ]
  },
  {
   "cell_type": "code",
   "execution_count": 72,
   "id": "2e80f72e",
   "metadata": {},
   "outputs": [],
   "source": [
    "from jaxley.modules.base import to_graph\n",
    "from jaxley.io.graph import vis_compartment_graph"
   ]
  },
  {
   "cell_type": "code",
   "execution_count": 73,
   "id": "6021d837",
   "metadata": {},
   "outputs": [],
   "source": [
    "net.cell(0).move(0, 5, 0, update_nodes=True)\n",
    "comp_graph = to_graph(net)"
   ]
  },
  {
   "cell_type": "code",
   "execution_count": 74,
   "id": "f8cb4d1f",
   "metadata": {},
   "outputs": [
    {
     "data": {
      "image/png": "[encoded data removed]",
      "text/plain": [
       "<Figure size 400x400 with 1 Axes>"
      ]
     },
     "metadata": {},
     "output_type": "display_data"
    }
   ],
   "source": [
    "vis_compartment_graph(comp_graph)"
   ]
  },
  {
   "cell_type": "markdown",
   "id": "f87d417c",
   "metadata": {},
   "source": [
    "Branchpoints are shown in orange, compartments in red. The node index matches to `net.nodes.index`."
   ]
  }
 ],
 "metadata": {
  "kernelspec": {
   "display_name": "Python 3 (ipykernel)",
   "language": "python",
   "name": "python3"
  },
  "language_info": {
   "codemirror_mode": {
    "name": "ipython",
    "version": 3
   },
   "file_extension": ".py",
   "mimetype": "text/x-python",
   "name": "python",
   "nbconvert_exporter": "python",
   "pygments_lexer": "ipython3",
   "version": "3.12.4"
  }
 },
 "nbformat": 4,
 "nbformat_minor": 5
}
