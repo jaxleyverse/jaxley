{
 "cells": [
  {
   "cell_type": "markdown",
   "id": "13821ef1",
   "metadata": {},
   "source": [
    "# Fitting an L5PC with gradient descent"
   ]
  },
  {
   "cell_type": "markdown",
   "id": "050dd7ed",
   "metadata": {},
   "source": [
    "In the example below, we will use gradient descent to fit the parameters of a layer 5 pyramidal cell (L5PC). We will be fitting 20 parameters such that the model matches a synthetically generated voltage trace."
   ]
  },
  {
   "cell_type": "code",
   "execution_count": 1,
   "id": "f135f767",
   "metadata": {},
   "outputs": [],
   "source": [
    "from jax import config\n",
    "\n",
    "config.update(\"jax_enable_x64\", True)\n",
    "config.update(\"jax_platform_name\", \"cpu\")\n",
    "\n",
    "import os\n",
    "os.environ[\"XLA_PYTHON_CLIENT_MEM_FRACTION\"] = \".8\""
   ]
  },
  {
   "cell_type": "code",
   "execution_count": 2,
   "id": "f0f5c72c",
   "metadata": {},
   "outputs": [],
   "source": [
    "import jax\n",
    "import jax.numpy as jnp\n",
    "import matplotlib.pyplot as plt\n",
    "import numpy as np\n",
    "\n",
    "import jaxley as jx\n",
    "from jaxley.channels import Leak\n",
    "from jaxley_mech.channels.l5pc import *\n",
    "from jaxley.morphology import distance_direct\n",
    "\n",
    "# To suppress Pandas performance warnings:\n",
    "import pandas as pd\n",
    "import warnings\n",
    "warnings.simplefilter(\"ignore\", category=pd.errors.PerformanceWarning)"
   ]
  },
  {
   "cell_type": "markdown",
   "id": "b5f986b8",
   "metadata": {},
   "source": [
    "## Defining the model"
   ]
  },
  {
   "cell_type": "markdown",
   "id": "9c9c53f5",
   "metadata": {},
   "source": [
    "First, we will read the morphology from an SWC file. We specify the axial resistance and the capacitance and then run the d_lambda rule to set the number of compartments in each branch."
   ]
  },
  {
   "cell_type": "code",
   "execution_count": 3,
   "id": "cc15b55f",
   "metadata": {},
   "outputs": [
    {
     "data": {
      "text/plain": [
       "Cell with 0 different channels. Use `.nodes` for details."
      ]
     },
     "execution_count": 3,
     "metadata": {},
     "output_type": "execute_result"
    }
   ],
   "source": [
    "cell = jx.read_swc(\"../../tests/swc_files/morph_l5pc_with_axon.swc\", ncomp=1)\n",
    "\n",
    "cell.set(\"axial_resistivity\", 100.0)\n",
    "cell.apical.set(\"capacitance\", 2.0)\n",
    "\n",
    "# Run the d_lambda rule.\n",
    "frequency = 100.0\n",
    "d_lambda = 0.1  # Larger -> more coarse-grained.\n",
    "\n",
    "for branch in cell.branches:\n",
    "    diameter = 2 * branch.nodes[\"radius\"].to_numpy()[0]\n",
    "    c_m = branch.nodes[\"capacitance\"].to_numpy()[0]\n",
    "    r_a = branch.nodes[\"axial_resistivity\"].to_numpy()[0]\n",
    "    l = branch.nodes[\"length\"].to_numpy()[0]\n",
    "\n",
    "    lambda_f = 1e5 * np.sqrt(diameter / (4 * np.pi * frequency * c_m * r_a))\n",
    "    ncomp = int((l / (d_lambda * lambda_f) + 0.9) / 2) * 2 + 1\n",
    "    branch.set_ncomp(ncomp, initialize=False)\n",
    "cell.initialize()"
   ]
  },
  {
   "cell_type": "markdown",
   "id": "00d26677",
   "metadata": {},
   "source": [
    "### Inserting ion channels\n",
    "\n",
    "Next, we insert ion channels into soma, dendrite, and axon."
   ]
  },
  {
   "cell_type": "code",
   "execution_count": 4,
   "id": "c05655d1",
   "metadata": {},
   "outputs": [],
   "source": [
    "########## APICAL ##########\n",
    "cell.apical.insert(NaTs2T())\n",
    "cell.apical.insert(SKv3_1())\n",
    "cell.apical.insert(M())\n",
    "cell.apical.insert(H())\n",
    "\n",
    "########## SOMA ##########\n",
    "cell.soma.insert(NaTs2T())\n",
    "cell.soma.insert(SKv3_1())\n",
    "cell.soma.insert(SKE2())\n",
    "ca_dynamics = CaNernstReversal()\n",
    "ca_dynamics.channel_constants[\"T\"] = 307.15\n",
    "cell.soma.insert(ca_dynamics)\n",
    "cell.soma.insert(CaPump())\n",
    "cell.soma.insert(CaHVA())\n",
    "cell.soma.insert(CaLVA())\n",
    "\n",
    "########## BASAL ##########\n",
    "cell.basal.insert(H())\n",
    "\n",
    "# ########## AXON ##########\n",
    "cell.insert(CaNernstReversal())\n",
    "cell.axon.insert(NaTaT())\n",
    "cell.axon.insert(NapEt2())\n",
    "cell.axon.insert(KTst())\n",
    "cell.axon.insert(CaPump())\n",
    "cell.axon.insert(SKE2())\n",
    "cell.axon.insert(CaHVA())\n",
    "cell.axon.insert(KPst())\n",
    "cell.axon.insert(SKv3_1())\n",
    "cell.axon.insert(CaLVA())\n",
    "\n",
    "########## WHOLE CELL ##########\n",
    "cell.insert(Leak())"
   ]
  },
  {
   "cell_type": "markdown",
   "id": "60085cd3",
   "metadata": {},
   "source": [
    "### Specifying the protocol\n",
    "\n",
    "We then specify the recording sites and the stimulus. In this case, we stimulate the cell for 90 ms with a strong step current of 1.8 nA."
   ]
  },
  {
   "cell_type": "code",
   "execution_count": 5,
   "id": "acc672be",
   "metadata": {},
   "outputs": [
    {
     "name": "stdout",
     "output_type": "stream",
     "text": [
      "Added 1 external_states. See `.externals` for details.\n",
      "Added 1 recordings. See `.recordings` for details.\n"
     ]
    }
   ],
   "source": [
    "dt = 0.025  # ms\n",
    "t_max = 100.0  # ms\n",
    "time_vec = np.arange(0, t_max+2*dt, dt)\n",
    "\n",
    "cell.delete_stimuli()\n",
    "cell.delete_recordings()\n",
    "\n",
    "i_delay = 5.0  # ms\n",
    "i_dur = 90.0  # ms\n",
    "i_amp = 1.8  # nA\n",
    "current = jx.step_current(i_delay, i_dur, i_amp, dt, t_max)\n",
    "cell.soma.branch(0).loc(0.5).stimulate(current)\n",
    "cell.soma.branch(0).loc(0.5).record()\n",
    "\n",
    "cell.set(\"v\", -72.0)\n",
    "cell.init_states()"
   ]
  },
  {
   "cell_type": "markdown",
   "id": "6fec6b18",
   "metadata": {},
   "source": [
    "### Generating the observation\n",
    "\n",
    "Next, we have to define the observation that we will aim to fit this cell to. In this example, we will fit the cell to a synthetic recording with known ground truth parameters. We will now set these ground truth parameters."
   ]
  },
  {
   "cell_type": "code",
   "execution_count": 6,
   "id": "119ae3b5",
   "metadata": {},
   "outputs": [],
   "source": [
    "cell.set(\"CaCon_i\", 5e-05)\n",
    "cell.set(\"CaCon_e\", 2.0)\n",
    "\n",
    "cell.apical.set(\"NaTs2T_gNaTs2T\", 0.026145)\n",
    "cell.apical.set(\"SKv3_1_gSKv3_1\", 0.004226)\n",
    "cell.apical.set(\"M_gM\", 0.000143)\n",
    "cell.soma.set(\"NaTs2T_gNaTs2T\", 0.983955)\n",
    "cell.soma.set(\"SKv3_1_gSKv3_1\", 0.303472)\n",
    "cell.soma.set(\"SKE2_gSKE2\", 0.008407)\n",
    "cell.soma.set(\"CaPump_gamma\", 0.000609)\n",
    "cell.soma.set(\"CaPump_decay\", 210.485291)\n",
    "cell.soma.set(\"CaHVA_gCaHVA\", 0.000994)\n",
    "cell.soma.set(\"CaLVA_gCaLVA\", 0.000333)\n",
    "\n",
    "cell.axon.set(\"NaTaT_gNaTaT\", 3.137968)\n",
    "cell.axon.set(\"NapEt2_gNapEt2\", 0.006827)\n",
    "cell.axon.set(\"KTst_gKTst\", 0.089259)\n",
    "cell.axon.set(\"CaPump_gamma\", 0.00291)\n",
    "cell.axon.set(\"CaPump_decay\", 287.19873)\n",
    "cell.axon.set(\"SKE2_gSKE2\", 0.007104)\n",
    "cell.axon.set(\"CaHVA_gCaHVA\", 0.00099)\n",
    "cell.axon.set(\"KPst_gKPst\", 0.973538)\n",
    "cell.axon.set(\"SKv3_1_gSKv3_1\", 1.021945)\n",
    "cell.axon.set(\"CaLVA_gCaLVA\", 0.008752)\n",
    "\n",
    "# The H-conductance depends on the distance from the soma.\n",
    "cell.compute_compartment_centers()\n",
    "direct_dists = distance_direct(cell.soma.branch(0).comp(0), cell)\n",
    "cell.nodes[\"dist_from_soma\"] = direct_dists\n",
    "gH_conductance = (-0.8696 + 2.087 * np.exp(cell.basal.nodes[\"dist_from_soma\"] * 0.0031)) * 8e-5\n",
    "cell.basal.set(\"H_gH\", gH_conductance)\n",
    "\n",
    "cell.set(\"Leak_gLeak\", 3e-05)\n",
    "cell.set(\"Leak_eLeak\", -75.0)\n",
    "\n",
    "cell.set(\"eNa\", 50.0)\n",
    "cell.set(\"eK\", -85.0)"
   ]
  },
  {
   "cell_type": "markdown",
   "id": "69cd5093",
   "metadata": {},
   "source": [
    "We then run the simulation and save it as the observation $x_o$."
   ]
  },
  {
   "cell_type": "code",
   "execution_count": 7,
   "id": "d53b6391",
   "metadata": {},
   "outputs": [],
   "source": [
    "x_o = jx.integrate(cell)[0]  # [0] gets rid of the batch-dimension."
   ]
  },
  {
   "cell_type": "code",
   "execution_count": 8,
   "id": "8c1f304f",
   "metadata": {},
   "outputs": [
    {
     "data": {
      "image/png": "[encoded data removed]",
      "text/plain": [
       "<Figure size 500x200 with 1 Axes>"
      ]
     },
     "metadata": {},
     "output_type": "display_data"
    }
   ],
   "source": [
    "    fig, ax = plt.subplots(1, 1, figsize=(5.0, 2.0))\n",
    "    _ = ax.plot(time_vec, x_o, c=\"k\")\n",
    "    _ = ax.set_ylim([-90, 60])\n",
    "    _ = ax.set_xlabel(\"Time (ms)\")\n",
    "    _ = ax.set_ylabel(\"Voltage (mV)\")\n",
    "    plt.show()"
   ]
  },
  {
   "cell_type": "markdown",
   "id": "9b01f188",
   "metadata": {},
   "source": [
    "## Fitting model parameters\n",
    "\n",
    "Let's turn to fitting the parameters of this model. As first step, we specify parameter bounds for the fitting procedure:"
   ]
  },
  {
   "cell_type": "code",
   "execution_count": 9,
   "id": "458e7c5f",
   "metadata": {},
   "outputs": [],
   "source": [
    "bounds = {}\n",
    "bounds[\"apical_NaTs2T_gNaTs2T\"] = [0, 0.04]\n",
    "bounds[\"apical_SKv3_1_gSKv3_1\"] = [0, 0.04]\n",
    "bounds[\"apical_M_gM\"] = [0, 0.001]\n",
    "bounds[\"somatic_NaTs2T_gNaTs2T\"] = [0.0, 1.0]\n",
    "bounds[\"somatic_SKv3_1_gSKv3_1\"] = [0.25, 1]\n",
    "bounds[\"somatic_SKE2_gSKE2\"] = [0, 0.1]\n",
    "bounds[\"somatic_CaPump_gamma\"] = [0.0005,0.01]\n",
    "bounds[\"somatic_CaPump_decay\"] = [20, 1_000]\n",
    "bounds[\"somatic_CaHVA_gCaHVA\"] = [0, 0.001]\n",
    "bounds[\"somatic_CaLVA_gCaLVA\"] = [0, 0.01]\n",
    "bounds[\"axonal_NaTaT_gNaTaT\"] = [0.0, 4.0]\n",
    "bounds[\"axonal_NapEt2_gNapEt2\"] = [0.0, 0.01]\n",
    "bounds[\"axonal_KPst_gKPst\"] = [0.0, 1.0]\n",
    "bounds[\"axonal_KTst_gKTst\"] = [0.0, 0.1]\n",
    "bounds[\"axonal_SKE2_gSKE2\"] = [0.0, 0.1]\n",
    "bounds[\"axonal_SKv3_1_gSKv3_1\"] = [0.0, 2.0]\n",
    "bounds[\"axonal_CaHVA_gCaHVA\"] = [0, 0.001]\n",
    "bounds[\"axonal_CaLVA_gCaLVA\"] = [0, 0.01]\n",
    "bounds[\"axonal_CaPump_gamma\"] = [0.0005, 0.05]\n",
    "bounds[\"axonal_CaPump_decay\"] = [20, 1_000]\n",
    "\n",
    "# Extract the lower and upper bounds as an array, for convenience later.\n",
    "lower_bounds = jnp.asarray(list(bounds.values()))[:, 0]\n",
    "upper_bounds = jnp.asarray(list(bounds.values()))[:, 1]"
   ]
  },
  {
   "cell_type": "markdown",
   "id": "fb49aec4",
   "metadata": {},
   "source": [
    "For gradient descent, it is helpful if parameters are standardized (i.e., are unbounded and roughly range from -3 to 3). We achieve this by transforming the parameters with a sigmoid transformation:"
   ]
  },
  {
   "cell_type": "code",
   "execution_count": 10,
   "id": "0a2026dc",
   "metadata": {},
   "outputs": [],
   "source": [
    "from jaxley.optimize.transforms import SigmoidTransform\n",
    "\n",
    "transform = SigmoidTransform(\n",
    "    lower=lower_bounds,\n",
    "    upper=upper_bounds,\n",
    ")"
   ]
  },
  {
   "cell_type": "markdown",
   "id": "a7ebb322",
   "metadata": {},
   "source": [
    "We then specify the number of checkpointing steps to reduce memory consumption:"
   ]
  },
  {
   "cell_type": "code",
   "execution_count": 11,
   "id": "beeac16a",
   "metadata": {},
   "outputs": [],
   "source": [
    "# For checkpointing.\n",
    "checkpoint_levels = 2\n",
    "checkpoints = [int(np.ceil(len(time_vec)**(1 / checkpoint_levels))) for _ in range(checkpoint_levels)]"
   ]
  },
  {
   "cell_type": "markdown",
   "id": "3a2a0676",
   "metadata": {},
   "source": [
    "Next, we specify the simulator. The simulator takes as input 20 values (the parameters), sets the corresponding maximal conductances to these parameters, and then runs the simulation (with checkpointing):"
   ]
  },
  {
   "cell_type": "code",
   "execution_count": 12,
   "id": "bd96f6b7",
   "metadata": {},
   "outputs": [],
   "source": [
    "def simulate(params):\n",
    "    # Set apical parameters.\n",
    "    pstate = None\n",
    "    pstate = cell.apical.data_set(\"NaTs2T_gNaTs2T\", params[0], pstate)\n",
    "    pstate = cell.apical.data_set(\"SKv3_1_gSKv3_1\", params[1], pstate)\n",
    "    pstate = cell.apical.data_set(\"M_gM\", params[2], pstate)\n",
    "    \n",
    "    # Set somatic parameters.\n",
    "    pstate = cell.soma.data_set(\"NaTs2T_gNaTs2T\", params[3], pstate)\n",
    "    pstate = cell.soma.data_set(\"SKv3_1_gSKv3_1\", params[4], pstate)\n",
    "    pstate = cell.soma.data_set(\"SKE2_gSKE2\", params[5], pstate)\n",
    "    pstate = cell.soma.data_set(\"CaPump_gamma\", params[6], pstate)\n",
    "    pstate = cell.soma.data_set(\"CaPump_decay\", params[7], pstate)\n",
    "    pstate = cell.soma.data_set(\"CaHVA_gCaHVA\", params[8], pstate)\n",
    "    pstate = cell.soma.data_set(\"CaLVA_gCaLVA\", params[9], pstate)\n",
    "    \n",
    "    # Set axonal parameters.\n",
    "    pstate = cell.axon.data_set(\"NaTaT_gNaTaT\", params[10], pstate)\n",
    "    pstate = cell.axon.data_set(\"NapEt2_gNapEt2\", params[11], pstate)\n",
    "    pstate = cell.axon.data_set(\"KPst_gKPst\", params[12], pstate)\n",
    "    pstate = cell.axon.data_set(\"KTst_gKTst\", params[13], pstate)\n",
    "    pstate = cell.axon.data_set(\"SKE2_gSKE2\", params[14], pstate)\n",
    "    pstate = cell.axon.data_set(\"SKv3_1_gSKv3_1\", params[15], pstate)\n",
    "    pstate = cell.axon.data_set(\"CaHVA_gCaHVA\", params[16], pstate)\n",
    "    pstate = cell.axon.data_set(\"CaLVA_gCaLVA\", params[17], pstate)\n",
    "    pstate = cell.axon.data_set(\"CaPump_gamma\", params[18], pstate)\n",
    "    pstate = cell.axon.data_set(\"CaPump_decay\", params[19], pstate)\n",
    "\n",
    "    # Return [0] because the result of `jx.integrate` is of shape (1, time). Here, we\n",
    "    # get rid of the batch dimension.\n",
    "    return jx.integrate(cell, param_state=pstate, checkpoint_lengths=checkpoints)[0]\n",
    "\n",
    "jitted_sim = jax.jit(simulate)\n",
    "vmapped_sim = jax.jit(jax.vmap(simulate, in_axes=(0,)))"
   ]
  },
  {
   "cell_type": "markdown",
   "id": "346d6316",
   "metadata": {},
   "source": [
    "### Initializing the fitting\n",
    "\n",
    "We initialize the fitting run with a random sample within the optimization bounds:"
   ]
  },
  {
   "cell_type": "code",
   "execution_count": 13,
   "id": "1f8e37f1",
   "metadata": {},
   "outputs": [],
   "source": [
    "def sample_randomly():\n",
    "    return jnp.asarray(np.random.rand(len(upper_bounds)) * (upper_bounds - lower_bounds) + lower_bounds)\n",
    "\n",
    "_ = np.random.seed(0)\n",
    "initial_params = sample_randomly()"
   ]
  },
  {
   "cell_type": "markdown",
   "id": "e5fc0cec",
   "metadata": {},
   "source": [
    "This initial parameter set does not yet match the observation well:"
   ]
  },
  {
   "cell_type": "code",
   "execution_count": 14,
   "id": "408e58e3",
   "metadata": {},
   "outputs": [
    {
     "data": {
      "image/png": "[encoded data removed]",
      "text/plain": [
       "<Figure size 500x200 with 1 Axes>"
      ]
     },
     "metadata": {},
     "output_type": "display_data"
    }
   ],
   "source": [
    "v = simulate(initial_params)\n",
    "\n",
    "fig, ax = plt.subplots(1, 1, figsize=(5, 2))\n",
    "_ = ax.plot(time_vec, v.T, c=\"#41ae76\")\n",
    "_ = ax.set_ylim([-90, 60])\n",
    "_ = ax.set_xlabel(\"Time (ms)\")\n",
    "_ = ax.set_ylabel(\"Voltage (mV)\")\n",
    "plt.show()"
   ]
  },
  {
   "cell_type": "markdown",
   "id": "7b5fc5cf",
   "metadata": {},
   "source": [
    "### Defining the loss function\n",
    "\n",
    "We then define the loss function to optimize. In this example, we use the mean and standard deviation of two time windows describing the first 50 ms and the second 50 ms as summary statistics:"
   ]
  },
  {
   "cell_type": "code",
   "execution_count": 15,
   "id": "869180c8",
   "metadata": {},
   "outputs": [],
   "source": [
    "window1 = jnp.arange(200, 2000)  # Unit: time steps.\n",
    "window2 = jnp.arange(2000, 3800)\n",
    "\n",
    "def summary_stats(v):\n",
    "    mean1 = jnp.mean(v[window1])\n",
    "    std1 = jnp.std(v[window1])\n",
    "    mean2 = jnp.mean(v[window2])\n",
    "    std2 = jnp.std(v[window2])\n",
    "    return jnp.asarray([mean1, std1, mean2, std2])\n",
    "\n",
    "# Compute the summary statistics of the observation.\n",
    "x_o_ss = summary_stats(x_o)"
   ]
  },
  {
   "cell_type": "markdown",
   "id": "af3a07d3",
   "metadata": {},
   "source": [
    "...and we then optimize the mean absolute error to these summary statistics (standardized by a `x_standard_deviation` which is used to weigh individual summary statistics):"
   ]
  },
  {
   "cell_type": "code",
   "execution_count": 16,
   "id": "d430eb52",
   "metadata": {},
   "outputs": [],
   "source": [
    "x_standard_deviation = jnp.asarray([2.0, 1.0, 2.0, 1.0])  # Large values downweigh the respective summary statistic.\n",
    "\n",
    "def loss_fn(opt_params):\n",
    "    params = transform.forward(opt_params)\n",
    "    v = simulate(params)\n",
    "    ss = summary_stats(v)\n",
    "    return jnp.mean(jnp.abs((ss - x_o_ss) / x_standard_deviation))\n",
    "\n",
    "jitted_loss_fn = jax.jit(loss_fn)\n",
    "grad_fn = jax.jit(jax.value_and_grad(loss_fn))"
   ]
  },
  {
   "cell_type": "markdown",
   "id": "b0625b7b",
   "metadata": {},
   "source": [
    "### Run gradient descent\n",
    "\n",
    "To run gradient descent, we first transform the parameters with the transformation defined above:"
   ]
  },
  {
   "cell_type": "code",
   "execution_count": 17,
   "id": "7595a033",
   "metadata": {},
   "outputs": [],
   "source": [
    "opt_params = transform.inverse(initial_params)"
   ]
  },
  {
   "cell_type": "markdown",
   "id": "f8451d9c",
   "metadata": {},
   "source": [
    "Next, we define the optimizer. For morphologically detailed neurons, the gradient can sometimes be unstable---to overcome this, we use a Polyak style learning rate:\n",
    "\n",
    "$$\n",
    "\\Delta \\theta = -\\frac{\\mu \\mathcal{L}}{\\lVert \\nabla_{\\theta} L \\rVert^{\\beta}} \\cdot \\nabla_{\\theta}{L}\n",
    "$$\n",
    "\n",
    "In other words, we to divide the gradient by its norm (to the power of $\\beta$, which is $\\approx 1.0$) and we scale the gradient by the loss $\\mathcal{L}$ (this leads to smaller learning rates if the loss is small) and a learning rate $\\mu$. This optimizer can be implemented as follows:"
   ]
  },
  {
   "cell_type": "code",
   "execution_count": 18,
   "id": "f649cf66",
   "metadata": {},
   "outputs": [
    {
     "name": "stdout",
     "output_type": "stream",
     "text": [
      "loss in epoch 0: 10.0732\n",
      "loss in epoch 1: 2.3877\n",
      "loss in epoch 2: 5.3513\n",
      "loss in epoch 3: 1.0662\n",
      "loss in epoch 4: 1.3743\n",
      "loss in epoch 5: 0.9470\n",
      "loss in epoch 6: 1.1267\n",
      "loss in epoch 7: 0.9565\n",
      "loss in epoch 8: 0.8096\n",
      "loss in epoch 9: 0.8362\n"
     ]
    }
   ],
   "source": [
    "import optax\n",
    "from jaxley.optimize.utils import l2_norm\n",
    "\n",
    "# We scale the learning rate with the number of parameters. Since\n",
    "# the gradient gets divided by its own norm, it typically gets\n",
    "# divided by larger numbers for models with many parameters.\n",
    "# Choosing mu as below counteracts this.\n",
    "#\n",
    "# Also note that this learning rate is relatively high---you might\n",
    "# want to explore smaller learning rates.\n",
    "mu = 0.1 * l2_norm(jnp.ones(len(opt_params)))\n",
    "\n",
    "beta = 0.9  # Good values are typically between 0.8 and 1.2.\n",
    "\n",
    "optimizer = optax.inject_hyperparams(optax.sgd)(learning_rate=mu)\n",
    "opt_state = optimizer.init(opt_params)\n",
    "\n",
    "for epoch in range(10):\n",
    "    loss_val, grad_val = grad_fn(opt_params)\n",
    "\n",
    "    # Polyak style learning rate.\n",
    "    grad_val = grad_val / l2_norm(grad_val)**beta\n",
    "    opt_state.hyperparams[\"learning_rate\"] = loss_val * mu\n",
    "    \n",
    "    # Update parameters and optimizer.\n",
    "    updates, opt_state = optimizer.update(grad_val, opt_state)\n",
    "    opt_params = optax.apply_updates(opt_params, updates)\n",
    "    \n",
    "    print(f\"Loss in epoch {epoch}: {loss_val:.4f}\")"
   ]
  },
  {
   "cell_type": "markdown",
   "id": "d74fbb9d",
   "metadata": {},
   "source": [
    "> Please note that these choices for $\\mu$ and $\\beta$, as well as the choice of a Polyak style learning rate are optimized for fitting single neuron models. For other tasks (in particular for networks), other optimizers and hyperparameters might perform better."
   ]
  },
  {
   "cell_type": "markdown",
   "id": "8cfc2a2d",
   "metadata": {},
   "source": [
    "### Evaluating the fit\n",
    "\n",
    "After the optimization is complete, we can compare the fitted trace to the observation:"
   ]
  },
  {
   "cell_type": "code",
   "execution_count": 19,
   "id": "b0235646",
   "metadata": {},
   "outputs": [],
   "source": [
    "params = transform.forward(opt_params)\n",
    "fitted_trace = jitted_sim(params)"
   ]
  },
  {
   "cell_type": "code",
   "execution_count": 20,
   "id": "aa181593",
   "metadata": {},
   "outputs": [
    {
     "data": {
      "image/png": "[encoded data removed]",
      "text/plain": [
       "<Figure size 500x200 with 1 Axes>"
      ]
     },
     "metadata": {},
     "output_type": "display_data"
    }
   ],
   "source": [
    "fig, ax = plt.subplots(1, 1, figsize=(5.0, 2.0))\n",
    "_ = ax.plot(time_vec, x_o, c=\"k\")\n",
    "_ = ax.plot(time_vec, fitted_trace, c=\"#41ae76\")\n",
    "_ = ax.set_ylim([-90, 60])\n",
    "_ = ax.set_xlabel(\"Time (ms)\")\n",
    "_ = ax.set_ylabel(\"Voltage (mV)\")\n",
    "plt.show()"
   ]
  },
  {
   "cell_type": "markdown",
   "id": "9860ea7f",
   "metadata": {},
   "source": [
    "That's it! We fitted a L5PC with gradient descent. You can try to further improve fitting as follows:\n",
    "\n",
    "- Use a different learning rate $\\mu$ (especially later in training).  \n",
    "- Use different summary statistics.  \n",
    "- Paralellize many fitting runs with randomly chosen initializations (especially on GPU).  \n",
    "\n",
    "Beyond this, we also recommend the following:\n",
    "- It is often helpful to perform a quick random search and start gradient descent from the \"best\" parameter set. Initialization can vastly impact gradient descent performance.  \n",
    "- Generally, monitor the `l2_norm(grad_val)` during training. If this value is extremely variable across steps, you might want to set $\\beta$ closer to `1.0` (such that the gradient gets normalized to be of norm ~1.0 at every gradient step), or you should clip the gradients.  \n",
    "\n",
    "Finally, we note that `Jaxley` can be combined with other fitting methods such as random search, simulation-based inference, or genetic algorithms. For these methods, `Jaxley` can parallelize simulations with `jax.vmap`. Especially for models with relatively few parameters, these methods can perform well."
   ]
  }
 ],
 "metadata": {
  "kernelspec": {
   "display_name": "Python 3 (ipykernel)",
   "language": "python",
   "name": "python3"
  },
  "language_info": {
   "codemirror_mode": {
    "name": "ipython",
    "version": 3
   },
   "file_extension": ".py",
   "mimetype": "text/x-python",
   "name": "python",
   "nbconvert_exporter": "python",
   "pygments_lexer": "ipython3",
   "version": "3.12.11"
  }
 },
 "nbformat": 4,
 "nbformat_minor": 5
}
