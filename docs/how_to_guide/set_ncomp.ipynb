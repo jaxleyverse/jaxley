{
 "cells": [
  {
   "cell_type": "markdown",
   "id": "32152435",
   "metadata": {},
   "source": [
    "# How to set the number of compartments (d_lambda rule)"
   ]
  },
  {
   "cell_type": "markdown",
   "id": "e694460f",
   "metadata": {},
   "source": [
    "`Jaxley` allows you to change the number of compartments that each branch is made up of by using the `set_ncomp()` method:\n",
    "    \n",
    "```python\n",
    "cell.branch(0).set_ncomp(4)\n",
    "```"
   ]
  },
  {
   "cell_type": "markdown",
   "id": "93c3ecf4",
   "metadata": {},
   "source": [
    "To automatically choose the number of compartments, you can use the `d_lambda` rule, which can be implemented in `Jaxley` as follows:"
   ]
  },
  {
   "cell_type": "markdown",
   "id": "3ff00485",
   "metadata": {},
   "source": [
    "```python\n",
    "import jaxley as jx\n",
    "\n",
    "cell = jx.read_swc(\"path_to_swc.swc\", ncomp=1)\n",
    "\n",
    "# Reasonable default values for most models.\n",
    "frequency = 100.0\n",
    "d_lambda = 0.1  # Larger -> more coarse-grained.\n",
    "\n",
    "for branch in cell.branches:\n",
    "    diameter = 2 * branch.nodes[\"radius\"].to_numpy()[0]\n",
    "    c_m = branch.nodes[\"capacitance\"].to_numpy()[0]\n",
    "    r_a = branch.nodes[\"axial_resistivity\"].to_numpy()[0]\n",
    "    l = branch.nodes[\"length\"].to_numpy()[0]\n",
    "\n",
    "    lambda_f = 1e5 * np.sqrt(diameter / (4 * np.pi * frequency * c_m * r_a))\n",
    "    ncomp = int((l / (d_lambda * lambda_f) + 0.9) / 2) * 2 + 1\n",
    "    branch.set_ncomp(ncomp, initialize=False)\n",
    "  \n",
    "# After the loop, you have to run `cell.initialize()` because we passed\n",
    "# `set_ncomp(..., initialize=False)` for speeding up the loop over branches.\n",
    "cell.initialize()\n",
    "```"
   ]
  }
 ],
 "metadata": {
  "kernelspec": {
   "display_name": "Python 3 (ipykernel)",
   "language": "python",
   "name": "python3"
  },
  "language_info": {
   "codemirror_mode": {
    "name": "ipython",
    "version": 3
   },
   "file_extension": ".py",
   "mimetype": "text/x-python",
   "name": "python",
   "nbconvert_exporter": "python",
   "pygments_lexer": "ipython3",
   "version": "3.12.4"
  }
 },
 "nbformat": 4,
 "nbformat_minor": 5
}
