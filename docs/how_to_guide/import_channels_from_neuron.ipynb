{
 "cells": [
  {
   "cell_type": "markdown",
   "id": "07e7235b",
   "metadata": {},
   "source": [
    "# How to import `NMODL` channels from `NEURON`"
   ]
  },
  {
   "cell_type": "markdown",
   "id": "a720dd9a",
   "metadata": {},
   "source": [
    "Instead of [building your own channels models from scratch](https://jaxley.readthedocs.io/en/latest/tutorials/05_channel_and_synapse_models.html), you can also convert a channel specified in the `NMODL` language to `Jaxley`. This tool is available in the `DendroTweaks` toolbox [here](https://dendrotweaks.readthedocs.io/en/latest/tutorials/convert_to_jaxley.html).\n",
    "\n",
    "We would appreciate positive and negative experiences with this conversion tool: Please post feedback in the discussion [here](https://github.com/jaxleyverse/jaxley/discussions/668)."
   ]
  }
 ],
 "metadata": {
  "kernelspec": {
   "display_name": "Python 3 (ipykernel)",
   "language": "python",
   "name": "python3"
  },
  "language_info": {
   "codemirror_mode": {
    "name": "ipython",
    "version": 3
   },
   "file_extension": ".py",
   "mimetype": "text/x-python",
   "name": "python",
   "nbconvert_exporter": "python",
   "pygments_lexer": "ipython3",
   "version": "3.12.4"
  }
 },
 "nbformat": 4,
 "nbformat_minor": 5
}
