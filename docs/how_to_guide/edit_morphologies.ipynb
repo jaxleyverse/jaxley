{
 "cells": [
  {
   "cell_type": "markdown",
   "id": "e3475d64",
   "metadata": {},
   "source": [
    "# How to edit morphologies"
   ]
  },
  {
   "cell_type": "markdown",
   "id": "3f9fa907",
   "metadata": {},
   "source": [
    "`Jaxley` provides functionality to edit morphologies. For example, it can delete parts of a morphology."
   ]
  },
  {
   "cell_type": "markdown",
   "id": "c386a782",
   "metadata": {},
   "source": [
    "## Deleting parts of a morphology"
   ]
  },
  {
   "cell_type": "markdown",
   "id": "ebc959ae",
   "metadata": {},
   "source": [
    "```python\n",
    "from jaxley.io.graph import swc_to_graph, from_graph\n",
    "\n",
    "fname = \"data/morph.swc\"\n",
    "graph = swc_to_graph(fname)\n",
    "\n",
    "# manipulate the graph\n",
    "ids = nx.get_node_attributes(graph, \"id\")\n",
    "ids = {k: v for k, v in ids.items() if v != 4}  # Apical dendrite has `id=4`.\n",
    "graph = nx.subgraph(graph, ids).copy()\n",
    "\n",
    "cell = from_graph(graph, ncomp=2)\n",
    "```"
   ]
  },
  {
   "cell_type": "markdown",
   "id": "fcdb7521",
   "metadata": {},
   "source": [
    "## More explanation"
   ]
  },
  {
   "cell_type": "markdown",
   "id": "96c3ca3b",
   "metadata": {},
   "source": [
    "All of the above is achieved by using `Jaxley`'s \"graph-backend\", which is based on `networkX`. As such, you can modify `Jaxley` morphologies with any feature of the [networkX](https://networkx.org) toolkit.\n",
    "\n",
    "For more details on `Jaxley`'s graph-backend, see [this tutorial](https://jaxley.readthedocs.io/en/latest/tutorials/08_importing_morphologies.html)."
   ]
  }
 ],
 "metadata": {
  "kernelspec": {
   "display_name": "Python 3 (ipykernel)",
   "language": "python",
   "name": "python3"
  },
  "language_info": {
   "codemirror_mode": {
    "name": "ipython",
    "version": 3
   },
   "file_extension": ".py",
   "mimetype": "text/x-python",
   "name": "python",
   "nbconvert_exporter": "python",
   "pygments_lexer": "ipython3",
   "version": "3.12.4"
  }
 },
 "nbformat": 4,
 "nbformat_minor": 5
}
