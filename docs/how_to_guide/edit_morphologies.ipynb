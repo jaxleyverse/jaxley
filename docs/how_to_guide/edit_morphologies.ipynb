{
 "cells": [
  {
   "cell_type": "markdown",
   "id": "88166056",
   "metadata": {},
   "source": [
    "# How to edit morphologies"
   ]
  },
  {
   "cell_type": "markdown",
   "id": "663f52ba",
   "metadata": {},
   "source": [
    "`Jaxley` provides functionality to edit morphologies. In particular, it provides functions to delete parts of a morphology or to connect two cell morphologies into a single cell."
   ]
  },
  {
   "cell_type": "markdown",
   "id": "e5f8b048",
   "metadata": {},
   "source": [
    "> **⚠️ IMPORTANT!**  \n",
    "> If you edit morphologies, please do so _before_ you change the number of compartments per branch (via, e.g., `cell.branch(0).set_ncomp(4)`). In addition, you must delete all recordings, stimuli, and trainable parameters before running `morph_delete()` or `morph_connect()`."
   ]
  },
  {
   "cell_type": "markdown",
   "id": "4ccb46db",
   "metadata": {},
   "source": [
    "## Deleting parts of a morphology"
   ]
  },
  {
   "cell_type": "markdown",
   "id": "e96cd5ca",
   "metadata": {},
   "source": [
    "Below, we will show how you can delete all apical branches of a morphology.\n",
    "\n",
    "```python\n",
    "import jaxley as jx\n",
    "from jaxley.morphology import morph_delete\n",
    "\n",
    "cell = jx.read_swc(\"path_to_swc_file.swc\", ncomp=1)\n",
    "\n",
    "# Creates a new cell which has the apical dendrite deleted.\n",
    "cell = morph_delete(cell.apical)\n",
    "\n",
    "# Creates a new cell which has branches 10, 11, 12 deleted.\n",
    "cell = morph_delete(cell.branch([10, 11, 12])\n",
    "```"
   ]
  },
  {
   "cell_type": "markdown",
   "id": "d2ea014f",
   "metadata": {},
   "source": [
    "## Attaching two morphologies"
   ]
  },
  {
   "cell_type": "markdown",
   "id": "bf1ee383",
   "metadata": {},
   "source": [
    "`Jaxley` also provides functionality to easily attach two morphologies. This is useful to, for example, replace the axon with a \"stub\". Below, we show how one can attach two morphologies. We read one morphology from an SWC file and create the other one from scratch."
   ]
  },
  {
   "cell_type": "markdown",
   "id": "5ddbc65c",
   "metadata": {},
   "source": [
    "```python\n",
    "import jaxley as jx\n",
    "from jaxley.morphology import morph_connect\n",
    "\n",
    "# Read a cell from SWC.\n",
    "cell = jx.read_swc(\"path_to_swc_file.swc\", ncomp=1)\n",
    "\n",
    "# Create a \"stub\" of 50um length.\n",
    "stub = jx.Cell()\n",
    "stub.set(\"length\", 50.0)\n",
    "\n",
    "new_cell = morph_connect(cell.branch(0).loc(0.0), stub.branch(0).loc(0.0))\n",
    "```"
   ]
  },
  {
   "cell_type": "markdown",
   "id": "96717ed9",
   "metadata": {},
   "source": [
    "Note that you have to use `.loc()` to specify the location at which to connect the cells. The location must be either `0.0` or `1.0`."
   ]
  },
  {
   "cell_type": "markdown",
   "id": "b474f72c",
   "metadata": {},
   "source": [
    "## Graph-backend for more flexibility"
   ]
  },
  {
   "cell_type": "markdown",
   "id": "03ee281b",
   "metadata": {},
   "source": [
    "All of the above is achieved by using `Jaxley`'s \"graph-backend\", which is based on `networkX`. As such, you can modify `Jaxley` morphologies with any feature of the [networkX](https://networkx.org) toolkit.\n",
    "\n",
    "For more details on `Jaxley`'s graph-backend, see [this tutorial](https://jaxley.readthedocs.io/en/latest/tutorials/13_graph_backend.html), where we also provide an example of how to trim dendrites of a morphology."
   ]
  }
 ],
 "metadata": {
  "kernelspec": {
   "display_name": "Python 3 (ipykernel)",
   "language": "python",
   "name": "python3"
  },
  "language_info": {
   "codemirror_mode": {
    "name": "ipython",
    "version": 3
   },
   "file_extension": ".py",
   "mimetype": "text/x-python",
   "name": "python",
   "nbconvert_exporter": "python",
   "pygments_lexer": "ipython3",
   "version": "3.12.4"
  }
 },
 "nbformat": 4,
 "nbformat_minor": 5
}
