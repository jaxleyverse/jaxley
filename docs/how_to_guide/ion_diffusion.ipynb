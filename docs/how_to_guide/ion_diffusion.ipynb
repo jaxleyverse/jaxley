{
 "cells": [
  {
   "cell_type": "markdown",
   "id": "373a89da",
   "metadata": {},
   "source": [
    "# How to implement ion diffusion"
   ]
  },
  {
   "cell_type": "markdown",
   "id": "88b3c8b8",
   "metadata": {},
   "source": [
    "`Jaxley` allows you to:\n",
    "- define ion pumps,  \n",
    "- update the reversal potential via the Nernst equation, and  \n",
    "- diffuse ions within a cell.  \n",
    "\n",
    "Here is a small code snippet that shows this (this snippet requires `pip install jaxley-mech`):"
   ]
  },
  {
   "cell_type": "markdown",
   "id": "02bf2cbd",
   "metadata": {},
   "source": [
    "```python\n",
    "from jaxley.pumps import CaPump, CaNernstReversal\n",
    "from jaxley_mech.channels.l5pc import CaHVA\n",
    "\n",
    "\n",
    "branch = jx.Branch()\n",
    "cell = jx.Cell(branch, parents=[-1, 0, 0])\n",
    "\n",
    "# Insert a voltage-gated calcium channel.\n",
    "cell.insert(CaHVA())\n",
    "\n",
    "# Insert an ion pump which modifies the intracellular calcium based on the calcium current.\n",
    "cell.insert(CaPump())\n",
    "\n",
    "# Insert a mechanism that updates the calcium reversal potential based on the intracellular calcium level.\n",
    "cell.insert(CaNernstReversal())\n",
    "\n",
    "# Let the intracellular calcium diffuse within the cell.\n",
    "cell.diffuse(\"CaCon_i\")\n",
    "cell.set(\"axial_resistivity_CaCon_i\", 1_000.0)\n",
    "```"
   ]
  },
  {
   "cell_type": "markdown",
   "id": "2c57aedb",
   "metadata": {},
   "source": [
    "`Jaxley` does not yet provide functionality for diffusing ions extracellularly. In\n",
    "addition, intracellular ion _diffusion_ in `Jaxley` currently has the following\n",
    "limitations:\n",
    "- we only allow to diffuse ions within the entire cell (not in just a few branches),  \n",
    "- if enabled, ion diffusion occurs within every cell of a network.  \n",
    "\n",
    "Finally, note that, even when ion diffusion is enabled, `Jaxley` uses a cylindrical\n",
    "approximation for the compartment area (which is unlike `NEURON`, which uses a conic\n",
    "approximation when ion diffusion is enabled)."
   ]
  },
  {
   "cell_type": "markdown",
   "id": "19a4ea4b",
   "metadata": {},
   "source": [
    "## More explanation\n",
    "\n",
    "See [this tutorial](https://jaxley.readthedocs.io/en/latest/tutorials/11_ion_dynamics.html) for more information."
   ]
  }
 ],
 "metadata": {
  "kernelspec": {
   "display_name": "Python 3 (ipykernel)",
   "language": "python",
   "name": "python3"
  },
  "language_info": {
   "codemirror_mode": {
    "name": "ipython",
    "version": 3
   },
   "file_extension": ".py",
   "mimetype": "text/x-python",
   "name": "python",
   "nbconvert_exporter": "python",
   "pygments_lexer": "ipython3",
   "version": "3.12.4"
  }
 },
 "nbformat": 4,
 "nbformat_minor": 5
}
