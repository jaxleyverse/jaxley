{
 "cells": [
  {
   "cell_type": "markdown",
   "id": "d74221cd",
   "metadata": {},
   "source": [
    "# How to define custom stimuli"
   ]
  },
  {
   "cell_type": "markdown",
   "id": "d8dfae4e",
   "metadata": {},
   "source": [
    "In all of our tutorials, we created stimuli with `jx.step_current(i_delay, i_dur, i_amp, dt, t_max)`. This creates a vector of input stimuli, where the n-th entry of the vector will be the stimulus at the n-th simultion time point. As such, you can **simply create stimuli as numpy arrays**."
   ]
  },
  {
   "cell_type": "markdown",
   "id": "6229047e",
   "metadata": {},
   "source": [
    "> **⚠️ IMPORTANT!**  \n",
    "> If you change `jx.integrate(..., delta_t=0.025)`, then you also have to customize your stimulus. The n-th entry of the `stimulus` will be the input to the cell at the n-th simulation step, regardless of `dt`"
   ]
  },
  {
   "cell_type": "markdown",
   "id": "54627d10",
   "metadata": {},
   "source": [
    "## Example"
   ]
  },
  {
   "cell_type": "markdown",
   "id": "9153ab41",
   "metadata": {},
   "source": [
    "```python\n",
    "import jax.numpy as jnp\n",
    "\n",
    "t_max = 100.0  # ms\n",
    "dt = 0.025  # ms\n",
    "time_values = jnp.arange(0, t_max, dt)\n",
    "custom_stimulus = jnp.sin(time_value)\n",
    "\n",
    "cell.branch(0).comp(0).stimulate(custom_stimulus)\n",
    "cell.branch(0).comp(0).record()\n",
    "v = jx.integrate(cell, delta_t=dt)\n",
    "```"
   ]
  }
 ],
 "metadata": {
  "kernelspec": {
   "display_name": "Python 3 (ipykernel)",
   "language": "python",
   "name": "python3"
  },
  "language_info": {
   "codemirror_mode": {
    "name": "ipython",
    "version": 3
   },
   "file_extension": ".py",
   "mimetype": "text/x-python",
   "name": "python",
   "nbconvert_exporter": "python",
   "pygments_lexer": "ipython3",
   "version": "3.12.4"
  }
 },
 "nbformat": 4,
 "nbformat_minor": 5
}
