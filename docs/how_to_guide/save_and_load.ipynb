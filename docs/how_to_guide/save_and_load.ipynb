{
 "cells": [
  {
   "cell_type": "markdown",
   "id": "0528d992",
   "metadata": {},
   "source": [
    "# How to save and load cells and networks"
   ]
  },
  {
   "cell_type": "markdown",
   "id": "913fa7d1",
   "metadata": {},
   "source": [
    "All `module`s (i.e., compartments, branches, cells, and networks) in `Jaxley` can be saved and loaded with pickle:"
   ]
  },
  {
   "cell_type": "markdown",
   "id": "11a0381c",
   "metadata": {},
   "source": [
    "```python\n",
    "import jaxley as jx\n",
    "import pickle\n",
    "\n",
    "# ... define network, cell, etc.\n",
    "network = jx.Network([cell1, cell2])\n",
    "\n",
    "# Save.\n",
    "with open(\"path/to/file.pkl\", \"wb\") as handle:\n",
    "    pickle.dump(network, handle)\n",
    "\n",
    "# Load.\n",
    "with open(\"path/to/file.pkl\", \"rb\") as handle:\n",
    "    network = pickle.load(handle)\n",
    "```"
   ]
  }
 ],
 "metadata": {
  "kernelspec": {
   "display_name": "Python 3 (ipykernel)",
   "language": "python",
   "name": "python3"
  },
  "language_info": {
   "codemirror_mode": {
    "name": "ipython",
    "version": 3
   },
   "file_extension": ".py",
   "mimetype": "text/x-python",
   "name": "python",
   "nbconvert_exporter": "python",
   "pygments_lexer": "ipython3",
   "version": "3.12.4"
  }
 },
 "nbformat": 4,
 "nbformat_minor": 5
}
