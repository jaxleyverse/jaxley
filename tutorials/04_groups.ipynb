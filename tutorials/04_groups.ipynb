{
 "cells": [
  {
   "cell_type": "markdown",
   "id": "0d543c68",
   "metadata": {},
   "source": [
    "# Groups (aka sectionlists)\n",
    "\n",
    "In many cases, you might want to group several compartments (or branches, or cells) and assign a unique parameter or mechanism to this group. For example, you might want to define a couple of branches as basal and then assign a Hodgkin-Huxley mechanism only to those branches. Or you might define a couple of cells as fast spiking and assign them a high value for the sodium conductance. We describe how you can do this in this tutorial."
   ]
  },
  {
   "cell_type": "code",
   "execution_count": 1,
   "id": "dc365a56",
   "metadata": {},
   "outputs": [],
   "source": [
    "%load_ext autoreload\n",
    "%autoreload 2"
   ]
  },
  {
   "cell_type": "code",
   "execution_count": 2,
   "id": "bda3bd72",
   "metadata": {},
   "outputs": [],
   "source": [
    "# I have experienced stability issues with float32.\n",
    "from jax.config import config\n",
    "config.update(\"jax_enable_x64\", True)\n",
    "config.update(\"jax_platform_name\", \"cpu\")\n",
    "\n",
    "import os\n",
    "os.environ[\"XLA_PYTHON_CLIENT_MEM_FRACTION\"]=\".8\""
   ]
  },
  {
   "cell_type": "code",
   "execution_count": 3,
   "id": "48d32252",
   "metadata": {},
   "outputs": [],
   "source": [
    "import time\n",
    "import matplotlib.pyplot as plt\n",
    "import numpy as np\n",
    "import jax\n",
    "import jax.numpy as jnp\n",
    "from jax import jit, value_and_grad\n",
    "\n",
    "import neurax as nx\n",
    "from neurax.channels import HHChannel\n",
    "from neurax.synapses import GlutamateSynapse"
   ]
  },
  {
   "cell_type": "markdown",
   "id": "4fb71e0a",
   "metadata": {},
   "source": [
    "### Setup"
   ]
  },
  {
   "cell_type": "code",
   "execution_count": 4,
   "id": "4cbae96d",
   "metadata": {},
   "outputs": [],
   "source": [
    "# Number of segments per branch.\n",
    "nseg_per_branch = 8\n",
    "\n",
    "# Stimulus.\n",
    "i_delay = 3.0  # ms\n",
    "i_amp = 0.05  # nA\n",
    "i_dur = 2.0  # ms\n",
    "\n",
    "# Duration and step size.\n",
    "dt = 0.025  # ms\n",
    "t_max = 50.0  # ms\n",
    "\n",
    "time_vec = jnp.arange(0.0, t_max+dt, dt)"
   ]
  },
  {
   "cell_type": "markdown",
   "id": "5a0aa81f",
   "metadata": {},
   "source": [
    "### Define a network"
   ]
  },
  {
   "cell_type": "code",
   "execution_count": 5,
   "id": "7ffb1bf1",
   "metadata": {},
   "outputs": [],
   "source": [
    "comp = nx.Compartment()\n",
    "branch = nx.Branch([comp for _ in range(nseg_per_branch)])\n",
    "cell = nx.Cell([branch for _ in range(5)], parents=jnp.asarray([-1, 0, 0, 1, 1]))"
   ]
  },
  {
   "cell_type": "code",
   "execution_count": 6,
   "id": "d100c658",
   "metadata": {},
   "outputs": [],
   "source": [
    "_ = np.random.seed(0)\n",
    "conn_builder = nx.ConnectivityBuilder([cell.total_nbranches for _ in range(5)])\n",
    "connectivities = [nx.Connectivity(GlutamateSynapse(), conn_builder.fc(np.arange(0, 2), np.arange(2, 5)))]"
   ]
  },
  {
   "cell_type": "code",
   "execution_count": 7,
   "id": "544726b8",
   "metadata": {},
   "outputs": [],
   "source": [
    "network = nx.Network([cell for _ in range(5)], connectivities)\n",
    "network.insert(HHChannel())"
   ]
  },
  {
   "cell_type": "markdown",
   "id": "dadf26ea",
   "metadata": {},
   "source": [
    "### Group: apical dendrites\n",
    "Assume that, in each of the five neurons in this network, the second and forth branch are apical dendrites. We can define this as:"
   ]
  },
  {
   "cell_type": "code",
   "execution_count": 8,
   "id": "89552aa0",
   "metadata": {},
   "outputs": [],
   "source": [
    "for cell_ind in range(5):\n",
    "    network.cell(cell_ind).branch(1).add_to_group(\"apical\")\n",
    "    network.cell(cell_ind).branch(3).add_to_group(\"apical\")"
   ]
  },
  {
   "cell_type": "markdown",
   "id": "cab3ae82",
   "metadata": {},
   "source": [
    "After this, we can access `network.apical` as we previously accesses anything else:"
   ]
  },
  {
   "cell_type": "code",
   "execution_count": 9,
   "id": "02572a70",
   "metadata": {},
   "outputs": [],
   "source": [
    "network.apical.set_params(\"radius\", 0.3)"
   ]
  },
  {
   "cell_type": "code",
   "execution_count": 10,
   "id": "1aee4915",
   "metadata": {},
   "outputs": [
    {
     "data": {
      "text/html": [
       "<div>\n",
       "<style scoped>\n",
       "    .dataframe tbody tr th:only-of-type {\n",
       "        vertical-align: middle;\n",
       "    }\n",
       "\n",
       "    .dataframe tbody tr th {\n",
       "        vertical-align: top;\n",
       "    }\n",
       "\n",
       "    .dataframe thead th {\n",
       "        text-align: right;\n",
       "    }\n",
       "</style>\n",
       "<table border=\"1\" class=\"dataframe\">\n",
       "  <thead>\n",
       "    <tr style=\"text-align: right;\">\n",
       "      <th></th>\n",
       "      <th>comp_index</th>\n",
       "      <th>branch_index</th>\n",
       "      <th>cell_index</th>\n",
       "      <th>controlled_by_param</th>\n",
       "      <th>length</th>\n",
       "      <th>radius</th>\n",
       "      <th>axial_resistivity</th>\n",
       "      <th>voltages</th>\n",
       "    </tr>\n",
       "  </thead>\n",
       "  <tbody>\n",
       "    <tr>\n",
       "      <th>8</th>\n",
       "      <td>0</td>\n",
       "      <td>0</td>\n",
       "      <td>0</td>\n",
       "      <td>0</td>\n",
       "      <td>10.0</td>\n",
       "      <td>0.3</td>\n",
       "      <td>5000.0</td>\n",
       "      <td>-70.0</td>\n",
       "    </tr>\n",
       "    <tr>\n",
       "      <th>9</th>\n",
       "      <td>1</td>\n",
       "      <td>0</td>\n",
       "      <td>0</td>\n",
       "      <td>0</td>\n",
       "      <td>10.0</td>\n",
       "      <td>0.3</td>\n",
       "      <td>5000.0</td>\n",
       "      <td>-70.0</td>\n",
       "    </tr>\n",
       "    <tr>\n",
       "      <th>10</th>\n",
       "      <td>2</td>\n",
       "      <td>0</td>\n",
       "      <td>0</td>\n",
       "      <td>0</td>\n",
       "      <td>10.0</td>\n",
       "      <td>0.3</td>\n",
       "      <td>5000.0</td>\n",
       "      <td>-70.0</td>\n",
       "    </tr>\n",
       "    <tr>\n",
       "      <th>11</th>\n",
       "      <td>3</td>\n",
       "      <td>0</td>\n",
       "      <td>0</td>\n",
       "      <td>0</td>\n",
       "      <td>10.0</td>\n",
       "      <td>0.3</td>\n",
       "      <td>5000.0</td>\n",
       "      <td>-70.0</td>\n",
       "    </tr>\n",
       "    <tr>\n",
       "      <th>12</th>\n",
       "      <td>4</td>\n",
       "      <td>0</td>\n",
       "      <td>0</td>\n",
       "      <td>0</td>\n",
       "      <td>10.0</td>\n",
       "      <td>0.3</td>\n",
       "      <td>5000.0</td>\n",
       "      <td>-70.0</td>\n",
       "    </tr>\n",
       "    <tr>\n",
       "      <th>...</th>\n",
       "      <td>...</td>\n",
       "      <td>...</td>\n",
       "      <td>...</td>\n",
       "      <td>...</td>\n",
       "      <td>...</td>\n",
       "      <td>...</td>\n",
       "      <td>...</td>\n",
       "      <td>...</td>\n",
       "    </tr>\n",
       "    <tr>\n",
       "      <th>187</th>\n",
       "      <td>3</td>\n",
       "      <td>0</td>\n",
       "      <td>0</td>\n",
       "      <td>0</td>\n",
       "      <td>10.0</td>\n",
       "      <td>0.3</td>\n",
       "      <td>5000.0</td>\n",
       "      <td>-70.0</td>\n",
       "    </tr>\n",
       "    <tr>\n",
       "      <th>188</th>\n",
       "      <td>4</td>\n",
       "      <td>0</td>\n",
       "      <td>0</td>\n",
       "      <td>0</td>\n",
       "      <td>10.0</td>\n",
       "      <td>0.3</td>\n",
       "      <td>5000.0</td>\n",
       "      <td>-70.0</td>\n",
       "    </tr>\n",
       "    <tr>\n",
       "      <th>189</th>\n",
       "      <td>5</td>\n",
       "      <td>0</td>\n",
       "      <td>0</td>\n",
       "      <td>0</td>\n",
       "      <td>10.0</td>\n",
       "      <td>0.3</td>\n",
       "      <td>5000.0</td>\n",
       "      <td>-70.0</td>\n",
       "    </tr>\n",
       "    <tr>\n",
       "      <th>190</th>\n",
       "      <td>6</td>\n",
       "      <td>0</td>\n",
       "      <td>0</td>\n",
       "      <td>0</td>\n",
       "      <td>10.0</td>\n",
       "      <td>0.3</td>\n",
       "      <td>5000.0</td>\n",
       "      <td>-70.0</td>\n",
       "    </tr>\n",
       "    <tr>\n",
       "      <th>191</th>\n",
       "      <td>7</td>\n",
       "      <td>0</td>\n",
       "      <td>0</td>\n",
       "      <td>0</td>\n",
       "      <td>10.0</td>\n",
       "      <td>0.3</td>\n",
       "      <td>5000.0</td>\n",
       "      <td>-70.0</td>\n",
       "    </tr>\n",
       "  </tbody>\n",
       "</table>\n",
       "<p>80 rows × 8 columns</p>\n",
       "</div>"
      ],
      "text/plain": [
       "     comp_index  branch_index  cell_index  controlled_by_param  length   \n",
       "8             0             0           0                    0    10.0  \\\n",
       "9             1             0           0                    0    10.0   \n",
       "10            2             0           0                    0    10.0   \n",
       "11            3             0           0                    0    10.0   \n",
       "12            4             0           0                    0    10.0   \n",
       "..          ...           ...         ...                  ...     ...   \n",
       "187           3             0           0                    0    10.0   \n",
       "188           4             0           0                    0    10.0   \n",
       "189           5             0           0                    0    10.0   \n",
       "190           6             0           0                    0    10.0   \n",
       "191           7             0           0                    0    10.0   \n",
       "\n",
       "     radius  axial_resistivity  voltages  \n",
       "8       0.3             5000.0     -70.0  \n",
       "9       0.3             5000.0     -70.0  \n",
       "10      0.3             5000.0     -70.0  \n",
       "11      0.3             5000.0     -70.0  \n",
       "12      0.3             5000.0     -70.0  \n",
       "..      ...                ...       ...  \n",
       "187     0.3             5000.0     -70.0  \n",
       "188     0.3             5000.0     -70.0  \n",
       "189     0.3             5000.0     -70.0  \n",
       "190     0.3             5000.0     -70.0  \n",
       "191     0.3             5000.0     -70.0  \n",
       "\n",
       "[80 rows x 8 columns]"
      ]
     },
     "execution_count": 10,
     "metadata": {},
     "output_type": "execute_result"
    }
   ],
   "source": [
    "network.apical.show()"
   ]
  },
  {
   "cell_type": "markdown",
   "id": "319bf6a6",
   "metadata": {},
   "source": [
    "### Group: fast spiking\n",
    "Similarly, you could define a group of fast-spiking cells. Assume that the first, second, and forth cell are fast-spiking:"
   ]
  },
  {
   "cell_type": "code",
   "execution_count": 11,
   "id": "e3f4ed57",
   "metadata": {},
   "outputs": [],
   "source": [
    "network.cell(0).add_to_group(\"fast_spiking\")\n",
    "network.cell(1).add_to_group(\"fast_spiking\")\n",
    "network.cell(3).add_to_group(\"fast_spiking\")"
   ]
  },
  {
   "cell_type": "code",
   "execution_count": 12,
   "id": "dedbcdd5",
   "metadata": {},
   "outputs": [],
   "source": [
    "network.fast_spiking.set_params(\"gNa\", 0.4)"
   ]
  },
  {
   "cell_type": "code",
   "execution_count": 13,
   "id": "b7822291",
   "metadata": {},
   "outputs": [
    {
     "data": {
      "text/html": [
       "<div>\n",
       "<style scoped>\n",
       "    .dataframe tbody tr th:only-of-type {\n",
       "        vertical-align: middle;\n",
       "    }\n",
       "\n",
       "    .dataframe tbody tr th {\n",
       "        vertical-align: top;\n",
       "    }\n",
       "\n",
       "    .dataframe thead th {\n",
       "        text-align: right;\n",
       "    }\n",
       "</style>\n",
       "<table border=\"1\" class=\"dataframe\">\n",
       "  <thead>\n",
       "    <tr style=\"text-align: right;\">\n",
       "      <th></th>\n",
       "      <th>comp_index</th>\n",
       "      <th>branch_index</th>\n",
       "      <th>cell_index</th>\n",
       "      <th>gNa</th>\n",
       "      <th>gK</th>\n",
       "      <th>gLeak</th>\n",
       "      <th>m</th>\n",
       "      <th>h</th>\n",
       "      <th>n</th>\n",
       "    </tr>\n",
       "  </thead>\n",
       "  <tbody>\n",
       "    <tr>\n",
       "      <th>0</th>\n",
       "      <td>0</td>\n",
       "      <td>0</td>\n",
       "      <td>0</td>\n",
       "      <td>0.4</td>\n",
       "      <td>0.036</td>\n",
       "      <td>0.0003</td>\n",
       "      <td>0.2</td>\n",
       "      <td>0.2</td>\n",
       "      <td>0.2</td>\n",
       "    </tr>\n",
       "    <tr>\n",
       "      <th>1</th>\n",
       "      <td>1</td>\n",
       "      <td>0</td>\n",
       "      <td>0</td>\n",
       "      <td>0.4</td>\n",
       "      <td>0.036</td>\n",
       "      <td>0.0003</td>\n",
       "      <td>0.2</td>\n",
       "      <td>0.2</td>\n",
       "      <td>0.2</td>\n",
       "    </tr>\n",
       "    <tr>\n",
       "      <th>2</th>\n",
       "      <td>2</td>\n",
       "      <td>0</td>\n",
       "      <td>0</td>\n",
       "      <td>0.4</td>\n",
       "      <td>0.036</td>\n",
       "      <td>0.0003</td>\n",
       "      <td>0.2</td>\n",
       "      <td>0.2</td>\n",
       "      <td>0.2</td>\n",
       "    </tr>\n",
       "    <tr>\n",
       "      <th>3</th>\n",
       "      <td>3</td>\n",
       "      <td>0</td>\n",
       "      <td>0</td>\n",
       "      <td>0.4</td>\n",
       "      <td>0.036</td>\n",
       "      <td>0.0003</td>\n",
       "      <td>0.2</td>\n",
       "      <td>0.2</td>\n",
       "      <td>0.2</td>\n",
       "    </tr>\n",
       "    <tr>\n",
       "      <th>4</th>\n",
       "      <td>4</td>\n",
       "      <td>0</td>\n",
       "      <td>0</td>\n",
       "      <td>0.4</td>\n",
       "      <td>0.036</td>\n",
       "      <td>0.0003</td>\n",
       "      <td>0.2</td>\n",
       "      <td>0.2</td>\n",
       "      <td>0.2</td>\n",
       "    </tr>\n",
       "    <tr>\n",
       "      <th>...</th>\n",
       "      <td>...</td>\n",
       "      <td>...</td>\n",
       "      <td>...</td>\n",
       "      <td>...</td>\n",
       "      <td>...</td>\n",
       "      <td>...</td>\n",
       "      <td>...</td>\n",
       "      <td>...</td>\n",
       "      <td>...</td>\n",
       "    </tr>\n",
       "    <tr>\n",
       "      <th>155</th>\n",
       "      <td>155</td>\n",
       "      <td>19</td>\n",
       "      <td>3</td>\n",
       "      <td>0.4</td>\n",
       "      <td>0.036</td>\n",
       "      <td>0.0003</td>\n",
       "      <td>0.2</td>\n",
       "      <td>0.2</td>\n",
       "      <td>0.2</td>\n",
       "    </tr>\n",
       "    <tr>\n",
       "      <th>156</th>\n",
       "      <td>156</td>\n",
       "      <td>19</td>\n",
       "      <td>3</td>\n",
       "      <td>0.4</td>\n",
       "      <td>0.036</td>\n",
       "      <td>0.0003</td>\n",
       "      <td>0.2</td>\n",
       "      <td>0.2</td>\n",
       "      <td>0.2</td>\n",
       "    </tr>\n",
       "    <tr>\n",
       "      <th>157</th>\n",
       "      <td>157</td>\n",
       "      <td>19</td>\n",
       "      <td>3</td>\n",
       "      <td>0.4</td>\n",
       "      <td>0.036</td>\n",
       "      <td>0.0003</td>\n",
       "      <td>0.2</td>\n",
       "      <td>0.2</td>\n",
       "      <td>0.2</td>\n",
       "    </tr>\n",
       "    <tr>\n",
       "      <th>158</th>\n",
       "      <td>158</td>\n",
       "      <td>19</td>\n",
       "      <td>3</td>\n",
       "      <td>0.4</td>\n",
       "      <td>0.036</td>\n",
       "      <td>0.0003</td>\n",
       "      <td>0.2</td>\n",
       "      <td>0.2</td>\n",
       "      <td>0.2</td>\n",
       "    </tr>\n",
       "    <tr>\n",
       "      <th>159</th>\n",
       "      <td>159</td>\n",
       "      <td>19</td>\n",
       "      <td>3</td>\n",
       "      <td>0.4</td>\n",
       "      <td>0.036</td>\n",
       "      <td>0.0003</td>\n",
       "      <td>0.2</td>\n",
       "      <td>0.2</td>\n",
       "      <td>0.2</td>\n",
       "    </tr>\n",
       "  </tbody>\n",
       "</table>\n",
       "<p>120 rows × 9 columns</p>\n",
       "</div>"
      ],
      "text/plain": [
       "     comp_index  branch_index  cell_index  gNa     gK   gLeak    m    h    n\n",
       "0             0             0           0  0.4  0.036  0.0003  0.2  0.2  0.2\n",
       "1             1             0           0  0.4  0.036  0.0003  0.2  0.2  0.2\n",
       "2             2             0           0  0.4  0.036  0.0003  0.2  0.2  0.2\n",
       "3             3             0           0  0.4  0.036  0.0003  0.2  0.2  0.2\n",
       "4             4             0           0  0.4  0.036  0.0003  0.2  0.2  0.2\n",
       "..          ...           ...         ...  ...    ...     ...  ...  ...  ...\n",
       "155         155            19           3  0.4  0.036  0.0003  0.2  0.2  0.2\n",
       "156         156            19           3  0.4  0.036  0.0003  0.2  0.2  0.2\n",
       "157         157            19           3  0.4  0.036  0.0003  0.2  0.2  0.2\n",
       "158         158            19           3  0.4  0.036  0.0003  0.2  0.2  0.2\n",
       "159         159            19           3  0.4  0.036  0.0003  0.2  0.2  0.2\n",
       "\n",
       "[120 rows x 9 columns]"
      ]
     },
     "execution_count": 13,
     "metadata": {},
     "output_type": "execute_result"
    }
   ],
   "source": [
    "network.fast_spiking.show(\"HHChannel\")"
   ]
  },
  {
   "cell_type": "markdown",
   "id": "f02a2e29",
   "metadata": {},
   "source": [
    "### How groups are interpreted by `.make_trainable()`\n",
    "If you make a parameter of a `group` trainable, then it will be treated as a single shared parameter for a given property:"
   ]
  },
  {
   "cell_type": "code",
   "execution_count": 14,
   "id": "3a399a56",
   "metadata": {},
   "outputs": [],
   "source": [
    "network.fast_spiking.make_trainable(\"gNa\")"
   ]
  },
  {
   "cell_type": "markdown",
   "id": "994ceb70",
   "metadata": {},
   "source": [
    "As such, `get_parameters()` returns only a single trainable parameter, which will be the sodium conductance for every compartment of every fast-spiking neuron:"
   ]
  },
  {
   "cell_type": "code",
   "execution_count": 15,
   "id": "c36e5b88",
   "metadata": {},
   "outputs": [
    {
     "data": {
      "text/plain": [
       "[{'gNa': DeviceArray([[0.4]], dtype=float64)}]"
      ]
     },
     "execution_count": 15,
     "metadata": {},
     "output_type": "execute_result"
    }
   ],
   "source": [
    "network.get_parameters()"
   ]
  },
  {
   "cell_type": "markdown",
   "id": "0b80490b",
   "metadata": {},
   "source": [
    "If, instead, you would want a separate parameter for every fast-spiking cell, you should not use the group, but instead do the following (remember that fast-spiking neurons had indices [0,1,3]):"
   ]
  },
  {
   "cell_type": "code",
   "execution_count": 16,
   "id": "99a6c389",
   "metadata": {},
   "outputs": [],
   "source": [
    "network.cell([0,1,3]).make_trainable(\"axial_resistivity\")"
   ]
  },
  {
   "cell_type": "code",
   "execution_count": 17,
   "id": "e7ceae37",
   "metadata": {},
   "outputs": [
    {
     "data": {
      "text/plain": [
       "[{'gNa': DeviceArray([[0.4]], dtype=float64)},\n",
       " {'axial_resistivity': DeviceArray([[5000.],\n",
       "               [5000.],\n",
       "               [5000.]], dtype=float64)}]"
      ]
     },
     "execution_count": 17,
     "metadata": {},
     "output_type": "execute_result"
    }
   ],
   "source": [
    "network.get_parameters()"
   ]
  },
  {
   "cell_type": "markdown",
   "id": "a1136505",
   "metadata": {},
   "source": [
    "This generated three parameters for the axial resistivitiy, each corresponding to one cell."
   ]
  }
 ],
 "metadata": {
  "kernelspec": {
   "display_name": "jax",
   "language": "python",
   "name": "jax"
  },
  "language_info": {
   "codemirror_mode": {
    "name": "ipython",
    "version": 3
   },
   "file_extension": ".py",
   "mimetype": "text/x-python",
   "name": "python",
   "nbconvert_exporter": "python",
   "pygments_lexer": "ipython3",
   "version": "3.8.12"
  }
 },
 "nbformat": 4,
 "nbformat_minor": 5
}
