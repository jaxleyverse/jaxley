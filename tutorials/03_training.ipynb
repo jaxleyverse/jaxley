{
 "cells": [
  {
   "cell_type": "code",
   "execution_count": 1,
   "id": "e38051a5-e754-4dc7-9e1c-caa42e340fa3",
   "metadata": {},
   "outputs": [],
   "source": [
    "%load_ext autoreload\n",
    "%autoreload 2"
   ]
  },
  {
   "cell_type": "code",
   "execution_count": 2,
   "id": "99a23786",
   "metadata": {},
   "outputs": [],
   "source": [
    "# I have experienced stability issues with float32.\n",
    "from jax.config import config\n",
    "config.update(\"jax_enable_x64\", True)\n",
    "config.update(\"jax_platform_name\", \"cpu\")\n",
    "\n",
    "import os\n",
    "os.environ[\"XLA_PYTHON_CLIENT_MEM_FRACTION\"]=\".8\""
   ]
  },
  {
   "cell_type": "code",
   "execution_count": 3,
   "id": "7490f08b",
   "metadata": {},
   "outputs": [],
   "source": [
    "import time\n",
    "import matplotlib.pyplot as plt\n",
    "import numpy as np\n",
    "import jax\n",
    "import jax.numpy as jnp\n",
    "from jax import jit, value_and_grad\n",
    "\n",
    "import neurax as nx\n",
    "from neurax.channels import HHChannel\n",
    "from neurax.synapses import GlutamateSynapse"
   ]
  },
  {
   "cell_type": "markdown",
   "id": "875c29b9",
   "metadata": {},
   "source": [
    "### Setup"
   ]
  },
  {
   "cell_type": "code",
   "execution_count": 4,
   "id": "200ce0b1",
   "metadata": {},
   "outputs": [],
   "source": [
    "# Number of segments per branch.\n",
    "nseg_per_branch = 8\n",
    "\n",
    "# Stimulus.\n",
    "i_delay = 3.0  # ms\n",
    "i_amp = 0.05  # nA\n",
    "i_dur = 2.0  # ms\n",
    "\n",
    "# Duration and step size.\n",
    "dt = 0.025  # ms\n",
    "t_max = 50.0  # ms"
   ]
  },
  {
   "cell_type": "code",
   "execution_count": 5,
   "id": "72ef3df2",
   "metadata": {},
   "outputs": [],
   "source": [
    "time_vec = jnp.arange(0.0, t_max+dt, dt)"
   ]
  },
  {
   "cell_type": "markdown",
   "id": "1dcda1e9",
   "metadata": {},
   "source": [
    "### Define stimuli and recordings"
   ]
  },
  {
   "cell_type": "code",
   "execution_count": 6,
   "id": "d5706618",
   "metadata": {},
   "outputs": [],
   "source": [
    "recs = [nx.Recording(cell_ind, 1, 0.0) for cell_ind in range(5)]\n",
    "stims = [\n",
    "    nx.Stimulus(stim_ind, 1, 0.0, current=nx.step_current(i_delay, i_dur, i_amp, time_vec)) for stim_ind in range(2)\n",
    "]"
   ]
  },
  {
   "cell_type": "markdown",
   "id": "54072fa0",
   "metadata": {},
   "source": [
    "### Let's define a network"
   ]
  },
  {
   "cell_type": "code",
   "execution_count": 7,
   "id": "9eb9bddf-dc93-420a-a4a9-7b1c9ba296a1",
   "metadata": {},
   "outputs": [],
   "source": [
    "comp = nx.Compartment([HHChannel()]).initialize()\n",
    "branch = nx.Branch([comp for _ in range(nseg_per_branch)]).initialize()\n",
    "cell = nx.Cell([branch for _ in range(5)], parents=jnp.asarray([-1, 0, 0, 1, 1])).initialize()"
   ]
  },
  {
   "cell_type": "code",
   "execution_count": 8,
   "id": "7b55f750",
   "metadata": {},
   "outputs": [],
   "source": [
    "_ = np.random.seed(0)\n",
    "conn_builder = nx.ConnectivityBuilder([cell.total_nbranches for _ in range(5)])\n",
    "connectivities = [nx.Connectivity(GlutamateSynapse(), conn_builder.fc(np.arange(0, 2), np.arange(2, 5)))]"
   ]
  },
  {
   "cell_type": "code",
   "execution_count": 9,
   "id": "d8ea160b",
   "metadata": {},
   "outputs": [],
   "source": [
    "network = nx.Network([cell for _ in range(5)], connectivities).initialize()"
   ]
  },
  {
   "cell_type": "markdown",
   "id": "49225ee5-fbc0-4f08-b5bc-556f08913062",
   "metadata": {},
   "source": [
    "### Defining trainable parameters"
   ]
  },
  {
   "cell_type": "markdown",
   "id": "a29c7241-8981-4844-abd0-7fa8e89c5eae",
   "metadata": {},
   "source": [
    "This follows the same API as `.set_params()` seen in the previous tutorial. If you want to use a single parameter for all `radius`es in the entire network, do:"
   ]
  },
  {
   "cell_type": "code",
   "execution_count": 31,
   "id": "807d7583-fd9c-4ee6-9f7a-22cb224eabd3",
   "metadata": {},
   "outputs": [],
   "source": [
    "network.make_trainable(\"radius\", 0.5)"
   ]
  },
  {
   "cell_type": "code",
   "execution_count": 32,
   "id": "9eb8e8dd-9593-4046-8ac1-c82ff278d7db",
   "metadata": {},
   "outputs": [],
   "source": [
    "params = network.get_parameters()"
   ]
  },
  {
   "cell_type": "code",
   "execution_count": 33,
   "id": "9cb9e7ce-0edb-4b99-a302-4bcf60609fd0",
   "metadata": {},
   "outputs": [
    {
     "data": {
      "text/plain": [
       "[{'radius': DeviceArray(0.5, dtype=float64, weak_type=True)},\n",
       " {'radius': DeviceArray(0.5, dtype=float64, weak_type=True)},\n",
       " {'radius': DeviceArray(0.5, dtype=float64, weak_type=True)},\n",
       " {'radius': DeviceArray(0.5, dtype=float64, weak_type=True)}]"
      ]
     },
     "execution_count": 33,
     "metadata": {},
     "output_type": "execute_result"
    }
   ],
   "source": [
    "params"
   ]
  },
  {
   "cell_type": "code",
   "execution_count": 34,
   "id": "29efd573-7780-428d-a54f-2d5dd8dea271",
   "metadata": {},
   "outputs": [],
   "source": [
    "from neurax.optimize import MembraneParamTransform"
   ]
  },
  {
   "cell_type": "code",
   "execution_count": 35,
   "id": "db96ccf3-37ab-4852-9e25-616c4d1e2145",
   "metadata": {},
   "outputs": [],
   "source": [
    "tf = MembraneParamTransform(\n",
    "    lowers={\"gNa\": 0.1, \"gK\": 0.03, \"gLeak\": 0.0001, \"radius\": 0.1, \"length\": 1.0, \"axial_resistivity\": 100.0},\n",
    "    uppers={\"gNa\": 0.3, \"gK\": 0.05, \"gLeak\": 0.0005, \"radius\": 1.0, \"length\": 10.0, \"axial_resistivity\": 10_000.0},\n",
    ")"
   ]
  },
  {
   "cell_type": "code",
   "execution_count": 36,
   "id": "58d508ef-0b7a-464b-9c64-9671383f740b",
   "metadata": {},
   "outputs": [
    {
     "data": {
      "text/plain": [
       "[{'radius': DeviceArray(0.5, dtype=float64, weak_type=True)},\n",
       " {'radius': DeviceArray(0.5, dtype=float64, weak_type=True)},\n",
       " {'radius': DeviceArray(0.5, dtype=float64, weak_type=True)},\n",
       " {'radius': DeviceArray(0.5, dtype=float64, weak_type=True)}]"
      ]
     },
     "execution_count": 36,
     "metadata": {},
     "output_type": "execute_result"
    }
   ],
   "source": [
    "tf.inverse(tf.forward(params))"
   ]
  },
  {
   "cell_type": "markdown",
   "id": "b61a2c61-a488-4e55-892b-06115aeb2619",
   "metadata": {},
   "source": [
    "The second input (`0.5`) is the initial value that is assigned to the parameter."
   ]
  },
  {
   "cell_type": "markdown",
   "id": "7479c3ba-7248-4210-820c-7a9ea6dfa019",
   "metadata": {},
   "source": [
    "We can also define parameters for individual compartments. To do this, use the `\"all\"` key. The following defines a separate parameter the sodium conductance for every compartment in the entire network:"
   ]
  },
  {
   "cell_type": "code",
   "execution_count": 23,
   "id": "19cea947-4b05-4f7c-86de-3ef195eb4801",
   "metadata": {},
   "outputs": [],
   "source": [
    "network.cell(\"all\").branch(\"all\").comp(\"all\").make_trainable(\"gNa\", 0.5)"
   ]
  },
  {
   "cell_type": "markdown",
   "id": "e1225112-9dce-41e4-9709-5c272d273108",
   "metadata": {},
   "source": [
    "### Making synaptic parameters trainable"
   ]
  },
  {
   "cell_type": "markdown",
   "id": "18fbd74c-0454-4d82-b994-a0cee081c848",
   "metadata": {},
   "source": [
    "Synaptic parameters can be made trainable in the exact same way. To use a single parameter for all syanptic conductances in the entire network, do"
   ]
  },
  {
   "cell_type": "code",
   "execution_count": 34,
   "id": "02f7a255-7d55-4729-a338-9d152979948a",
   "metadata": {},
   "outputs": [],
   "source": [
    "network.make_trainable(\"gS\", 0.2)"
   ]
  },
  {
   "cell_type": "markdown",
   "id": "af8674a2-feec-4600-872d-d4ee1a5247ca",
   "metadata": {},
   "source": [
    "and to use a different syanptic conductance for all syanpses, do"
   ]
  },
  {
   "cell_type": "code",
   "execution_count": 36,
   "id": "3afb429b-c8ac-4755-9018-85eaee530563",
   "metadata": {},
   "outputs": [],
   "source": [
    "network.synapse(\"all\").make_trainable(\"gS\", 0.2)"
   ]
  },
  {
   "cell_type": "markdown",
   "id": "516f8638-934f-4c90-a984-8647415897da",
   "metadata": {},
   "source": [
    "### Running the simulation again"
   ]
  },
  {
   "cell_type": "markdown",
   "id": "a4a750ea-7fde-4cbd-a5a2-c7d8ed27e5da",
   "metadata": {},
   "source": [
    "Once all parameters are defined, you have to use `.get_parameters()` to obtain all trainable parameters. This is also the time to check how many trainable parameters your network has:"
   ]
  },
  {
   "cell_type": "code",
   "execution_count": 26,
   "id": "81672ce7-0060-4a7b-9803-fe1ebeb660e7",
   "metadata": {},
   "outputs": [],
   "source": [
    "params = network.get_parameters()\n",
    "# print(params)"
   ]
  },
  {
   "cell_type": "markdown",
   "id": "1afd82ef-c692-4c7b-9a76-fe3b9c50bc70",
   "metadata": {},
   "source": [
    "You can now run the simulation with the trainable parameters by passing them to the `nx.integrate` function."
   ]
  },
  {
   "cell_type": "code",
   "execution_count": 27,
   "id": "e7edcfc0-36b0-4fb1-a920-a45dc137aaa3",
   "metadata": {},
   "outputs": [],
   "source": [
    "s = nx.integrate(network, stimuli=stims, recordings=recs, delta_t=dt, params=params)"
   ]
  },
  {
   "cell_type": "markdown",
   "id": "dc005a80-43b3-4ea2-98fd-e7a1e808c15c",
   "metadata": {},
   "source": [
    "### Defining a loss function"
   ]
  },
  {
   "cell_type": "markdown",
   "id": "8cf63516-bdc9-4c7c-bb44-50516611b7ae",
   "metadata": {},
   "source": [
    "Let us define a loss function to be optimized:"
   ]
  },
  {
   "cell_type": "code",
   "execution_count": 29,
   "id": "8406fedd-8b66-48ca-b43b-ae3cd9fa094a",
   "metadata": {},
   "outputs": [],
   "source": [
    "def loss(params):\n",
    "    s = nx.integrate(network, stimuli=stims, recordings=recs, delta_t=dt, params=params)\n",
    "    return jnp.sum(s[0, -1])"
   ]
  },
  {
   "cell_type": "markdown",
   "id": "427865e2-7031-4624-ac81-e4f264eaec7a",
   "metadata": {},
   "source": [
    "And we can use `JAX`'s inbuilt functions to take the gradient through the entire ODE:"
   ]
  },
  {
   "cell_type": "code",
   "execution_count": 31,
   "id": "7d7a8ed8-2c7e-48a1-9a3a-c7f32ae7da12",
   "metadata": {},
   "outputs": [],
   "source": [
    "jitted_grad = jit(value_and_grad(loss))"
   ]
  },
  {
   "cell_type": "code",
   "execution_count": 33,
   "id": "cd65f90e-a57c-4053-a912-39efd13de807",
   "metadata": {},
   "outputs": [],
   "source": [
    "value, gradient = jitted_grad(params)"
   ]
  }
 ],
 "metadata": {
  "kernelspec": {
   "display_name": "jax",
   "language": "python",
   "name": "jax"
  },
  "language_info": {
   "codemirror_mode": {
    "name": "ipython",
    "version": 3
   },
   "file_extension": ".py",
   "mimetype": "text/x-python",
   "name": "python",
   "nbconvert_exporter": "python",
   "pygments_lexer": "ipython3",
   "version": "3.8.12"
  }
 },
 "nbformat": 4,
 "nbformat_minor": 5
}
