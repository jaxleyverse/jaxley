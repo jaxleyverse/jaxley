{
 "cells": [
  {
   "cell_type": "code",
   "execution_count": 1,
   "id": "372e4b14",
   "metadata": {},
   "outputs": [],
   "source": [
    "%load_ext autoreload\n",
    "%autoreload 2"
   ]
  },
  {
   "cell_type": "code",
   "execution_count": 2,
   "id": "f4115ab0",
   "metadata": {},
   "outputs": [],
   "source": [
    "# I have experienced stability issues with float32.\n",
    "from jax.config import config\n",
    "config.update(\"jax_enable_x64\", True)\n",
    "config.update(\"jax_platform_name\", \"cpu\")\n",
    "\n",
    "import os\n",
    "os.environ[\"XLA_PYTHON_CLIENT_MEM_FRACTION\"]=\".8\""
   ]
  },
  {
   "cell_type": "code",
   "execution_count": 3,
   "id": "7e5750b0",
   "metadata": {},
   "outputs": [],
   "source": [
    "import time\n",
    "import matplotlib.pyplot as plt\n",
    "import numpy as np\n",
    "import jax\n",
    "import jax.numpy as jnp\n",
    "from jax import jit, value_and_grad\n",
    "\n",
    "import neurax as nx\n",
    "from neurax.channels import HHChannel\n",
    "from neurax.synapses import GlutamateSynapse"
   ]
  },
  {
   "cell_type": "markdown",
   "id": "160cfd64",
   "metadata": {},
   "source": [
    "### Setup"
   ]
  },
  {
   "cell_type": "code",
   "execution_count": 4,
   "id": "dbed4b73",
   "metadata": {},
   "outputs": [],
   "source": [
    "# Number of segments per branch.\n",
    "nseg_per_branch = 8\n",
    "\n",
    "# Stimulus.\n",
    "i_delay = 3.0  # ms\n",
    "i_amp = 0.05  # nA\n",
    "i_dur = 2.0  # ms\n",
    "\n",
    "# Duration and step size.\n",
    "dt = 0.025  # ms\n",
    "t_max = 50.0  # ms"
   ]
  },
  {
   "cell_type": "code",
   "execution_count": 5,
   "id": "d1558c75",
   "metadata": {},
   "outputs": [],
   "source": [
    "time_vec = jnp.arange(0.0, t_max+dt, dt)"
   ]
  },
  {
   "cell_type": "markdown",
   "id": "01d52597",
   "metadata": {},
   "source": [
    "### Define stimuli and recordings"
   ]
  },
  {
   "cell_type": "code",
   "execution_count": 6,
   "id": "bec2d96c",
   "metadata": {},
   "outputs": [],
   "source": [
    "recs = [nx.Recording(cell_ind, 1, 0.0) for cell_ind in range(5)]\n",
    "stims = [\n",
    "    nx.Stimulus(stim_ind, 1, 0.0, current=nx.step_current(i_delay, i_dur, i_amp, time_vec)) for stim_ind in range(2)\n",
    "]"
   ]
  },
  {
   "cell_type": "markdown",
   "id": "0ed088fe",
   "metadata": {},
   "source": [
    "### Let's define a network"
   ]
  },
  {
   "cell_type": "code",
   "execution_count": 8,
   "id": "6c0f3ae6",
   "metadata": {},
   "outputs": [],
   "source": [
    "comp = nx.Compartment().initialize()\n",
    "branch = nx.Branch([comp for _ in range(nseg_per_branch)]).initialize()\n",
    "cell = nx.Cell([branch for _ in range(5)], parents=jnp.asarray([-1, 0, 0, 1, 1])).initialize()"
   ]
  },
  {
   "cell_type": "code",
   "execution_count": 9,
   "id": "1e9a4448",
   "metadata": {},
   "outputs": [],
   "source": [
    "_ = np.random.seed(0)\n",
    "conn_builder = nx.ConnectivityBuilder([cell.total_nbranches for _ in range(5)])\n",
    "connectivities = [nx.Connectivity(GlutamateSynapse(), conn_builder.fc(np.arange(0, 2), np.arange(2, 5)))]"
   ]
  },
  {
   "cell_type": "code",
   "execution_count": 10,
   "id": "21960188",
   "metadata": {},
   "outputs": [],
   "source": [
    "network = nx.Network([cell for _ in range(5)], connectivities).initialize()"
   ]
  },
  {
   "cell_type": "markdown",
   "id": "ec333324",
   "metadata": {},
   "source": [
    "### Setting parameters"
   ]
  },
  {
   "cell_type": "markdown",
   "id": "4d94041e",
   "metadata": {},
   "source": [
    "Parameters can be set globally or locally. Without any channels, the following parameters can be set: `radius`, `length`, `axial_resistivity`. To set the radius of every compartment in the entire network, do:"
   ]
  },
  {
   "cell_type": "code",
   "execution_count": 11,
   "id": "c56522ac",
   "metadata": {},
   "outputs": [],
   "source": [
    "network.set_params(\"radius\", 0.5)"
   ]
  },
  {
   "cell_type": "markdown",
   "id": "ed6cf416",
   "metadata": {},
   "source": [
    "To change the `length` of all compartment in the first cell, do:"
   ]
  },
  {
   "cell_type": "code",
   "execution_count": 12,
   "id": "784a7faa",
   "metadata": {},
   "outputs": [],
   "source": [
    "network.cell(0).set_params(\"length\", 12.0)"
   ]
  },
  {
   "cell_type": "markdown",
   "id": "a1405d32",
   "metadata": {},
   "source": [
    "### Add mechanisms and change their parameters"
   ]
  },
  {
   "cell_type": "code",
   "execution_count": 13,
   "id": "b188de1d",
   "metadata": {},
   "outputs": [
    {
     "ename": "AssertionError",
     "evalue": "",
     "output_type": "error",
     "traceback": [
      "\u001b[0;31m---------------------------------------------------------------------------\u001b[0m",
      "\u001b[0;31mAssertionError\u001b[0m                            Traceback (most recent call last)",
      "Cell \u001b[0;32mIn[13], line 1\u001b[0m\n\u001b[0;32m----> 1\u001b[0m \u001b[43mnetwork\u001b[49m\u001b[38;5;241;43m.\u001b[39;49m\u001b[43mcell\u001b[49m\u001b[43m(\u001b[49m\u001b[38;5;241;43m0\u001b[39;49m\u001b[43m)\u001b[49m\u001b[38;5;241;43m.\u001b[39;49m\u001b[43minsert\u001b[49m(HHChannel())\n",
      "File \u001b[0;32m~/Documents/multicompartment_collection/neurax/neurax/modules/cell.py:210\u001b[0m, in \u001b[0;36mCellView.__getattr__\u001b[0;34m(self, key)\u001b[0m\n\u001b[1;32m    209\u001b[0m \u001b[38;5;28;01mdef\u001b[39;00m \u001b[38;5;21m__getattr__\u001b[39m(\u001b[38;5;28mself\u001b[39m, key):\n\u001b[0;32m--> 210\u001b[0m     \u001b[38;5;28;01massert\u001b[39;00m key \u001b[38;5;241m==\u001b[39m \u001b[38;5;124m\"\u001b[39m\u001b[38;5;124mbranch\u001b[39m\u001b[38;5;124m\"\u001b[39m\n\u001b[1;32m    211\u001b[0m     \u001b[38;5;28;01mreturn\u001b[39;00m BranchView(\u001b[38;5;28mself\u001b[39m\u001b[38;5;241m.\u001b[39mpointer, \u001b[38;5;28mself\u001b[39m\u001b[38;5;241m.\u001b[39mview)\n",
      "\u001b[0;31mAssertionError\u001b[0m: "
     ]
    }
   ],
   "source": [
    "network.cell(0).insert(HHChannel())"
   ]
  },
  {
   "cell_type": "markdown",
   "id": "1fb00627",
   "metadata": {},
   "source": [
    "If you added channels in your compartments, you can also edit their parameters in the same way. For example, to set the sodium conductance of the first compartment of the second branch of the first cell, do:"
   ]
  },
  {
   "cell_type": "code",
   "execution_count": 12,
   "id": "5c111b28",
   "metadata": {},
   "outputs": [],
   "source": [
    "network.cell(0).branch(1).comp(0).set_params(\"gNa\", 0.2)"
   ]
  },
  {
   "cell_type": "markdown",
   "id": "e3978584",
   "metadata": {},
   "source": [
    "### Setting synaptic parameters"
   ]
  },
  {
   "cell_type": "markdown",
   "id": "2049201a",
   "metadata": {},
   "source": [
    "In the same way, parameters of synapses can be set:"
   ]
  },
  {
   "cell_type": "code",
   "execution_count": 13,
   "id": "aad89af1",
   "metadata": {},
   "outputs": [],
   "source": [
    "network.set_params(\"gS\", 0.2)"
   ]
  },
  {
   "cell_type": "markdown",
   "id": "a44732be",
   "metadata": {},
   "source": [
    "### Setting the initial state"
   ]
  },
  {
   "cell_type": "markdown",
   "id": "91b18756",
   "metadata": {},
   "source": [
    "In the exact same way, you can also set the initial state of any compartment:"
   ]
  },
  {
   "cell_type": "code",
   "execution_count": 14,
   "id": "5483341c",
   "metadata": {},
   "outputs": [],
   "source": [
    "network.cell(1).branch(2).set_states(\"m\", 0.3)"
   ]
  },
  {
   "cell_type": "markdown",
   "id": "28125949",
   "metadata": {},
   "source": [
    "### Inspecting the parameters and states"
   ]
  },
  {
   "cell_type": "markdown",
   "id": "0ff3b08e",
   "metadata": {},
   "source": [
    "You can also inspect parameters and states in the same way. Either for individual states or parameters:"
   ]
  },
  {
   "cell_type": "code",
   "execution_count": 15,
   "id": "80c69e66",
   "metadata": {},
   "outputs": [
    {
     "data": {
      "text/plain": [
       "DeviceArray([0.3], dtype=float64)"
      ]
     },
     "execution_count": 15,
     "metadata": {},
     "output_type": "execute_result"
    }
   ],
   "source": [
    "network.cell(1).branch(2).comp(0).get_states(\"m\")"
   ]
  },
  {
   "cell_type": "markdown",
   "id": "618ce438",
   "metadata": {},
   "source": [
    "or for all parameters/states:"
   ]
  },
  {
   "cell_type": "code",
   "execution_count": 17,
   "id": "4bd8dacd",
   "metadata": {},
   "outputs": [
    {
     "data": {
      "text/html": [
       "<div>\n",
       "<style scoped>\n",
       "    .dataframe tbody tr th:only-of-type {\n",
       "        vertical-align: middle;\n",
       "    }\n",
       "\n",
       "    .dataframe tbody tr th {\n",
       "        vertical-align: top;\n",
       "    }\n",
       "\n",
       "    .dataframe thead th {\n",
       "        text-align: right;\n",
       "    }\n",
       "</style>\n",
       "<table border=\"1\" class=\"dataframe\">\n",
       "  <thead>\n",
       "    <tr style=\"text-align: right;\">\n",
       "      <th></th>\n",
       "      <th>comp_index</th>\n",
       "      <th>branch_index</th>\n",
       "      <th>cell_index</th>\n",
       "      <th>length</th>\n",
       "      <th>radius</th>\n",
       "      <th>axial_resistivity</th>\n",
       "      <th>gNa</th>\n",
       "      <th>gK</th>\n",
       "      <th>gLeak</th>\n",
       "      <th>voltages</th>\n",
       "      <th>m</th>\n",
       "      <th>h</th>\n",
       "      <th>n</th>\n",
       "    </tr>\n",
       "  </thead>\n",
       "  <tbody>\n",
       "    <tr>\n",
       "      <th>56</th>\n",
       "      <td>0</td>\n",
       "      <td>0</td>\n",
       "      <td>0</td>\n",
       "      <td>10.0</td>\n",
       "      <td>0.5</td>\n",
       "      <td>5000.0</td>\n",
       "      <td>0.12</td>\n",
       "      <td>0.036</td>\n",
       "      <td>0.0003</td>\n",
       "      <td>-70.0</td>\n",
       "      <td>0.3</td>\n",
       "      <td>0.2</td>\n",
       "      <td>0.2</td>\n",
       "    </tr>\n",
       "    <tr>\n",
       "      <th>57</th>\n",
       "      <td>1</td>\n",
       "      <td>0</td>\n",
       "      <td>0</td>\n",
       "      <td>10.0</td>\n",
       "      <td>0.5</td>\n",
       "      <td>5000.0</td>\n",
       "      <td>0.12</td>\n",
       "      <td>0.036</td>\n",
       "      <td>0.0003</td>\n",
       "      <td>-70.0</td>\n",
       "      <td>0.3</td>\n",
       "      <td>0.2</td>\n",
       "      <td>0.2</td>\n",
       "    </tr>\n",
       "    <tr>\n",
       "      <th>58</th>\n",
       "      <td>2</td>\n",
       "      <td>0</td>\n",
       "      <td>0</td>\n",
       "      <td>10.0</td>\n",
       "      <td>0.5</td>\n",
       "      <td>5000.0</td>\n",
       "      <td>0.12</td>\n",
       "      <td>0.036</td>\n",
       "      <td>0.0003</td>\n",
       "      <td>-70.0</td>\n",
       "      <td>0.3</td>\n",
       "      <td>0.2</td>\n",
       "      <td>0.2</td>\n",
       "    </tr>\n",
       "    <tr>\n",
       "      <th>59</th>\n",
       "      <td>3</td>\n",
       "      <td>0</td>\n",
       "      <td>0</td>\n",
       "      <td>10.0</td>\n",
       "      <td>0.5</td>\n",
       "      <td>5000.0</td>\n",
       "      <td>0.12</td>\n",
       "      <td>0.036</td>\n",
       "      <td>0.0003</td>\n",
       "      <td>-70.0</td>\n",
       "      <td>0.3</td>\n",
       "      <td>0.2</td>\n",
       "      <td>0.2</td>\n",
       "    </tr>\n",
       "    <tr>\n",
       "      <th>60</th>\n",
       "      <td>4</td>\n",
       "      <td>0</td>\n",
       "      <td>0</td>\n",
       "      <td>10.0</td>\n",
       "      <td>0.5</td>\n",
       "      <td>5000.0</td>\n",
       "      <td>0.12</td>\n",
       "      <td>0.036</td>\n",
       "      <td>0.0003</td>\n",
       "      <td>-70.0</td>\n",
       "      <td>0.3</td>\n",
       "      <td>0.2</td>\n",
       "      <td>0.2</td>\n",
       "    </tr>\n",
       "    <tr>\n",
       "      <th>61</th>\n",
       "      <td>5</td>\n",
       "      <td>0</td>\n",
       "      <td>0</td>\n",
       "      <td>10.0</td>\n",
       "      <td>0.5</td>\n",
       "      <td>5000.0</td>\n",
       "      <td>0.12</td>\n",
       "      <td>0.036</td>\n",
       "      <td>0.0003</td>\n",
       "      <td>-70.0</td>\n",
       "      <td>0.3</td>\n",
       "      <td>0.2</td>\n",
       "      <td>0.2</td>\n",
       "    </tr>\n",
       "    <tr>\n",
       "      <th>62</th>\n",
       "      <td>6</td>\n",
       "      <td>0</td>\n",
       "      <td>0</td>\n",
       "      <td>10.0</td>\n",
       "      <td>0.5</td>\n",
       "      <td>5000.0</td>\n",
       "      <td>0.12</td>\n",
       "      <td>0.036</td>\n",
       "      <td>0.0003</td>\n",
       "      <td>-70.0</td>\n",
       "      <td>0.3</td>\n",
       "      <td>0.2</td>\n",
       "      <td>0.2</td>\n",
       "    </tr>\n",
       "    <tr>\n",
       "      <th>63</th>\n",
       "      <td>7</td>\n",
       "      <td>0</td>\n",
       "      <td>0</td>\n",
       "      <td>10.0</td>\n",
       "      <td>0.5</td>\n",
       "      <td>5000.0</td>\n",
       "      <td>0.12</td>\n",
       "      <td>0.036</td>\n",
       "      <td>0.0003</td>\n",
       "      <td>-70.0</td>\n",
       "      <td>0.3</td>\n",
       "      <td>0.2</td>\n",
       "      <td>0.2</td>\n",
       "    </tr>\n",
       "  </tbody>\n",
       "</table>\n",
       "</div>"
      ],
      "text/plain": [
       "    comp_index  branch_index  cell_index  length  radius  axial_resistivity   \n",
       "56           0             0           0    10.0     0.5             5000.0  \\\n",
       "57           1             0           0    10.0     0.5             5000.0   \n",
       "58           2             0           0    10.0     0.5             5000.0   \n",
       "59           3             0           0    10.0     0.5             5000.0   \n",
       "60           4             0           0    10.0     0.5             5000.0   \n",
       "61           5             0           0    10.0     0.5             5000.0   \n",
       "62           6             0           0    10.0     0.5             5000.0   \n",
       "63           7             0           0    10.0     0.5             5000.0   \n",
       "\n",
       "     gNa     gK   gLeak  voltages    m    h    n  \n",
       "56  0.12  0.036  0.0003     -70.0  0.3  0.2  0.2  \n",
       "57  0.12  0.036  0.0003     -70.0  0.3  0.2  0.2  \n",
       "58  0.12  0.036  0.0003     -70.0  0.3  0.2  0.2  \n",
       "59  0.12  0.036  0.0003     -70.0  0.3  0.2  0.2  \n",
       "60  0.12  0.036  0.0003     -70.0  0.3  0.2  0.2  \n",
       "61  0.12  0.036  0.0003     -70.0  0.3  0.2  0.2  \n",
       "62  0.12  0.036  0.0003     -70.0  0.3  0.2  0.2  \n",
       "63  0.12  0.036  0.0003     -70.0  0.3  0.2  0.2  "
      ]
     },
     "execution_count": 17,
     "metadata": {},
     "output_type": "execute_result"
    }
   ],
   "source": [
    "network.cell(1).branch(2).show()"
   ]
  },
  {
   "cell_type": "markdown",
   "id": "e578f6c7",
   "metadata": {},
   "source": [
    "### Running the simulation with the new parameters"
   ]
  },
  {
   "cell_type": "code",
   "execution_count": null,
   "id": "d6247b5d",
   "metadata": {},
   "outputs": [],
   "source": [
    "s = nx.integrate(network, stimuli=stims, recordings=recs, delta_t=dt)"
   ]
  },
  {
   "cell_type": "code",
   "execution_count": null,
   "id": "ff639a88",
   "metadata": {},
   "outputs": [],
   "source": [
    "fig, ax = plt.subplots(1, 1, figsize=(6.3, 3))\n",
    "for i in range(len(recs)):\n",
    "    _ = ax.plot(time_vec, s[i][:-1], c=\"k\")\n",
    "ax.set_xlabel(\"Time (ms)\")\n",
    "ax.set_ylabel(\"Voltage (mV)\")\n",
    "plt.show()"
   ]
  }
 ],
 "metadata": {
  "kernelspec": {
   "display_name": "Python 3 (ipykernel)",
   "language": "python",
   "name": "python3"
  },
  "language_info": {
   "codemirror_mode": {
    "name": "ipython",
    "version": 3
   },
   "file_extension": ".py",
   "mimetype": "text/x-python",
   "name": "python",
   "nbconvert_exporter": "python",
   "pygments_lexer": "ipython3",
   "version": "3.10.11"
  }
 },
 "nbformat": 4,
 "nbformat_minor": 5
}
