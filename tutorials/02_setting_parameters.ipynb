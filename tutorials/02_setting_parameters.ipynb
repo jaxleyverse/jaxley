{
 "cells": [
  {
   "cell_type": "code",
   "execution_count": 1,
   "id": "c190d686",
   "metadata": {},
   "outputs": [],
   "source": [
    "%load_ext autoreload\n",
    "%autoreload 2"
   ]
  },
  {
   "cell_type": "code",
   "execution_count": 2,
   "id": "7c6f5b46",
   "metadata": {},
   "outputs": [],
   "source": [
    "# I have experienced stability issues with float32.\n",
    "from jax import config\n",
    "config.update(\"jax_enable_x64\", True)\n",
    "config.update(\"jax_platform_name\", \"cpu\")\n",
    "\n",
    "import os\n",
    "os.environ[\"XLA_PYTHON_CLIENT_MEM_FRACTION\"]=\".8\""
   ]
  },
  {
   "cell_type": "code",
   "execution_count": 3,
   "id": "9dd37bad",
   "metadata": {},
   "outputs": [],
   "source": [
    "import time\n",
    "import matplotlib.pyplot as plt\n",
    "import numpy as np\n",
    "import jax\n",
    "import jax.numpy as jnp\n",
    "from jax import jit, value_and_grad\n",
    "\n",
    "import jaxley as jx\n",
    "from jaxley.channels import HHChannel\n",
    "from jaxley.synapses import GlutamateSynapse"
   ]
  },
  {
   "cell_type": "markdown",
   "id": "00f12dcf",
   "metadata": {},
   "source": [
    "### Setup"
   ]
  },
  {
   "cell_type": "code",
   "execution_count": 4,
   "id": "b582ddc5",
   "metadata": {},
   "outputs": [],
   "source": [
    "# Number of segments per branch.\n",
    "nseg_per_branch = 8\n",
    "\n",
    "# Stimulus.\n",
    "i_delay = 3.0  # ms\n",
    "i_amp = 0.05  # nA\n",
    "i_dur = 2.0  # ms\n",
    "\n",
    "# Duration and step size.\n",
    "dt = 0.025  # ms\n",
    "t_max = 50.0  # ms"
   ]
  },
  {
   "cell_type": "code",
   "execution_count": 5,
   "id": "b0e175c4",
   "metadata": {},
   "outputs": [],
   "source": [
    "time_vec = jnp.arange(0.0, t_max+dt, dt)"
   ]
  },
  {
   "cell_type": "markdown",
   "id": "f1aeabc4",
   "metadata": {},
   "source": [
    "### Let's define a network"
   ]
  },
  {
   "cell_type": "code",
   "execution_count": 7,
   "id": "d058f3e1",
   "metadata": {},
   "outputs": [],
   "source": [
    "comp = jx.Compartment()\n",
    "branch = jx.Branch([comp for _ in range(nseg_per_branch)])\n",
    "cell = jx.Cell([branch for _ in range(5)], parents=jnp.asarray([-1, 0, 0, 1, 1]))"
   ]
  },
  {
   "cell_type": "code",
   "execution_count": 8,
   "id": "bb5f92c1",
   "metadata": {},
   "outputs": [],
   "source": [
    "_ = np.random.seed(0)\n",
    "conn_builder = jx.ConnectivityBuilder([cell.total_nbranches for _ in range(5)])\n",
    "connectivities = [jx.Connectivity(GlutamateSynapse(), conn_builder.fc(np.arange(0, 2), np.arange(2, 5)))]"
   ]
  },
  {
   "cell_type": "code",
   "execution_count": 9,
   "id": "1182b303",
   "metadata": {},
   "outputs": [],
   "source": [
    "network = jx.Network([cell for _ in range(5)], connectivities)"
   ]
  },
  {
   "cell_type": "code",
   "execution_count": 10,
   "id": "df476007-92d3-453c-9d75-04fa72ee2414",
   "metadata": {},
   "outputs": [],
   "source": [
    "for cell_ind in range(5):\n",
    "    network.cell(cell_ind).branch(1).comp(0.0).record()\n",
    "\n",
    "current = jx.step_current(i_delay, i_dur, i_amp, dt, t_max)\n",
    "for stim_ind in range(2):\n",
    "    network.cell(stim_ind).branch(1).comp(0.0).stimulate(current)"
   ]
  },
  {
   "cell_type": "markdown",
   "id": "36ef04da",
   "metadata": {},
   "source": [
    "### Setting parameters"
   ]
  },
  {
   "cell_type": "markdown",
   "id": "a7cb50fd",
   "metadata": {},
   "source": [
    "Parameters can be set globally or locally. Without any channels, the following parameters can be set: `radius`, `length`, `axial_resistivity`. To set the radius of every compartment in the entire network, do:"
   ]
  },
  {
   "cell_type": "code",
   "execution_count": 11,
   "id": "10855cd9",
   "metadata": {},
   "outputs": [],
   "source": [
    "network.set_params(\"radius\", 0.5)"
   ]
  },
  {
   "cell_type": "markdown",
   "id": "1e952f3b",
   "metadata": {},
   "source": [
    "To change the `length` of all compartment in the first cell, do:"
   ]
  },
  {
   "cell_type": "code",
   "execution_count": 12,
   "id": "a56e8dea",
   "metadata": {},
   "outputs": [],
   "source": [
    "network.cell(0).set_params(\"length\", 12.0)"
   ]
  },
  {
   "cell_type": "markdown",
   "id": "cd489f9d",
   "metadata": {},
   "source": [
    "### Add mechanisms and change their parameters"
   ]
  },
  {
   "cell_type": "code",
   "execution_count": 13,
   "id": "46407ef6",
   "metadata": {},
   "outputs": [],
   "source": [
    "network.cell(0).branch(0).insert(HHChannel())"
   ]
  },
  {
   "cell_type": "markdown",
   "id": "41f4fb35",
   "metadata": {},
   "source": [
    "If you added channels in your compartments, you can also edit their parameters in the same way. For example, to set the sodium conductance of the first compartment of the second branch of the first cell, do:"
   ]
  },
  {
   "cell_type": "code",
   "execution_count": 14,
   "id": "a8f6fc66",
   "metadata": {},
   "outputs": [],
   "source": [
    "network.cell(0).branch(0).comp(0).set_params(\"gNa\", 0.2)"
   ]
  },
  {
   "cell_type": "markdown",
   "id": "5b2dbac9",
   "metadata": {},
   "source": [
    "### Setting synaptic parameters"
   ]
  },
  {
   "cell_type": "markdown",
   "id": "c164a9c0",
   "metadata": {},
   "source": [
    "In the same way, parameters of synapses can be set:"
   ]
  },
  {
   "cell_type": "code",
   "execution_count": 15,
   "id": "e4c400dd",
   "metadata": {},
   "outputs": [],
   "source": [
    "network.set_params(\"gS\", 0.2)"
   ]
  },
  {
   "cell_type": "markdown",
   "id": "b588d49b",
   "metadata": {},
   "source": [
    "### Setting the initial state"
   ]
  },
  {
   "cell_type": "markdown",
   "id": "5e7cde14",
   "metadata": {},
   "source": [
    "In the exact same way, you can also set the initial state of any compartment:"
   ]
  },
  {
   "cell_type": "code",
   "execution_count": 16,
   "id": "8167b1c6",
   "metadata": {},
   "outputs": [],
   "source": [
    "network.cell(0).branch(0).set_states(\"m\", 0.3)"
   ]
  },
  {
   "cell_type": "markdown",
   "id": "f979d513",
   "metadata": {},
   "source": [
    "### Inspecting the parameters and states"
   ]
  },
  {
   "cell_type": "markdown",
   "id": "a18f2f37",
   "metadata": {},
   "source": [
    "You can also inspect parameters and states in the same way. Either for individual states or parameters:"
   ]
  },
  {
   "cell_type": "code",
   "execution_count": 17,
   "id": "f72f3a8a",
   "metadata": {},
   "outputs": [
    {
     "data": {
      "text/plain": [
       "Array([0.3], dtype=float64, weak_type=True)"
      ]
     },
     "execution_count": 17,
     "metadata": {},
     "output_type": "execute_result"
    }
   ],
   "source": [
    "network.cell(0).branch(0).comp(1).get_states(\"m\")"
   ]
  },
  {
   "cell_type": "markdown",
   "id": "2ba1f4cb",
   "metadata": {},
   "source": [
    "or for all parameters/states:"
   ]
  },
  {
   "cell_type": "code",
   "execution_count": 18,
   "id": "2339f465",
   "metadata": {},
   "outputs": [
    {
     "data": {
      "text/html": [
       "<div>\n",
       "<style scoped>\n",
       "    .dataframe tbody tr th:only-of-type {\n",
       "        vertical-align: middle;\n",
       "    }\n",
       "\n",
       "    .dataframe tbody tr th {\n",
       "        vertical-align: top;\n",
       "    }\n",
       "\n",
       "    .dataframe thead th {\n",
       "        text-align: right;\n",
       "    }\n",
       "</style>\n",
       "<table border=\"1\" class=\"dataframe\">\n",
       "  <thead>\n",
       "    <tr style=\"text-align: right;\">\n",
       "      <th></th>\n",
       "      <th>comp_index</th>\n",
       "      <th>branch_index</th>\n",
       "      <th>cell_index</th>\n",
       "      <th>gNa</th>\n",
       "      <th>gK</th>\n",
       "      <th>gLeak</th>\n",
       "      <th>m</th>\n",
       "      <th>h</th>\n",
       "      <th>n</th>\n",
       "    </tr>\n",
       "  </thead>\n",
       "  <tbody>\n",
       "    <tr>\n",
       "      <th>0</th>\n",
       "      <td>0</td>\n",
       "      <td>0</td>\n",
       "      <td>0</td>\n",
       "      <td>0.12</td>\n",
       "      <td>0.036</td>\n",
       "      <td>0.0003</td>\n",
       "      <td>0.3</td>\n",
       "      <td>0.2</td>\n",
       "      <td>0.2</td>\n",
       "    </tr>\n",
       "    <tr>\n",
       "      <th>1</th>\n",
       "      <td>1</td>\n",
       "      <td>0</td>\n",
       "      <td>0</td>\n",
       "      <td>0.12</td>\n",
       "      <td>0.036</td>\n",
       "      <td>0.0003</td>\n",
       "      <td>0.3</td>\n",
       "      <td>0.2</td>\n",
       "      <td>0.2</td>\n",
       "    </tr>\n",
       "    <tr>\n",
       "      <th>2</th>\n",
       "      <td>2</td>\n",
       "      <td>0</td>\n",
       "      <td>0</td>\n",
       "      <td>0.12</td>\n",
       "      <td>0.036</td>\n",
       "      <td>0.0003</td>\n",
       "      <td>0.3</td>\n",
       "      <td>0.2</td>\n",
       "      <td>0.2</td>\n",
       "    </tr>\n",
       "    <tr>\n",
       "      <th>3</th>\n",
       "      <td>3</td>\n",
       "      <td>0</td>\n",
       "      <td>0</td>\n",
       "      <td>0.12</td>\n",
       "      <td>0.036</td>\n",
       "      <td>0.0003</td>\n",
       "      <td>0.3</td>\n",
       "      <td>0.2</td>\n",
       "      <td>0.2</td>\n",
       "    </tr>\n",
       "    <tr>\n",
       "      <th>4</th>\n",
       "      <td>4</td>\n",
       "      <td>0</td>\n",
       "      <td>0</td>\n",
       "      <td>0.12</td>\n",
       "      <td>0.036</td>\n",
       "      <td>0.0003</td>\n",
       "      <td>0.3</td>\n",
       "      <td>0.2</td>\n",
       "      <td>0.2</td>\n",
       "    </tr>\n",
       "    <tr>\n",
       "      <th>5</th>\n",
       "      <td>5</td>\n",
       "      <td>0</td>\n",
       "      <td>0</td>\n",
       "      <td>0.12</td>\n",
       "      <td>0.036</td>\n",
       "      <td>0.0003</td>\n",
       "      <td>0.3</td>\n",
       "      <td>0.2</td>\n",
       "      <td>0.2</td>\n",
       "    </tr>\n",
       "    <tr>\n",
       "      <th>6</th>\n",
       "      <td>6</td>\n",
       "      <td>0</td>\n",
       "      <td>0</td>\n",
       "      <td>0.12</td>\n",
       "      <td>0.036</td>\n",
       "      <td>0.0003</td>\n",
       "      <td>0.3</td>\n",
       "      <td>0.2</td>\n",
       "      <td>0.2</td>\n",
       "    </tr>\n",
       "    <tr>\n",
       "      <th>7</th>\n",
       "      <td>7</td>\n",
       "      <td>0</td>\n",
       "      <td>0</td>\n",
       "      <td>0.20</td>\n",
       "      <td>0.036</td>\n",
       "      <td>0.0003</td>\n",
       "      <td>0.3</td>\n",
       "      <td>0.2</td>\n",
       "      <td>0.2</td>\n",
       "    </tr>\n",
       "  </tbody>\n",
       "</table>\n",
       "</div>"
      ],
      "text/plain": [
       "   comp_index  branch_index  cell_index   gNa     gK   gLeak    m    h    n\n",
       "0           0             0           0  0.12  0.036  0.0003  0.3  0.2  0.2\n",
       "1           1             0           0  0.12  0.036  0.0003  0.3  0.2  0.2\n",
       "2           2             0           0  0.12  0.036  0.0003  0.3  0.2  0.2\n",
       "3           3             0           0  0.12  0.036  0.0003  0.3  0.2  0.2\n",
       "4           4             0           0  0.12  0.036  0.0003  0.3  0.2  0.2\n",
       "5           5             0           0  0.12  0.036  0.0003  0.3  0.2  0.2\n",
       "6           6             0           0  0.12  0.036  0.0003  0.3  0.2  0.2\n",
       "7           7             0           0  0.20  0.036  0.0003  0.3  0.2  0.2"
      ]
     },
     "execution_count": 18,
     "metadata": {},
     "output_type": "execute_result"
    }
   ],
   "source": [
    "network.show(\"HHChannel\")"
   ]
  },
  {
   "cell_type": "markdown",
   "id": "0d8e8c15",
   "metadata": {},
   "source": [
    "### Running the simulation with the new parameters"
   ]
  },
  {
   "cell_type": "code",
   "execution_count": 19,
   "id": "55f1e96e",
   "metadata": {},
   "outputs": [],
   "source": [
    "s = jx.integrate(network, delta_t=dt)"
   ]
  },
  {
   "cell_type": "code",
   "execution_count": 20,
   "id": "f61c04a2",
   "metadata": {},
   "outputs": [
    {
     "data": {
      "image/png": "[encoded data removed]",
      "text/plain": [
       "<Figure size 630x300 with 1 Axes>"
      ]
     },
     "metadata": {},
     "output_type": "display_data"
    }
   ],
   "source": [
    "fig, ax = plt.subplots(1, 1, figsize=(6.3, 3))\n",
    "for i in range(2):\n",
    "    _ = ax.plot(time_vec, s[i][:-1], c=\"k\")\n",
    "ax.set_xlabel(\"Time (ms)\")\n",
    "ax.set_ylabel(\"Voltage (mV)\")\n",
    "plt.show()"
   ]
  },
  {
   "cell_type": "code",
   "execution_count": null,
   "id": "70d2a7fb-1e34-4c44-84b7-2e3001a55f74",
   "metadata": {},
   "outputs": [],
   "source": []
  }
 ],
 "metadata": {
  "kernelspec": {
   "display_name": "neurax",
   "language": "python",
   "name": "python3"
  },
  "language_info": {
   "codemirror_mode": {
    "name": "ipython",
    "version": 3
   },
   "file_extension": ".py",
   "mimetype": "text/x-python",
   "name": "python",
   "nbconvert_exporter": "python",
   "pygments_lexer": "ipython3",
   "version": "3.10.11"
  }
 },
 "nbformat": 4,
 "nbformat_minor": 5
}
