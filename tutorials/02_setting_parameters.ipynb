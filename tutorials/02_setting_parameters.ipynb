{
 "cells": [
  {
   "cell_type": "code",
   "execution_count": 6,
   "id": "e38051a5-e754-4dc7-9e1c-caa42e340fa3",
   "metadata": {},
   "outputs": [
    {
     "name": "stdout",
     "output_type": "stream",
     "text": [
      "The autoreload extension is already loaded. To reload it, use:\n",
      "  %reload_ext autoreload\n"
     ]
    }
   ],
   "source": [
    "%load_ext autoreload\n",
    "%autoreload 2"
   ]
  },
  {
   "cell_type": "code",
   "execution_count": 7,
   "id": "99a23786",
   "metadata": {},
   "outputs": [],
   "source": [
    "# I have experienced stability issues with float32.\n",
    "from jax.config import config\n",
    "config.update(\"jax_enable_x64\", True)\n",
    "config.update(\"jax_platform_name\", \"cpu\")\n",
    "\n",
    "import os\n",
    "os.environ[\"XLA_PYTHON_CLIENT_MEM_FRACTION\"]=\".8\""
   ]
  },
  {
   "cell_type": "code",
   "execution_count": 8,
   "id": "7490f08b",
   "metadata": {},
   "outputs": [],
   "source": [
    "import time\n",
    "import matplotlib.pyplot as plt\n",
    "import numpy as np\n",
    "import jax\n",
    "import jax.numpy as jnp\n",
    "from jax import jit, value_and_grad\n",
    "\n",
    "import neurax as nx\n",
    "from neurax.channels import HHChannel\n",
    "from neurax.synapses import GlutamateSynapse"
   ]
  },
  {
   "cell_type": "markdown",
   "id": "875c29b9",
   "metadata": {},
   "source": [
    "### Setup"
   ]
  },
  {
   "cell_type": "code",
   "execution_count": 9,
   "id": "200ce0b1",
   "metadata": {},
   "outputs": [],
   "source": [
    "# Number of segments per branch.\n",
    "nseg_per_branch = 8\n",
    "\n",
    "# Stimulus.\n",
    "i_delay = 3.0  # ms\n",
    "i_amp = 0.05  # nA\n",
    "i_dur = 2.0  # ms\n",
    "\n",
    "# Duration and step size.\n",
    "dt = 0.025  # ms\n",
    "t_max = 50.0  # ms"
   ]
  },
  {
   "cell_type": "code",
   "execution_count": 10,
   "id": "72ef3df2",
   "metadata": {},
   "outputs": [],
   "source": [
    "time_vec = jnp.arange(0.0, t_max+dt, dt)"
   ]
  },
  {
   "cell_type": "markdown",
   "id": "1dcda1e9",
   "metadata": {},
   "source": [
    "### Define stimuli and recordings"
   ]
  },
  {
   "cell_type": "code",
   "execution_count": 6,
   "id": "d5706618",
   "metadata": {},
   "outputs": [],
   "source": [
    "recs = [nx.Recording(cell_ind, 1, 0.0) for cell_ind in range(5)]\n",
    "stims = [\n",
    "    nx.Stimulus(stim_ind, 1, 0.0, current=nx.step_current(i_delay, i_dur, i_amp, time_vec)) for stim_ind in range(2)\n",
    "]"
   ]
  },
  {
   "cell_type": "markdown",
   "id": "54072fa0",
   "metadata": {},
   "source": [
    "### Let's define a network"
   ]
  },
  {
   "cell_type": "code",
   "execution_count": 7,
   "id": "9eb9bddf-dc93-420a-a4a9-7b1c9ba296a1",
   "metadata": {},
   "outputs": [],
   "source": [
    "comp = nx.Compartment([HHChannel()]).initialize()\n",
    "branch = nx.Branch([comp for _ in range(nseg_per_branch)]).initialize()\n",
    "cell = nx.Cell([branch for _ in range(5)], parents=jnp.asarray([-1, 0, 0, 1, 1])).initialize()"
   ]
  },
  {
   "cell_type": "code",
   "execution_count": 8,
   "id": "7b55f750",
   "metadata": {},
   "outputs": [],
   "source": [
    "_ = np.random.seed(0)\n",
    "conn_builder = nx.ConnectivityBuilder([cell.total_nbranches for _ in range(5)])\n",
    "connectivities = [nx.Connectivity(GlutamateSynapse(), conn_builder.fc(np.arange(0, 2), np.arange(2, 5)))]"
   ]
  },
  {
   "cell_type": "code",
   "execution_count": 9,
   "id": "d8ea160b",
   "metadata": {},
   "outputs": [],
   "source": [
    "network = nx.Network([cell for _ in range(5)], connectivities).initialize()"
   ]
  },
  {
   "cell_type": "markdown",
   "id": "49225ee5-fbc0-4f08-b5bc-556f08913062",
   "metadata": {},
   "source": [
    "### Setting parameters"
   ]
  },
  {
   "cell_type": "markdown",
   "id": "a29c7241-8981-4844-abd0-7fa8e89c5eae",
   "metadata": {},
   "source": [
    "Parameters can be set globally or locally. Without any channels, the following parameters can be set: `radius`, `length`, `axial_resistivity`. To set the radius of every compartment in the entire network, do:"
   ]
  },
  {
   "cell_type": "code",
   "execution_count": 10,
   "id": "807d7583-fd9c-4ee6-9f7a-22cb224eabd3",
   "metadata": {},
   "outputs": [],
   "source": [
    "network.set_params(\"radius\", 0.5)"
   ]
  },
  {
   "cell_type": "markdown",
   "id": "ac21f118-6c79-4f65-bc4c-4e6594cf66b0",
   "metadata": {},
   "source": [
    "To change the `length` of all compartment in the first cell, do:"
   ]
  },
  {
   "cell_type": "code",
   "execution_count": 11,
   "id": "e6a12663-f26a-430c-83e4-70d35c5f41d2",
   "metadata": {},
   "outputs": [],
   "source": [
    "network.cell(0).set_params(\"length\", 12.0)"
   ]
  },
  {
   "cell_type": "markdown",
   "id": "25d38b15-12b7-4512-9434-0364e3fb0330",
   "metadata": {},
   "source": [
    "If you added channels in your compartments, you can also edit their parameters in the same way. For example, to set the sodium conductance of the first compartment of the second branch of the first cell, do:"
   ]
  },
  {
   "cell_type": "code",
   "execution_count": 13,
   "id": "2ba2b6e0-01eb-4a3d-9f24-da6d9db76b13",
   "metadata": {},
   "outputs": [],
   "source": [
    "network.cell(0).branch(1).comp(0).set_params(\"gNa\", 0.2)"
   ]
  },
  {
   "cell_type": "markdown",
   "id": "17486b98-6344-4b14-89b4-1deab1ba2a82",
   "metadata": {},
   "source": [
    "### Setting synaptic parameters"
   ]
  },
  {
   "cell_type": "markdown",
   "id": "42ee5486-1831-468b-875e-2aa4edf683f9",
   "metadata": {},
   "source": [
    "In the same way, parameters of synapses can be set:"
   ]
  },
  {
   "cell_type": "code",
   "execution_count": 14,
   "id": "d88da0b9-a129-4890-9e71-8b71f3a3c5da",
   "metadata": {},
   "outputs": [],
   "source": [
    "network.set_params(\"gS\", 0.2)"
   ]
  },
  {
   "cell_type": "markdown",
   "id": "717f5399-a5e4-41d5-8541-921df4165d75",
   "metadata": {},
   "source": [
    "### Setting the initial state"
   ]
  },
  {
   "cell_type": "markdown",
   "id": "5c60fe7a-8b76-44be-941f-ef139910b521",
   "metadata": {},
   "source": [
    "In the exact same way, you can also set the initial state of any compartment:"
   ]
  },
  {
   "cell_type": "code",
   "execution_count": 22,
   "id": "2bca1be4-3c9e-4c57-becf-46847ef2395a",
   "metadata": {},
   "outputs": [],
   "source": [
    "network.cell(1).branch(2).set_states(\"m\", 0.3)"
   ]
  },
  {
   "cell_type": "markdown",
   "id": "5bb35112-9eb3-408c-ba80-ed60c7546d3a",
   "metadata": {},
   "source": [
    "### Inspecting the parameters and states"
   ]
  },
  {
   "cell_type": "markdown",
   "id": "7730f669-0f4b-4b1c-949e-bf33456adede",
   "metadata": {},
   "source": [
    "You can also inspect parameters and states in the same way:"
   ]
  },
  {
   "cell_type": "code",
   "execution_count": 23,
   "id": "8784d851-1197-4c67-b69e-604ed46d5a53",
   "metadata": {},
   "outputs": [
    {
     "data": {
      "text/plain": [
       "DeviceArray([0.3], dtype=float64)"
      ]
     },
     "execution_count": 23,
     "metadata": {},
     "output_type": "execute_result"
    }
   ],
   "source": [
    "network.cell(1).branch(2).comp(0).get_states(\"m\")"
   ]
  },
  {
   "cell_type": "markdown",
   "id": "516f8638-934f-4c90-a984-8647415897da",
   "metadata": {},
   "source": [
    "### Running the simulation with the new parameters"
   ]
  },
  {
   "cell_type": "code",
   "execution_count": null,
   "id": "4a0a319a-48df-4560-9764-2ce82f373059",
   "metadata": {},
   "outputs": [],
   "source": [
    "s = nx.integrate(network, stimuli=stims, recordings=recs, delta_t=dt)"
   ]
  },
  {
   "cell_type": "code",
   "execution_count": null,
   "id": "5c33b46a-2ee8-4a5f-9a21-a054aaa8e493",
   "metadata": {},
   "outputs": [],
   "source": [
    "fig, ax = plt.subplots(1, 1, figsize=(6.3, 3))\n",
    "for i in range(len(recs)):\n",
    "    _ = ax.plot(time_vec, s[i][:-1], c=\"k\")\n",
    "ax.set_xlabel(\"Time (ms)\")\n",
    "ax.set_ylabel(\"Voltage (mV)\")\n",
    "plt.show()"
   ]
  }
 ],
 "metadata": {
  "kernelspec": {
   "display_name": "jax",
   "language": "python",
   "name": "jax"
  },
  "language_info": {
   "codemirror_mode": {
    "name": "ipython",
    "version": 3
   },
   "file_extension": ".py",
   "mimetype": "text/x-python",
   "name": "python",
   "nbconvert_exporter": "python",
   "pygments_lexer": "ipython3",
   "version": "3.8.12"
  }
 },
 "nbformat": 4,
 "nbformat_minor": 5
}
