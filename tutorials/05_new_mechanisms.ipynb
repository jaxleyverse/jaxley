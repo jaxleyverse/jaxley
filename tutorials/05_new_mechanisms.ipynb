{
 "cells": [
  {
   "cell_type": "markdown",
   "id": "c19e95c6",
   "metadata": {},
   "source": [
    "# Defining your own mechanisms such as channels and synapses\n",
    "\n",
    "`jaxley` provides an implementation of the standard Hodgkin-Huxley equations and of glutamatergic synapses. In this tutorial, we will explain how you can define your own mechanisms."
   ]
  },
  {
   "cell_type": "code",
   "execution_count": 1,
   "id": "fc245116",
   "metadata": {},
   "outputs": [],
   "source": [
    "%load_ext autoreload\n",
    "%autoreload 2"
   ]
  },
  {
   "cell_type": "code",
   "execution_count": 2,
   "id": "526d09de",
   "metadata": {},
   "outputs": [],
   "source": [
    "# I have experienced stability issues with float32.\n",
    "from jax import config\n",
    "config.update(\"jax_enable_x64\", True)\n",
    "config.update(\"jax_platform_name\", \"cpu\")\n",
    "\n",
    "import os\n",
    "os.environ[\"XLA_PYTHON_CLIENT_MEM_FRACTION\"]=\".8\""
   ]
  },
  {
   "cell_type": "code",
   "execution_count": 3,
   "id": "11544a58",
   "metadata": {},
   "outputs": [
    {
     "ename": "ImportError",
     "evalue": "cannot import name 'prepare_syn' from 'jaxley.utils.syn_utils' (/Users/michaeldeistler/Documents/phd/jaxley/jaxley/utils/syn_utils.py)",
     "output_type": "error",
     "traceback": [
      "\u001b[0;31m---------------------------------------------------------------------------\u001b[0m",
      "\u001b[0;31mImportError\u001b[0m                               Traceback (most recent call last)",
      "Cell \u001b[0;32mIn[3], line 8\u001b[0m\n\u001b[1;32m      5\u001b[0m \u001b[38;5;28;01mimport\u001b[39;00m \u001b[38;5;21;01mjax\u001b[39;00m\u001b[38;5;21;01m.\u001b[39;00m\u001b[38;5;21;01mnumpy\u001b[39;00m \u001b[38;5;28;01mas\u001b[39;00m \u001b[38;5;21;01mjnp\u001b[39;00m\n\u001b[1;32m      6\u001b[0m \u001b[38;5;28;01mfrom\u001b[39;00m \u001b[38;5;21;01mjax\u001b[39;00m \u001b[38;5;28;01mimport\u001b[39;00m jit, value_and_grad\n\u001b[0;32m----> 8\u001b[0m \u001b[38;5;28;01mimport\u001b[39;00m \u001b[38;5;21;01mjaxley\u001b[39;00m \u001b[38;5;28;01mas\u001b[39;00m \u001b[38;5;21;01mjx\u001b[39;00m\n\u001b[1;32m      9\u001b[0m \u001b[38;5;28;01mfrom\u001b[39;00m \u001b[38;5;21;01mjaxley\u001b[39;00m\u001b[38;5;21;01m.\u001b[39;00m\u001b[38;5;21;01mchannels\u001b[39;00m \u001b[38;5;28;01mimport\u001b[39;00m HH\n\u001b[1;32m     10\u001b[0m \u001b[38;5;28;01mfrom\u001b[39;00m \u001b[38;5;21;01mjaxley\u001b[39;00m\u001b[38;5;21;01m.\u001b[39;00m\u001b[38;5;21;01msynapses\u001b[39;00m \u001b[38;5;28;01mimport\u001b[39;00m GlutamateSynapse\n",
      "File \u001b[0;32m~/Documents/phd/jaxley/jaxley/__init__.py:2\u001b[0m\n\u001b[1;32m      1\u001b[0m \u001b[38;5;28;01mfrom\u001b[39;00m \u001b[38;5;21;01mjaxley\u001b[39;00m\u001b[38;5;21;01m.\u001b[39;00m\u001b[38;5;21;01mconnection\u001b[39;00m \u001b[38;5;28;01mimport\u001b[39;00m Connection, Connectivity, ConnectivityBuilder\n\u001b[0;32m----> 2\u001b[0m \u001b[38;5;28;01mfrom\u001b[39;00m \u001b[38;5;21;01mjaxley\u001b[39;00m\u001b[38;5;21;01m.\u001b[39;00m\u001b[38;5;21;01mintegrate\u001b[39;00m \u001b[38;5;28;01mimport\u001b[39;00m integrate\n\u001b[1;32m      3\u001b[0m \u001b[38;5;28;01mfrom\u001b[39;00m \u001b[38;5;21;01mjaxley\u001b[39;00m\u001b[38;5;21;01m.\u001b[39;00m\u001b[38;5;21;01mmodules\u001b[39;00m \u001b[38;5;28;01mimport\u001b[39;00m \u001b[38;5;241m*\u001b[39m\n\u001b[1;32m      4\u001b[0m \u001b[38;5;28;01mfrom\u001b[39;00m \u001b[38;5;21;01mjaxley\u001b[39;00m\u001b[38;5;21;01m.\u001b[39;00m\u001b[38;5;21;01moptimize\u001b[39;00m \u001b[38;5;28;01mimport\u001b[39;00m ParamTransform\n",
      "File \u001b[0;32m~/Documents/phd/jaxley/jaxley/integrate.py:7\u001b[0m\n\u001b[1;32m      4\u001b[0m \u001b[38;5;28;01mimport\u001b[39;00m \u001b[38;5;21;01mjax\u001b[39;00m\u001b[38;5;21;01m.\u001b[39;00m\u001b[38;5;21;01mnumpy\u001b[39;00m \u001b[38;5;28;01mas\u001b[39;00m \u001b[38;5;21;01mjnp\u001b[39;00m\n\u001b[1;32m      5\u001b[0m \u001b[38;5;28;01mimport\u001b[39;00m \u001b[38;5;21;01mpandas\u001b[39;00m \u001b[38;5;28;01mas\u001b[39;00m \u001b[38;5;21;01mpd\u001b[39;00m\n\u001b[0;32m----> 7\u001b[0m \u001b[38;5;28;01mfrom\u001b[39;00m \u001b[38;5;21;01mjaxley\u001b[39;00m\u001b[38;5;21;01m.\u001b[39;00m\u001b[38;5;21;01mmodules\u001b[39;00m \u001b[38;5;28;01mimport\u001b[39;00m Module\n\u001b[1;32m      8\u001b[0m \u001b[38;5;28;01mfrom\u001b[39;00m \u001b[38;5;21;01mjaxley\u001b[39;00m\u001b[38;5;21;01m.\u001b[39;00m\u001b[38;5;21;01mutils\u001b[39;00m\u001b[38;5;21;01m.\u001b[39;00m\u001b[38;5;21;01mjax_utils\u001b[39;00m \u001b[38;5;28;01mimport\u001b[39;00m nested_checkpoint_scan\n\u001b[1;32m     11\u001b[0m \u001b[38;5;28;01mdef\u001b[39;00m \u001b[38;5;21mintegrate\u001b[39m(\n\u001b[1;32m     12\u001b[0m     module: Module,\n\u001b[1;32m     13\u001b[0m     params: List[Dict[\u001b[38;5;28mstr\u001b[39m, jnp\u001b[38;5;241m.\u001b[39mndarray]] \u001b[38;5;241m=\u001b[39m [],\n\u001b[0;32m   (...)\u001b[0m\n\u001b[1;32m     20\u001b[0m     checkpoint_lengths: Optional[List[\u001b[38;5;28mint\u001b[39m]] \u001b[38;5;241m=\u001b[39m \u001b[38;5;28;01mNone\u001b[39;00m,\n\u001b[1;32m     21\u001b[0m ) \u001b[38;5;241m-\u001b[39m\u001b[38;5;241m>\u001b[39m jnp\u001b[38;5;241m.\u001b[39mndarray:\n",
      "File \u001b[0;32m~/Documents/phd/jaxley/jaxley/modules/__init__.py:5\u001b[0m\n\u001b[1;32m      3\u001b[0m \u001b[38;5;28;01mfrom\u001b[39;00m \u001b[38;5;21;01mjaxley\u001b[39;00m\u001b[38;5;21;01m.\u001b[39;00m\u001b[38;5;21;01mmodules\u001b[39;00m\u001b[38;5;21;01m.\u001b[39;00m\u001b[38;5;21;01mcell\u001b[39;00m \u001b[38;5;28;01mimport\u001b[39;00m Cell, read_swc\n\u001b[1;32m      4\u001b[0m \u001b[38;5;28;01mfrom\u001b[39;00m \u001b[38;5;21;01mjaxley\u001b[39;00m\u001b[38;5;21;01m.\u001b[39;00m\u001b[38;5;21;01mmodules\u001b[39;00m\u001b[38;5;21;01m.\u001b[39;00m\u001b[38;5;21;01mcompartment\u001b[39;00m \u001b[38;5;28;01mimport\u001b[39;00m Compartment\n\u001b[0;32m----> 5\u001b[0m \u001b[38;5;28;01mfrom\u001b[39;00m \u001b[38;5;21;01mjaxley\u001b[39;00m\u001b[38;5;21;01m.\u001b[39;00m\u001b[38;5;21;01mmodules\u001b[39;00m\u001b[38;5;21;01m.\u001b[39;00m\u001b[38;5;21;01mnetwork\u001b[39;00m \u001b[38;5;28;01mimport\u001b[39;00m Network\n",
      "File \u001b[0;32m~/Documents/phd/jaxley/jaxley/modules/network.py:17\u001b[0m\n\u001b[1;32m     15\u001b[0m \u001b[38;5;28;01mfrom\u001b[39;00m \u001b[38;5;21;01mjaxley\u001b[39;00m\u001b[38;5;21;01m.\u001b[39;00m\u001b[38;5;21;01mmodules\u001b[39;00m\u001b[38;5;21;01m.\u001b[39;00m\u001b[38;5;21;01mcell\u001b[39;00m \u001b[38;5;28;01mimport\u001b[39;00m Cell, CellView\n\u001b[1;32m     16\u001b[0m \u001b[38;5;28;01mfrom\u001b[39;00m \u001b[38;5;21;01mjaxley\u001b[39;00m\u001b[38;5;21;01m.\u001b[39;00m\u001b[38;5;21;01mutils\u001b[39;00m\u001b[38;5;21;01m.\u001b[39;00m\u001b[38;5;21;01mcell_utils\u001b[39;00m \u001b[38;5;28;01mimport\u001b[39;00m merge_cells\n\u001b[0;32m---> 17\u001b[0m \u001b[38;5;28;01mfrom\u001b[39;00m \u001b[38;5;21;01mjaxley\u001b[39;00m\u001b[38;5;21;01m.\u001b[39;00m\u001b[38;5;21;01mutils\u001b[39;00m\u001b[38;5;21;01m.\u001b[39;00m\u001b[38;5;21;01msyn_utils\u001b[39;00m \u001b[38;5;28;01mimport\u001b[39;00m postsyn_voltage_updates, prepare_syn\n\u001b[1;32m     20\u001b[0m \u001b[38;5;28;01mclass\u001b[39;00m \u001b[38;5;21;01mNetwork\u001b[39;00m(Module):\n\u001b[1;32m     21\u001b[0m \u001b[38;5;250m    \u001b[39m\u001b[38;5;124;03m\"\"\"Network.\"\"\"\u001b[39;00m\n",
      "\u001b[0;31mImportError\u001b[0m: cannot import name 'prepare_syn' from 'jaxley.utils.syn_utils' (/Users/michaeldeistler/Documents/phd/jaxley/jaxley/utils/syn_utils.py)"
     ]
    }
   ],
   "source": [
    "import time\n",
    "import matplotlib.pyplot as plt\n",
    "import numpy as np\n",
    "import jax\n",
    "import jax.numpy as jnp\n",
    "from jax import jit, value_and_grad\n",
    "\n",
    "import jaxley as jx\n",
    "from jaxley.channels import HH\n",
    "from jaxley.synapses import GlutamateSynapse"
   ]
  },
  {
   "cell_type": "markdown",
   "id": "92d45c50",
   "metadata": {},
   "source": [
    "### Setup"
   ]
  },
  {
   "cell_type": "code",
   "execution_count": null,
   "id": "4d7bf8d7",
   "metadata": {},
   "outputs": [],
   "source": [
    "# Number of segments per branch.\n",
    "nseg_per_branch = 8\n",
    "\n",
    "# Stimulus.\n",
    "i_delay = 3.0  # ms\n",
    "i_amp = 0.05  # nA\n",
    "i_dur = 2.0  # ms\n",
    "\n",
    "# Duration and step size.\n",
    "dt = 0.025  # ms\n",
    "t_max = 50.0  # ms\n",
    "\n",
    "time_vec = jnp.arange(0.0, t_max+dt, dt)"
   ]
  },
  {
   "cell_type": "markdown",
   "id": "7db1ea73",
   "metadata": {},
   "source": [
    "### Define a cell"
   ]
  },
  {
   "cell_type": "code",
   "execution_count": null,
   "id": "f84ce2a6",
   "metadata": {},
   "outputs": [],
   "source": [
    "comp = jx.Compartment()\n",
    "branch = jx.Branch(comp, nseg_per_branch)\n",
    "cell = jx.Cell(branch, parents=[-1, 0, 0, 1, 1])"
   ]
  },
  {
   "cell_type": "markdown",
   "id": "dd5ff82c",
   "metadata": {},
   "source": [
    "### Define stimuli and recordings"
   ]
  },
  {
   "cell_type": "code",
   "execution_count": null,
   "id": "1f33136f",
   "metadata": {},
   "outputs": [],
   "source": [
    "cell.branch(0).comp(0.0).record()\n",
    "cell.branch(0).comp(0.0).stimulate(jx.step_current(1.0, 2.0, 0.1, dt, t_max))"
   ]
  },
  {
   "cell_type": "markdown",
   "id": "b4521def",
   "metadata": {},
   "source": [
    "### Your own channel\n",
    "Below is how you can define your own channel. We will go into detail about individual parts of the code in the next couple of cells."
   ]
  },
  {
   "cell_type": "code",
   "execution_count": null,
   "id": "6edc6581",
   "metadata": {},
   "outputs": [],
   "source": [
    "import jax.numpy as jnp\n",
    "from jaxley.channels import Channel\n",
    "from jaxley.solver_gate import solve_gate_exponential\n",
    "\n",
    "\n",
    "def exp_update_alpha(x, y):\n",
    "    return x / (jnp.exp(x / y) - 1.0)\n",
    "\n",
    "class Potassium(Channel):\n",
    "    \"\"\"Potassium channel.\"\"\"\n",
    "\n",
    "    channel_params = {\"gK_new\": 0.06}\n",
    "    channel_states = {\"n_new\": 0.1}\n",
    "\n",
    "    def update_states(self, u, dt, voltages, params):\n",
    "        \"\"\"Update state.\"\"\"\n",
    "        ns = u[\"n_new\"]\n",
    "        alpha = 0.01 * exp_update_alpha(-(voltages + 55), 10)\n",
    "        beta = 0.125 * jnp.exp(-(voltages + 65) / 80)\n",
    "        new_n = solve_gate_exponential(ns, dt, alpha, beta)\n",
    "        return {\"n_new\": new_n}\n",
    "\n",
    "    def compute_current(self, u, voltages, params):\n",
    "        \"\"\"Return current.\"\"\"\n",
    "        ns = u[\"n_new\"]\n",
    "        \n",
    "        # Multiply with 1000 to convert Siemens to milli Siemens.\n",
    "        kd_conds = params[\"gK_new\"] * ns**4 * 1000  # mS/cm^2\n",
    "\n",
    "        e_kd = -77.0        \n",
    "        return kd_conds * (voltages - e_kd)"
   ]
  },
  {
   "cell_type": "markdown",
   "id": "204afb5b",
   "metadata": {},
   "source": [
    "Let's look at each part of this in detail. \n",
    "\n",
    "The below is simply a helper function for the solver of the gate variables:\n",
    "```python\n",
    "def exp_update_alpha(x, y):\n",
    "    return x / (jnp.exp(x / y) - 1.0)\n",
    "```\n",
    "\n",
    "Next, we define our channel as a class. It should inherit from the `Channel` class and define `channel_params` and `channel_states`. The keys of the corresponding dictioniaries (`gK_new` and `n_new`) have to be unique. In other words, do not use the same keys for multiple different channels.\n",
    "```python\n",
    "class Potassium(Channel):\n",
    "    \"\"\"Potassium channel.\"\"\"\n",
    "\n",
    "    channel_params = {\"gK_new\": 0.06}\n",
    "    channel_states = {\"n_new\": 0.1}\n",
    "```\n",
    "\n",
    "Next, we have the `update_states()` method, which updates the gating variables:\n",
    "```python\n",
    "    def update_states(self, u, dt, voltages, params):\n",
    "```\n",
    "\n",
    "The inputs `u` to the `update_states` method is a dictionary which contains all states that are updated (including states of other channels. Let's get the state of the potassium channel which we are building here:\n",
    "```python\n",
    "ns = u[\"n_new\"]\n",
    "```\n",
    "\n",
    "Next, we update the state of the channel. In this example, we do this with exponential Euler, but you can implement any solver yourself:\n",
    "```python\n",
    "alpha = 0.01 * exp_update_alpha(-(voltages + 55), 10)\n",
    "beta = 0.125 * jnp.exp(-(voltages + 65) / 80)\n",
    "new_n = solve_gate_exponential(ns, dt, alpha, beta)\n",
    "return {\"n_new\": new_n}\n",
    "```\n",
    "\n",
    "A channel also needs a `compute_current()` method which returns the current throught the channel:\n",
    "```python\n",
    "    def compute_current(self, u, voltages, params):\n",
    "        ns = u[\"n_new\"]\n",
    "        \n",
    "        # Multiply with 1000 to convert Siemens to milli Siemens.\n",
    "        kd_conds = params[\"gK_new\"] * ns**4 * 1000  # mS/cm^2\n",
    "\n",
    "        e_kd = -77.0        \n",
    "        current = kd_conds * (voltages - e_kd)\n",
    "```"
   ]
  },
  {
   "cell_type": "markdown",
   "id": "c6c17ea2",
   "metadata": {},
   "source": [
    "Alright, done! We can now insert this channel into any `jx.Module` such as our cell:"
   ]
  },
  {
   "cell_type": "code",
   "execution_count": 5,
   "id": "8bc79fc5",
   "metadata": {},
   "outputs": [
    {
     "ename": "NameError",
     "evalue": "name 'cell' is not defined",
     "output_type": "error",
     "traceback": [
      "\u001b[0;31m---------------------------------------------------------------------------\u001b[0m",
      "\u001b[0;31mNameError\u001b[0m                                 Traceback (most recent call last)",
      "Cell \u001b[0;32mIn[5], line 1\u001b[0m\n\u001b[0;32m----> 1\u001b[0m \u001b[43mcell\u001b[49m\u001b[38;5;241m.\u001b[39minsert(Potassium())\n",
      "\u001b[0;31mNameError\u001b[0m: name 'cell' is not defined"
     ]
    }
   ],
   "source": [
    "cell.insert(Potassium())"
   ]
  },
  {
   "cell_type": "code",
   "execution_count": null,
   "id": "f4c678f2",
   "metadata": {},
   "outputs": [],
   "source": [
    "s = jx.integrate(cell, delta_t=dt)"
   ]
  },
  {
   "cell_type": "code",
   "execution_count": 4,
   "id": "1a10abc0",
   "metadata": {},
   "outputs": [
    {
     "ename": "NameError",
     "evalue": "name 'time_vec' is not defined",
     "output_type": "error",
     "traceback": [
      "\u001b[0;31m---------------------------------------------------------------------------\u001b[0m",
      "\u001b[0;31mNameError\u001b[0m                                 Traceback (most recent call last)",
      "Cell \u001b[0;32mIn[4], line 2\u001b[0m\n\u001b[1;32m      1\u001b[0m fig, ax \u001b[38;5;241m=\u001b[39m plt\u001b[38;5;241m.\u001b[39msubplots(\u001b[38;5;241m1\u001b[39m, \u001b[38;5;241m1\u001b[39m, figsize\u001b[38;5;241m=\u001b[39m(\u001b[38;5;241m4\u001b[39m, \u001b[38;5;241m2\u001b[39m))\n\u001b[0;32m----> 2\u001b[0m _ \u001b[38;5;241m=\u001b[39m ax\u001b[38;5;241m.\u001b[39mplot(\u001b[43mtime_vec\u001b[49m, s\u001b[38;5;241m.\u001b[39mT[:\u001b[38;5;241m-\u001b[39m\u001b[38;5;241m1\u001b[39m])\n\u001b[1;32m      3\u001b[0m _ \u001b[38;5;241m=\u001b[39m ax\u001b[38;5;241m.\u001b[39mset_ylim([\u001b[38;5;241m-\u001b[39m\u001b[38;5;241m80\u001b[39m, \u001b[38;5;241m50\u001b[39m])\n\u001b[1;32m      4\u001b[0m _ \u001b[38;5;241m=\u001b[39m ax\u001b[38;5;241m.\u001b[39mset_xlabel(\u001b[38;5;124m\"\u001b[39m\u001b[38;5;124mTime (ms)\u001b[39m\u001b[38;5;124m\"\u001b[39m)\n",
      "\u001b[0;31mNameError\u001b[0m: name 'time_vec' is not defined"
     ]
    },
    {
     "data": {
      "image/png": "[encoded data removed]",
      "text/plain": [
       "<Figure size 400x200 with 1 Axes>"
      ]
     },
     "metadata": {},
     "output_type": "display_data"
    }
   ],
   "source": [
    "fig, ax = plt.subplots(1, 1, figsize=(4, 2))\n",
    "_ = ax.plot(time_vec, s.T[:-1])\n",
    "_ = ax.set_ylim([-80, 50])\n",
    "_ = ax.set_xlabel(\"Time (ms)\")\n",
    "_ = ax.set_ylabel(\"Voltage (mV)\")"
   ]
  },
  {
   "cell_type": "markdown",
   "id": "43c9f1ea",
   "metadata": {},
   "source": [
    "### Your own synapse"
   ]
  },
  {
   "cell_type": "code",
   "execution_count": 23,
   "id": "62c719f9",
   "metadata": {},
   "outputs": [],
   "source": [
    "import jax.numpy as jnp\n",
    "from jaxley.synapses.synapse import Synapse\n",
    "\n",
    "\n",
    "class CholineSynapse(Synapse):\n",
    "    \"\"\"\n",
    "    Compute syanptic current and update syanpse state for Choline receptor.\n",
    "    \"\"\"\n",
    "\n",
    "    synapse_params = {\"gChol\": 1.0, \"e_syn\": 0.0}\n",
    "    synapse_states = {\"s_chol\": 0.1}\n",
    "\n",
    "    def update_states(self, u, delta_t, voltages, params, pre_inds):\n",
    "        \"\"\"Return updated synapse state and current.\"\"\"\n",
    "        v_th = -35.0\n",
    "        delta = 10.0\n",
    "        k_minus = 1.0 / 40.0\n",
    "\n",
    "        s_bar = 1.0 / (1.0 + jnp.exp((v_th - voltages[pre_inds]) / delta))\n",
    "        tau_s = (1.0 - s_bar) / k_minus\n",
    "\n",
    "        s_inf = s_bar\n",
    "        slope = -1.0 / tau_s\n",
    "        exp_term = jnp.exp(slope * delta_t)\n",
    "        new_s = u[\"s_chol\"] * exp_term + s_inf * (1.0 - exp_term)\n",
    "\n",
    "        non_zero_voltage_term = params[\"gChol\"] * u[\"s_chol\"]\n",
    "        non_zero_constant_term = params[\"gChol\"] * u[\"s_chol\"] * params[\"e_syn\"]\n",
    "\n",
    "        return {\"s_chol\": new_s}\n",
    "\n",
    "    def compute_current(self, u, voltages, params, post_inds):\n",
    "        non_zero_voltage_term = params[\"gChol\"] * u[\"s_chol\"]\n",
    "        non_zero_constant_term = params[\"gChol\"] * u[\"s_chol\"] * params[\"e_syn\"]\n",
    "        return non_zero_voltage_term * voltages[post_inds] + non_zero_constant_term"
   ]
  },
  {
   "cell_type": "code",
   "execution_count": 28,
   "id": "cd2079a0",
   "metadata": {},
   "outputs": [],
   "source": [
    "connectivities = [\n",
    "    jx.Connectivity(\n",
    "        CholineSynapse(),\n",
    "        [\n",
    "            jx.Connection(0, 0, 0.0, 1, 0, 0.0),\n",
    "        ]\n",
    "    )\n",
    "]"
   ]
  },
  {
   "cell_type": "code",
   "execution_count": 29,
   "id": "97ee3c49",
   "metadata": {},
   "outputs": [],
   "source": [
    "net = jx.Network([cell for _ in range(3)], connectivities)"
   ]
  },
  {
   "cell_type": "code",
   "execution_count": 30,
   "id": "fc6fd5a2",
   "metadata": {},
   "outputs": [],
   "source": [
    "net.cell(0).branch(0).comp(0.0).stimulate(jx.step_current(1.0, 2.0, 0.1, dt, t_max))\n",
    "for i in range(3):\n",
    "    net.cell(i).branch(0).comp(0.0).record()"
   ]
  },
  {
   "cell_type": "code",
   "execution_count": 31,
   "id": "867f4f38",
   "metadata": {},
   "outputs": [],
   "source": [
    "s = jx.integrate(net, delta_t=dt)"
   ]
  },
  {
   "cell_type": "code",
   "execution_count": 32,
   "id": "01782d18",
   "metadata": {},
   "outputs": [
    {
     "data": {
      "image/png": "[encoded data removed]",
      "text/plain": [
       "<Figure size 400x200 with 1 Axes>"
      ]
     },
     "metadata": {},
     "output_type": "display_data"
    }
   ],
   "source": [
    "fig, ax = plt.subplots(1, 1, figsize=(4, 2))\n",
    "_ = ax.plot(time_vec, s.T[:-1])\n",
    "_ = ax.set_ylim([-80, 50])\n",
    "_ = ax.set_xlabel(\"Time (ms)\")\n",
    "_ = ax.set_ylabel(\"Voltage (mV)\")"
   ]
  },
  {
   "cell_type": "code",
   "execution_count": null,
   "id": "e3af19f7-7b00-4143-afd8-10da6653a69e",
   "metadata": {},
   "outputs": [],
   "source": []
  }
 ],
 "metadata": {
  "kernelspec": {
   "display_name": "Python 3 (ipykernel)",
   "language": "python",
   "name": "python3"
  },
  "language_info": {
   "codemirror_mode": {
    "name": "ipython",
    "version": 3
   },
   "file_extension": ".py",
   "mimetype": "text/x-python",
   "name": "python",
   "nbconvert_exporter": "python",
   "pygments_lexer": "ipython3",
   "version": "3.11.7"
  }
 },
 "nbformat": 4,
 "nbformat_minor": 5
}
