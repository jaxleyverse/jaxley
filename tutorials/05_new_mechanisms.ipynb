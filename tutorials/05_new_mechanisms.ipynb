{
 "cells": [
  {
   "cell_type": "markdown",
   "id": "c19e95c6",
   "metadata": {},
   "source": [
    "# Defining your own mechanisms such as channels and synapses\n",
    "\n",
    "`neurax` provides an implementation of the standard Hodgkin-Huxley equations and of glutamatergic synapses. In this tutorial, we will explain how you can define your own mechanisms."
   ]
  },
  {
   "cell_type": "code",
   "execution_count": 1,
   "id": "fc245116",
   "metadata": {},
   "outputs": [],
   "source": [
    "%load_ext autoreload\n",
    "%autoreload 2"
   ]
  },
  {
   "cell_type": "code",
   "execution_count": 2,
   "id": "526d09de",
   "metadata": {},
   "outputs": [],
   "source": [
    "# I have experienced stability issues with float32.\n",
    "from jax.config import config\n",
    "config.update(\"jax_enable_x64\", True)\n",
    "config.update(\"jax_platform_name\", \"cpu\")\n",
    "\n",
    "import os\n",
    "os.environ[\"XLA_PYTHON_CLIENT_MEM_FRACTION\"]=\".8\""
   ]
  },
  {
   "cell_type": "code",
   "execution_count": 3,
   "id": "11544a58",
   "metadata": {},
   "outputs": [],
   "source": [
    "import time\n",
    "import matplotlib.pyplot as plt\n",
    "import numpy as np\n",
    "import jax\n",
    "import jax.numpy as jnp\n",
    "from jax import jit, value_and_grad\n",
    "\n",
    "import neurax as nx\n",
    "from neurax.channels import HHChannel\n",
    "from neurax.synapses import GlutamateSynapse"
   ]
  },
  {
   "cell_type": "markdown",
   "id": "92d45c50",
   "metadata": {},
   "source": [
    "### Setup"
   ]
  },
  {
   "cell_type": "code",
   "execution_count": 4,
   "id": "4d7bf8d7",
   "metadata": {},
   "outputs": [],
   "source": [
    "# Number of segments per branch.\n",
    "nseg_per_branch = 8\n",
    "\n",
    "# Stimulus.\n",
    "i_delay = 3.0  # ms\n",
    "i_amp = 0.05  # nA\n",
    "i_dur = 2.0  # ms\n",
    "\n",
    "# Duration and step size.\n",
    "dt = 0.025  # ms\n",
    "t_max = 50.0  # ms\n",
    "\n",
    "time_vec = jnp.arange(0.0, t_max+dt, dt)"
   ]
  },
  {
   "cell_type": "markdown",
   "id": "7db1ea73",
   "metadata": {},
   "source": [
    "### Define a cell"
   ]
  },
  {
   "cell_type": "code",
   "execution_count": 47,
   "id": "f84ce2a6",
   "metadata": {},
   "outputs": [],
   "source": [
    "comp = nx.Compartment()\n",
    "branch = nx.Branch([comp for _ in range(nseg_per_branch)])\n",
    "cell = nx.Cell([branch for _ in range(5)], parents=jnp.asarray([-1, 0, 0, 1, 1]))"
   ]
  },
  {
   "cell_type": "markdown",
   "id": "dd5ff82c",
   "metadata": {},
   "source": [
    "### Define stimuli and recordings"
   ]
  },
  {
   "cell_type": "code",
   "execution_count": 48,
   "id": "1f33136f",
   "metadata": {},
   "outputs": [],
   "source": [
    "stims = [nx.Stimulus(0, 0, 0.0, nx.step_current(1.0, 2.0, 0.1, time_vec))]\n",
    "recs = [nx.Recording(0, 0, 0.0)]"
   ]
  },
  {
   "cell_type": "markdown",
   "id": "b4521def",
   "metadata": {},
   "source": [
    "### Your own channel\n",
    "Below is how you can define your own channel. We will go into detail about individual parts of the code in the next couple of cells."
   ]
  },
  {
   "cell_type": "code",
   "execution_count": 49,
   "id": "6edc6581",
   "metadata": {},
   "outputs": [],
   "source": [
    "import jax.numpy as jnp\n",
    "from neurax.channels import Channel\n",
    "from neurax.solver_gate import solve_gate_exponential\n",
    "\n",
    "\n",
    "def exp_update_alpha(x, y):\n",
    "    return x / (jnp.exp(x / y) - 1.0)\n",
    "\n",
    "class Potassium(Channel):\n",
    "    \"\"\"Potassium channel.\"\"\"\n",
    "\n",
    "    channel_params = {\"gK_new\": 0.06}\n",
    "    channel_states = {\"n_new\": 0.1}\n",
    "\n",
    "    @staticmethod\n",
    "    def step(u, dt, voltages, params):\n",
    "        \"\"\"Return updated HH channel state and current.\"\"\"\n",
    "        ns = u[\"n_new\"]\n",
    "        alpha = 0.01 * exp_update_alpha(-(voltages + 55), 10)\n",
    "        beta = 0.125 * jnp.exp(-(voltages + 65) / 80)\n",
    "        new_n = solve_gate_exponential(ns, dt, alpha, beta)\n",
    "\n",
    "        # Multiply with 1000 to convert Siemens to milli Siemens.\n",
    "        kd_conds = params[\"gK_new\"] * new_n**4 * 1000  # mS/cm^2\n",
    "\n",
    "        e_kd = -77.0        \n",
    "        current = kd_conds * (e_kd - voltages)\n",
    "\n",
    "        return {\"n_new\": new_n}, (jnp.zeros_like(current), current)"
   ]
  },
  {
   "cell_type": "markdown",
   "id": "204afb5b",
   "metadata": {},
   "source": [
    "Let's look at each part of this in detail. \n",
    "\n",
    "The below is simply a helper function for the solver of the gate variables:\n",
    "```python\n",
    "def exp_update_alpha(x, y):\n",
    "    return x / (jnp.exp(x / y) - 1.0)\n",
    "```\n",
    "\n",
    "Next, we define our channel as a class. It should inherit from the `Channel` class and define `channel_params` and `channel_states`. The keys of the corresponding dictioniaries (`gK_new` and `n_new`) have to be unique. In other words, do not use the same keys for multiple different channels.\n",
    "```python\n",
    "class Potassium(Channel):\n",
    "    \"\"\"Potassium channel.\"\"\"\n",
    "\n",
    "    channel_params = {\"gK_new\": 0.06}\n",
    "    channel_states = {\"n_new\": 0.1}\n",
    "```\n",
    "\n",
    "Next, we have the `step()` method, which updates the gating variables and returns the current through this channel:\n",
    "```python\n",
    "@staticmethod\n",
    "def step(u, dt, voltages, params):\n",
    "    \"\"\"Return updated HH channel state and current.\"\"\"\n",
    "```\n",
    "\n",
    "The inputs `u` to the `step` method is a dictionary which contains all states that are updated (including states of other channels. Let's get the state of the potassium channel which we are building here:\n",
    "```python\n",
    "ns = u[\"n_new\"]\n",
    "```\n",
    "\n",
    "Next, we update the state of the channel. In this example, we do this with exponential Euler, but you can implement any solver yourself:\n",
    "```python\n",
    "alpha = 0.01 * exp_update_alpha(-(voltages + 55), 10)\n",
    "beta = 0.125 * jnp.exp(-(voltages + 65) / 80)\n",
    "new_n = solve_gate_exponential(ns, dt, alpha, beta)\n",
    "```\n",
    "\n",
    "We then compute the current through this channel:\n",
    "```python\n",
    "# Multiply with 1000 to convert Siemens to milli Siemens.\n",
    "kd_conds = params[\"gK_new\"] * new_n**4 * 1000  # mS/cm^2\n",
    "\n",
    "e_kd = -77.0        \n",
    "current = kd_conds * (e_kd - voltages)\n",
    "```\n",
    "\n",
    "Finally, we return the updated state and the current. Please copy the `jnp.zeros_like` to any new channel you are defining. We will remove the need to return this in the future.\n",
    "```python\n",
    "return {\"n_new\": new_n}, (jnp.zeros_like(current), current)\n",
    "```"
   ]
  },
  {
   "cell_type": "markdown",
   "id": "c6c17ea2",
   "metadata": {},
   "source": [
    "Alright, done! We can now insert this channel into any `nx.Module` such as our cell:"
   ]
  },
  {
   "cell_type": "code",
   "execution_count": 50,
   "id": "8bc79fc5",
   "metadata": {},
   "outputs": [],
   "source": [
    "cell.insert(Potassium())"
   ]
  },
  {
   "cell_type": "code",
   "execution_count": 51,
   "id": "f4c678f2",
   "metadata": {},
   "outputs": [],
   "source": [
    "s = nx.integrate(cell, stims, recs)"
   ]
  },
  {
   "cell_type": "code",
   "execution_count": 20,
   "id": "1a10abc0",
   "metadata": {},
   "outputs": [
    {
     "data": {
      "image/png": "[encoded data removed]",
      "text/plain": [
       "<Figure size 400x200 with 1 Axes>"
      ]
     },
     "metadata": {},
     "output_type": "display_data"
    }
   ],
   "source": [
    "fig, ax = plt.subplots(1, 1, figsize=(4, 2))\n",
    "_ = ax.plot(time_vec, s.T[:-1])\n",
    "_ = ax.set_ylim([-80, 50])\n",
    "_ = ax.set_xlabel(\"Time (ms)\")\n",
    "_ = ax.set_ylabel(\"Voltage (mV)\")"
   ]
  },
  {
   "cell_type": "markdown",
   "id": "43c9f1ea",
   "metadata": {},
   "source": [
    "### Your own synapse"
   ]
  },
  {
   "cell_type": "markdown",
   "id": "747ff436",
   "metadata": {},
   "source": [
    "### Warning: this tutorial will still be revised."
   ]
  },
  {
   "cell_type": "code",
   "execution_count": 58,
   "id": "62c719f9",
   "metadata": {},
   "outputs": [],
   "source": [
    "import jax.numpy as jnp\n",
    "from neurax.synapses.synapse import Synapse\n",
    "\n",
    "\n",
    "class CholineSynapse(Synapse):\n",
    "    \"\"\"\n",
    "    Compute syanptic current and update syanpse state for Choline receptor.\n",
    "    \"\"\"\n",
    "\n",
    "    synapse_params = {\"gChol\": 1.0}\n",
    "    synapse_states = {\"s_chol\": 0.1}\n",
    "\n",
    "    @staticmethod\n",
    "    def step(\n",
    "        u, delta_t, voltages, params, pre_inds):\n",
    "        \"\"\"Return updated synapse state and current.\"\"\"\n",
    "        e_syn = 0.0\n",
    "        v_th = -35.0\n",
    "        delta = 10.0\n",
    "        k_minus = 1.0 / 40.0\n",
    "\n",
    "        s_bar = 1.0 / (1.0 + jnp.exp((v_th - voltages[pre_inds]) / delta))\n",
    "        tau_s = (1.0 - s_bar) / k_minus\n",
    "\n",
    "        s_inf = s_bar\n",
    "        slope = -1.0 / tau_s\n",
    "        exp_term = jnp.exp(slope * delta_t)\n",
    "        new_s = u[\"s_chol\"] * exp_term + s_inf * (1.0 - exp_term)\n",
    "\n",
    "        non_zero_voltage_term = params[\"gChol\"] * u[\"s_chol\"]\n",
    "        non_zero_constant_term = params[\"gChol\"] * u[\"s_chol\"] * e_syn\n",
    "\n",
    "        return {\"s_chol\": new_s}, (non_zero_voltage_term, non_zero_constant_term)\n"
   ]
  },
  {
   "cell_type": "code",
   "execution_count": 59,
   "id": "cd2079a0",
   "metadata": {},
   "outputs": [],
   "source": [
    "connectivities = [\n",
    "    nx.Connectivity(\n",
    "        CholineSynapse,\n",
    "        [\n",
    "            nx.Connection(0, 0, 0.0, 1, 0, 0.0),\n",
    "        ]\n",
    "    )\n",
    "]"
   ]
  },
  {
   "cell_type": "code",
   "execution_count": 60,
   "id": "97ee3c49",
   "metadata": {},
   "outputs": [],
   "source": [
    "net = nx.Network([cell for _ in range(3)], connectivities)"
   ]
  },
  {
   "cell_type": "code",
   "execution_count": 61,
   "id": "fc6fd5a2",
   "metadata": {},
   "outputs": [],
   "source": [
    "stims = [nx.Stimulus(0, 0, 0.0, nx.step_current(1.0, 2.0, 0.1, time_vec))]\n",
    "recs = [nx.Recording(i, 0, 0.0) for i in range(3)]"
   ]
  },
  {
   "cell_type": "code",
   "execution_count": 62,
   "id": "867f4f38",
   "metadata": {},
   "outputs": [],
   "source": [
    "s = nx.integrate(net, stims, recs)"
   ]
  },
  {
   "cell_type": "code",
   "execution_count": 63,
   "id": "01782d18",
   "metadata": {},
   "outputs": [
    {
     "data": {
      "image/png": "[encoded data removed]",
      "text/plain": [
       "<Figure size 400x200 with 1 Axes>"
      ]
     },
     "metadata": {},
     "output_type": "display_data"
    }
   ],
   "source": [
    "fig, ax = plt.subplots(1, 1, figsize=(4, 2))\n",
    "_ = ax.plot(time_vec, s.T[:-1])\n",
    "_ = ax.set_ylim([-80, 50])\n",
    "_ = ax.set_xlabel(\"Time (ms)\")\n",
    "_ = ax.set_ylabel(\"Voltage (mV)\")"
   ]
  }
 ],
 "metadata": {
  "kernelspec": {
   "display_name": "jax",
   "language": "python",
   "name": "jax"
  },
  "language_info": {
   "codemirror_mode": {
    "name": "ipython",
    "version": 3
   },
   "file_extension": ".py",
   "mimetype": "text/x-python",
   "name": "python",
   "nbconvert_exporter": "python",
   "pygments_lexer": "ipython3",
   "version": "3.8.12"
  }
 },
 "nbformat": 4,
 "nbformat_minor": 5
}
