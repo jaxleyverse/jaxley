{
 "cells": [
  {
   "cell_type": "code",
   "execution_count": 1,
   "id": "8db8c4da",
   "metadata": {},
   "outputs": [],
   "source": [
    "%load_ext autoreload\n",
    "%autoreload 2"
   ]
  },
  {
   "cell_type": "code",
   "execution_count": 2,
   "id": "228a765f",
   "metadata": {},
   "outputs": [
    {
     "name": "stderr",
     "output_type": "stream",
     "text": [
      "Warning: no DISPLAY environment variable.\n",
      "--No graphics will be displayed.\n"
     ]
    }
   ],
   "source": [
    "import time\n",
    "import matplotlib.pyplot as plt\n",
    "import matplotlib as mpl\n",
    "import numpy as np\n",
    "\n",
    "from neuron import h\n",
    "\n",
    "_ = h.load_file(\"stdlib.hoc\")\n",
    "_ = h.load_file(\"import3d.hoc\")"
   ]
  },
  {
   "cell_type": "code",
   "execution_count": 3,
   "id": "4db123aa",
   "metadata": {},
   "outputs": [],
   "source": [
    "h.secondorder = 0"
   ]
  },
  {
   "cell_type": "code",
   "execution_count": 4,
   "id": "496eb2b2",
   "metadata": {},
   "outputs": [],
   "source": [
    "i_delay = 3.0  # ms\n",
    "i_amp = 1.0  # nA\n",
    "i_dur = 2.0  # ms\n",
    "\n",
    "dt = 0.025  # ms\n",
    "t_max = 10.0  # ms\n",
    "\n",
    "time_vec = np.arange(0.0, t_max+2*dt, dt)\n",
    "h.dt = dt"
   ]
  },
  {
   "cell_type": "markdown",
   "id": "4e230f60",
   "metadata": {},
   "source": [
    "### Compartment"
   ]
  },
  {
   "cell_type": "code",
   "execution_count": 5,
   "id": "e45a4075",
   "metadata": {},
   "outputs": [],
   "source": [
    "for sec in h.allsec():\n",
    "    h.delete_section(sec=sec)\n",
    "\n",
    "comp = h.Section()"
   ]
  },
  {
   "cell_type": "code",
   "execution_count": 6,
   "id": "9b9a2332",
   "metadata": {},
   "outputs": [],
   "source": [
    "comp.nseg = 1\n",
    "\n",
    "comp.Ra = 1_000.0\n",
    "comp.L = 10.0\n",
    "comp.diam = 20.0\n",
    "\n",
    "comp.insert(\"hh\")\n",
    "comp.gnabar_hh = 0.120  # S/cm2\n",
    "comp.gkbar_hh = 0.036  # S/cm2\n",
    "comp.gl_hh = 0.0003  # S/cm2\n",
    "comp.ena = 50  # mV\n",
    "comp.ek = -77.0  # mV\n",
    "comp.el_hh = -54.3  # mV"
   ]
  },
  {
   "cell_type": "code",
   "execution_count": 7,
   "id": "b20e0594",
   "metadata": {},
   "outputs": [
    {
     "data": {
      "text/plain": [
       "Vector[0]"
      ]
     },
     "execution_count": 7,
     "metadata": {},
     "output_type": "execute_result"
    }
   ],
   "source": [
    "stim = h.IClamp(comp(0.0))\n",
    "stim.delay = i_delay\n",
    "stim.dur = i_dur\n",
    "stim.amp = i_amp\n",
    "\n",
    "voltage1 = h.Vector()\n",
    "voltage1.record(comp(0.0)._ref_v)"
   ]
  },
  {
   "cell_type": "code",
   "execution_count": 8,
   "id": "da30d7ef",
   "metadata": {},
   "outputs": [],
   "source": [
    "v_init = -62.0\n",
    "def initialize():\n",
    "    h.finitialize(v_init)\n",
    "    h.fcurrent()\n",
    "    \n",
    "def integrate():\n",
    "    while h.t < t_max:\n",
    "        h.fadvance()"
   ]
  },
  {
   "cell_type": "code",
   "execution_count": 9,
   "id": "ebf9def4",
   "metadata": {},
   "outputs": [],
   "source": [
    "initialize()"
   ]
  },
  {
   "cell_type": "code",
   "execution_count": 10,
   "id": "8d9f98dc",
   "metadata": {},
   "outputs": [
    {
     "name": "stdout",
     "output_type": "stream",
     "text": [
      "0.07490098835688629\n",
      "0.488947681848153\n",
      "0.3644787002343737\n"
     ]
    }
   ],
   "source": [
    "print(comp.m_hh)\n",
    "print(comp.h_hh)\n",
    "print(comp.n_hh)"
   ]
  },
  {
   "cell_type": "code",
   "execution_count": 11,
   "id": "6e68720d",
   "metadata": {},
   "outputs": [],
   "source": [
    "integrate()"
   ]
  },
  {
   "cell_type": "code",
   "execution_count": 12,
   "id": "c8bd8142",
   "metadata": {},
   "outputs": [
    {
     "data": {
      "image/png": "[encoded data removed]",
      "text/plain": [
       "<Figure size 500x300 with 1 Axes>"
      ]
     },
     "metadata": {},
     "output_type": "display_data"
    }
   ],
   "source": [
    "fig, ax = plt.subplots(1, 1, figsize=(5, 3))\n",
    "_ = ax.plot(list(voltage1))\n",
    "_ = ax.set_ylim([-80, 100])"
   ]
  },
  {
   "cell_type": "markdown",
   "id": "cad35205",
   "metadata": {},
   "source": [
    "### Branch"
   ]
  },
  {
   "cell_type": "code",
   "execution_count": 13,
   "id": "f876d0f6",
   "metadata": {},
   "outputs": [],
   "source": [
    "nseg_per_branch = 8"
   ]
  },
  {
   "cell_type": "code",
   "execution_count": 14,
   "id": "0d2ee5d3",
   "metadata": {},
   "outputs": [],
   "source": [
    "for sec in h.allsec():\n",
    "    h.delete_section(sec=sec)\n",
    "\n",
    "branch = h.Section()"
   ]
  },
  {
   "cell_type": "code",
   "execution_count": 15,
   "id": "6d9e0440",
   "metadata": {},
   "outputs": [],
   "source": [
    "branch.nseg = nseg_per_branch\n",
    "\n",
    "branch.Ra = 1_000.0\n",
    "\n",
    "branch.L = 10.0 * nseg_per_branch\n",
    "branch.diam = 2 * 3.0\n",
    "\n",
    "branch.insert(\"hh\")\n",
    "branch.gnabar_hh = 0.120  # S/cm2\n",
    "branch.gkbar_hh = 0.036  # S/cm2\n",
    "branch.gl_hh = 0.0003  # S/cm2\n",
    "branch.ena = 50  # mV\n",
    "branch.ek = -77.0  # mV\n",
    "branch.el_hh = -54.3  # mV"
   ]
  },
  {
   "cell_type": "code",
   "execution_count": 16,
   "id": "2408e475",
   "metadata": {},
   "outputs": [
    {
     "data": {
      "text/plain": [
       "Vector[2]"
      ]
     },
     "execution_count": 16,
     "metadata": {},
     "output_type": "execute_result"
    }
   ],
   "source": [
    "stim = h.IClamp(branch(0.0))\n",
    "stim.delay = i_delay\n",
    "stim.dur = i_dur\n",
    "stim.amp = i_amp\n",
    "\n",
    "voltage1 = h.Vector()\n",
    "voltage1.record(branch(0.0)._ref_v)\n",
    "voltage2 = h.Vector()\n",
    "voltage2.record(branch(1.0)._ref_v)"
   ]
  },
  {
   "cell_type": "code",
   "execution_count": 17,
   "id": "4d9692e7",
   "metadata": {},
   "outputs": [],
   "source": [
    "v_init = -62.0\n",
    "def initialize():\n",
    "    h.finitialize(v_init)\n",
    "    h.fcurrent()\n",
    "    \n",
    "def integrate():\n",
    "    while h.t < t_max:\n",
    "        h.fadvance()"
   ]
  },
  {
   "cell_type": "code",
   "execution_count": 18,
   "id": "7d57b252",
   "metadata": {},
   "outputs": [],
   "source": [
    "initialize()"
   ]
  },
  {
   "cell_type": "code",
   "execution_count": 19,
   "id": "f55b7c8c",
   "metadata": {},
   "outputs": [],
   "source": [
    "integrate()"
   ]
  },
  {
   "cell_type": "code",
   "execution_count": 20,
   "id": "9423daaa",
   "metadata": {},
   "outputs": [
    {
     "data": {
      "image/png": "[encoded data removed]",
      "text/plain": [
       "<Figure size 500x300 with 1 Axes>"
      ]
     },
     "metadata": {},
     "output_type": "display_data"
    }
   ],
   "source": [
    "fig, ax = plt.subplots(1, 1, figsize=(5, 3))\n",
    "_ = ax.plot(list(voltage1))\n",
    "_ = ax.plot(list(voltage2))\n",
    "_ = ax.set_ylim([-80, 100])\n",
    "ax.grid()"
   ]
  },
  {
   "cell_type": "markdown",
   "id": "f83b859e",
   "metadata": {},
   "source": [
    "### Branch with unequal radiuses"
   ]
  },
  {
   "cell_type": "code",
   "execution_count": 146,
   "id": "4b604e1d",
   "metadata": {},
   "outputs": [],
   "source": [
    "nseg_per_branch = 8"
   ]
  },
  {
   "cell_type": "code",
   "execution_count": 147,
   "id": "ff34f355",
   "metadata": {},
   "outputs": [],
   "source": [
    "for sec in h.allsec():\n",
    "    h.delete_section(sec=sec)\n",
    "\n",
    "branch = h.Section()"
   ]
  },
  {
   "cell_type": "code",
   "execution_count": 148,
   "id": "c6ff4be3",
   "metadata": {},
   "outputs": [],
   "source": [
    "branch.nseg = nseg_per_branch\n",
    "\n",
    "branch.Ra = 1_000.0\n",
    "\n",
    "branch.L = 10.0 * nseg_per_branch\n",
    "\n",
    "radiuses = np.linspace(3.0, 15.0, nseg_per_branch)\n",
    "for i, comp in enumerate(branch):\n",
    "    comp.diam = 2 * radiuses[i]\n",
    "\n",
    "branch.insert(\"hh\")\n",
    "branch.gnabar_hh = 0.120  # S/cm2\n",
    "branch.gkbar_hh = 0.036  # S/cm2\n",
    "branch.gl_hh = 0.0003  # S/cm2\n",
    "branch.ena = 50  # mV\n",
    "branch.ek = -77.0  # mV\n",
    "branch.el_hh = -54.3  # mV"
   ]
  },
  {
   "cell_type": "code",
   "execution_count": 149,
   "id": "d6c3046f",
   "metadata": {},
   "outputs": [
    {
     "data": {
      "text/plain": [
       "Vector[47]"
      ]
     },
     "execution_count": 149,
     "metadata": {},
     "output_type": "execute_result"
    }
   ],
   "source": [
    "stim = h.IClamp(branch(0.12))\n",
    "stim.delay = i_delay\n",
    "stim.dur = i_dur\n",
    "stim.amp = i_amp\n",
    "\n",
    "voltage1 = h.Vector()\n",
    "voltage1.record(branch(0.0)._ref_v)\n",
    "voltage2 = h.Vector()\n",
    "voltage2.record(branch(1.0)._ref_v)"
   ]
  },
  {
   "cell_type": "code",
   "execution_count": 150,
   "id": "55bcd75b",
   "metadata": {},
   "outputs": [],
   "source": [
    "v_init = -62.0\n",
    "def initialize():\n",
    "    h.finitialize(v_init)\n",
    "    h.fcurrent()\n",
    "    \n",
    "def integrate():\n",
    "    while h.t < t_max:\n",
    "        h.fadvance()"
   ]
  },
  {
   "cell_type": "code",
   "execution_count": 151,
   "id": "77327bc6",
   "metadata": {},
   "outputs": [],
   "source": [
    "initialize()\n",
    "integrate()"
   ]
  },
  {
   "cell_type": "code",
   "execution_count": 136,
   "id": "3302b4fd",
   "metadata": {},
   "outputs": [
    {
     "data": {
      "image/png": "[encoded data removed]",
      "text/plain": [
       "<Figure size 500x300 with 1 Axes>"
      ]
     },
     "metadata": {},
     "output_type": "display_data"
    }
   ],
   "source": [
    "fig, ax = plt.subplots(1, 1, figsize=(5, 3))\n",
    "_ = ax.plot(time_vec, list(voltage1))\n",
    "_ = ax.plot(time_vec, list(voltage2))\n",
    "_ = ax.set_ylim([-80, 100])\n",
    "ax.grid()"
   ]
  },
  {
   "cell_type": "code",
   "execution_count": 152,
   "id": "815e01d4",
   "metadata": {},
   "outputs": [
    {
     "data": {
      "image/png": "[encoded data removed]",
      "text/plain": [
       "<Figure size 500x300 with 1 Axes>"
      ]
     },
     "metadata": {},
     "output_type": "display_data"
    }
   ],
   "source": [
    "fig, ax = plt.subplots(1, 1, figsize=(5, 3))\n",
    "_ = ax.plot(time_vec, list(voltage1))\n",
    "_ = ax.plot(time_vec, list(voltage2))\n",
    "_ = ax.set_ylim([-80, 100])\n",
    "ax.grid()"
   ]
  },
  {
   "cell_type": "markdown",
   "id": "71440265",
   "metadata": {},
   "source": [
    "### Cell"
   ]
  },
  {
   "cell_type": "code",
   "execution_count": 52,
   "id": "902034ec",
   "metadata": {},
   "outputs": [],
   "source": [
    "nseg_per_branch = 8"
   ]
  },
  {
   "cell_type": "code",
   "execution_count": 53,
   "id": "77a85551",
   "metadata": {},
   "outputs": [
    {
     "data": {
      "text/plain": [
       "__nrnsec_0x3ac1d70"
      ]
     },
     "execution_count": 53,
     "metadata": {},
     "output_type": "execute_result"
    }
   ],
   "source": [
    "for sec in h.allsec():\n",
    "    h.delete_section(sec=sec)\n",
    "\n",
    "branch1 = h.Section()\n",
    "branch2 = h.Section()\n",
    "branch3 = h.Section()\n",
    "\n",
    "branch2.connect(branch1, 1, 0)\n",
    "branch3.connect(branch1, 1, 0)"
   ]
  },
  {
   "cell_type": "code",
   "execution_count": 54,
   "id": "b423688d",
   "metadata": {},
   "outputs": [],
   "source": [
    "for sec in h.allsec():\n",
    "    sec.nseg = nseg_per_branch\n",
    "    \n",
    "    sec.Ra = 1_000.0\n",
    "    sec.L = 10.0 * nseg_per_branch\n",
    "    sec.diam = 2 * 5.0\n",
    "    \n",
    "    sec.insert(\"hh\")\n",
    "    sec.gnabar_hh = 0.120  # S/cm2\n",
    "    sec.gkbar_hh = 0.036  # S/cm2\n",
    "    sec.gl_hh = 0.0003  # S/cm2\n",
    "    sec.ena = 50  # mV\n",
    "    sec.ek = -77.0  # mV\n",
    "    sec.el_hh = -54.3  # mV"
   ]
  },
  {
   "cell_type": "code",
   "execution_count": 55,
   "id": "226d44c3",
   "metadata": {},
   "outputs": [
    {
     "data": {
      "text/plain": [
       "Vector[16]"
      ]
     },
     "execution_count": 55,
     "metadata": {},
     "output_type": "execute_result"
    }
   ],
   "source": [
    "stim = h.IClamp(branch1(0.0))\n",
    "stim.delay = i_delay\n",
    "stim.dur = i_dur\n",
    "stim.amp = i_amp\n",
    "\n",
    "voltage1 = h.Vector()\n",
    "voltage1.record(branch1(0.0)._ref_v)\n",
    "voltage2 = h.Vector()\n",
    "voltage2.record(branch2(1.0)._ref_v)\n",
    "voltage3 = h.Vector()\n",
    "voltage3.record(branch3(1.0)._ref_v)"
   ]
  },
  {
   "cell_type": "code",
   "execution_count": 56,
   "id": "70fa1be3",
   "metadata": {},
   "outputs": [],
   "source": [
    "v_init = -62.0\n",
    "def initialize():\n",
    "    h.finitialize(v_init)\n",
    "    h.fcurrent()\n",
    "    \n",
    "def integrate():\n",
    "    while h.t < t_max:\n",
    "        h.fadvance()"
   ]
  },
  {
   "cell_type": "code",
   "execution_count": 57,
   "id": "37f943e3",
   "metadata": {},
   "outputs": [],
   "source": [
    "initialize()\n",
    "integrate()"
   ]
  },
  {
   "cell_type": "code",
   "execution_count": 58,
   "id": "214a027f",
   "metadata": {},
   "outputs": [
    {
     "data": {
      "image/png": "[encoded data removed]",
      "text/plain": [
       "<Figure size 500x300 with 1 Axes>"
      ]
     },
     "metadata": {},
     "output_type": "display_data"
    }
   ],
   "source": [
    "fig, ax = plt.subplots(1, 1, figsize=(5, 3))\n",
    "_ = ax.plot(time_vec, list(voltage1))\n",
    "_ = ax.plot(time_vec, list(voltage2))\n",
    "_ = ax.plot(time_vec, list(voltage3))\n",
    "_ = ax.set_ylim([-80, 100])"
   ]
  },
  {
   "cell_type": "code",
   "execution_count": null,
   "id": "b906d9b8",
   "metadata": {},
   "outputs": [],
   "source": []
  }
 ],
 "metadata": {
  "kernelspec": {
   "display_name": "Python 3 (ipykernel)",
   "language": "python",
   "name": "python3"
  },
  "language_info": {
   "codemirror_mode": {
    "name": "ipython",
    "version": 3
   },
   "file_extension": ".py",
   "mimetype": "text/x-python",
   "name": "python",
   "nbconvert_exporter": "python",
   "pygments_lexer": "ipython3",
   "version": "3.10.9"
  }
 },
 "nbformat": 4,
 "nbformat_minor": 5
}
