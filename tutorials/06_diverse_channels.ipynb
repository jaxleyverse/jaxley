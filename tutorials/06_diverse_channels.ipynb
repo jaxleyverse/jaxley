{
 "cells": [
  {
   "cell_type": "markdown",
   "id": "0ca0f165",
   "metadata": {},
   "source": [
    "# Inspecting and modifying different channel types\n",
    "\n",
    "`neurax` provides an implementation of different ion channel types. In this tutorial, we will show the behaviour of some of the ion channels.\n",
    "Currently these channels are based on [Pospischil et al. (2008)]."
   ]
  },
  {
   "cell_type": "code",
   "execution_count": 1,
   "id": "a55ceb50",
   "metadata": {},
   "outputs": [],
   "source": [
    "%load_ext autoreload\n",
    "%autoreload 2\n",
    "\n",
    "# I have experienced stability issues with float32.\n",
    "from jax.config import config\n",
    "config.update(\"jax_enable_x64\", True)\n",
    "config.update(\"jax_platform_name\", \"cpu\")\n",
    "\n",
    "import os\n",
    "os.environ[\"XLA_PYTHON_CLIENT_MEM_FRACTION\"]=\".8\""
   ]
  },
  {
   "cell_type": "code",
   "execution_count": null,
   "id": "e4a77e9c",
   "metadata": {},
   "outputs": [],
   "source": [
    "import time\n",
    "import matplotlib.pyplot as plt\n",
    "import numpy as np\n",
    "import jax\n",
    "import jax.numpy as jnp\n",
    "from jax import jit, value_and_grad\n",
    "\n",
    "import neurax as nx\n",
    "from neurax.channels import (Leak,\n",
    "                             NaChannelPospi, \n",
    "                             KChannelPospi,\n",
    "                             KmChannelPospi,\n",
    "                             CaLChannelPospi,\n",
    "                             CaTChannelPospi)"
   ]
  },
  {
   "cell_type": "markdown",
   "id": "70f6af16",
   "metadata": {},
   "source": [
    "### Basic Na-K spiking mechanism\n",
    "aka 'Fast spiking neurons'\n"
   ]
  },
  {
   "cell_type": "code",
   "execution_count": 20,
   "id": "bf0bb32d",
   "metadata": {},
   "outputs": [],
   "source": [
    "# First we define a simple point neuron\n",
    "cell = nx.Compartment()"
   ]
  },
  {
   "cell_type": "code",
   "execution_count": 21,
   "id": "b4911e49",
   "metadata": {},
   "outputs": [],
   "source": [
    "# insert channels\n",
    "cell.insert(Leak())\n",
    "cell.insert(NaChannelPospi())\n",
    "cell.insert(KChannelPospi())"
   ]
  },
  {
   "cell_type": "code",
   "execution_count": 22,
   "id": "110a2b85",
   "metadata": {},
   "outputs": [],
   "source": [
    "# Pospischil parameters for Fig. 3\n",
    "cell.set_params(\"length\", 67) \n",
    "cell.set_params(\"radius\", 67) \n",
    "\n",
    "# leak current\n",
    "cell.set_params(\"gl\", 1.5e-4) \n",
    "cell.set_params(\"el\", -70) \n",
    "\n",
    "# Na channel\n",
    "cell.set_params(\"gNa\", 0.05) \n",
    "\n",
    "# K channel\n",
    "cell.set_params(\"gK\", 0.01) \n",
    "\n",
    "# optional parameters: \n",
    "# spike threshold\n",
    "v_threshold = -60.\n",
    "cell.set_params(\"vt\", v_threshold) # threshold for Na\n",
    "cell.set_params(\"vt_\", v_threshold) # threshold for K"
   ]
  },
  {
   "cell_type": "code",
   "execution_count": 23,
   "id": "7b131dee",
   "metadata": {},
   "outputs": [],
   "source": [
    "# Stimulus.\n",
    "i_delay = 200.0  # ms\n",
    "i_amp = 1 # nA \n",
    "i_dur = 400.0  # ms\n",
    "i_offset = 0.0\n",
    "\n",
    "# Duration and step size.\n",
    "dt = 0.025  # ms\n",
    "t_max = 800.0  # ms\n",
    "\n",
    "time_vec = jnp.arange(0.0, t_max+dt, dt)\n",
    "\n",
    "current = nx.step_current(i_delay, i_dur, i_amp, time_vec, i_offset=i_offset)\n",
    "cell.stimulate(current)\n",
    "cell.record()\n",
    "\n",
    "# run the model\n",
    "s = nx.integrate(cell, delta_t=dt)"
   ]
  },
  {
   "cell_type": "code",
   "execution_count": 24,
   "id": "df97a55d",
   "metadata": {},
   "outputs": [
    {
     "data": {
      "image/png": "[encoded data removed]",
      "text/plain": [
       "<Figure size 432x288 with 2 Axes>"
      ]
     },
     "metadata": {
      "needs_background": "light"
     },
     "output_type": "display_data"
    }
   ],
   "source": [
    "plt.figure(1,  figsize=(6, 4))\n",
    "ax = plt.subplot(211)\n",
    "_ = ax.plot(time_vec, s.T[:-1])\n",
    "_ = ax.set_ylim([-120, 90])\n",
    "_ = ax.set_xlabel(\"Time (ms)\")\n",
    "_ = ax.set_ylabel(\"Voltage (mV)\")\n",
    "\n",
    "ax = plt.subplot(212)\n",
    "ax.plot(time_vec, current)\n",
    "_ = ax.set_xlabel(\"Time (ms)\")\n",
    "_ = ax.set_ylabel(\"Stimulus (nA)\")"
   ]
  },
  {
   "cell_type": "markdown",
   "id": "051111f8",
   "metadata": {},
   "source": [
    "### Time adaptive neurons\n",
    "aka 'regular spiking neurons'\n",
    "\n",
    "For this we need to add a slow patassium channel:"
   ]
  },
  {
   "cell_type": "code",
   "execution_count": 25,
   "id": "73fe76e6",
   "metadata": {},
   "outputs": [],
   "source": [
    "# First we define a simple point neuron\n",
    "cell = nx.Compartment()\n",
    "\n",
    "# insert channels\n",
    "cell.insert(Leak())\n",
    "cell.insert(NaChannelPospi())\n",
    "cell.insert(KChannelPospi())\n",
    "cell.insert(KmChannelPospi())"
   ]
  },
  {
   "cell_type": "code",
   "execution_count": 26,
   "id": "574b733a",
   "metadata": {},
   "outputs": [],
   "source": [
    "# Pospischil parameters for Fig. 1\n",
    "cell.set_params(\"length\", 96) \n",
    "cell.set_params(\"radius\", 96) \n",
    "\n",
    "# Leak\n",
    "cell.set_params(\"gl\", 1e-4) \n",
    "cell.set_params(\"el\", -70) \n",
    "\n",
    "# Na channel\n",
    "cell.set_params(\"gNa\", 0.05) \n",
    "\n",
    "# K channel\n",
    "cell.set_params(\"gK\", 0.005) \n",
    "\n",
    "# Km channal\n",
    "cell.set_params(\"gM\", 7e-5) \n",
    "cell.set_params(\"taumax\", 4000.) # time adaptation constant"
   ]
  },
  {
   "cell_type": "code",
   "execution_count": 27,
   "id": "e27fb732",
   "metadata": {},
   "outputs": [],
   "source": [
    "# Stimulus.\n",
    "i_delay = 200.0  # ms\n",
    "i_amp = 1.1 # nA \n",
    "i_dur = 600.0  # ms\n",
    "i_offset = 0.0\n",
    "\n",
    "# Duration and step size.\n",
    "dt = 0.025  # ms\n",
    "t_max = 1000.0  # ms\n",
    "\n",
    "time_vec = jnp.arange(0.0, t_max+dt, dt)\n",
    "\n",
    "current = nx.step_current(i_delay, i_dur, i_amp, time_vec, i_offset=i_offset)\n",
    "cell.stimulate(current)\n",
    "cell.record()\n",
    "\n",
    "# run the model\n",
    "s = nx.integrate(cell, delta_t=dt)"
   ]
  },
  {
   "cell_type": "code",
   "execution_count": 28,
   "id": "adeb84a2",
   "metadata": {},
   "outputs": [
    {
     "data": {
      "image/png": "[encoded data removed]",
      "text/plain": [
       "<Figure size 432x288 with 2 Axes>"
      ]
     },
     "metadata": {
      "needs_background": "light"
     },
     "output_type": "display_data"
    }
   ],
   "source": [
    "plt.figure(1, figsize=(6, 4))\n",
    "_ = ax = plt.subplot(211)\n",
    "_ = ax.plot(time_vec, s.T[:-1])\n",
    "_ = ax.set_ylim([-120, 90])\n",
    "_ = ax.set_xlabel(\"Time (ms)\")\n",
    "_ = ax.set_ylabel(\"Voltage (mV)\")\n",
    "\n",
    "_ = ax = plt.subplot(212)\n",
    "_ = ax.plot(time_vec, current)\n",
    "_ = ax.set_xlabel(\"Time (ms)\")\n",
    "_ = ax.set_ylabel(\"Stimulus (nA)\")"
   ]
  },
  {
   "cell_type": "markdown",
   "id": "24077808",
   "metadata": {},
   "source": [
    "### Intrinsically bursting neurons\n",
    "Let's add a high threshold (L-type) Calcium channel"
   ]
  },
  {
   "cell_type": "code",
   "execution_count": 29,
   "id": "5efef2f5",
   "metadata": {},
   "outputs": [],
   "source": [
    "# First we define a simple point neuron\n",
    "cell = nx.Compartment()\n",
    "\n",
    "# insert channels\n",
    "cell.insert(Leak())\n",
    "cell.insert(NaChannelPospi())\n",
    "cell.insert(KChannelPospi())\n",
    "cell.insert(KmChannelPospi())\n",
    "cell.insert(CaLChannelPospi())"
   ]
  },
  {
   "cell_type": "code",
   "execution_count": 30,
   "id": "d026f108",
   "metadata": {},
   "outputs": [],
   "source": [
    "# Pospischil parameters for Fig. 5\n",
    "cell.set_params(\"length\", 96) \n",
    "cell.set_params(\"radius\", 96) \n",
    "\n",
    "# Leak\n",
    "cell.set_params(\"gl\", 1e-5)\n",
    "cell.set_params(\"el\", -70.)\n",
    "\n",
    "# Na channel \n",
    "cell.set_params(\"gNa\", 0.05) \n",
    "\n",
    "# K channel\n",
    "cell.set_params(\"gK\", 0.005) \n",
    "\n",
    "# Km channel\n",
    "cell.set_params(\"gM\", 1e-4)  # 1e-5 # this needs to be changed\n",
    "cell.set_params(\"taumax\", 4000.)\n",
    "\n",
    "# CaL channel\n",
    "cell.set_params(\"gCaL\", 2e-4) #2e-4\n",
    "\n",
    "# initial V state\n",
    "cell.set_states('voltages',-80)"
   ]
  },
  {
   "cell_type": "code",
   "execution_count": 31,
   "id": "396f7fc9",
   "metadata": {},
   "outputs": [],
   "source": [
    "# Stimulus.\n",
    "i_delay = 200.0  # ms\n",
    "i_amp = 0.5 # nA \n",
    "i_dur = 1000.0  # ms\n",
    "i_offset = 0.0\n",
    "\n",
    "# Duration and step size.\n",
    "dt = 0.0025  # ms\n",
    "t_max = 1400.0  # ms\n",
    "\n",
    "time_vec = jnp.arange(0.0, t_max+dt, dt)\n",
    "\n",
    "current = nx.step_current(i_delay, i_dur, i_amp, time_vec, i_offset=i_offset)\n",
    "cell.stimulate(current)\n",
    "cell.record()\n",
    "\n",
    "# run the model\n",
    "s = nx.integrate(cell, delta_t=dt)"
   ]
  },
  {
   "cell_type": "code",
   "execution_count": 33,
   "id": "d148b04f",
   "metadata": {},
   "outputs": [
    {
     "data": {
      "image/png": "[encoded data removed]",
      "text/plain": [
       "<Figure size 432x288 with 2 Axes>"
      ]
     },
     "metadata": {
      "needs_background": "light"
     },
     "output_type": "display_data"
    }
   ],
   "source": [
    "plt.figure(1,  figsize=(6, 4))\n",
    "ax = plt.subplot(211)\n",
    "_ = ax.plot(time_vec, s.T[:-1])\n",
    "_ = ax.set_ylim([-120, 90])\n",
    "_ = ax.set_xlabel(\"Time (ms)\")\n",
    "_ = ax.set_ylabel(\"Voltage (mV)\")\n",
    "\n",
    "ax = plt.subplot(212)\n",
    "ax.plot(time_vec, current)\n",
    "_ = ax.set_xlabel(\"Time (ms)\")\n",
    "_ = ax.set_ylabel(\"Stimulus (nA)\")"
   ]
  },
  {
   "cell_type": "code",
   "execution_count": 41,
   "id": "9a722445-5533-46e4-bd5d-06b27ac2b71c",
   "metadata": {},
   "outputs": [],
   "source": [
    "# First we define a simple point neuron\n",
    "cell = nx.Compartment()\n",
    "\n",
    "# insert channels\n",
    "cell.insert(Leak())\n",
    "cell.insert(NaChannelPospi())\n",
    "cell.insert(KChannelPospi())\n",
    "cell.insert(KmChannelPospi())\n",
    "cell.insert(CaLChannelPospi())"
   ]
  },
  {
   "cell_type": "code",
   "execution_count": 42,
   "id": "2a4615c5",
   "metadata": {},
   "outputs": [],
   "source": [
    "# Pospischil parameters for Fig. 5\n",
    "cell.set_params(\"length\", 96) \n",
    "cell.set_params(\"radius\", 96) \n",
    "\n",
    "# Pospischil parameters for Fig. 6\n",
    "# Leak\n",
    "cell.set_params(\"gl\", 1e-4)\n",
    "cell.set_params(\"el\", -75.)\n",
    "\n",
    "# Na channel\n",
    "cell.set_params(\"gNa\", 0.05) \n",
    "cell.set_params(\"vt\", -58.) \n",
    "\n",
    "# K channel\n",
    "cell.set_params(\"gK\", 0.0042)\n",
    "cell.set_params(\"vt_\", -58.)  \n",
    "\n",
    "# Km channel\n",
    "cell.set_params(\"gM\", 4.2e-5) #4.2e-5\n",
    "cell.set_params(\"taumax\", 1000.) #1000\n",
    "  \n",
    "# CaL channel\n",
    "cell.set_params(\"gCaL\", 0.00012)\n",
    "cell.set_states('voltages', -75)"
   ]
  },
  {
   "cell_type": "code",
   "execution_count": 43,
   "id": "1efc7100",
   "metadata": {},
   "outputs": [],
   "source": [
    "# Stimulus.\n",
    "i_delay = 200.0  # ms\n",
    "i_amp = 1.3 # nA \n",
    "i_dur = 1000.0  # ms\n",
    "i_offset = 0.0\n",
    "\n",
    "# Duration and step size.\n",
    "dt = 0.0025  # ms\n",
    "t_max = 1400.0  # ms\n",
    "\n",
    "time_vec = jnp.arange(0.0, t_max+dt, dt)\n",
    "\n",
    "current = nx.step_current(i_delay, i_dur, i_amp, time_vec, i_offset=i_offset)\n",
    "cell.stimulate(current)\n",
    "cell.record()\n",
    "\n",
    "# run the model\n",
    "s = nx.integrate(cell, delta_t=dt)"
   ]
  },
  {
   "cell_type": "code",
   "execution_count": 44,
   "id": "102a17fb",
   "metadata": {},
   "outputs": [
    {
     "data": {
      "image/png": "[encoded data removed]",
      "text/plain": [
       "<Figure size 432x288 with 2 Axes>"
      ]
     },
     "metadata": {
      "needs_background": "light"
     },
     "output_type": "display_data"
    }
   ],
   "source": [
    "plt.figure(1,  figsize=(6, 4))\n",
    "ax = plt.subplot(211)\n",
    "_ = ax.plot(time_vec, s.T[:-1])\n",
    "_ = ax.set_ylim([-120, 90])\n",
    "_ = ax.set_xlabel(\"Time (ms)\")\n",
    "_ = ax.set_ylabel(\"Voltage (mV)\")\n",
    "\n",
    "ax = plt.subplot(212)\n",
    "ax.plot(time_vec, current)\n",
    "_ = ax.set_xlabel(\"Time (ms)\")\n",
    "_ = ax.set_ylabel(\"Stimulus (nA)\")"
   ]
  },
  {
   "cell_type": "markdown",
   "id": "9d23a271",
   "metadata": {},
   "source": [
    "### And finally neurons with rebound spikes\n",
    "(adding a T-type Calcium channel)"
   ]
  },
  {
   "cell_type": "code",
   "execution_count": 50,
   "id": "42bed242",
   "metadata": {},
   "outputs": [],
   "source": [
    "# First we define a simple point neuron\n",
    "cell = nx.Compartment()\n",
    "\n",
    "# insert channels\n",
    "cell.insert(Leak())\n",
    "cell.insert(NaChannelPospi())\n",
    "cell.insert(KChannelPospi())\n",
    "cell.insert(KmChannelPospi())\n",
    "cell.insert(CaTChannelPospi())"
   ]
  },
  {
   "cell_type": "code",
   "execution_count": 51,
   "id": "535e7255",
   "metadata": {},
   "outputs": [],
   "source": [
    "# Pospischil parameters for Fig. 8\n",
    "# with small changes, reproducing qualitative behaviour\n",
    "cell.set_params(\"length\", 96) \n",
    "cell.set_params(\"radius\", 96) \n",
    "\n",
    "# Leak \n",
    "cell.set_params(\"gl\", 1e-5)\n",
    "cell.set_params(\"el\", -70.)\n",
    "\n",
    "# Na channel\n",
    "cell.set_params(\"gNa\", 0.05) \n",
    "\n",
    "# K channel\n",
    "cell.set_params(\"gK\", 0.005)\n",
    "\n",
    "# Km channel\n",
    "cell.set_params(\"gM\", 3e-4) #3e-5 # this needs to be changed to 3e-4\n",
    "cell.set_params(\"taumax\", 4000.)\n",
    "  \n",
    "# CaT channel\n",
    "cell.set_params(\"gCaT\", 8e-4) # 4e-4 # this needs to be changed to 8e-4\n",
    "cell.set_states('voltages',-80)"
   ]
  },
  {
   "cell_type": "code",
   "execution_count": 52,
   "id": "e98009df",
   "metadata": {},
   "outputs": [],
   "source": [
    "# Stimulus.\n",
    "i_delay = 600.0  # ms\n",
    "i_amp = -.1 # nA 0.8\n",
    "i_dur = 500.0  # ms\n",
    "i_offset = 0.0\n",
    "\n",
    "# Duration and step size.\n",
    "dt = 0.0025  # ms\n",
    "t_max = 2000.0  # ms\n",
    "\n",
    "time_vec = jnp.arange(0.0, t_max+dt, dt)\n",
    "\n",
    "current = nx.step_current(i_delay, i_dur, i_amp, time_vec, i_offset=i_offset)\n",
    "cell.stimulate(current)\n",
    "cell.record()\n",
    "\n",
    "s = nx.integrate(cell, delta_t=dt)"
   ]
  },
  {
   "cell_type": "code",
   "execution_count": 53,
   "id": "987aa427",
   "metadata": {},
   "outputs": [
    {
     "data": {
      "image/png": "[encoded data removed]",
      "text/plain": [
       "<Figure size 432x288 with 2 Axes>"
      ]
     },
     "metadata": {
      "needs_background": "light"
     },
     "output_type": "display_data"
    }
   ],
   "source": [
    "plt.figure(1,  figsize=(6, 4))\n",
    "ax = plt.subplot(211)\n",
    "_ = ax.plot(time_vec, s.T[:-1])\n",
    "_ = ax.set_ylim([-120, 90])\n",
    "_ = ax.set_xlabel(\"Time (ms)\")\n",
    "_ = ax.set_ylabel(\"Voltage (mV)\")\n",
    "\n",
    "ax = plt.subplot(212)\n",
    "ax.plot(time_vec, current)\n",
    "_ = ax.set_xlabel(\"Time (ms)\")"
   ]
  },
  {
   "cell_type": "code",
   "execution_count": null,
   "id": "f9f81234-1878-4dd0-8a2b-ec0baee9133d",
   "metadata": {},
   "outputs": [],
   "source": []
  }
 ],
 "metadata": {
  "kernelspec": {
   "display_name": "jax",
   "language": "python",
   "name": "jax"
  },
  "language_info": {
   "codemirror_mode": {
    "name": "ipython",
    "version": 3
   },
   "file_extension": ".py",
   "mimetype": "text/x-python",
   "name": "python",
   "nbconvert_exporter": "python",
   "pygments_lexer": "ipython3",
   "version": "3.8.12"
  }
 },
 "nbformat": 4,
 "nbformat_minor": 5
}
