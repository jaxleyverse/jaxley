{
 "cells": [
  {
   "cell_type": "code",
   "execution_count": 1,
   "id": "765b75ec",
   "metadata": {},
   "outputs": [],
   "source": [
    "%load_ext autoreload\n",
    "%autoreload 2"
   ]
  },
  {
   "cell_type": "code",
   "execution_count": 2,
   "id": "5945980a",
   "metadata": {},
   "outputs": [],
   "source": [
    "# I have experienced stability issues with float32.\n",
    "from jax import config\n",
    "config.update(\"jax_enable_x64\", True)\n",
    "config.update(\"jax_platform_name\", \"cpu\")\n",
    "\n",
    "import os\n",
    "os.environ[\"XLA_PYTHON_CLIENT_MEM_FRACTION\"]=\".8\""
   ]
  },
  {
   "cell_type": "code",
   "execution_count": 3,
   "id": "deb594f4",
   "metadata": {},
   "outputs": [],
   "source": [
    "import matplotlib.pyplot as plt\n",
    "import numpy as np\n",
    "import jax.numpy as jnp\n",
    "from jax import jit\n",
    "\n",
    "import jaxley as jx\n",
    "from jaxley.channels import HHChannel\n",
    "from jaxley.synapses import GlutamateSynapse"
   ]
  },
  {
   "cell_type": "markdown",
   "id": "f5cda6ff",
   "metadata": {},
   "source": [
    "### Setup"
   ]
  },
  {
   "cell_type": "code",
   "execution_count": 4,
   "id": "0e225f21",
   "metadata": {},
   "outputs": [],
   "source": [
    "# Number of segments per branch.\n",
    "nseg_per_branch = 8\n",
    "\n",
    "# Stimulus.\n",
    "i_delay = 3.0  # ms\n",
    "i_amp = 0.05  # nA\n",
    "i_dur = 2.0  # ms\n",
    "\n",
    "# Duration and step size.\n",
    "dt = 0.025  # ms\n",
    "t_max = 50.0  # ms"
   ]
  },
  {
   "cell_type": "code",
   "execution_count": 5,
   "id": "9b671afc",
   "metadata": {},
   "outputs": [],
   "source": [
    "time_vec = jnp.arange(0.0, t_max+dt, dt)"
   ]
  },
  {
   "cell_type": "markdown",
   "id": "da62e271",
   "metadata": {},
   "source": [
    "### Define compartment and branch"
   ]
  },
  {
   "cell_type": "code",
   "execution_count": 6,
   "id": "9819bbf4",
   "metadata": {},
   "outputs": [],
   "source": [
    "comp = jx.Compartment()\n",
    "branch = jx.Branch(comp, nseg=nseg_per_branch)"
   ]
  },
  {
   "cell_type": "markdown",
   "id": "b147203e",
   "metadata": {},
   "source": [
    "### Define cell"
   ]
  },
  {
   "cell_type": "markdown",
   "id": "32fe8e1d",
   "metadata": {},
   "source": [
    "Below, we define the morphology. Each element of `parents` corresponds to one branch. A `-1` entry means that this branch does not have a parent. Alternatively, you could also load cells from SWC with \n",
    "\n",
    "```parents, lengths, endpoint_rads, start_rad = jx.utils.read_swc(fname, max_branch_len=300.0)```.\n",
    "\n",
    "You can plot the SWC file with `jx.utils.plot_swc(fname, max_branch_len=300.0)`."
   ]
  },
  {
   "cell_type": "code",
   "execution_count": 7,
   "id": "70c241e7",
   "metadata": {},
   "outputs": [],
   "source": [
    "num_branches = 15\n",
    "parents = jnp.asarray([-1, 0, 0, 1, 1, 2, 2, 3, 3, 4, 4, 5, 5, 6, 6])\n",
    "assert len(parents) == num_branches"
   ]
  },
  {
   "cell_type": "code",
   "execution_count": 8,
   "id": "564e96a7",
   "metadata": {},
   "outputs": [],
   "source": [
    "cell = jx.Cell(branch, parents=parents)"
   ]
  },
  {
   "cell_type": "markdown",
   "id": "1e2a5b8c",
   "metadata": {},
   "source": [
    "Cells can be visualized as follows:"
   ]
  },
  {
   "cell_type": "code",
   "execution_count": 9,
   "id": "22f304f0",
   "metadata": {},
   "outputs": [
    {
     "data": {
      "image/png": "[encoded data removed]",
      "text/plain": [
       "<Figure size 400x400 with 1 Axes>"
      ]
     },
     "metadata": {},
     "output_type": "display_data"
    }
   ],
   "source": [
    "_ = jx.utils.plot_morph(cell, figsize=(4, 4), cols=\"k\", highlight_branch_inds=[0, 1, 6])"
   ]
  },
  {
   "cell_type": "markdown",
   "id": "9593ab9b",
   "metadata": {},
   "source": [
    "### Define connectivity\n",
    "\n",
    "In this case, two layers fully connected."
   ]
  },
  {
   "cell_type": "code",
   "execution_count": 10,
   "id": "e277f94b",
   "metadata": {},
   "outputs": [],
   "source": [
    "num_cells = 16"
   ]
  },
  {
   "cell_type": "code",
   "execution_count": 11,
   "id": "f2129ef3",
   "metadata": {},
   "outputs": [],
   "source": [
    "conn_builder = jx.ConnectivityBuilder([cell.total_nbranches for _ in range(num_cells)])\n",
    "\n",
    "_ = np.random.seed(0)  # location of post synapse is random.\n",
    "connectivities = [\n",
    "    jx.Connectivity(\n",
    "        GlutamateSynapse(),\n",
    "        [\n",
    "            *conn_builder.fc(np.arange(0, 5), np.arange(5, 15)),\n",
    "            *conn_builder.fc(np.arange(5, 15), np.arange(15, 16)),\n",
    "        ]\n",
    "    ),\n",
    "]"
   ]
  },
  {
   "cell_type": "code",
   "execution_count": 12,
   "id": "1dffee93",
   "metadata": {},
   "outputs": [],
   "source": [
    "network = jx.Network([cell for _ in range(num_cells)], connectivities)"
   ]
  },
  {
   "cell_type": "markdown",
   "id": "ed6a59ef",
   "metadata": {},
   "source": [
    "### Insert mechanisms"
   ]
  },
  {
   "cell_type": "code",
   "execution_count": 13,
   "id": "1c989a32",
   "metadata": {},
   "outputs": [],
   "source": [
    "network.insert(HHChannel())"
   ]
  },
  {
   "cell_type": "markdown",
   "id": "d8d3b0d3",
   "metadata": {},
   "source": [
    "### Define stimuli and recordings"
   ]
  },
  {
   "cell_type": "code",
   "execution_count": 15,
   "id": "d6d4d560",
   "metadata": {},
   "outputs": [],
   "source": [
    "for cell_ind in range(num_cells):\n",
    "    network.cell(cell_ind).branch(0).comp(0.0).record()\n",
    "\n",
    "current = jx.step_current(i_delay, i_dur, i_amp, dt, t_max)\n",
    "for stim_ind in range(5):\n",
    "    network.cell(stim_ind).branch(0).comp(0.0).stimulate(current)"
   ]
  },
  {
   "cell_type": "markdown",
   "id": "f83a2dda",
   "metadata": {},
   "source": [
    "### Solve ODE"
   ]
  },
  {
   "cell_type": "code",
   "execution_count": 16,
   "id": "26e7b8dc",
   "metadata": {},
   "outputs": [
    {
     "name": "stdout",
     "output_type": "stream",
     "text": [
      "CPU times: user 4.8 s, sys: 33.4 ms, total: 4.84 s\n",
      "Wall time: 4.88 s\n"
     ]
    }
   ],
   "source": [
    "%%time\n",
    "s = jx.integrate(network, delta_t=dt)"
   ]
  },
  {
   "cell_type": "markdown",
   "id": "39b96beb-4c0c-40ae-8418-c8d6eb76bcee",
   "metadata": {},
   "source": [
    "### jit compilation\n",
    "\n",
    "We can jit-compile the simulation in order to make it faster. The code below will be slow when run for the first time, but fast upon the second run."
   ]
  },
  {
   "cell_type": "code",
   "execution_count": 17,
   "id": "ea1a1171-0416-417c-b4d1-358c6dafe486",
   "metadata": {},
   "outputs": [],
   "source": [
    "def run_sim():\n",
    "    return jx.integrate(network, delta_t=dt)\n",
    "\n",
    "jitted_run_sim = jit(run_sim)"
   ]
  },
  {
   "cell_type": "code",
   "execution_count": 18,
   "id": "18b7ac3e-b359-4078-8743-c6167d65c4fb",
   "metadata": {},
   "outputs": [
    {
     "name": "stdout",
     "output_type": "stream",
     "text": [
      "CPU times: user 3.93 s, sys: 14.8 ms, total: 3.95 s\n",
      "Wall time: 3.92 s\n"
     ]
    }
   ],
   "source": [
    "%%time\n",
    "s = jitted_run_sim()"
   ]
  },
  {
   "cell_type": "markdown",
   "id": "55d6c0e0",
   "metadata": {},
   "source": [
    "### Visualize traces"
   ]
  },
  {
   "cell_type": "code",
   "execution_count": 19,
   "id": "51bd6fb1-4da7-496b-9f5d-69a53ea6d666",
   "metadata": {},
   "outputs": [
    {
     "data": {
      "image/png": "[encoded data removed]",
      "text/plain": [
       "<Figure size 630x300 with 1 Axes>"
      ]
     },
     "metadata": {},
     "output_type": "display_data"
    }
   ],
   "source": [
    "fig, ax = plt.subplots(1, 1, figsize=(6.3, 3))\n",
    "for i in range(num_cells):\n",
    "    _ = ax.plot(time_vec, s[i][:-1], c=\"k\")\n",
    "ax.set_xlabel(\"Time (ms)\")\n",
    "ax.set_ylabel(\"Voltage (mV)\")\n",
    "plt.show()"
   ]
  },
  {
   "cell_type": "code",
   "execution_count": null,
   "id": "7995f395",
   "metadata": {},
   "outputs": [],
   "source": []
  }
 ],
 "metadata": {
  "kernelspec": {
   "display_name": "neurax",
   "language": "python",
   "name": "python3"
  },
  "language_info": {
   "codemirror_mode": {
    "name": "ipython",
    "version": 3
   },
   "file_extension": ".py",
   "mimetype": "text/x-python",
   "name": "python",
   "nbconvert_exporter": "python",
   "pygments_lexer": "ipython3",
   "version": "3.10.11"
  }
 },
 "nbformat": 4,
 "nbformat_minor": 5
}
