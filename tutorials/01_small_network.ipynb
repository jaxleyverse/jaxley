{
 "cells": [
  {
   "cell_type": "code",
   "execution_count": 1,
   "id": "57e6c99a",
   "metadata": {},
   "outputs": [],
   "source": [
    "# I have experienced stability issues with float32.\n",
    "from jax.config import config\n",
    "config.update(\"jax_enable_x64\", True)"
   ]
  },
  {
   "cell_type": "code",
   "execution_count": 2,
   "id": "fa11fc3d",
   "metadata": {},
   "outputs": [],
   "source": [
    "import os\n",
    "os.environ[\"XLA_PYTHON_CLIENT_MEM_FRACTION\"]=\".8\"\n",
    "\n",
    "import time\n",
    "import matplotlib.pyplot as plt\n",
    "import numpy as np\n",
    "import jax\n",
    "import jax.numpy as jnp\n",
    "from jax import jit, value_and_grad\n",
    "\n",
    "from neurax.integrate import solve\n",
    "from neurax.cell import Cell, equal_segments, linear_segments\n",
    "from neurax.stimulus import Stimulus, step_current\n",
    "from neurax.recording import Recording\n",
    "from neurax.connection import Connection, ConnectivityBuilder\n",
    "from neurax.network import Network\n",
    "from neurax.mechanisms.hh_neuron import hh_neuron_gate\n",
    "from neurax.mechanisms.glutamate_synapse import glutamate\n",
    "from neurax.utils.swc import read_swc, plot_swc"
   ]
  },
  {
   "cell_type": "markdown",
   "id": "b9448b8c",
   "metadata": {},
   "source": [
    "### Set device"
   ]
  },
  {
   "cell_type": "code",
   "execution_count": 3,
   "id": "4a343b04",
   "metadata": {},
   "outputs": [],
   "source": [
    "device_str = \"cpu\"\n",
    "jax.config.update('jax_platform_name', device_str)\n",
    "\n",
    "cpus = jax.devices(\"cpu\")\n",
    "gpus = jax.devices(\"gpu\")\n",
    "\n",
    "device = cpus[0] if device_str == \"cpu\" else gpus[0]"
   ]
  },
  {
   "cell_type": "markdown",
   "id": "43892195",
   "metadata": {},
   "source": [
    "### Setup"
   ]
  },
  {
   "cell_type": "code",
   "execution_count": 4,
   "id": "063e77cd",
   "metadata": {},
   "outputs": [],
   "source": [
    "# Number of segments per branch.\n",
    "nseg_per_branch = 8\n",
    "\n",
    "# Stimulus.\n",
    "i_delay = 3.0  # ms\n",
    "i_amp = 1.0  # nA\n",
    "i_dur = 2.0  # ms\n",
    "\n",
    "# Axial resisitvity.\n",
    "r_a = 5_000  # ohm cm \n",
    "\n",
    "# Duration and step size.\n",
    "dt = 0.025  # ms\n",
    "t_max = 50.0  # ms"
   ]
  },
  {
   "cell_type": "code",
   "execution_count": 5,
   "id": "4e6eb2a8",
   "metadata": {},
   "outputs": [],
   "source": [
    "time_vec = jnp.arange(0.0, t_max+dt, dt)"
   ]
  },
  {
   "cell_type": "markdown",
   "id": "100698d5",
   "metadata": {},
   "source": [
    "### Define cells"
   ]
  },
  {
   "cell_type": "code",
   "execution_count": 6,
   "id": "40a84b5c",
   "metadata": {},
   "outputs": [],
   "source": [
    "num_cells = 16\n",
    "num_branches = 15"
   ]
  },
  {
   "cell_type": "markdown",
   "id": "f504aed4",
   "metadata": {},
   "source": [
    "Below, we define the morphology. Each element of `parents` corresponds to one branch. A `-1` entry means that this branch does not have a parent. Alternatively, you could also load cells from SWC with:\n",
    "\n",
    "```parents, lengths, endpoint_rads, start_rad = read_swc(fname, max_branch_len=300.0)```"
   ]
  },
  {
   "cell_type": "code",
   "execution_count": 7,
   "id": "ebb19273",
   "metadata": {},
   "outputs": [],
   "source": [
    "parents = jnp.asarray([-1, 0, 0, 1, 1, 2, 2, 3, 3, 4, 4, 5, 5, 6, 6])\n",
    "assert len(parents) == num_branches"
   ]
  },
  {
   "cell_type": "markdown",
   "id": "af3bfe67",
   "metadata": {},
   "source": [
    "Next, we define the radius and length of each branch:"
   ]
  },
  {
   "cell_type": "code",
   "execution_count": 8,
   "id": "41759dde",
   "metadata": {},
   "outputs": [],
   "source": [
    "radiuses = [5.0] * num_branches\n",
    "lengths = [10.0] * num_branches\n",
    "radiuses = equal_segments(radiuses, nseg_per_branch)\n",
    "lengths = equal_segments(lengths, nseg_per_branch)"
   ]
  },
  {
   "cell_type": "markdown",
   "id": "4360acf6",
   "metadata": {},
   "source": [
    "Then create `num_cells` identical cells:"
   ]
  },
  {
   "cell_type": "code",
   "execution_count": 9,
   "id": "d6f2aa1b",
   "metadata": {},
   "outputs": [],
   "source": [
    "cells = [Cell(num_branches, parents, nseg_per_branch, lengths, radiuses)] * num_cells"
   ]
  },
  {
   "cell_type": "markdown",
   "id": "ad3b1b6d",
   "metadata": {},
   "source": [
    "### Define connectivity\n",
    "\n",
    "In this case, two layers fully connected."
   ]
  },
  {
   "cell_type": "code",
   "execution_count": 10,
   "id": "c7592cd8",
   "metadata": {},
   "outputs": [],
   "source": [
    "conn_builder = ConnectivityBuilder(cells)\n",
    "excitatory_conns = [\n",
    "    *conn_builder.fc(np.arange(0, 5), np.arange(5, 15)),\n",
    "    *conn_builder.fc(np.arange(5, 15), np.arange(15, 16)),\n",
    "]\n",
    "conns = [excitatory_conns,]"
   ]
  },
  {
   "cell_type": "code",
   "execution_count": 11,
   "id": "877dc154",
   "metadata": {},
   "outputs": [],
   "source": [
    "network = Network(cells, conns)"
   ]
  },
  {
   "cell_type": "markdown",
   "id": "0ee7cfb6",
   "metadata": {},
   "source": [
    "### Set axial resistivity"
   ]
  },
  {
   "cell_type": "code",
   "execution_count": 12,
   "id": "02c03357",
   "metadata": {},
   "outputs": [],
   "source": [
    "network = network.set_axial_resistivities(r_a * jnp.ones((len(cells),)))"
   ]
  },
  {
   "cell_type": "markdown",
   "id": "09a11267",
   "metadata": {},
   "source": [
    "### Define stimuli and recordings"
   ]
  },
  {
   "cell_type": "code",
   "execution_count": 13,
   "id": "df1d0485",
   "metadata": {},
   "outputs": [],
   "source": [
    "recs = [Recording(cell_ind, 1, 0.0) for cell_ind in range(len(cells))]\n",
    "stims = [Stimulus(stim_ind, 1, 0.0, current=step_current(i_delay, i_dur, i_amp, time_vec)) for stim_ind in range(5)]"
   ]
  },
  {
   "cell_type": "markdown",
   "id": "67aa9bb0",
   "metadata": {},
   "source": [
    "### Set initial states and parameters"
   ]
  },
  {
   "cell_type": "code",
   "execution_count": 14,
   "id": "cce2c062",
   "metadata": {},
   "outputs": [],
   "source": [
    "# Initialize voltage\n",
    "init_v = [\n",
    "    jnp.asarray([-62.0] * num_branches*nseg_per_branch) for _ in range(num_cells)\n",
    "]\n",
    "\n",
    "# Initialize states\n",
    "hh_states = [\n",
    "    jnp.stack(\n",
    "        [\n",
    "            jnp.asarray([0.074901] * num_branches*nseg_per_branch), \n",
    "            jnp.asarray([0.4889] * num_branches*nseg_per_branch),\n",
    "            jnp.asarray([0.3644787] * num_branches*nseg_per_branch),\n",
    "        ]\n",
    "    ) for _ in range(num_cells)\n",
    "]\n",
    "\n",
    "# Initialize parameters.\n",
    "hh_params = [\n",
    "    jnp.stack(\n",
    "        [\n",
    "            jnp.asarray([0.12] * num_branches*nseg_per_branch), \n",
    "            jnp.asarray([0.036] * num_branches*nseg_per_branch),\n",
    "            jnp.asarray([0.0003] * num_branches*nseg_per_branch),\n",
    "        ]\n",
    "    ) for _ in range(num_cells)\n",
    "]"
   ]
  },
  {
   "cell_type": "markdown",
   "id": "ba16ea34",
   "metadata": {},
   "source": [
    "### Define channels and synapse types"
   ]
  },
  {
   "cell_type": "code",
   "execution_count": 15,
   "id": "314b92b7",
   "metadata": {},
   "outputs": [],
   "source": [
    "mem_channels = [hh_neuron_gate,]\n",
    "mem_states = [hh_states,]\n",
    "mem_params = [hh_params,]\n",
    "\n",
    "syn_channels = [glutamate,]\n",
    "syn_states = [jnp.zeros((len(conn))) for conn in conns]\n",
    "syn_params = [jnp.asarray([2.0] * len(conn)) for conn in conns]"
   ]
  },
  {
   "cell_type": "markdown",
   "id": "03578dac",
   "metadata": {},
   "source": [
    "### Solve ODE"
   ]
  },
  {
   "cell_type": "code",
   "execution_count": 16,
   "id": "d2ea116d",
   "metadata": {},
   "outputs": [
    {
     "name": "stdout",
     "output_type": "stream",
     "text": [
      "full time 3.446340322494507\n"
     ]
    }
   ],
   "source": [
    "start_time = time.time()\n",
    "s = solve(\n",
    "    network,\n",
    "    init_v,\n",
    "    mem_states=mem_states,\n",
    "    mem_params=mem_params,\n",
    "    mem_channels=mem_channels,\n",
    "    syn_states=syn_states,\n",
    "    syn_params=syn_params,\n",
    "    syn_channels=syn_channels,\n",
    "    stimuli=stims,\n",
    "    recordings=recs,\n",
    "    delta_t=dt,\n",
    "    solver=\"thomas\",\n",
    "    checkpoint_lengths=None,\n",
    ")\n",
    "print(\"full time\", time.time() - start_time)"
   ]
  },
  {
   "cell_type": "markdown",
   "id": "2a704a9c",
   "metadata": {},
   "source": [
    "### Visualize traces\n",
    "Note that there are actually 16 traces shown. They just overlay because, in this toy example, all neurons are the same and all neurons in a layer receive the same input."
   ]
  },
  {
   "cell_type": "code",
   "execution_count": 17,
   "id": "883fb424",
   "metadata": {},
   "outputs": [
    {
     "data": {
      "image/png": "[encoded data removed]",
      "text/plain": [
       "<Figure size 230x200 with 1 Axes>"
      ]
     },
     "metadata": {},
     "output_type": "display_data"
    }
   ],
   "source": [
    "fig, ax = plt.subplots(1, 1, figsize=(2.3, 2))\n",
    "for i in range(len(recs)):\n",
    "    _ = ax.plot(time_vec, s[i][:-1], c=\"k\")\n",
    "ax.set_xlabel(\"\")\n",
    "ax.set_xticks([])\n",
    "ax.set_xticks(np.arange(0, max(time_vec)+1, 10))\n",
    "ax.set_xlim([0, max(time_vec)])\n",
    "ax.set_xlabel(\"Time (ms)\")\n",
    "ax.set_ylabel(\"Voltage (mV)\")\n",
    "plt.subplots_adjust(hspace=0.4)\n",
    "plt.show()"
   ]
  }
 ],
 "metadata": {
  "kernelspec": {
   "display_name": "Python 3",
   "language": "python",
   "name": "python3"
  },
  "language_info": {
   "codemirror_mode": {
    "name": "ipython",
    "version": 3
   },
   "file_extension": ".py",
   "mimetype": "text/x-python",
   "name": "python",
   "nbconvert_exporter": "python",
   "pygments_lexer": "ipython3",
   "version": "3.7.9"
  }
 },
 "nbformat": 4,
 "nbformat_minor": 5
}
