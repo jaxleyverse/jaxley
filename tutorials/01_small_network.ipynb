{
 "cells": [
  {
   "cell_type": "code",
   "execution_count": null,
   "id": "9400bdb7",
   "metadata": {},
   "outputs": [],
   "source": [
    "%load_ext autoreload\n",
    "%autoreload 2"
   ]
  },
  {
   "cell_type": "code",
   "execution_count": 2,
   "id": "d1267f02",
   "metadata": {},
   "outputs": [],
   "source": [
    "# I have experienced stability issues with float32.\n",
    "from jax.config import config\n",
    "config.update(\"jax_enable_x64\", True)\n",
    "config.update(\"jax_platform_name\", \"cpu\")\n",
    "\n",
    "import os\n",
    "os.environ[\"XLA_PYTHON_CLIENT_MEM_FRACTION\"]=\".8\""
   ]
  },
  {
   "cell_type": "code",
   "execution_count": 3,
   "id": "6cfb1430",
   "metadata": {},
   "outputs": [],
   "source": [
    "import time\n",
    "import matplotlib.pyplot as plt\n",
    "import numpy as np\n",
    "import jax\n",
    "import jax.numpy as jnp\n",
    "from jax import jit, value_and_grad\n",
    "\n",
    "import neurax as nx\n",
    "from neurax.channels import HHChannel\n",
    "from neurax.synapses import GlutamateSynapse"
   ]
  },
  {
   "cell_type": "markdown",
   "id": "6e84cf93",
   "metadata": {},
   "source": [
    "### Setup"
   ]
  },
  {
   "cell_type": "code",
   "execution_count": 4,
   "id": "6f16713f",
   "metadata": {},
   "outputs": [],
   "source": [
    "# Number of segments per branch.\n",
    "nseg_per_branch = 8\n",
    "\n",
    "# Stimulus.\n",
    "i_delay = 3.0  # ms\n",
    "i_amp = 0.05  # nA\n",
    "i_dur = 2.0  # ms\n",
    "\n",
    "# Duration and step size.\n",
    "dt = 0.025  # ms\n",
    "t_max = 50.0  # ms"
   ]
  },
  {
   "cell_type": "code",
   "execution_count": 5,
   "id": "38116608",
   "metadata": {},
   "outputs": [],
   "source": [
    "time_vec = jnp.arange(0.0, t_max+dt, dt)"
   ]
  },
  {
   "cell_type": "markdown",
   "id": "c94ed403",
   "metadata": {},
   "source": [
    "### Define compartment and branch"
   ]
  },
  {
   "cell_type": "code",
   "execution_count": 6,
   "id": "26d35924",
   "metadata": {},
   "outputs": [],
   "source": [
    "comp = nx.Compartment().initialize()\n",
    "branch = nx.Branch([comp for _ in range(nseg_per_branch)]).initialize()"
   ]
  },
  {
   "cell_type": "markdown",
   "id": "7aa6e015",
   "metadata": {},
   "source": [
    "### Define cell"
   ]
  },
  {
   "cell_type": "markdown",
   "id": "f20cd12a",
   "metadata": {},
   "source": [
    "Below, we define the morphology. Each element of `parents` corresponds to one branch. A `-1` entry means that this branch does not have a parent. Alternatively, you could also load cells from SWC with \n",
    "\n",
    "```parents, lengths, endpoint_rads, start_rad = nx.utils.read_swc(fname, max_branch_len=300.0)```.\n",
    "\n",
    "You can plot the SWC file with `nx.utils.plot_swc(fname, max_branch_len=300.0)`."
   ]
  },
  {
   "cell_type": "code",
   "execution_count": 7,
   "id": "efae330d",
   "metadata": {},
   "outputs": [],
   "source": [
    "num_branches = 15\n",
    "parents = jnp.asarray([-1, 0, 0, 1, 1, 2, 2, 3, 3, 4, 4, 5, 5, 6, 6])\n",
    "assert len(parents) == num_branches"
   ]
  },
  {
   "cell_type": "code",
   "execution_count": 8,
   "id": "a05f13a8",
   "metadata": {},
   "outputs": [],
   "source": [
    "cell = nx.Cell([branch for _ in range(num_branches)], parents=parents).initialize()"
   ]
  },
  {
   "cell_type": "markdown",
   "id": "58c61da7",
   "metadata": {},
   "source": [
    "Cells can be visualized as follows:"
   ]
  },
  {
   "cell_type": "code",
   "execution_count": 9,
   "id": "a5b5c108",
   "metadata": {},
   "outputs": [
    {
     "data": {
      "image/png": "[encoded data removed]",
      "text/plain": [
       "<Figure size 400x400 with 1 Axes>"
      ]
     },
     "metadata": {},
     "output_type": "display_data"
    }
   ],
   "source": [
    "_ = nx.utils.plot_morph(cell, figsize=(4, 4), cols=\"k\", highlight_branch_inds=[0, 1, 6])"
   ]
  },
  {
   "cell_type": "markdown",
   "id": "f8b55b9b",
   "metadata": {},
   "source": [
    "### Define connectivity\n",
    "\n",
    "In this case, two layers fully connected."
   ]
  },
  {
   "cell_type": "code",
   "execution_count": 10,
   "id": "f043688d",
   "metadata": {},
   "outputs": [],
   "source": [
    "num_cells = 16"
   ]
  },
  {
   "cell_type": "code",
   "execution_count": 11,
   "id": "82c7a68f",
   "metadata": {},
   "outputs": [],
   "source": [
    "conn_builder = nx.ConnectivityBuilder([cell.total_nbranches for _ in range(num_cells)])\n",
    "\n",
    "_ = np.random.seed(0)  # location of post synapse is random.\n",
    "connectivities = [\n",
    "    nx.Connectivity(\n",
    "        GlutamateSynapse(),\n",
    "        [\n",
    "            *conn_builder.fc(np.arange(0, 5), np.arange(5, 15)),\n",
    "            *conn_builder.fc(np.arange(5, 15), np.arange(15, 16)),\n",
    "        ]\n",
    "    ),\n",
    "]"
   ]
  },
  {
   "cell_type": "code",
   "execution_count": 12,
   "id": "9b7149b5",
   "metadata": {},
   "outputs": [],
   "source": [
    "network = nx.Network([cell for _ in range(num_cells)], connectivities).initialize()"
   ]
  },
  {
   "cell_type": "markdown",
   "id": "3ba7314f",
   "metadata": {},
   "source": [
    "### Insert mechanisms"
   ]
  },
  {
   "cell_type": "code",
   "execution_count": 13,
   "id": "80c54671",
   "metadata": {},
   "outputs": [],
   "source": [
    "network.insert(HHChannel())"
   ]
  },
  {
   "cell_type": "markdown",
   "id": "d690677a",
   "metadata": {},
   "source": [
    "### Define stimuli and recordings"
   ]
  },
  {
   "cell_type": "code",
   "execution_count": 18,
   "id": "e699f45f",
   "metadata": {},
   "outputs": [],
   "source": [
    "recs = [nx.Recording(cell_ind, 0, 0.0) for cell_ind in range(num_cells)]\n",
    "stims = [\n",
    "    nx.Stimulus(stim_ind, 0, 0.0, current=nx.step_current(i_delay, i_dur, i_amp, time_vec)) for stim_ind in range(5)\n",
    "]"
   ]
  },
  {
   "cell_type": "markdown",
   "id": "39a1ce89",
   "metadata": {},
   "source": [
    "### Solve ODE"
   ]
  },
  {
   "cell_type": "code",
   "execution_count": 19,
   "id": "95d4eb01",
   "metadata": {},
   "outputs": [
    {
     "name": "stdout",
     "output_type": "stream",
     "text": [
      "CPU times: user 3.65 s, sys: 18.4 ms, total: 3.67 s\n",
      "Wall time: 3.67 s\n"
     ]
    }
   ],
   "source": [
    "%%time\n",
    "s = nx.integrate(network, stimuli=stims, recordings=recs, delta_t=dt)"
   ]
  },
  {
   "cell_type": "markdown",
   "id": "8f7fbbda",
   "metadata": {},
   "source": [
    "### Visualize traces"
   ]
  },
  {
   "cell_type": "code",
   "execution_count": 20,
   "id": "72dcda82",
   "metadata": {},
   "outputs": [
    {
     "data": {
      "image/png": "[encoded data removed]",
      "text/plain": [
       "<Figure size 630x300 with 1 Axes>"
      ]
     },
     "metadata": {},
     "output_type": "display_data"
    }
   ],
   "source": [
    "fig, ax = plt.subplots(1, 1, figsize=(6.3, 3))\n",
    "for i in range(len(recs)):\n",
    "    _ = ax.plot(time_vec, s[i][:-1], c=\"k\")\n",
    "ax.set_xlabel(\"Time (ms)\")\n",
    "ax.set_ylabel(\"Voltage (mV)\")\n",
    "plt.show()"
   ]
  },
  {
   "cell_type": "code",
   "execution_count": null,
   "id": "7d6e68ec",
   "metadata": {},
   "outputs": [],
   "source": []
  }
 ],
 "metadata": {
  "kernelspec": {
   "display_name": "Python 3 (ipykernel)",
   "language": "python",
   "name": "python3"
  },
  "language_info": {
   "codemirror_mode": {
    "name": "ipython",
    "version": 3
   },
   "file_extension": ".py",
   "mimetype": "text/x-python",
   "name": "python",
   "nbconvert_exporter": "python",
   "pygments_lexer": "ipython3",
   "version": "3.10.11"
  }
 },
 "nbformat": 4,
 "nbformat_minor": 5
}
