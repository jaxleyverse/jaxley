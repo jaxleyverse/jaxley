{
 "cells": [
  {
   "cell_type": "code",
   "execution_count": 1,
   "id": "e38051a5-e754-4dc7-9e1c-caa42e340fa3",
   "metadata": {},
   "outputs": [],
   "source": [
    "%load_ext autoreload\n",
    "%autoreload 2"
   ]
  },
  {
   "cell_type": "code",
   "execution_count": 2,
   "id": "99a23786",
   "metadata": {},
   "outputs": [],
   "source": [
    "# I have experienced stability issues with float32.\n",
    "from jax.config import config\n",
    "config.update(\"jax_enable_x64\", True)\n",
    "config.update(\"jax_platform_name\", \"cpu\")\n",
    "\n",
    "import os\n",
    "os.environ[\"XLA_PYTHON_CLIENT_MEM_FRACTION\"]=\".8\""
   ]
  },
  {
   "cell_type": "code",
   "execution_count": 3,
   "id": "7490f08b",
   "metadata": {},
   "outputs": [],
   "source": [
    "import time\n",
    "import matplotlib.pyplot as plt\n",
    "import numpy as np\n",
    "import jax\n",
    "import jax.numpy as jnp\n",
    "from jax import jit, value_and_grad\n",
    "\n",
    "import neurax as nx\n",
    "from neurax.channels import HHChannel\n",
    "from neurax.synapses import GlutamateSynapse"
   ]
  },
  {
   "cell_type": "markdown",
   "id": "875c29b9",
   "metadata": {},
   "source": [
    "### Setup"
   ]
  },
  {
   "cell_type": "code",
   "execution_count": 4,
   "id": "200ce0b1",
   "metadata": {},
   "outputs": [],
   "source": [
    "# Number of segments per branch.\n",
    "nseg_per_branch = 8\n",
    "\n",
    "# Stimulus.\n",
    "i_delay = 3.0  # ms\n",
    "i_amp = 0.05  # nA\n",
    "i_dur = 2.0  # ms\n",
    "\n",
    "# Duration and step size.\n",
    "dt = 0.025  # ms\n",
    "t_max = 50.0  # ms"
   ]
  },
  {
   "cell_type": "code",
   "execution_count": 5,
   "id": "72ef3df2",
   "metadata": {},
   "outputs": [],
   "source": [
    "time_vec = jnp.arange(0.0, t_max+dt, dt)"
   ]
  },
  {
   "cell_type": "markdown",
   "id": "54072fa0",
   "metadata": {},
   "source": [
    "### Define compartment and branch"
   ]
  },
  {
   "cell_type": "code",
   "execution_count": 6,
   "id": "9eb9bddf-dc93-420a-a4a9-7b1c9ba296a1",
   "metadata": {},
   "outputs": [],
   "source": [
    "comp = nx.Compartment([HHChannel()]).initialize()\n",
    "branch = nx.Branch([comp for _ in range(nseg_per_branch)]).initialize()"
   ]
  },
  {
   "cell_type": "markdown",
   "id": "f009ca2f-52ed-46fc-a708-db8ace5ffbf1",
   "metadata": {},
   "source": [
    "### Define cell"
   ]
  },
  {
   "cell_type": "markdown",
   "id": "e04478b6",
   "metadata": {},
   "source": [
    "Below, we define the morphology. Each element of `parents` corresponds to one branch. A `-1` entry means that this branch does not have a parent. Alternatively, you could also load cells from SWC with:\n",
    "\n",
    "```parents, lengths, endpoint_rads, start_rad = read_swc(fname, max_branch_len=300.0)```"
   ]
  },
  {
   "cell_type": "code",
   "execution_count": 7,
   "id": "b91f3280",
   "metadata": {},
   "outputs": [],
   "source": [
    "num_branches = 15\n",
    "parents = jnp.asarray([-1, 0, 0, 1, 1, 2, 2, 3, 3, 4, 4, 5, 5, 6, 6])\n",
    "assert len(parents) == num_branches"
   ]
  },
  {
   "cell_type": "code",
   "execution_count": 8,
   "id": "094aeb79",
   "metadata": {},
   "outputs": [],
   "source": [
    "cell = nx.Cell([branch for _ in range(num_branches)], parents=parents).initialize()"
   ]
  },
  {
   "cell_type": "markdown",
   "id": "90f3912c",
   "metadata": {},
   "source": [
    "### Define connectivity\n",
    "\n",
    "In this case, two layers fully connected."
   ]
  },
  {
   "cell_type": "code",
   "execution_count": 9,
   "id": "d3616f0e-ebf0-46b1-bdca-3b67e8c222b4",
   "metadata": {},
   "outputs": [],
   "source": [
    "num_cells = 16"
   ]
  },
  {
   "cell_type": "code",
   "execution_count": 22,
   "id": "7b55f750",
   "metadata": {},
   "outputs": [],
   "source": [
    "conn_builder = nx.ConnectivityBuilder([cell.total_nbranches for _ in range(num_cells)])\n",
    "\n",
    "_ = np.random.seed(0)  # location of post synapse is random.\n",
    "connectivities = [\n",
    "    nx.Connectivity(\n",
    "        GlutamateSynapse(),\n",
    "        [\n",
    "            *conn_builder.fc(np.arange(0, 5), np.arange(5, 15)),\n",
    "            *conn_builder.fc(np.arange(5, 15), np.arange(15, 16)),\n",
    "        ]\n",
    "    ),\n",
    "]"
   ]
  },
  {
   "cell_type": "code",
   "execution_count": 23,
   "id": "d8ea160b",
   "metadata": {},
   "outputs": [],
   "source": [
    "network = nx.Network([cell for _ in range(num_cells)], connectivities).initialize()"
   ]
  },
  {
   "cell_type": "markdown",
   "id": "1dcda1e9",
   "metadata": {},
   "source": [
    "### Define stimuli and recordings"
   ]
  },
  {
   "cell_type": "code",
   "execution_count": 46,
   "id": "d5706618",
   "metadata": {},
   "outputs": [],
   "source": [
    "recs = [nx.Recording(cell_ind, 1, 0.0) for cell_ind in range(num_cells)]\n",
    "stims = [\n",
    "    nx.Stimulus(stim_ind, 1, 0.0, current=nx.step_current(i_delay, i_dur, i_amp, time_vec)) for stim_ind in range(5)\n",
    "]"
   ]
  },
  {
   "cell_type": "markdown",
   "id": "7b01b8f9",
   "metadata": {},
   "source": [
    "### Solve ODE"
   ]
  },
  {
   "cell_type": "code",
   "execution_count": 51,
   "id": "569822ee-60a8-43f1-aaef-79a5b6e55efc",
   "metadata": {},
   "outputs": [],
   "source": [
    "%%time\n",
    "s = nx.integrate(network, stimuli=stims, recordings=recs, delta_t=dt)"
   ]
  },
  {
   "cell_type": "markdown",
   "id": "7ae3afe3",
   "metadata": {},
   "source": [
    "### Visualize traces"
   ]
  },
  {
   "cell_type": "code",
   "execution_count": 62,
   "id": "24f1ab36-27cd-4e8c-b8ac-53f311012f77",
   "metadata": {},
   "outputs": [
    {
     "data": {
      "image/png": "[encoded data removed]",
      "text/plain": [
       "<Figure size 453.6x216 with 1 Axes>"
      ]
     },
     "metadata": {
      "needs_background": "light"
     },
     "output_type": "display_data"
    }
   ],
   "source": [
    "fig, ax = plt.subplots(1, 1, figsize=(6.3, 3))\n",
    "for i in range(len(recs)):\n",
    "    _ = ax.plot(time_vec, s[i][:-1], c=\"k\")\n",
    "ax.set_xlabel(\"Time (ms)\")\n",
    "ax.set_ylabel(\"Voltage (mV)\")\n",
    "plt.show()"
   ]
  },
  {
   "cell_type": "code",
   "execution_count": null,
   "id": "3fc144ed-afe5-41bb-8103-d5e8b70bc4d5",
   "metadata": {},
   "outputs": [],
   "source": []
  }
 ],
 "metadata": {
  "kernelspec": {
   "display_name": "jax",
   "language": "python",
   "name": "jax"
  },
  "language_info": {
   "codemirror_mode": {
    "name": "ipython",
    "version": 3
   },
   "file_extension": ".py",
   "mimetype": "text/x-python",
   "name": "python",
   "nbconvert_exporter": "python",
   "pygments_lexer": "ipython3",
   "version": "3.8.12"
  }
 },
 "nbformat": 4,
 "nbformat_minor": 5
}
