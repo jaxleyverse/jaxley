{
 "cells": [
  {
   "cell_type": "markdown",
   "id": "c19e95c6",
   "metadata": {},
   "source": [
    "# Building and using ion channel models\n",
    "\n",
    "In this tutorial, you will learn how to:  \n",
    "- define your own ion channel models beyond the preconfigured channels in `jaxley`\n",
    "\n",
    "This tutorial assumes that you have already learned how to [build basic simulations of morphologically detailed neurons]()."
   ]
  },
  {
   "cell_type": "code",
   "execution_count": 1,
   "id": "11544a58",
   "metadata": {},
   "outputs": [],
   "source": [
    "from jax import config\n",
    "config.update(\"jax_enable_x64\", True)\n",
    "config.update(\"jax_platform_name\", \"cpu\")\n",
    "\n",
    "import matplotlib.pyplot as plt\n",
    "import numpy as np\n",
    "import jax\n",
    "import jax.numpy as jnp\n",
    "from jax import jit, value_and_grad\n",
    "\n",
    "import jaxley as jx"
   ]
  },
  {
   "cell_type": "markdown",
   "id": "e141cff7-ffc1-4e4a-bfe5-2b87792de748",
   "metadata": {},
   "source": [
    "First, we define a cell as you saw in the [previous tutorial]():"
   ]
  },
  {
   "cell_type": "code",
   "execution_count": 2,
   "id": "b308ed28-193c-4c15-be6c-019d81c03883",
   "metadata": {},
   "outputs": [],
   "source": [
    "comp = jx.Compartment()\n",
    "branch = jx.Branch(comp, nseg=4)\n",
    "cell = jx.Cell(branch, parents=[-1, 0, 0, 1, 1, 2, 2])"
   ]
  },
  {
   "cell_type": "markdown",
   "id": "4257adb3-df24-4a03-982c-0ae0983067b1",
   "metadata": {},
   "source": [
    "You have also already learned how to insert preconfigured channels into `Jaxley` models:\n",
    "```python\n",
    "cell.insert(Na())\n",
    "cell.insert(K())\n",
    "cell.insert(Leak())\n",
    "```\n",
    "\n",
    "In this tutorial, we will show you how to build your own channel and synapse models."
   ]
  },
  {
   "cell_type": "markdown",
   "id": "b4521def",
   "metadata": {},
   "source": [
    "### Your own channel\n",
    "Below is how you can define your own channel. We will go into detail about individual parts of the code in the next couple of cells."
   ]
  },
  {
   "cell_type": "code",
   "execution_count": 14,
   "id": "6edc6581",
   "metadata": {},
   "outputs": [],
   "source": [
    "import jax.numpy as jnp\n",
    "from jaxley.channels import Channel\n",
    "from jaxley.solver_gate import solve_gate_exponential\n",
    "\n",
    "\n",
    "def exp_update_alpha(x, y):\n",
    "    return x / (jnp.exp(x / y) - 1.0)\n",
    "\n",
    "class Potassium(Channel):\n",
    "    \"\"\"Potassium channel.\"\"\"\n",
    "\n",
    "    def __init__(self, name = None):\n",
    "        super().__init__(name)\n",
    "        self.channel_params = {\"gK_new\": 1e-4}\n",
    "        self.channel_states = {\"n_new\": 0.0}\n",
    "        self.current_name = \"i_K\"\n",
    "\n",
    "    def update_states(self, states, dt, v, params):\n",
    "        \"\"\"Update state.\"\"\"\n",
    "        ns = states[\"n_new\"]\n",
    "        alpha = 0.01 * exp_update_alpha(-(v + 55), 10)\n",
    "        beta = 0.125 * jnp.exp(-(v + 65) / 80)\n",
    "        new_n = solve_gate_exponential(ns, dt, alpha, beta)\n",
    "        return {\"n_new\": new_n}\n",
    "\n",
    "    def compute_current(self, states, v, params):\n",
    "        \"\"\"Return current.\"\"\"\n",
    "        ns = states[\"n_new\"]\n",
    "        \n",
    "        # Multiply with 1000 to convert Siemens to milli Siemens.\n",
    "        kd_conds = params[\"gK_new\"] * ns**4 * 1000  # mS/cm^2\n",
    "\n",
    "        e_kd = -77.0        \n",
    "        return kd_conds * (v - e_kd)\n",
    "\n",
    "    def init_state(self, v, params):\n",
    "        alpha = 0.01 * exp_update_alpha(-(v + 55), 10)\n",
    "        beta = 0.125 * jnp.exp(-(v + 65) / 80)\n",
    "        return {\"n_new\": alpha / (alpha + beta)}"
   ]
  },
  {
   "cell_type": "markdown",
   "id": "204afb5b",
   "metadata": {},
   "source": [
    "Let's look at each part of this in detail. \n",
    "\n",
    "The below is simply a helper function for the solver of the gate variables:\n",
    "```python\n",
    "def exp_update_alpha(x, y):\n",
    "    return x / (jnp.exp(x / y) - 1.0)\n",
    "```\n",
    "\n",
    "Next, we define our channel as a class. It should inherit from the `Channel` class and define `channel_params`, `channel_states`, and `current_name`.\n",
    "```python\n",
    "class Potassium(Channel):\n",
    "    \"\"\"Potassium channel.\"\"\"\n",
    "\n",
    "    def __init__(self, name=None):\n",
    "        super().__init__(name)\n",
    "        self.channel_params = {\"gK_new\": 1e-4}\n",
    "        self.channel_states = {\"n_new\": 0.0}\n",
    "        self.current_name = \"i_K\"\n",
    "```\n",
    "\n",
    "Next, we have the `update_states()` method, which updates the gating variables:\n",
    "```python\n",
    "    def update_states(self, states, dt, v, params):\n",
    "```\n",
    "\n",
    "The inputs `states` to the `update_states` method is a dictionary which contains all states that are updated (including states of other channels). `v` is a `jnp.ndarray` which contains the voltage of a single compartment (shape `()`). Let's get the state of the potassium channel which we are building here:\n",
    "```python\n",
    "ns = states[\"n_new\"]\n",
    "```\n",
    "\n",
    "Next, we update the state of the channel. In this example, we do this with exponential Euler, but you can implement any solver yourself:\n",
    "```python\n",
    "alpha = 0.01 * exp_update_alpha(-(v + 55), 10)\n",
    "beta = 0.125 * jnp.exp(-(v + 65) / 80)\n",
    "new_n = solve_gate_exponential(ns, dt, alpha, beta)\n",
    "return {\"n_new\": new_n}\n",
    "```\n",
    "\n",
    "A channel also needs a `compute_current()` method which returns the current throught the channel:\n",
    "```python\n",
    "    def compute_current(self, states, v, params):\n",
    "        ns = states[\"n_new\"]\n",
    "        \n",
    "        # Multiply with 1000 to convert Siemens to milli Siemens.\n",
    "        kd_conds = params[\"gK_new\"] * ns**4 * 1000  # mS/cm^2\n",
    "\n",
    "        e_kd = -77.0        \n",
    "        current = kd_conds * (v - e_kd)\n",
    "        return current\n",
    "```\n",
    "\n",
    "Finally, the `init_state()` method can be implemented optionally. It can be used to automatically compute the initial state based on the voltage when `cell.init_states()` is run."
   ]
  },
  {
   "cell_type": "markdown",
   "id": "c6c17ea2",
   "metadata": {},
   "source": [
    "Alright, done! We can now insert this channel into any `jx.Module` such as our cell:"
   ]
  },
  {
   "cell_type": "code",
   "execution_count": 4,
   "id": "8bc79fc5",
   "metadata": {},
   "outputs": [],
   "source": [
    "cell.insert(Potassium())"
   ]
  },
  {
   "cell_type": "code",
   "execution_count": 5,
   "id": "23447b7e-7554-4e82-b702-db0cb6b517ca",
   "metadata": {},
   "outputs": [
    {
     "name": "stdout",
     "output_type": "stream",
     "text": [
      "Added 1 external_states. See `.externals` for details.\n",
      "Added 1 recordings. See `.recordings` for details.\n"
     ]
    }
   ],
   "source": [
    "cell.delete_stimuli()\n",
    "current = jx.step_current(1.0, 1.0, 0.1, 0.025, 10.0)\n",
    "cell.branch(0).comp(0).stimulate(current)\n",
    "\n",
    "cell.delete_recordings()\n",
    "cell.branch(0).comp(0).record()"
   ]
  },
  {
   "cell_type": "code",
   "execution_count": 6,
   "id": "f4c678f2",
   "metadata": {},
   "outputs": [],
   "source": [
    "s = jx.integrate(cell)"
   ]
  },
  {
   "cell_type": "code",
   "execution_count": 7,
   "id": "1a10abc0",
   "metadata": {},
   "outputs": [
    {
     "data": {
      "image/png": "[encoded data removed]",
      "text/plain": [
       "<Figure size 400x200 with 1 Axes>"
      ]
     },
     "metadata": {},
     "output_type": "display_data"
    }
   ],
   "source": [
    "fig, ax = plt.subplots(1, 1, figsize=(4, 2))\n",
    "_ = ax.plot(s.T[:-1])\n",
    "_ = ax.set_ylim([-80, 50])\n",
    "_ = ax.set_xlabel(\"Time (ms)\")\n",
    "_ = ax.set_ylabel(\"Voltage (mV)\")"
   ]
  },
  {
   "cell_type": "markdown",
   "id": "43c9f1ea",
   "metadata": {},
   "source": [
    "### Your own synapse\n",
    "\n",
    "The parts below assume that you have already learned how to [build network simulations in `Jaxley`]().\n",
    "\n",
    "The below is an example of how to define your own synapse model in `Jaxley`:`"
   ]
  },
  {
   "cell_type": "code",
   "execution_count": 8,
   "id": "62c719f9",
   "metadata": {},
   "outputs": [],
   "source": [
    "import jax.numpy as jnp\n",
    "from jaxley.synapses.synapse import Synapse\n",
    "\n",
    "\n",
    "class TestSynapse(Synapse):\n",
    "    \"\"\"\n",
    "    Compute syanptic current and update syanpse state.\n",
    "    \"\"\"\n",
    "    def __init__(self, name = None):\n",
    "        super().__init__(name)\n",
    "        self.synapse_params = {\"gChol\": 0.001, \"eChol\": 0.0}\n",
    "        self.synapse_states = {\"s_chol\": 0.1}\n",
    "\n",
    "    def update_states(self, states, delta_t, pre_voltage, post_voltage, params):\n",
    "        \"\"\"Return updated synapse state and current.\"\"\"\n",
    "        s_inf = 1.0 / (1.0 + jnp.exp((-35.0 - pre_voltage) / 10.0))\n",
    "        exp_term = jnp.exp(-delta_t)\n",
    "        new_s = states[\"s_chol\"] * exp_term + s_inf * (1.0 - exp_term)\n",
    "        return {\"s_chol\": new_s}\n",
    "\n",
    "    def compute_current(self, states, pre_voltage, post_voltage, params):\n",
    "        g_syn = params[\"gChol\"] * states[\"s_chol\"]\n",
    "        return g_syn * (post_voltage - params[\"eChol\"])"
   ]
  },
  {
   "cell_type": "markdown",
   "id": "0de23892-4147-4ca2-a39d-97e4985c8e27",
   "metadata": {},
   "source": [
    "As you can see above, synapses follow closely how channels are defined. The main difference is that the `compute_current` method takes two voltages: the pre-synaptic voltage (a `jnp.ndarray` of shape `()`) and the post-synaptic voltage (a `jnp.ndarray` of shape `()`)."
   ]
  },
  {
   "cell_type": "code",
   "execution_count": 9,
   "id": "97ee3c49",
   "metadata": {},
   "outputs": [],
   "source": [
    "net = jx.Network([cell for _ in range(3)])"
   ]
  },
  {
   "cell_type": "code",
   "execution_count": 10,
   "id": "a8c9428c-d0dc-4892-966e-11a43aea216d",
   "metadata": {},
   "outputs": [
    {
     "name": "stderr",
     "output_type": "stream",
     "text": [
      "/Users/michaeldeistler/Documents/phd/jaxley/jaxley/modules/base.py:1533: FutureWarning: The behavior of DataFrame concatenation with empty or all-NA entries is deprecated. In a future version, this will no longer exclude empty or all-NA columns when determining the result dtypes. To retain the old behavior, exclude the relevant entries before the concat operation.\n",
      "  self.pointer.edges = pd.concat(\n"
     ]
    }
   ],
   "source": [
    "from jaxley.connection import connect\n",
    "\n",
    "pre = net.cell(0).branch(0).loc(0.0)\n",
    "post = net.cell(1).branch(0).loc(0.0)\n",
    "connect(pre, post, TestSynapse())"
   ]
  },
  {
   "cell_type": "code",
   "execution_count": 11,
   "id": "fc6fd5a2",
   "metadata": {},
   "outputs": [
    {
     "name": "stdout",
     "output_type": "stream",
     "text": [
      "Added 1 external_states. See `.externals` for details.\n",
      "Added 1 recordings. See `.recordings` for details.\n",
      "Added 1 recordings. See `.recordings` for details.\n",
      "Added 1 recordings. See `.recordings` for details.\n"
     ]
    }
   ],
   "source": [
    "net.cell(0).branch(0).loc(0.0).stimulate(jx.step_current(1.0, 2.0, 0.1, 0.025, 10.0))\n",
    "for i in range(3):\n",
    "    net.cell(i).branch(0).loc(0.0).record()"
   ]
  },
  {
   "cell_type": "code",
   "execution_count": 12,
   "id": "867f4f38",
   "metadata": {},
   "outputs": [],
   "source": [
    "s = jx.integrate(net)"
   ]
  },
  {
   "cell_type": "code",
   "execution_count": 13,
   "id": "01782d18",
   "metadata": {},
   "outputs": [
    {
     "data": {
      "image/png": "[encoded data removed]",
      "text/plain": [
       "<Figure size 400x200 with 1 Axes>"
      ]
     },
     "metadata": {},
     "output_type": "display_data"
    }
   ],
   "source": [
    "fig, ax = plt.subplots(1, 1, figsize=(4, 2))\n",
    "_ = ax.plot(s.T[:-1])\n",
    "_ = ax.set_ylim([-80, 50])\n",
    "_ = ax.set_xlabel(\"Time (ms)\")\n",
    "_ = ax.set_ylabel(\"Voltage (mV)\")"
   ]
  },
  {
   "cell_type": "markdown",
   "id": "5b944bee-bf80-4f6b-a5d2-5cd119e6d4a4",
   "metadata": {},
   "source": [
    "That's it! You are now ready to build your own custom simulations and equip them with channel and synapse models!\n",
    "\n",
    "This tutorial does not have an immediate follow-up tutorial. You could read the [tutorial on groups](), which allow to make your `Jaxley` simulations more elegant and convenient to interact with.\n",
    "\n",
    "Alternatively, you can also directly jump ahead to the [tutorial on training biophysical networks]() which will teach you how you can optimize parameters of biophysical models with gradient descent."
   ]
  },
  {
   "cell_type": "code",
   "execution_count": null,
   "id": "919ae406-e374-4eb8-9436-02e6d8d688cb",
   "metadata": {},
   "outputs": [],
   "source": []
  }
 ],
 "metadata": {
  "kernelspec": {
   "display_name": "Python 3 (ipykernel)",
   "language": "python",
   "name": "python3"
  },
  "language_info": {
   "codemirror_mode": {
    "name": "ipython",
    "version": 3
   },
   "file_extension": ".py",
   "mimetype": "text/x-python",
   "name": "python",
   "nbconvert_exporter": "python",
   "pygments_lexer": "ipython3",
   "version": "3.11.8"
  }
 },
 "nbformat": 4,
 "nbformat_minor": 5
}
