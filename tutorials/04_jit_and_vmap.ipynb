{
 "cells": [
  {
   "cell_type": "markdown",
   "id": "806f72b5-61c5-4415-ae97-87a6b07a73e3",
   "metadata": {},
   "source": [
    "# Speeding up simulations with JIT-compilation and GPUs"
   ]
  },
  {
   "cell_type": "markdown",
   "id": "14b6336e-5b07-464e-885c-0e63bb746857",
   "metadata": {},
   "source": [
    "In this tutorial, you will learn how to:  \n",
    "- make parameter sweeps in `Jaxley`\n",
    "- use `jit` to compile your simulations and make them faster\n",
    "- use `vmap` to parallelize simulations on GPUs\n",
    "\n",
    "Here is a code snippet which you will learn to understand in this tutorial:\n",
    "```python\n",
    "from jax import jit, vmap\n",
    "\n",
    "\n",
    "cell = ...  # See tutorial on Basics of Jaxley.\n",
    "\n",
    "def simulate(params):\n",
    "    param_state = None\n",
    "    param_state = cell.data_set(\"Na_gNa\", params[0], param_state)\n",
    "    param_state = cell.data_set(\"K_gK\", params[1], param_state)\n",
    "    return jx.integrate(cell, param_state=param_state)\n",
    "\n",
    "# Define 100 sets of sodium and potassium conductances.\n",
    "all_params = jnp.asarray(np.random.rand(100, 2))\n",
    "\n",
    "# Fast for-loops with jit compilation.\n",
    "jitted_simulate = jit(simulate)\n",
    "voltages = [jitted_simulate(params) for params in all_params]\n",
    "\n",
    "# Using vmap for parallelization.\n",
    "vmapped_simulate = vmap(jitted_simulate, in_axes=(0,))\n",
    "voltages = vmapped_simulate(all_params)\n",
    "```"
   ]
  },
  {
   "cell_type": "markdown",
   "id": "20a19399-cff4-45e3-b0b5-d2d1d5d877ec",
   "metadata": {},
   "source": [
    "In the previous two tutorials, you learned how to build single cells or networks and how to simulate them. In this tutorial, you will learn how to speed up such simulations by many orders of magnitude. This can be achieved in to ways:\n",
    "- by using JIT compilation  \n",
    "- by using GPU parallelization\n",
    "\n",
    "Let's get started!"
   ]
  },
  {
   "cell_type": "markdown",
   "id": "94a94b67-510c-41dd-b025-3beb96baa8d9",
   "metadata": {},
   "source": [
    "### Using GPU or CPU"
   ]
  },
  {
   "cell_type": "markdown",
   "id": "db5eebf8-a4f1-4181-b6a6-75c01ba65f71",
   "metadata": {},
   "source": [
    "In `Jaxley` you can set whether you want to use `gpu` or `cpu` with the following lines at the beginning of your script:"
   ]
  },
  {
   "cell_type": "code",
   "execution_count": 4,
   "id": "5945980a",
   "metadata": {},
   "outputs": [],
   "source": [
    "from jax import config\n",
    "config.update(\"jax_platform_name\", \"cpu\")"
   ]
  },
  {
   "cell_type": "markdown",
   "id": "888435b3-23eb-4f8c-889b-3d19ddf0a1e6",
   "metadata": {},
   "source": [
    "`JAX` (and `Jaxley`) also allow to choose between `float32` and `float64`. Especially on GPUs, `float32` will be faster, but we have experienced stability issues when simulating morphologically detailed neurons with `float32`."
   ]
  },
  {
   "cell_type": "code",
   "execution_count": 5,
   "id": "33e30fc1-7e8f-4100-ad81-ca39c38d238a",
   "metadata": {},
   "outputs": [],
   "source": [
    "config.update(\"jax_enable_x64\", True)  # Set to false to use `float32`."
   ]
  },
  {
   "cell_type": "markdown",
   "id": "30df2d41-d37c-403f-8c9a-6100de579a76",
   "metadata": {},
   "source": [
    "Next, we will import relevant libraries:"
   ]
  },
  {
   "cell_type": "code",
   "execution_count": 7,
   "id": "deb594f4",
   "metadata": {},
   "outputs": [],
   "source": [
    "import matplotlib.pyplot as plt\n",
    "import numpy as np\n",
    "import jax.numpy as jnp\n",
    "from jax import jit, vmap\n",
    "\n",
    "import jaxley as jx\n",
    "from jaxley.channels import Na, K, Leak"
   ]
  },
  {
   "cell_type": "markdown",
   "id": "f5cda6ff",
   "metadata": {},
   "source": [
    "### Building the cell or network\n",
    "\n",
    "We first build a cell (or network) in the same way as we showed in the previous tutorials:"
   ]
  },
  {
   "cell_type": "code",
   "execution_count": 14,
   "id": "9819bbf4",
   "metadata": {},
   "outputs": [
    {
     "name": "stdout",
     "output_type": "stream",
     "text": [
      "Added 1 external_states. See `.externals` for details.\n",
      "Added 1 recordings. See `.recordings` for details.\n"
     ]
    }
   ],
   "source": [
    "dt = 0.025\n",
    "t_max = 10.0\n",
    "\n",
    "comp = jx.Compartment()\n",
    "branch = jx.Branch(comp, nseg=4)\n",
    "cell = jx.Cell(branch, parents=[-1, 0, 0, 1, 1, 2, 2])\n",
    "\n",
    "cell.insert(Na())\n",
    "cell.insert(K())\n",
    "cell.insert(Leak())\n",
    "\n",
    "cell.delete_stimuli()\n",
    "current = jx.step_current(i_delay=1.0, i_dur=1.0, i_amp=0.1, delta_t=dt, t_max=t_max)\n",
    "cell.branch(0).loc(0.0).stimulate(current)\n",
    "\n",
    "cell.delete_recordings()\n",
    "cell.branch(0).loc(0.0).record()"
   ]
  },
  {
   "cell_type": "markdown",
   "id": "39b96beb-4c0c-40ae-8418-c8d6eb76bcee",
   "metadata": {},
   "source": [
    "### Parameter sweeps\n",
    "\n",
    "Assume you want to run the same cell with many different values for the sodium and potassium conductance, for example for genetic algorithms or for parameter sweeps. To do this efficiently in `Jaxley`, you have to use the `data_set()` method (in combination with `jit` and `vmap`, as shown later):"
   ]
  },
  {
   "cell_type": "code",
   "execution_count": 22,
   "id": "ea1a1171-0416-417c-b4d1-358c6dafe486",
   "metadata": {},
   "outputs": [],
   "source": [
    "def simulate(params):\n",
    "    param_state = None\n",
    "    param_state = cell.data_set(\"Na_gNa\", params[0], param_state)\n",
    "    param_state = cell.data_set(\"K_gK\", params[1], param_state)\n",
    "    return jx.integrate(cell, param_state=param_state)"
   ]
  },
  {
   "cell_type": "markdown",
   "id": "721626fe-8e7d-4e0c-bd42-08af834c9c7e",
   "metadata": {},
   "source": [
    "The `.data_set()` method takes three arguments: \n",
    "1) the name of the parameter you want to set. `Jaxley` allows to set the following parameters:\n",
    "2) the value of the parameter.  \n",
    "3) a `param_state` which is initialized as `None` and is modified by `.data_set()`. This has to be passed to `jx.integrate()`.  "
   ]
  },
  {
   "cell_type": "markdown",
   "id": "9554248b-29ff-434a-9377-e4aee73f951f",
   "metadata": {},
   "source": [
    "Having done this, the simplest (but least efficient) way to perform the parameter sweep is to run a for-loop over many parameter sets:"
   ]
  },
  {
   "cell_type": "code",
   "execution_count": 25,
   "id": "e7cf6ebb-4da5-47f3-ae2d-de27c843dea1",
   "metadata": {},
   "outputs": [
    {
     "name": "stdout",
     "output_type": "stream",
     "text": [
      "voltages.shape (5, 1, 402)\n"
     ]
    }
   ],
   "source": [
    "# Define 5 sets of sodium and potassium conductances.\n",
    "all_params = jnp.asarray(np.random.rand(5, 2))\n",
    "\n",
    "voltages = jnp.asarray([simulate(params) for params in all_params])\n",
    "print(\"voltages.shape\", voltages.shape)"
   ]
  },
  {
   "cell_type": "markdown",
   "id": "b24776d5-ffb0-4a37-90ab-5f4d40c92603",
   "metadata": {},
   "source": [
    "The resulting voltages have shape `(num_simulations, num_recordings, num_timesteps)`."
   ]
  },
  {
   "cell_type": "markdown",
   "id": "e21863d9-6bb9-416e-bc2c-e7f936864e2e",
   "metadata": {},
   "source": [
    "### Stimulus sweeps\n",
    "\n",
    "In addition to running sweeps across multiple parameters, you can also run sweeeps across multiple stimuli (e.g. step current stimuli of different amplitudes. You can achieve this with the `data_stimulate()` method:\n",
    "```python\n",
    "def simulate(i_amp):\n",
    "    current = jx.step_current(1.0, 1.0, i_amp, 0.025, 10.0)\n",
    "\n",
    "    data_stimuli = None\n",
    "    data_stimuli = cell.branch(0).comp(0).data_stimulate(current, data_stimuli)\n",
    "    return jx.integrate(cell, data_stimuli=data_stimuli)\n",
    "```"
   ]
  },
  {
   "cell_type": "markdown",
   "id": "f4b23f0f-fab0-4f63-b8f2-bf045ad08efa",
   "metadata": {},
   "source": [
    "### Speeding up for loops via `jit` compilation\n",
    "\n",
    "We can speed up such parameter sweeps (or stimulus sweeps) with `jit` compilation. `jit` compilation will compile the simulation when it is run for the first time, such that every other simulation will be must faster. This can be achieved by defining a new function which uses `JAX`'s `jit()`:"
   ]
  },
  {
   "cell_type": "code",
   "execution_count": 34,
   "id": "77e4fdf3-f975-4aa4-82dd-7d5f2d0fea20",
   "metadata": {},
   "outputs": [],
   "source": [
    "jitted_simulate = jit(simulate)"
   ]
  },
  {
   "cell_type": "code",
   "execution_count": 35,
   "id": "1e4e9be2-37e4-44ba-84f3-8bb52acca814",
   "metadata": {},
   "outputs": [],
   "source": [
    "# First run, will be slow.\n",
    "voltages = jitted_simulate(all_params[0])"
   ]
  },
  {
   "cell_type": "code",
   "execution_count": 36,
   "id": "e7af10fe-2b54-4981-b47c-34a29bec883f",
   "metadata": {},
   "outputs": [
    {
     "name": "stdout",
     "output_type": "stream",
     "text": [
      "voltages.shape (5, 1, 402)\n"
     ]
    }
   ],
   "source": [
    "# More runs, will be much faster.\n",
    "voltages = jnp.asarray([jitted_simulate(params) for params in all_params])\n",
    "print(\"voltages.shape\", voltages.shape)"
   ]
  },
  {
   "cell_type": "markdown",
   "id": "23371333-f48c-4b5b-a67e-d53205fd724c",
   "metadata": {},
   "source": [
    "`jit` compilation can be up to 10k times faster, especially for small simulations with few compartments. For very large models, the gain obtained with `jit` will be much smaller (`jit` may even provide no speed up at all)."
   ]
  },
  {
   "cell_type": "markdown",
   "id": "86068e83-faf2-4a92-afd1-a716dd921f67",
   "metadata": {},
   "source": [
    "### Speeding up with GPU parallelization via `vmap`\n",
    "\n",
    "Another way to speed up parameter sweeps is with GPU parallelization. Parallelization in `Jaxley` can be achieved by using `vmap` of `JAX`. To do this, we first create a new function that handles __multiple__ parameter sets directly:"
   ]
  },
  {
   "cell_type": "code",
   "execution_count": 38,
   "id": "b48b9a3b-2558-4162-8325-63ba637aadfc",
   "metadata": {},
   "outputs": [],
   "source": [
    "# Using vmap for parallelization.\n",
    "vmapped_simulate = vmap(jitted_simulate)"
   ]
  },
  {
   "cell_type": "markdown",
   "id": "0f7a2654-eea1-4dd5-aed9-a4c358a50d21",
   "metadata": {},
   "source": [
    "We can then run this method on __all__ parameter sets (`all_params.shape == (100, 2)`), and `Jaxley` will automatically parallelize across them. Of course, you will only get a speed-up if you have a GPU available and you specified `gpu` as device in the beginning of this tutorial."
   ]
  },
  {
   "cell_type": "code",
   "execution_count": 41,
   "id": "7995f395",
   "metadata": {},
   "outputs": [],
   "source": [
    "voltages = vmapped_simulate(all_params)"
   ]
  },
  {
   "cell_type": "markdown",
   "id": "4c15f3dc-6e70-4399-a298-9b5a743ea1d0",
   "metadata": {},
   "source": [
    "GPU parallelization with `vmap` can give a large speed-up, which can easily be 2-3 orders of magnitude."
   ]
  },
  {
   "cell_type": "markdown",
   "id": "29acb468-377f-4e3f-a252-b67642ec431a",
   "metadata": {},
   "source": [
    "### Combining `jit` and `vmap`"
   ]
  },
  {
   "cell_type": "markdown",
   "id": "92af0519-3bf8-4450-b145-ceacc1d47715",
   "metadata": {},
   "source": [
    "Finally, you can also combine using `jit` and `vmap`. For example, you can run multiple batches of many parallel simulations. Each batch can be parallelized with `vmap` and simulating each batch can be compiled with `jit`:"
   ]
  },
  {
   "cell_type": "code",
   "execution_count": 43,
   "id": "9a20c0e4-2f1b-4e5d-b470-e7468f633283",
   "metadata": {},
   "outputs": [],
   "source": [
    "jitted_vmapped_simulate = jit(vmap(simulate))"
   ]
  },
  {
   "cell_type": "code",
   "execution_count": 44,
   "id": "42647740-aa7d-4495-8107-f651b64df901",
   "metadata": {},
   "outputs": [],
   "source": [
    "for batch in range(10):\n",
    "    all_params = jnp.asarray(np.random.rand(5, 2))\n",
    "    voltages_batch = jitted_vmapped_simulate(all_params)"
   ]
  },
  {
   "cell_type": "markdown",
   "id": "bc853c9b-6a9c-4bf8-b5f0-75c1b411e0a4",
   "metadata": {},
   "source": [
    "That's all you have to know about `jit` and `vmap`! If you have worked through this and the previous tutorials, you should be ready to set up your first network simulations."
   ]
  },
  {
   "cell_type": "markdown",
   "id": "3b7d32fc-d9d3-46d5-8b96-21cd8b989247",
   "metadata": {},
   "source": [
    "### Next steps\n",
    "\n",
    "If you want to learn more, we recommend you to read the [tutorial on building channel and synapse models]() or to read the [tutorial on groups](), which allow to make your `Jaxley` simulations more elegant and convenient to interact with.\n",
    "\n",
    "Alternatively, you can also directly jump ahead to the [tutorial on training biophysical networks]() which will teach you how you can optimize parameters of biophysical models with gradient descent."
   ]
  },
  {
   "cell_type": "code",
   "execution_count": null,
   "id": "e652ff89-1688-49f6-9ab6-80128a25dbbb",
   "metadata": {},
   "outputs": [],
   "source": []
  }
 ],
 "metadata": {
  "kernelspec": {
   "display_name": "Python 3 (ipykernel)",
   "language": "python",
   "name": "python3"
  },
  "language_info": {
   "codemirror_mode": {
    "name": "ipython",
    "version": 3
   },
   "file_extension": ".py",
   "mimetype": "text/x-python",
   "name": "python",
   "nbconvert_exporter": "python",
   "pygments_lexer": "ipython3",
   "version": "3.11.8"
  }
 },
 "nbformat": 4,
 "nbformat_minor": 5
}
