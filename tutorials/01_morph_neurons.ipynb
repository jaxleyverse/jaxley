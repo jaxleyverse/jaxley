{
 "cells": [
  {
   "cell_type": "markdown",
   "id": "597dfe2a-d5fe-4e3d-8fb5-bb415126b81a",
   "metadata": {},
   "source": [
    "# Basics of running simulations in Jaxley"
   ]
  },
  {
   "cell_type": "markdown",
   "id": "c9db67ff-6334-4435-9092-e7c71ec71a93",
   "metadata": {},
   "source": [
    "In this tutorial, you will learn how to:\n",
    "\n",
    "- build your first morphologically detailed cell or read it from SWC  \n",
    "- stimulate the cell  \n",
    "- record from the cell  \n",
    "- visualize cells  \n",
    "- run your first simulation  \n",
    "\n",
    "Here is a code snippet which you will learn to understand in this tutorial:\n",
    "```python\n",
    "import jaxley as jx\n",
    "from jaxley.channels import Na, K, Leak\n",
    "import matplotlib.pyplot as plt\n",
    "\n",
    "\n",
    "# Build the cell.\n",
    "comp = jx.Compartment()\n",
    "branch = jx.Branch(comp, nseg=4)\n",
    "cell = jx.Cell(branch, parents=[-1, 0, 0, 1, 1])\n",
    "\n",
    "# Insert channels.\n",
    "cell.insert(Leak())\n",
    "cell.branch(0).insert(Na())\n",
    "cell.branch(0).insert(K())\n",
    "\n",
    "# Visualize the morphology.\n",
    "cell.compute_xyz()\n",
    "fig, ax = plt.subplots(1, 1, figsize=(4, 4))\n",
    "cell.vis(ax=ax)\n",
    "\n",
    "# Stimulate.\n",
    "current = jx.step_current(i_delay=1.0, i_dur=1.0, i_amp=0.1, delta_t=0.025, t_max=10.0)\n",
    "cell.branch(0).loc(0.0).stimulate(current)\n",
    "\n",
    "# Record.\n",
    "cell.branch(0).loc(0.0).record(\"v\")\n",
    "\n",
    "# Simulate and plot.\n",
    "v = jx.integrate(cell)\n",
    "plt.plot(v.T)\n",
    "```"
   ]
  },
  {
   "cell_type": "markdown",
   "id": "7177950f-d702-4d8d-b69e-bfb06677037f",
   "metadata": {},
   "source": [
    "First, we import the relevant libraries:"
   ]
  },
  {
   "cell_type": "code",
   "execution_count": null,
   "id": "deb594f4",
   "metadata": {},
   "outputs": [],
   "source": [
    "from jax import config\n",
    "config.update(\"jax_enable_x64\", True)\n",
    "config.update(\"jax_platform_name\", \"cpu\")\n",
    "\n",
    "import matplotlib.pyplot as plt\n",
    "import numpy as np\n",
    "import jax.numpy as jnp\n",
    "from jax import jit\n",
    "\n",
    "import jaxley as jx\n",
    "from jaxley.channels import Na, K, Leak\n",
    "from jaxley.synapses import IonotropicSynapse\n",
    "from jaxley.connect import fully_connect"
   ]
  },
  {
   "cell_type": "markdown",
   "id": "eda8d5e8-8720-4b4f-8025-79f1332ad706",
   "metadata": {},
   "source": [
    "We will now build our first cell in `Jaxley`. You have two options to do this: you can either build a cell bottom-up by defining the morphology yourselve, or you can [load cells from SWC files]().\n"
   ]
  },
  {
   "cell_type": "markdown",
   "id": "f5cda6ff",
   "metadata": {},
   "source": [
    "### Define the cell from scratch\n",
    "\n",
    "To define a cell from scratch you first have to define a single compartment and then assemble those compartments into a branch:"
   ]
  },
  {
   "cell_type": "code",
   "execution_count": 70,
   "id": "e8be24c8-a582-4458-a286-5db94d225dd4",
   "metadata": {},
   "outputs": [],
   "source": [
    "comp = jx.Compartment()\n",
    "branch = jx.Branch(comp, nseg=4)"
   ]
  },
  {
   "cell_type": "markdown",
   "id": "92207771-b7aa-45fe-8377-6005f24885ad",
   "metadata": {},
   "source": [
    "Next, we can assemble branches into a cell. To do so, we have to define for each branch what its parent branch is. A `-1` entry means that this branch does not have a parent."
   ]
  },
  {
   "cell_type": "code",
   "execution_count": 81,
   "id": "37772d4c-8567-4b3e-a167-6778f5410476",
   "metadata": {},
   "outputs": [],
   "source": [
    "parents = jnp.asarray([-1, 0, 0, 1, 1])\n",
    "cell = jx.Cell(branch, parents=parents)"
   ]
  },
  {
   "cell_type": "markdown",
   "id": "3bc94123-775c-44b4-b464-56a2cf66adac",
   "metadata": {},
   "source": [
    "### Read the cell from an SWC file\n",
    "\n",
    "Alternatively, you could also load cells from SWC with \n",
    "\n",
    "```cell = io.read_swc(fname, nseg=4)```."
   ]
  },
  {
   "cell_type": "markdown",
   "id": "b164e88d-5bc6-433d-8d02-78117b0dc12a",
   "metadata": {},
   "source": [
    "### Visualize the cells"
   ]
  },
  {
   "cell_type": "markdown",
   "id": "1e2a5b8c",
   "metadata": {},
   "source": [
    "Cells can be visualized as follows:"
   ]
  },
  {
   "cell_type": "code",
   "execution_count": 82,
   "id": "22f304f0",
   "metadata": {},
   "outputs": [
    {
     "data": {
      "image/png": "[encoded data removed]",
      "text/plain": [
       "<Figure size 400x200 with 1 Axes>"
      ]
     },
     "metadata": {},
     "output_type": "display_data"
    }
   ],
   "source": [
    "cell.compute_xyz()  # Only needed for visualization.\n",
    "\n",
    "fig, ax = plt.subplots(1, 1, figsize=(4, 2))\n",
    "_ = cell.vis(ax=ax, col=\"k\")"
   ]
  },
  {
   "cell_type": "markdown",
   "id": "ed6a59ef",
   "metadata": {},
   "source": [
    "### Insert mechanisms\n",
    "\n",
    "Currently, the cell does not contain any kind of ion channel (not even a `leak`). We can fix this by inserting a leak channel into the entire cell, and by inserting sodium and potassium into the zero-eth branch."
   ]
  },
  {
   "cell_type": "code",
   "execution_count": 73,
   "id": "1c989a32",
   "metadata": {},
   "outputs": [],
   "source": [
    "cell.insert(Leak())\n",
    "cell.branch(0).insert(Na())\n",
    "cell.branch(0).insert(K())"
   ]
  },
  {
   "cell_type": "markdown",
   "id": "106e1ba0-33f5-41a8-b54e-a7270d91f657",
   "metadata": {},
   "source": [
    "The easiest way to know which branch is the zero-eth branch (or, e.g., the zero-eth compartment of the zero-eth branch) is to plot it in a different color:"
   ]
  },
  {
   "cell_type": "code",
   "execution_count": 74,
   "id": "db24942a-116a-4b2e-b79d-000f467a5d03",
   "metadata": {},
   "outputs": [
    {
     "data": {
      "image/png": "[encoded data removed]",
      "text/plain": [
       "<Figure size 400x200 with 1 Axes>"
      ]
     },
     "metadata": {},
     "output_type": "display_data"
    }
   ],
   "source": [
    "fig, ax = plt.subplots(1, 1, figsize=(4, 2))\n",
    "_ = cell.vis(ax=ax, col=\"k\")\n",
    "_ = cell.branch(0).vis(ax=ax, col=\"r\")\n",
    "_ = cell.branch(0).loc(0.0).vis(ax=ax, col=\"b\")"
   ]
  },
  {
   "cell_type": "markdown",
   "id": "28a42f44-59ec-4084-ad61-e201d6850b4e",
   "metadata": {},
   "source": [
    "### Stimulate the cell\n",
    "\n",
    "We next stimulate one of the compartments with a step current. For this, we first define the step current (all units are the same as for the `NEURON` simulator, which are listed [here](https://www.neuron.yale.edu/neuron/static/docs/units/unitchart.html)):"
   ]
  },
  {
   "cell_type": "code",
   "execution_count": 75,
   "id": "c8ac8c50-b8c9-4004-a760-ccbf829bb108",
   "metadata": {},
   "outputs": [
    {
     "data": {
      "image/png": "[encoded data removed]",
      "text/plain": [
       "<Figure size 400x200 with 1 Axes>"
      ]
     },
     "metadata": {},
     "output_type": "display_data"
    }
   ],
   "source": [
    "dt = 0.025\n",
    "t_max = 10.0\n",
    "time_vec = np.arange(0, t_max+dt, dt)\n",
    "current = jx.step_current(i_delay=1.0, i_dur=1.0, i_amp=0.1, delta_t=dt, t_max=t_max)\n",
    "\n",
    "fig, ax = plt.subplots(1, 1, figsize=(4, 2))\n",
    "_ = plt.plot(time_vec, current)"
   ]
  },
  {
   "cell_type": "markdown",
   "id": "8d3b7241-34a2-4f64-a174-ebc354f03184",
   "metadata": {},
   "source": [
    "We then stimulate one of the compartments of the cell with this step current:"
   ]
  },
  {
   "cell_type": "code",
   "execution_count": 76,
   "id": "b7ee7b4e-558d-44db-b54a-3194135e2ec9",
   "metadata": {},
   "outputs": [
    {
     "name": "stdout",
     "output_type": "stream",
     "text": [
      "Added 1 external_states. See `.externals` for details.\n"
     ]
    }
   ],
   "source": [
    "cell.delete_stimuli()\n",
    "cell.branch(0).loc(0.0).stimulate(current)"
   ]
  },
  {
   "cell_type": "markdown",
   "id": "d8d3b0d3",
   "metadata": {},
   "source": [
    "### Define recordings"
   ]
  },
  {
   "cell_type": "markdown",
   "id": "da9e8344-fb35-4fe1-bf23-72d1ebffe452",
   "metadata": {},
   "source": [
    "Next, you have to define where to record the voltage. In this case, we will record the voltage at two locations:"
   ]
  },
  {
   "cell_type": "code",
   "execution_count": 77,
   "id": "beec1e50-6637-4ea9-b90f-7e2d5d03cf5d",
   "metadata": {},
   "outputs": [
    {
     "name": "stdout",
     "output_type": "stream",
     "text": [
      "Added 1 recordings. See `.recordings` for details.\n",
      "Added 1 recordings. See `.recordings` for details.\n"
     ]
    }
   ],
   "source": [
    "cell.delete_recordings()\n",
    "cell.branch(0).loc(0.0).record(\"v\")\n",
    "cell.branch(3).loc(1.0).record(\"v\")"
   ]
  },
  {
   "cell_type": "markdown",
   "id": "2a3c096a-8bad-4cda-b2e8-725d449984d0",
   "metadata": {},
   "source": [
    "We can again visualize these locations to understand where we inserted recordings:"
   ]
  },
  {
   "cell_type": "code",
   "execution_count": 78,
   "id": "93b015de-7f26-4c82-bcdf-869e5b60e81e",
   "metadata": {},
   "outputs": [
    {
     "data": {
      "image/png": "[encoded data removed]",
      "text/plain": [
       "<Figure size 400x200 with 1 Axes>"
      ]
     },
     "metadata": {},
     "output_type": "display_data"
    }
   ],
   "source": [
    "fig, ax = plt.subplots(1, 1, figsize=(4, 2))\n",
    "_ = cell.vis(ax=ax)\n",
    "_ = cell.branch(0).loc(0.0).vis(ax=ax, col=\"b\")\n",
    "_ = cell.branch(3).loc(1.0).vis(ax=ax, col=\"g\")"
   ]
  },
  {
   "cell_type": "markdown",
   "id": "f83a2dda",
   "metadata": {},
   "source": [
    "### Simulate the cell response\n",
    "\n",
    "Having set up the cell, inserted stimuli and recordings, we are now ready to run a simulation with `jx.integrate`:"
   ]
  },
  {
   "cell_type": "code",
   "execution_count": 79,
   "id": "26e7b8dc",
   "metadata": {},
   "outputs": [
    {
     "name": "stdout",
     "output_type": "stream",
     "text": [
      "voltages.shape (2, 402)\n"
     ]
    }
   ],
   "source": [
    "voltages = jx.integrate(cell)\n",
    "print(\"voltages.shape\", voltages.shape)"
   ]
  },
  {
   "cell_type": "markdown",
   "id": "91219064-bc74-4416-ba07-0ee34bc31fe4",
   "metadata": {},
   "source": [
    "The `jx.integrate` function returns an array of shape `(num_recordings, num_timepoints). In our case, we inserted `2` recordings and we simulated for 10ms at a 0.025 time step, which leads to 402 time steps.\n",
    "\n",
    "We can now visualize the voltage response:"
   ]
  },
  {
   "cell_type": "code",
   "execution_count": 80,
   "id": "64bc4b10-610a-41e2-81fe-b0cd0d46beb8",
   "metadata": {},
   "outputs": [
    {
     "data": {
      "image/png": "[encoded data removed]",
      "text/plain": [
       "<Figure size 400x200 with 1 Axes>"
      ]
     },
     "metadata": {},
     "output_type": "display_data"
    }
   ],
   "source": [
    "fig, ax = plt.subplots(1, 1, figsize=(4, 2))\n",
    "_ = ax.plot(voltages[0], c=\"b\")\n",
    "_ = ax.plot(voltages[1], c=\"orange\")"
   ]
  },
  {
   "cell_type": "markdown",
   "id": "722e364f-7910-4175-8f0f-6b568ac25cba",
   "metadata": {},
   "source": [
    "At the location of the first recording (in blue) the cell spiked, whereas at the second recording, it did not. This makes sense because we only inserted sodium and potassium channels into the first branch, but not in the entire cell."
   ]
  },
  {
   "cell_type": "markdown",
   "id": "eaa8df17-6f25-46a8-98d1-d28eb778780a",
   "metadata": {},
   "source": [
    "Congrats! You have just run your first morphologically detailed neuron simulation in `Jaxley`. We suggest to continue by learning how to [build networks](https://jaxleyverse.github.io/jaxley/tutorial/02_small_network/). If you are only interested in single cell simulations, you can directly jump to learning how to [modify parameters of your simulation](https://jaxleyverse.github.io/jaxley/tutorial/03_setting_parameters/). If you want to simulate detailed morphologies from SWC files, checkout our tutorial on [working with detailed morphologies](https://jaxleyverse.github.io/jaxley/tutorial/08_importing_morphologies/)."
   ]
  }
 ],
 "metadata": {
  "kernelspec": {
   "display_name": "Python 3 (ipykernel)",
   "language": "python",
   "name": "python3"
  },
  "language_info": {
   "codemirror_mode": {
    "name": "ipython",
    "version": 3
   },
   "file_extension": ".py",
   "mimetype": "text/x-python",
   "name": "python",
   "nbconvert_exporter": "python",
   "pygments_lexer": "ipython3",
   "version": "3.11.8"
  }
 },
 "nbformat": 4,
 "nbformat_minor": 5
}
