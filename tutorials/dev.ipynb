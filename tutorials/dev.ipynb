{
 "cells": [
  {
   "cell_type": "code",
   "execution_count": 1,
   "metadata": {},
   "outputs": [],
   "source": [
    "%load_ext autoreload\n",
    "%autoreload 2"
   ]
  },
  {
   "cell_type": "code",
   "execution_count": 2,
   "metadata": {},
   "outputs": [],
   "source": [
    "from jax import config\n",
    "config.update(\"jax_enable_x64\", True)\n",
    "config.update(\"jax_platform_name\", \"cpu\")\n",
    "\n",
    "import os\n",
    "os.environ[\"XLA_PYTHON_CLIENT_MEM_FRACTION\"]=\".8\""
   ]
  },
  {
   "cell_type": "code",
   "execution_count": 129,
   "metadata": {},
   "outputs": [],
   "source": [
    "import matplotlib.pyplot as plt\n",
    "import numpy as np\n",
    "import jax.numpy as jnp\n",
    "from jax import jit, vmap, value_and_grad\n",
    "\n",
    "import jaxley as jx\n",
    "from jaxley.channels import HH\n",
    "from jaxley.synapses import IonotropicSynapse, TestSynapse\n",
    "from jaxley_mech.channels.fm97 import Na, K, KA, KCa, Ca, Leak\n",
    "\n",
    "import warnings\n",
    "import networkx as nx\n",
    "from jaxley.connection import connect"
   ]
  },
  {
   "cell_type": "code",
   "execution_count": 4,
   "metadata": {},
   "outputs": [],
   "source": [
    "dt = 0.025\n",
    "t_max = 100.0\n",
    "time_vec = np.arange(0, t_max+2*dt, dt)\n",
    "\n",
    "i_delay = 10.0\n",
    "i_dur = 80.0\n",
    "i_amp = 5.0  # nA\n",
    "current = jx.step_current(i_delay, i_dur, i_amp, dt, t_max)\n",
    "np.random.seed(0)"
   ]
  },
  {
   "cell_type": "code",
   "execution_count": 158,
   "metadata": {},
   "outputs": [
    {
     "name": "stdout",
     "output_type": "stream",
     "text": [
      "Added 1 recordings. See `.recordings` for details.\n",
      "Added 1 stimuli. See `.currents` for details.\n",
      "Number of newly added trainable parameters: 1. Total number of trainable parameters: 1\n",
      "Number of newly added trainable parameters: 1. Total number of trainable parameters: 2\n"
     ]
    },
    {
     "name": "stderr",
     "output_type": "stream",
     "text": [
      "/home/jnsbck/Uni/PhD/projects/jaxley_project/jaxley/jaxley/modules/base.py:1341: FutureWarning: The behavior of DataFrame concatenation with empty or all-NA entries is deprecated. In a future version, this will no longer exclude empty or all-NA columns when determining the result dtypes. To retain the old behavior, exclude the relevant entries before the concat operation.\n",
      "  self.pointer.edges = pd.concat(\n"
     ]
    }
   ],
   "source": [
    "comp = jx.Compartment()\n",
    "branch = jx.Branch([comp for _ in range(4)])\n",
    "cell = jx.Cell([branch for _ in range(5)], parents=jnp.asarray([-1, 0, 1, 2, 2]))\n",
    "net = jx.Network([cell]*3)\n",
    "connect(net[0,0,0], net[1,0,0], IonotropicSynapse())\n",
    "connect(net[0,0,1], net[1,0,1], IonotropicSynapse())\n",
    "connect(net[0,0,1], net[1,0,1], TestSynapse())\n",
    "net.cell(2).add_to_group(\"cell2\")\n",
    "\n",
    "\n",
    "net.cell(0).insert(Na())\n",
    "net.cell(0).insert(Leak())\n",
    "\n",
    "net.cell(1).branch(1).insert(Na())\n",
    "net.cell(0).insert(K())\n",
    "net.compute_xyz()\n",
    "\n",
    "net.cell(0).branch(0).loc(0.0).record()\n",
    "current = jx.step_current(i_delay, i_dur, i_amp, dt, t_max)\n",
    "net.cell(0).branch(2).loc(0.0).stimulate(current)\n",
    "net.cell(0).branch(1).make_trainable(\"Na\")\n",
    "net.cell(1).make_trainable(\"K\")"
   ]
  },
  {
   "cell_type": "code",
   "execution_count": 184,
   "metadata": {},
   "outputs": [
    {
     "data": {
      "text/plain": [
       "Index(['comp_index', 'branch_index', 'cell_index', 'length', 'radius',\n",
       "       'axial_resistivity', 'capacitance', 'v', 'Na', 'Na_gNa', 'Na_eNa',\n",
       "       'Na_m', 'Na_h', 'Leak', 'Leak_gLeak', 'Leak_eLeak', 'K', 'K_gK', 'eK',\n",
       "       'K_n'],\n",
       "      dtype='object')"
      ]
     },
     "execution_count": 184,
     "metadata": {},
     "output_type": "execute_result"
    }
   ],
   "source": [
    "net.nodes.columns"
   ]
  },
  {
   "cell_type": "code",
   "execution_count": 192,
   "metadata": {},
   "outputs": [],
   "source": [
    "net.cell([0,1]).edges"
   ]
  },
  {
   "cell_type": "code",
   "execution_count": 8,
   "metadata": {},
   "outputs": [],
   "source": [
    "def to_graph(df):\n",
    "    G = nx.Graph()\n",
    "    edges = df[['parent_branch_index', 'child_branch_index']].values\n",
    "    G.add_edges_from(edges)\n",
    "    return G\n",
    "\n",
    "def to_module(view):\n",
    "    warnings.warn(\n",
    "    \"\"\"\n",
    "    This function is experimental and may not work as expected.\n",
    "    Recordings, currents and Synapses are lost in this operation currently.\n",
    "    \"\"\"\n",
    "    )\n",
    "\n",
    "    pointer, view = view.pointer, view.view\n",
    "    modules = np.array([jx.Network, jx.Cell, jx.Branch, jx.Compartment])\n",
    "    indices = [\"cell_index\", \"branch_index\", \"comp_index\"]\n",
    "    num_unique_elements = view[indices].nunique().values # number of unique module elements in view\n",
    "    # highest module with more than one unique element, i.e. if num_branches > 1, return Cell etc.\n",
    "    return_type =  modules[np.concatenate((num_unique_elements > 1, [True]))][0]\n",
    "\n",
    "    viewed_indices = {col: np.unique(view[col]) for col in indices}\n",
    "    \n",
    "    where_to_view_edges = pointer.branch_edges.isin(viewed_indices[\"branch_index\"])\n",
    "    viewed_branch_edges = pointer.branch_edges.loc[where_to_view_edges.any(axis=1)]\n",
    "    graph = to_graph(viewed_branch_edges)\n",
    "    \n",
    "    assert nx.is_connected(graph), \"The branches currently in view are not all connected.\"\n",
    "    assert not any(view[indices].duplicated()), \"View must not contain duplicates.\"\n",
    "    \n",
    "    module_instances = []\n",
    "    num_unique_elements = np.hstack([1, num_unique_elements])\n",
    "    for num, module in zip(reversed(num_unique_elements), reversed(modules)):\n",
    "        args = () \n",
    "        if module in [jx.Branch, jx.Network]:\n",
    "            args = [module_instances]\n",
    "        elif module == jx.Cell:\n",
    "            root_node_index = viewed_branch_edges[\"parent_branch_index\"].min()\n",
    "            levels = list(nx.bfs_layers(graph, root_node_index))\n",
    "            levels = [[i for i in indices if i in viewed_indices[\"branch_index\"]] for indices in levels]\n",
    "            parents = sum([[i-1]*len(level) for i, level in enumerate(levels)], [])\n",
    "            args = [module_instances, parents]\n",
    "        \n",
    "        module_instances = [module(*args) for _ in range(num)]\n",
    "        if module == return_type:\n",
    "            break\n",
    "\n",
    "    module = module_instances[0]\n",
    "    indices_of_viewed_elements = view.index\n",
    "    module.nodes = pointer.nodes.loc[indices_of_viewed_elements]\n",
    "    module.nodes.reset_index(drop=True, inplace=True)\n",
    "\n",
    "    # drop columns with all nan or all False\n",
    "    module.nodes = module.nodes.dropna(axis=1)\n",
    "    module.nodes = module.nodes.loc[:, (module.nodes != 0).any()]\n",
    "\n",
    "    comb_branches_in_each_level = [idcs[np.isin(idcs, viewed_indices[\"branch_index\"])] for idcs in pointer.comb_branches_in_each_level]\n",
    "    comb_branches_in_each_level = [level for level in comb_branches_in_each_level if len(level) > 0]\n",
    "    \n",
    "    #TODO add channels\n",
    "    # module.channels = pointer.channels\n",
    "    # module.membrane_current_names\n",
    "\n",
    "    #TODO add synapses\n",
    "    # module.synapses = pointer.synapses\n",
    "\n",
    "    #TODO\n",
    "    # module.indices_set_by_trainables\n",
    "    # module.trainable_params\n",
    "    # module.num_trainable_params = sum([len(p) for p in module.get_parameters()])\n",
    "\n",
    "    def add_to_module(module, key, value): \n",
    "        module.__setattr__(key, value)\n",
    "\n",
    "    # TODO: These could be added to properties of View as well\n",
    "    # then they could be accessed as view.attr and would only return params that are in view\n",
    "    attrs = {\n",
    "        \"allow_make_trainable\": pointer.allow_make_trainable, \n",
    "        \"initialized_morph\": pointer.initialized_morph, \n",
    "        \"initialized_syns\": pointer.initialized_syns, \n",
    "        \"initialized_conds\": pointer.initialized_conds, \n",
    "        \"xyzr\": np.array(pointer.xyzr)[viewed_indices[\"branch_index\"]].tolist(),\n",
    "        \"nbranches_per_cell\": [pointer.nbranches_per_cell[i] for i in viewed_indices[\"cell_index\"]],\n",
    "        \"total_nbranches\": sum(module.nbranches_per_cell),\n",
    "        \"cumsum_nbranches\": np.cumsum([0] + module.nbranches_per_cell),\n",
    "        \"comb_parents\": pointer.comb_parents[viewed_indices[\"branch_index\"]],\n",
    "        \"comb_branches_in_each_level\": comb_branches_in_each_level,\n",
    "        \"branch_edges\": viewed_branch_edges,\n",
    "    }\n",
    "    for key, value in attrs.items():\n",
    "        add_to_module(module, key, value)\n",
    "    \n",
    "    return module"
   ]
  },
  {
   "cell_type": "markdown",
   "metadata": {},
   "source": [
    "## How to make view behave like module?\n",
    "- In general, most methods should be part of module if possible and passed through to view. However, while the method in module acts on the entire thing, in view it only acts on whatever is in view. This could be done by having a `self.viewed_indexes` attr in `Module`, that decides what is `set`, where things are `insert`ed etc. This would get rid of a lot of complexity and duplicate methods. For example would this make many hidden methods in `Module` obsolete. `view` can just be a property that returns `View.nodes`\n",
    "\n",
    "\n",
    "1. CompartmentView.distance could be moved out of View and simplified to distance(comp1, comp2): return d(comp1.xyzr[:3], comp2.xyzr[:3]) or something similar\n",
    "2. CellView.rotate -> view.rotate, and this rotates whatever xyzr is in view. \n",
    "3. `CellView.read_swc` will become from_graph"
   ]
  },
  {
   "cell_type": "markdown",
   "metadata": {},
   "source": [
    "### Ideas:\n",
    "- add a `groups` property"
   ]
  },
  {
   "cell_type": "code",
   "execution_count": 7,
   "metadata": {},
   "outputs": [
    {
     "name": "stderr",
     "output_type": "stream",
     "text": [
      "/tmp/ipykernel_1983995/2422255654.py:8: UserWarning: \n",
      "    This function is experimental and may not work as expected.\n",
      "    Recordings, currents and Synapses are lost in this operation currently.\n",
      "    \n",
      "  warnings.warn(\n"
     ]
    }
   ],
   "source": [
    "comp = to_module(net[0,0,0])"
   ]
  },
  {
   "cell_type": "code",
   "execution_count": null,
   "metadata": {},
   "outputs": [],
   "source": [
    "#TODO: add synapses?\n",
    "#TODO: add currents, recordings?\n",
    "#TODO: add synapses?\n",
    "# pre_comp_indices = view.pointer.edges[\"global_pre_comp_index\"]\n",
    "# post_comp_indices = view.pointer.edges[\"global_post_comp_index\"]\n",
    "# viewed_comp_indices = view.view[\"global_comp_index\"]\n",
    "# # pre and post comp indices are both in viewed_comp_indices\n",
    "# viewed_edge_indices = pre_comp_indices.isin(viewed_comp_indices) & post_comp_indices.isin(viewed_comp_indices)\n",
    "# viewed_edges = view.pointer.edges.loc[viewed_edge_indices]\n",
    "# viewed_syn_types = np.unique(view.pointer.edges[\"type\"])\n",
    "# for syn_type in viewed_syn_types:\n",
    "#     viewed_edges_of_same_type = viewed_edges[viewed_edges[\"type\"] == syn_type]\n",
    "#     pre_comp_indices = viewed_edges_of_same_type[\"global_pre_comp_index\"]\n",
    "#     post_comp_indices = viewed_edges_of_same_type[\"global_post_comp_index\"]\n",
    "#     synapse = [s for s in view.pointer.synapses if s._name == syn_type]\n",
    "#     pre_view = view.view.loc[pre_comp_indices]\n",
    "#     post_view = view.view.loc[post_comp_indices]\n",
    "#     connect(pre_view, post_view, synapse)\n",
    "# module.edges\n",
    "# module.synapse_param_names \n",
    "# module.synapse_state_names\n",
    "# module.recordings\n",
    "# module.currents\n",
    "# module.current_inds"
   ]
  }
 ],
 "metadata": {
  "kernelspec": {
   "display_name": "jaxley",
   "language": "python",
   "name": "python3"
  },
  "language_info": {
   "codemirror_mode": {
    "name": "ipython",
    "version": 3
   },
   "file_extension": ".py",
   "mimetype": "text/x-python",
   "name": "python",
   "nbconvert_exporter": "python",
   "pygments_lexer": "ipython3",
   "version": "3.12.1"
  }
 },
 "nbformat": 4,
 "nbformat_minor": 2
}
