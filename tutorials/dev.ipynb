{
 "cells": [
  {
   "cell_type": "code",
   "execution_count": 1,
   "metadata": {},
   "outputs": [],
   "source": [
    "%load_ext autoreload\n",
    "%autoreload 2"
   ]
  },
  {
   "cell_type": "code",
   "execution_count": 2,
   "metadata": {},
   "outputs": [],
   "source": [
    "from jax import config\n",
    "config.update(\"jax_enable_x64\", True)\n",
    "config.update(\"jax_platform_name\", \"cpu\")\n",
    "\n",
    "import os\n",
    "os.environ[\"XLA_PYTHON_CLIENT_MEM_FRACTION\"]=\".8\""
   ]
  },
  {
   "cell_type": "code",
   "execution_count": 200,
   "metadata": {},
   "outputs": [],
   "source": [
    "import matplotlib.pyplot as plt\n",
    "import numpy as np\n",
    "import jax.numpy as jnp\n",
    "from jax import jit, vmap, value_and_grad\n",
    "\n",
    "import jaxley as jx\n",
    "from jaxley.channels import HH\n",
    "from jaxley.synapses import IonotropicSynapse, TestSynapse\n",
    "from jaxley_mech.channels.fm97 import Na, K, KA, KCa, Ca, Leak\n",
    "\n",
    "import warnings\n",
    "import networkx as nx\n",
    "from jaxley.connection import connect\n",
    "import pandas as pd"
   ]
  },
  {
   "cell_type": "code",
   "execution_count": 4,
   "metadata": {},
   "outputs": [],
   "source": [
    "dt = 0.025\n",
    "t_max = 100.0\n",
    "time_vec = np.arange(0, t_max+2*dt, dt)\n",
    "\n",
    "i_delay = 10.0\n",
    "i_dur = 80.0\n",
    "i_amp = 5.0  # nA\n",
    "current = jx.step_current(i_delay, i_dur, i_amp, dt, t_max)\n",
    "np.random.seed(0)"
   ]
  },
  {
   "cell_type": "code",
   "execution_count": 5,
   "metadata": {},
   "outputs": [
    {
     "name": "stderr",
     "output_type": "stream",
     "text": [
      "/home/jnsbck/Uni/PhD/projects/jaxley_project/jaxley/jaxley/modules/base.py:1497: FutureWarning: The behavior of DataFrame concatenation with empty or all-NA entries is deprecated. In a future version, this will no longer exclude empty or all-NA columns when determining the result dtypes. To retain the old behavior, exclude the relevant entries before the concat operation.\n",
      "  self.pointer.edges = pd.concat(\n"
     ]
    },
    {
     "name": "stdout",
     "output_type": "stream",
     "text": [
      "Added 1 recordings. See `.recordings` for details.\n",
      "Added 1 recordings. See `.recordings` for details.\n",
      "Added 1 stimuli. See `.currents` for details.\n",
      "Number of newly added trainable parameters: 1. Total number of trainable parameters: 1\n",
      "Number of newly added trainable parameters: 1. Total number of trainable parameters: 2\n"
     ]
    }
   ],
   "source": [
    "comp = jx.Compartment()\n",
    "branch = jx.Branch([comp for _ in range(4)])\n",
    "cell = jx.Cell([branch for _ in range(5)], parents=jnp.asarray([-1, 0, 1, 2, 2]))\n",
    "net = jx.Network([cell]*3)\n",
    "connect(net[0,0,0], net[1,0,0], IonotropicSynapse())\n",
    "connect(net[0,0,1], net[1,0,1], IonotropicSynapse())\n",
    "connect(net[0,0,1], net[1,0,1], TestSynapse())\n",
    "net.cell(2).add_to_group(\"cell2\")\n",
    "net.cell(2).branch(1).add_to_group(\"cell2brach1\")\n",
    "\n",
    "\n",
    "net.cell(0).insert(Na())\n",
    "net.cell(0).insert(Leak())\n",
    "\n",
    "net.cell(1).branch(1).insert(Na())\n",
    "net.cell(0).insert(K())\n",
    "net.compute_xyz()\n",
    "\n",
    "net.cell(0).branch(0).loc(0.0).record()\n",
    "net.cell(0).branch(0).loc(0.0).record(\"m\")\n",
    "current = jx.step_current(i_delay, i_dur, i_amp, dt, t_max)\n",
    "net.cell(0).branch(2).loc(0.0).stimulate(current)\n",
    "net.cell(0).branch(1).make_trainable(\"Na\")\n",
    "net.cell(1).make_trainable(\"K\")"
   ]
  },
  {
   "cell_type": "code",
   "execution_count": 305,
   "metadata": {},
   "outputs": [],
   "source": [
    "net.compute_xyz()\n",
    "net.cell(1).move(0,30,0)\n",
    "net.cell(2).move(0,-30,0)"
   ]
  },
  {
   "cell_type": "code",
   "execution_count": 389,
   "metadata": {},
   "outputs": [],
   "source": [
    "return_type = \"Network\".lower()\n",
    "module_build_cache = {\"compartment\": [], \"branch\": [], \"cell\": [], \"network\": []}\n",
    "for cell_id, cell_groups in net.nodes.groupby(\"cell_index\"):\n",
    "    for branch_id, branch_groups in cell_groups.groupby(\"branch_index\"):\n",
    "        num_comps = len(branch_groups[\"comp_index\"])\n",
    "        module_build_cache[\"compartment\"] = [jx.Compartment() for _ in range(num_comps)]\n",
    "        module_build_cache[\"branch\"].append(jx.Branch(module_build_cache[\"compartment\"]))\n",
    "    \n",
    "    parents = np.arange(len(module_build_cache[\"branch\"]))-1 # COMPUTE PARENTS HERE\n",
    "    module_build_cache[\"cell\"].append(jx.Cell(module_build_cache[\"branch\"], parents))\n",
    "    module_build_cache[\"branch\"] = []\n",
    "module_build_cache[\"network\"] = [jx.Network(module_build_cache[\"cell\"])]\n",
    "\n",
    "module = module_build_cache[return_type][0]"
   ]
  },
  {
   "cell_type": "code",
   "execution_count": 410,
   "metadata": {},
   "outputs": [],
   "source": [
    "module_graph = net.to_graph()"
   ]
  },
  {
   "cell_type": "code",
   "execution_count": 412,
   "metadata": {},
   "outputs": [
    {
     "data": {
      "text/plain": [
       "<networkx.classes.digraph.DiGraph at 0x7f201d996c90>"
      ]
     },
     "execution_count": 412,
     "metadata": {},
     "output_type": "execute_result"
    }
   ],
   "source": [
    "module = jx.utils.cell_utils.from_graph(module_graph)\n",
    "module.to_graph()"
   ]
  },
  {
   "cell_type": "code",
   "execution_count": 310,
   "metadata": {},
   "outputs": [
    {
     "ename": "TypeError",
     "evalue": "'DataFrame' object is not callable",
     "output_type": "error",
     "traceback": [
      "\u001b[0;31m---------------------------------------------------------------------------\u001b[0m",
      "\u001b[0;31mTypeError\u001b[0m                                 Traceback (most recent call last)",
      "Cell \u001b[0;32mIn[310], line 2\u001b[0m\n\u001b[1;32m      1\u001b[0m \u001b[38;5;66;03m# plot the graph\u001b[39;00m\n\u001b[0;32m----> 2\u001b[0m pos \u001b[38;5;241m=\u001b[39m {i: (n[\u001b[38;5;124m\"\u001b[39m\u001b[38;5;124mx\u001b[39m\u001b[38;5;124m\"\u001b[39m], n[\u001b[38;5;124m\"\u001b[39m\u001b[38;5;124my\u001b[39m\u001b[38;5;124m\"\u001b[39m]) \u001b[38;5;28;01mfor\u001b[39;00m i, n \u001b[38;5;129;01min\u001b[39;00m \u001b[43mmodule_graph\u001b[49m\u001b[38;5;241;43m.\u001b[39;49m\u001b[43mnodes\u001b[49m\u001b[43m(\u001b[49m\u001b[43mdata\u001b[49m\u001b[38;5;241;43m=\u001b[39;49m\u001b[38;5;28;43;01mTrue\u001b[39;49;00m\u001b[43m)\u001b[49m} \n\u001b[1;32m      3\u001b[0m plt\u001b[38;5;241m.\u001b[39mfigure(figsize\u001b[38;5;241m=\u001b[39m(\u001b[38;5;241m8\u001b[39m, \u001b[38;5;241m8\u001b[39m))\n\u001b[1;32m      4\u001b[0m nx\u001b[38;5;241m.\u001b[39mdraw(module_graph, pos, with_labels\u001b[38;5;241m=\u001b[39m\u001b[38;5;28;01mTrue\u001b[39;00m, node_size\u001b[38;5;241m=\u001b[39m\u001b[38;5;241m200\u001b[39m, node_color\u001b[38;5;241m=\u001b[39m\u001b[38;5;124m\"\u001b[39m\u001b[38;5;124mskyblue\u001b[39m\u001b[38;5;124m\"\u001b[39m, font_size\u001b[38;5;241m=\u001b[39m\u001b[38;5;241m8\u001b[39m, font_weight\u001b[38;5;241m=\u001b[39m\u001b[38;5;124m\"\u001b[39m\u001b[38;5;124mbold\u001b[39m\u001b[38;5;124m\"\u001b[39m, font_color\u001b[38;5;241m=\u001b[39m\u001b[38;5;124m\"\u001b[39m\u001b[38;5;124mblack\u001b[39m\u001b[38;5;124m\"\u001b[39m, font_family\u001b[38;5;241m=\u001b[39m\u001b[38;5;124m\"\u001b[39m\u001b[38;5;124msans-serif\u001b[39m\u001b[38;5;124m\"\u001b[39m)\n",
      "\u001b[0;31mTypeError\u001b[0m: 'DataFrame' object is not callable"
     ]
    }
   ],
   "source": [
    "# plot the graph\n",
    "pos = {i: (n[\"x\"], n[\"y\"]) for i, n in module_graph.nodes(data=True)} \n",
    "plt.figure(figsize=(8, 8))\n",
    "nx.draw(module_graph, pos, with_labels=True, node_size=200, node_color=\"skyblue\", font_size=8, font_weight=\"bold\", font_color=\"black\", font_family=\"sans-serif\")\n",
    "plt.show()"
   ]
  },
  {
   "cell_type": "markdown",
   "metadata": {},
   "source": [
    "### Ideas:\n",
    "- add a `groups` property\n",
    "- show group membership in nodes\n",
    "- make use to to_graph in plotting\n",
    "- make use of from graph in swc import\n",
    "- modules can be saved as graph, no need for pickle necessarily"
   ]
  }
 ],
 "metadata": {
  "kernelspec": {
   "display_name": "jaxley",
   "language": "python",
   "name": "python3"
  },
  "language_info": {
   "codemirror_mode": {
    "name": "ipython",
    "version": 3
   },
   "file_extension": ".py",
   "mimetype": "text/x-python",
   "name": "python",
   "nbconvert_exporter": "python",
   "pygments_lexer": "ipython3",
   "version": "3.12.1"
  }
 },
 "nbformat": 4,
 "nbformat_minor": 2
}
