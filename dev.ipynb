{
 "cells": [
  {
   "cell_type": "code",
   "execution_count": 1,
   "metadata": {},
   "outputs": [],
   "source": [
    "%load_ext autoreload\n",
    "%autoreload 2"
   ]
  },
  {
   "cell_type": "code",
   "execution_count": 2,
   "metadata": {},
   "outputs": [],
   "source": [
    "from jax import config\n",
    "config.update(\"jax_enable_x64\", True)\n",
    "config.update(\"jax_platform_name\", \"cpu\")\n",
    "\n",
    "import os\n",
    "os.environ[\"XLA_PYTHON_CLIENT_MEM_FRACTION\"]=\".8\""
   ]
  },
  {
   "cell_type": "code",
   "execution_count": 454,
   "metadata": {},
   "outputs": [],
   "source": [
    "from __future__ import annotations\n",
    "import networkx as nx\n",
    "import jaxley as jx\n",
    "from jaxley.io.tmp import swc_to_nx, compartmentalize, _add_jaxley_meta_data, _replace_branchpoints_with_edges, _build_module, read_swc, nx_to_pandas\n",
    "\n",
    "import numpy as np\n",
    "import matplotlib.pyplot as plt"
   ]
  },
  {
   "cell_type": "code",
   "execution_count": 455,
   "metadata": {},
   "outputs": [
    {
     "data": {
      "image/png": "[encoded data removed]",
      "text/plain": [
       "<Figure size 640x480 with 1 Axes>"
      ]
     },
     "metadata": {},
     "output_type": "display_data"
    }
   ],
   "source": [
    "G = swc_to_nx(\"../jaxley/tests/swc_files/morph_interrupted_soma.swc\")\n",
    "G = compartmentalize(G, ncomp=1)\n",
    "G = _add_jaxley_meta_data(G)\n",
    "G = _replace_branchpoints_with_edges(G)\n",
    "\n",
    "id_of_node = lambda d: d.get(\"soma\", 0)*1 + d.get(\"axon\", 0)*2 + d.get(\"basal\", 0)*3 + d.get(\"apical\", 0)*4\n",
    "pos = {n:(data[\"x\"], data[\"y\"]) for n, data in G.nodes(data=True)}\n",
    "colors = [data[\"id\"] if \"id\" in data else id_of_node(data) for n, data in G.nodes(data=True)]\n",
    "nx.draw(G, pos=pos, node_color=colors, with_labels=True)"
   ]
  },
  {
   "cell_type": "code",
   "execution_count": 456,
   "metadata": {},
   "outputs": [],
   "source": [
    "swc_graph = swc_to_nx(\"../jaxley/tests/swc_files/morph_interrupted_soma.swc\")\n",
    "comp_graph = compartmentalize(swc_graph, ncomp=1)\n",
    "comp_graph = _add_jaxley_meta_data(comp_graph)\n",
    "solve_graph = _replace_branchpoints_with_edges(comp_graph)\n",
    "cell = _build_module(solve_graph)"
   ]
  },
  {
   "cell_type": "code",
   "execution_count": 457,
   "metadata": {},
   "outputs": [
    {
     "name": "stdout",
     "output_type": "stream",
     "text": [
      "morph_3_types.swc: old=0.079s | new=0.115s | new is 1.5x faster\n",
      "morph_interrupted_soma.swc: old=0.081s | new=0.092s | new is 1.1x faster\n",
      "morph_soma_both_ends.swc: old=0.082s | new=0.099s | new is 1.2x faster\n",
      "morph_somatic_branchpoint.swc: old=0.094s | new=0.111s | new is 1.2x faster\n",
      "morph_non_somatic_branchpoint.swc: old=0.093s | new=0.125s | new is 1.3x faster\n",
      "morph_ca1_n120.swc: old=0.439s | new=0.858s | new is 2.0x faster\n",
      "morph_l5pc_with_axon.swc: old=0.980s | new=2.537s | new is 2.6x faster\n",
      "morph_3_types_single_point_soma.swc: old=0.085s | new=0.111s | new is 1.3x faster\n",
      "morph_ca1_n120_single_point_soma.swc: old=0.422s | new=0.894s | new is 2.1x faster\n",
      "morph_allen_485574832.swc: old=0.338s | new=0.650s | new is 1.9x faster\n"
     ]
    }
   ],
   "source": [
    "from jaxley.io.swc import read_swc as jx_read_swc\n",
    "from time import perf_counter\n",
    "\n",
    "testcases = [ \n",
    "\"morph_3_types.swc\",\n",
    "\"morph_interrupted_soma.swc\",\n",
    "\"morph_soma_both_ends.swc\",\n",
    "\"morph_somatic_branchpoint.swc\",\n",
    "\"morph_non_somatic_branchpoint.swc\", # no soma!\n",
    "\"morph_ca1_n120.swc\",\n",
    "\"morph_l5pc_with_axon.swc\",\n",
    "\"morph_3_types_single_point_soma.swc\",\n",
    "\"morph_ca1_n120_single_point_soma.swc\",\n",
    "\"morph_allen_485574832.swc\",\n",
    "]\n",
    "\n",
    "for testcase in testcases:\n",
    "    start = perf_counter()\n",
    "    jx_cell = jx_read_swc(f\"../jaxley/tests/swc_files/{testcase}\", ncomp=1)\n",
    "    end = perf_counter()\n",
    "    jx_time = end - start\n",
    "    start = perf_counter()\n",
    "    new_cell = read_swc(f\"../jaxley/tests/swc_files/{testcase}\")\n",
    "    end = perf_counter()\n",
    "    new_time = end - start\n",
    "    print(f\"{testcase}: old={new_time:.3f}s | new={jx_time:.3f}s | new is {jx_time/new_time:.1f}x faster\")"
   ]
  }
 ],
 "metadata": {
  "kernelspec": {
   "display_name": ".venv",
   "language": "python",
   "name": "python3"
  },
  "language_info": {
   "codemirror_mode": {
    "name": "ipython",
    "version": 3
   },
   "file_extension": ".py",
   "mimetype": "text/x-python",
   "name": "python",
   "nbconvert_exporter": "python",
   "pygments_lexer": "ipython3",
   "version": "3.12.8"
  }
 },
 "nbformat": 4,
 "nbformat_minor": 2
}
